{
  "cells": [
    {
      "attachments": {},
      "cell_type": "markdown",
      "metadata": {
        "id": "0ZnKUkkN52Ua"
      },
      "source": [
        "<font color=\"#e32b3d\"><h1>Shallow Neural Networks for Classification</h2></font>\n",
        "\n",
        "<font color=\"#822b34\"><h2>*FashionMNIST Dataset*</h2></font>"
      ]
    },
    {
      "attachments": {},
      "cell_type": "markdown",
      "metadata": {
        "id": "c3BDQvldVyPH"
      },
      "source": [
        "<font color=\"#2ff9b3d\"><h1>Part 1: Importing Datasets and Pre-processing </h1></font>\n",
        "\n",
        "required library and packages are imported."
      ]
    },
    {
      "cell_type": "code",
      "execution_count": 1,
      "metadata": {
        "id": "-2FMOPeHVyPI"
      },
      "outputs": [],
      "source": [
        "# Import library\n",
        "import torch\n",
        "from torch import nn\n",
        "import torch.nn.functional as F\n",
        "from torch.utils.data import DataLoader, Dataset\n",
        "\n",
        "import torchvision\n",
        "from torchvision import transforms\n",
        "from torchvision.datasets import ImageFolder\n",
        "\n",
        "import matplotlib.pyplot as plt\n",
        "import seaborn as sns\n",
        "import numpy as np\n",
        "import pandas as pd\n",
        "from tqdm import tqdm\n",
        "from PIL import Image\n",
        "import cv2\n",
        "import glob\n",
        "import os"
      ]
    },
    {
      "cell_type": "code",
      "execution_count": 2,
      "metadata": {
        "id": "xsV0Pa_VQemk"
      },
      "outputs": [],
      "source": [
        "##Constants\n",
        "batch_size = 128\n",
        "num_of_classes = 10\n",
        "dim_MNIST = 5\n",
        "dim_CIFAR = 6\n",
        "in_shape_MNIST = 1\n",
        "in_shape_CIFAR = 3"
      ]
    },
    {
      "attachments": {},
      "cell_type": "markdown",
      "metadata": {
        "id": "A7pCgzj2hMwI"
      },
      "source": [
        "Importing the FashionMNIST dataset into train and test sets.\n",
        "\n",
        "\n",
        "note that using torch.vision requiers to transform dataset into tensors using *ToTensor()*, this function normalizes all the features in dataset and no further normalization is needed."
      ]
    },
    {
      "cell_type": "code",
      "execution_count": 8,
      "metadata": {
        "colab": {
          "base_uri": "https://localhost:8080/",
          "height": 460
        },
        "id": "uoSSTRdWVyPK",
        "outputId": "9b4a4bbf-6073-4792-8fcd-082e3787ec26"
      },
      "outputs": [
        {
          "name": "stdout",
          "output_type": "stream",
          "text": [
            "Image size: torch.Size([1, 28, 28])\n",
            "Label: 1\n"
          ]
        },
        {
          "data": {
            "image/png": "[encoded data removed]",
            "text/plain": [
              "<Figure size 640x480 with 1 Axes>"
            ]
          },
          "metadata": {},
          "output_type": "display_data"
        }
      ],
      "source": [
        "import torchvision\n",
        "import torchvision.transforms as transforms\n",
        "##Importing FashionMNIST\n",
        "FMNIST_Train_set = torchvision.datasets.FashionMNIST(root=\"./\", download=True,train=True, transform=transforms.Compose([transforms.ToTensor(), transforms.RandomHorizontalFlip(p=0.5)]))\n",
        "FMNIST_test_set = torchvision.datasets.FashionMNIST(root=\"./\", download=True,train=False, transform=transforms.Compose([transforms.ToTensor(), transforms.RandomHorizontalFlip(p=0.5)]))\n",
        "FMNIST_classes= ['T_shirt/top', 'Trouser', 'Pullover', 'Dress', 'Coat', 'Sandal', 'Shirt', 'Sneaker', 'Bag', 'Ankle boot']\n",
        "## Creating DataLoaders\n",
        "FMNIST_train_dataloader = DataLoader(\n",
        "    dataset = FMNIST_Train_set,\n",
        "    batch_size = batch_size,\n",
        "    shuffle = True\n",
        ")\n",
        "\n",
        "FMNIST_test_dataloader = DataLoader(\n",
        "    dataset = FMNIST_test_set,\n",
        "    batch_size = batch_size\n",
        ")\n",
        "## Visualizing a sample\n",
        "FMNIST_train_features_batch, FMNIST_train_labels_batch = next(iter(FMNIST_train_dataloader))\n",
        "FMNIST_train_features_batch.shape, FMNIST_train_labels_batch.shape\n",
        "img, label = FMNIST_train_features_batch[0], FMNIST_train_labels_batch[0]\n",
        "mean, std = 0.5, 0.5\n",
        "img = std * img + mean\n",
        "plt.imshow(img.permute(1, 2, 0), cmap='gray')\n",
        "plt.title(FMNIST_classes[label])\n",
        "plt.axis(\"Off\");\n",
        "print(f\"Image size: {img.shape}\")\n",
        "print(f\"Label: {label}\")"
      ]
    },
    {
      "cell_type": "code",
      "execution_count": 9,
      "metadata": {
        "colab": {
          "base_uri": "https://localhost:8080/"
        },
        "id": "3DJVwaToXIu_",
        "outputId": "6bff0d10-0b03-4f63-eab3-8fc2aa5a632b"
      },
      "outputs": [
        {
          "name": "stdout",
          "output_type": "stream",
          "text": [
            "cuda\n"
          ]
        }
      ],
      "source": [
        "# We move our tensor to the GPU if available\n",
        "if (torch.cuda.is_available()):\n",
        "    DEVICE = 'cuda'\n",
        "else:\n",
        "    DEVICE = 'cpu'\n",
        "print(DEVICE)"
      ]
    },
    {
      "attachments": {},
      "cell_type": "markdown",
      "metadata": {
        "id": "rqi6Fek8hMwW"
      },
      "source": [
        "<font color=\"#2ff9b3d\"><h1>Part 3: SCNNB Implementation </h1></font>"
      ]
    },
    {
      "cell_type": "code",
      "execution_count": 10,
      "metadata": {
        "id": "6evo0QhzVyPT"
      },
      "outputs": [],
      "source": [
        "# Create a convolutional neural network : SCNNB\n",
        "class SCNNB(nn.Module):\n",
        "    def __init__(self, input_shape, dim,  output_shape):\n",
        "        super().__init__()\n",
        "        \n",
        "        self.CNN_block = nn.Sequential(\n",
        "            nn.Conv2d(input_shape, 32, kernel_size = 3), \n",
        "            nn.BatchNorm2d(num_features=32),\n",
        "            nn.ReLU(),\n",
        "            nn.MaxPool2d(kernel_size=2),\n",
        "            nn.Conv2d(32, 64, kernel_size = 3),\n",
        "            nn.BatchNorm2d(num_features=64),\n",
        "            nn.ReLU(),\n",
        "            nn.MaxPool2d(kernel_size=2)\n",
        "\n",
        "        )\n",
        "\n",
        "        self.classifier = nn.Sequential(\n",
        "            nn.Flatten(),\n",
        "            nn.Linear(in_features = 64*dim*dim, out_features = 1280),\n",
        "            nn.ReLU(),\n",
        "            nn.Dropout(p=0.5),\n",
        "            nn.Linear(in_features = 1280, out_features = output_shape),\n",
        "            nn.Softmax(dim=1)\n",
        "        )\n",
        "    \n",
        "    def forward(self, x: torch.Tensor):\n",
        "        x = self.CNN_block(x)\n",
        "        # print(\"after CNN\"+str(x.shape))\n",
        "        x = self.classifier(x)\n",
        "        # print(\"after FC\"+str(x.shape))\n",
        "        return x"
      ]
    },
    {
      "cell_type": "code",
      "execution_count": 11,
      "metadata": {
        "id": "MmQMVySpzeay"
      },
      "outputs": [],
      "source": [
        "# Create a convolutional neural network : SCNNB-a\n",
        "class SCNNB_a(nn.Module):\n",
        "    def __init__(self, input_shape, dim, output_shape):\n",
        "        super().__init__()\n",
        "        \n",
        "        self.CNN_block = nn.Sequential(\n",
        "            nn.Conv2d(input_shape, 32, kernel_size = 3), \n",
        "            # nn.BatchNorm2d(num_features=32),\n",
        "            nn.ReLU(),\n",
        "            nn.MaxPool2d(kernel_size=2),\n",
        "            nn.Conv2d(32, 64, kernel_size = 3),\n",
        "            nn.BatchNorm2d(num_features=64),\n",
        "            nn.ReLU(),\n",
        "            nn.MaxPool2d(kernel_size=2)\n",
        "\n",
        "        )\n",
        "\n",
        "        self.classifier = nn.Sequential(\n",
        "            nn.Flatten(),\n",
        "            nn.Linear(in_features = 64*dim*dim, out_features = 1280),\n",
        "            nn.ReLU(),\n",
        "            nn.Dropout(p=0.5),\n",
        "            nn.Linear(in_features = 1280, out_features = output_shape),\n",
        "            nn.Softmax(dim=1)\n",
        "        )\n",
        "    \n",
        "    def forward(self, x: torch.Tensor):\n",
        "        x = self.CNN_block(x)\n",
        "        # print(x.shape)\n",
        "        x = self.classifier(x)\n",
        "        # print(x.shape)\n",
        "        return x"
      ]
    },
    {
      "cell_type": "code",
      "execution_count": 12,
      "metadata": {
        "id": "Vo611YYBzj6j"
      },
      "outputs": [],
      "source": [
        "# Create a convolutional neural network : SCNNB-b\n",
        "class SCNNB_b(nn.Module):\n",
        "    def __init__(self, input_shape, dim, output_shape):\n",
        "        super().__init__()\n",
        "        \n",
        "        self.CNN_block = nn.Sequential(\n",
        "            nn.Conv2d(input_shape, 32, kernel_size = 3), \n",
        "            # nn.BatchNorm2d(num_features=32),\n",
        "            nn.ReLU(),\n",
        "            nn.MaxPool2d(kernel_size=2),\n",
        "            nn.Conv2d(32, 64, kernel_size = 3),\n",
        "            # nn.BatchNorm2d(num_features=64),\n",
        "            nn.ReLU(),\n",
        "            nn.MaxPool2d(kernel_size=2)\n",
        "\n",
        "        )\n",
        "\n",
        "        self.classifier = nn.Sequential(\n",
        "            nn.Flatten(),\n",
        "            nn.Linear(in_features = 64*dim*dim, out_features = 1280),\n",
        "            nn.ReLU(),\n",
        "            nn.Dropout(p=0.5),\n",
        "            nn.Linear(in_features = 1280, out_features = output_shape),\n",
        "            nn.Softmax(dim=1)\n",
        "        )\n",
        "    \n",
        "    def forward(self, x: torch.Tensor):\n",
        "        x = self.CNN_block(x)\n",
        "        # print(x.shape)\n",
        "        x = self.classifier(x)\n",
        "        # print(x.shape)\n",
        "        return x"
      ]
    },
    {
      "cell_type": "code",
      "execution_count": 14,
      "metadata": {
        "colab": {
          "base_uri": "https://localhost:8080/"
        },
        "id": "1olTY3XyhMwX",
        "outputId": "689bc7fb-6db9-4326-f594-70934f088fc4"
      },
      "outputs": [
        {
          "data": {
            "text/plain": [
              "SCNNB(\n",
              "  (CNN_block): Sequential(\n",
              "    (0): Conv2d(1, 32, kernel_size=(3, 3), stride=(1, 1))\n",
              "    (1): BatchNorm2d(32, eps=1e-05, momentum=0.1, affine=True, track_running_stats=True)\n",
              "    (2): ReLU()\n",
              "    (3): MaxPool2d(kernel_size=2, stride=2, padding=0, dilation=1, ceil_mode=False)\n",
              "    (4): Conv2d(32, 64, kernel_size=(3, 3), stride=(1, 1))\n",
              "    (5): BatchNorm2d(64, eps=1e-05, momentum=0.1, affine=True, track_running_stats=True)\n",
              "    (6): ReLU()\n",
              "    (7): MaxPool2d(kernel_size=2, stride=2, padding=0, dilation=1, ceil_mode=False)\n",
              "  )\n",
              "  (classifier): Sequential(\n",
              "    (0): Flatten(start_dim=1, end_dim=-1)\n",
              "    (1): Linear(in_features=1600, out_features=1280, bias=True)\n",
              "    (2): ReLU()\n",
              "    (3): Dropout(p=0.5, inplace=False)\n",
              "    (4): Linear(in_features=1280, out_features=10, bias=True)\n",
              "    (5): Softmax(dim=1)\n",
              "  )\n",
              ")"
            ]
          },
          "execution_count": 14,
          "metadata": {},
          "output_type": "execute_result"
        }
      ],
      "source": [
        "## Sample Model Description\n",
        "model_SCNNB = SCNNB(input_shape=1, dim=5, output_shape=num_of_classes)\n",
        "model_SCNNB_a = SCNNB_a(input_shape=1, dim=5, output_shape=num_of_classes)\n",
        "# model_SCNNB_b = SCNNB_b(input_shape=1, dim=6, output_shape=num_of_classes)\n",
        "\n",
        "model_SCNNB"
      ]
    },
    {
      "cell_type": "code",
      "execution_count": 15,
      "metadata": {
        "id": "3RJROgg9hMwZ"
      },
      "outputs": [],
      "source": [
        "def train_step(model,\n",
        "               data_loader,\n",
        "               loss_fn,\n",
        "               optimizer,\n",
        "               accuracy_fn,\n",
        "               device):\n",
        "    \n",
        "    # Send model to GPU\n",
        "    model.train()\n",
        "    model = model.to(device)\n",
        "    train_loss, train_acc, counter = 0, 0, 0\n",
        "    with tqdm(data_loader, desc =\"  train\") as train_tqdm:\n",
        "        for X, y in train_tqdm:\n",
        "            # Send data to GPU\n",
        "            X, y = X.to(device), y.to(device)\n",
        "\n",
        "            # 1. Forward pass\n",
        "            y_pred = model(X)\n",
        "\n",
        "            # 2. Calculate loss\n",
        "            loss = loss_fn(y_pred, y)\n",
        "            train_loss += loss\n",
        "            train_acc += accuracy_fn(true=y.cpu(),\n",
        "                                     pred=y_pred.cpu())\n",
        "            counter += 1\n",
        "            train_tqdm.set_postfix(train_acc=\"{:.3f}\".format(train_acc/counter), train_loss=train_loss.item()/counter, refresh=False)\n",
        "\n",
        "            # 3. Optimizer zero grad\n",
        "            optimizer.zero_grad()\n",
        "\n",
        "            # 4. Loss backward\n",
        "            loss.backward()\n",
        "\n",
        "            # 5. Optimizer step\n",
        "            optimizer.step()\n",
        "\n",
        "        # Calculate loss and accuracy per epoch and print out what's happening\n",
        "        train_loss /= len(data_loader)\n",
        "        train_acc /= len(data_loader)\n",
        "        \n",
        "    return train_loss.item(), train_acc\n"
      ]
    },
    {
      "cell_type": "code",
      "execution_count": 16,
      "metadata": {
        "id": "YQft1sVthMwa"
      },
      "outputs": [],
      "source": [
        "def test_step(model,\n",
        "              data_loader,\n",
        "              loss_fn,\n",
        "              accuracy_fn,\n",
        "              device):\n",
        "    \n",
        "    # Send model to GPU\n",
        "    model.to(device)\n",
        "\n",
        "    # put model in eval mode\n",
        "    model.eval() \n",
        "    test_loss, test_acc, counter = 0, 0, 0\n",
        "    with tqdm(data_loader, desc =\"   test\") as test_tqdm:\n",
        "        for X, y in test_tqdm:\n",
        "            # Send data to GPU\n",
        "            X, y = X.to(device), y.to(device)\n",
        "            \n",
        "            # 1. Forward pass\n",
        "            test_pred = model(X)\n",
        "            \n",
        "            # 2. Calculate loss and accuracy\n",
        "            test_loss += loss_fn(test_pred, y)\n",
        "            test_acc += accuracy_fn(true=y.cpu(),\n",
        "                                    pred=test_pred.cpu())\n",
        "            counter += 1\n",
        "            test_tqdm.set_postfix(test_acc=\"{:.3f}\".format(test_acc/counter), test_loss=test_loss.item()/counter, refresh=True)\n",
        "\n",
        "        # Adjust metrics and print out\n",
        "        test_loss /= len(data_loader)\n",
        "        test_acc  /= len(data_loader)\n",
        "            \n",
        "    return test_loss.item(), test_acc"
      ]
    },
    {
      "cell_type": "code",
      "execution_count": 17,
      "metadata": {
        "id": "uNlaMz7EhMwb"
      },
      "outputs": [],
      "source": [
        "def train(hparams, train_data_loader, test_data_loader):\n",
        "  # Datasets: \n",
        "  if (hparams[0] == 'MNIST' or hparams[0] == 'FMNIST' ):\n",
        "    in_shape = in_shape_MNIST\n",
        "    dim = dim_MNIST\n",
        "  elif hparams[0] == 'CIFAR' :\n",
        "    in_shape = in_shape_CIFAR\n",
        "    dim = dim_CIFAR\n",
        "\n",
        "  # Models:\n",
        "  if hparams[1] == 'SCNNB':\n",
        "    model = SCNNB(input_shape=in_shape, dim=dim, output_shape=num_of_classes)\n",
        "    print(\"training model is 'SCNNB'\")\n",
        "  elif hparams[1] == 'SCNNB-a':\n",
        "    model = SCNNB_a(input_shape=in_shape, dim=dim, output_shape=num_of_classes)\n",
        "    print(\"training model is 'SCNNB-a'\")\n",
        "  elif hparams[1] == 'SCNNB-b':\n",
        "    model = SCNNB_b(input_shape=in_shape, dim=dim, output_shape=num_of_classes)\n",
        "    print(\"training model is 'SCNNB-b'\")\n",
        "\n",
        "  loss_fn = nn.CrossEntropyLoss()\n",
        "  optimizer = torch.optim.SGD(model.parameters(), lr = 0.02, momentum=0.9, weight_decay=0.000005)\n",
        "  device = torch.device(\"cuda:0\" if torch.cuda.is_available() else \"cpu\")\n",
        "  def accuracy_fn(true, pred):\n",
        "      pred = F.softmax(pred, dim = 1)\n",
        "      true = torch.zeros(pred.shape[0], pred.shape[1]).scatter_(1, true.unsqueeze(1), 1.)\n",
        "      acc = (true.argmax(-1) == pred.argmax(-1)).float().detach().numpy()\n",
        "      acc = float((100 * acc.sum()) / len(acc))\n",
        "      return round(acc, 4)\n",
        "  # Measure time\n",
        "  from timeit import default_timer as timer\n",
        "\n",
        "  train_epoch_loss = []\n",
        "  train_epoch_accuracy = []\n",
        "  test_epoch_loss = []\n",
        "  test_epoch_accuracy = []\n",
        "\n",
        "  train_time_start = timer()\n",
        "\n",
        "  epochs = hparams[2]\n",
        "  for epoch in range(epochs):\n",
        "      print(\"EPOCH {}/{} :\".format(epoch +1, epochs))\n",
        "      train_loss, train_acc = train_step(data_loader=train_data_loader,\n",
        "                                                model=model, \n",
        "                                                loss_fn=loss_fn,\n",
        "                                                optimizer=optimizer,\n",
        "                                                accuracy_fn=accuracy_fn,\n",
        "                                                device=device\n",
        "                                                )\n",
        "      test_loss, test_acc = test_step(data_loader=test_data_loader,\n",
        "                                      model=model,\n",
        "                                      loss_fn=loss_fn,\n",
        "                                      accuracy_fn=accuracy_fn,\n",
        "                                      device=device\n",
        "                                      )\n",
        "      \n",
        "      train_epoch_loss.append(train_loss)\n",
        "      train_epoch_accuracy.append(train_acc)\n",
        "      test_epoch_loss.append(test_loss)\n",
        "      test_epoch_accuracy.append(test_acc)\n",
        "\n",
        "  train_time_end = timer()\n",
        "  total_time = train_time_end - train_time_start\n",
        "  print(f\"\\n\\nTrain time: {total_time:.3f} seconds\")\n",
        "  return model, train_epoch_loss, train_epoch_accuracy, test_epoch_loss, test_epoch_accuracy"
      ]
    },
    {
      "cell_type": "code",
      "execution_count": 31,
      "metadata": {
        "colab": {
          "base_uri": "https://localhost:8080/"
        },
        "id": "m_52gQO5bB3s",
        "outputId": "f078abc2-b573-4d89-893f-57f9520de474"
      },
      "outputs": [
        {
          "name": "stdout",
          "output_type": "stream",
          "text": [
            "training model is 'SCNNB'\n",
            "EPOCH 1/150 :\n"
          ]
        },
        {
          "name": "stderr",
          "output_type": "stream",
          "text": [
            "  train: 100%|██████████| 469/469 [00:11<00:00, 39.15it/s, train_acc=76.271, train_loss=1.71]\n",
            "   test: 100%|██████████| 79/79 [00:01<00:00, 40.15it/s, test_acc=83.811, test_loss=1.63]\n"
          ]
        },
        {
          "name": "stdout",
          "output_type": "stream",
          "text": [
            "EPOCH 2/150 :\n"
          ]
        },
        {
          "name": "stderr",
          "output_type": "stream",
          "text": [
            "  train: 100%|██████████| 469/469 [00:13<00:00, 35.81it/s, train_acc=84.874, train_loss=1.62]\n",
            "   test: 100%|██████████| 79/79 [00:01<00:00, 39.82it/s, test_acc=84.652, test_loss=1.62]\n"
          ]
        },
        {
          "name": "stdout",
          "output_type": "stream",
          "text": [
            "EPOCH 3/150 :\n"
          ]
        },
        {
          "name": "stderr",
          "output_type": "stream",
          "text": [
            "  train: 100%|██████████| 469/469 [00:11<00:00, 39.26it/s, train_acc=86.428, train_loss=1.6]\n",
            "   test: 100%|██████████| 79/79 [00:02<00:00, 31.88it/s, test_acc=86.373, test_loss=1.6]\n"
          ]
        },
        {
          "name": "stdout",
          "output_type": "stream",
          "text": [
            "EPOCH 4/150 :\n"
          ]
        },
        {
          "name": "stderr",
          "output_type": "stream",
          "text": [
            "  train: 100%|██████████| 469/469 [00:11<00:00, 40.10it/s, train_acc=87.220, train_loss=1.59]\n",
            "   test: 100%|██████████| 79/79 [00:02<00:00, 34.01it/s, test_acc=87.154, test_loss=1.59]\n"
          ]
        },
        {
          "name": "stdout",
          "output_type": "stream",
          "text": [
            "EPOCH 5/150 :\n"
          ]
        },
        {
          "name": "stderr",
          "output_type": "stream",
          "text": [
            "  train: 100%|██████████| 469/469 [00:11<00:00, 39.35it/s, train_acc=87.803, train_loss=1.58]\n",
            "   test: 100%|██████████| 79/79 [00:02<00:00, 38.56it/s, test_acc=85.690, test_loss=1.6]\n"
          ]
        },
        {
          "name": "stdout",
          "output_type": "stream",
          "text": [
            "EPOCH 6/150 :\n"
          ]
        },
        {
          "name": "stderr",
          "output_type": "stream",
          "text": [
            "  train: 100%|██████████| 469/469 [00:11<00:00, 39.87it/s, train_acc=88.177, train_loss=1.58]\n",
            "   test: 100%|██████████| 79/79 [00:01<00:00, 39.64it/s, test_acc=85.928, test_loss=1.6]\n"
          ]
        },
        {
          "name": "stdout",
          "output_type": "stream",
          "text": [
            "EPOCH 7/150 :\n"
          ]
        },
        {
          "name": "stderr",
          "output_type": "stream",
          "text": [
            "  train: 100%|██████████| 469/469 [00:11<00:00, 39.61it/s, train_acc=88.690, train_loss=1.58]\n",
            "   test: 100%|██████████| 79/79 [00:02<00:00, 39.23it/s, test_acc=88.163, test_loss=1.58]\n"
          ]
        },
        {
          "name": "stdout",
          "output_type": "stream",
          "text": [
            "EPOCH 8/150 :\n"
          ]
        },
        {
          "name": "stderr",
          "output_type": "stream",
          "text": [
            "  train: 100%|██████████| 469/469 [00:11<00:00, 39.44it/s, train_acc=89.108, train_loss=1.57]\n",
            "   test: 100%|██████████| 79/79 [00:02<00:00, 39.22it/s, test_acc=87.925, test_loss=1.58]\n"
          ]
        },
        {
          "name": "stdout",
          "output_type": "stream",
          "text": [
            "EPOCH 9/150 :\n"
          ]
        },
        {
          "name": "stderr",
          "output_type": "stream",
          "text": [
            "  train: 100%|██████████| 469/469 [00:11<00:00, 39.67it/s, train_acc=89.435, train_loss=1.57]\n",
            "   test: 100%|██████████| 79/79 [00:02<00:00, 33.00it/s, test_acc=88.687, test_loss=1.57]\n"
          ]
        },
        {
          "name": "stdout",
          "output_type": "stream",
          "text": [
            "EPOCH 10/150 :\n"
          ]
        },
        {
          "name": "stderr",
          "output_type": "stream",
          "text": [
            "  train: 100%|██████████| 469/469 [00:11<00:00, 39.86it/s, train_acc=89.606, train_loss=1.57]\n",
            "   test: 100%|██████████| 79/79 [00:02<00:00, 32.20it/s, test_acc=88.756, test_loss=1.57]\n"
          ]
        },
        {
          "name": "stdout",
          "output_type": "stream",
          "text": [
            "EPOCH 11/150 :\n"
          ]
        },
        {
          "name": "stderr",
          "output_type": "stream",
          "text": [
            "  train: 100%|██████████| 469/469 [00:11<00:00, 39.76it/s, train_acc=89.807, train_loss=1.56]\n",
            "   test: 100%|██████████| 79/79 [00:01<00:00, 39.86it/s, test_acc=89.389, test_loss=1.57]\n"
          ]
        },
        {
          "name": "stdout",
          "output_type": "stream",
          "text": [
            "EPOCH 12/150 :\n"
          ]
        },
        {
          "name": "stderr",
          "output_type": "stream",
          "text": [
            "  train: 100%|██████████| 469/469 [00:11<00:00, 39.32it/s, train_acc=90.161, train_loss=1.56]\n",
            "   test: 100%|██████████| 79/79 [00:02<00:00, 39.22it/s, test_acc=89.844, test_loss=1.56]\n"
          ]
        },
        {
          "name": "stdout",
          "output_type": "stream",
          "text": [
            "EPOCH 13/150 :\n"
          ]
        },
        {
          "name": "stderr",
          "output_type": "stream",
          "text": [
            "  train: 100%|██████████| 469/469 [00:11<00:00, 39.82it/s, train_acc=90.305, train_loss=1.56]\n",
            "   test: 100%|██████████| 79/79 [00:01<00:00, 40.08it/s, test_acc=88.489, test_loss=1.58]\n"
          ]
        },
        {
          "name": "stdout",
          "output_type": "stream",
          "text": [
            "EPOCH 14/150 :\n"
          ]
        },
        {
          "name": "stderr",
          "output_type": "stream",
          "text": [
            "  train: 100%|██████████| 469/469 [00:11<00:00, 39.64it/s, train_acc=90.689, train_loss=1.56]\n",
            "   test: 100%|██████████| 79/79 [00:02<00:00, 39.15it/s, test_acc=89.517, test_loss=1.57]\n"
          ]
        },
        {
          "name": "stdout",
          "output_type": "stream",
          "text": [
            "EPOCH 15/150 :\n"
          ]
        },
        {
          "name": "stderr",
          "output_type": "stream",
          "text": [
            "  train: 100%|██████████| 469/469 [00:11<00:00, 39.49it/s, train_acc=90.825, train_loss=1.55]\n",
            "   test: 100%|██████████| 79/79 [00:01<00:00, 39.58it/s, test_acc=89.725, test_loss=1.56]\n"
          ]
        },
        {
          "name": "stdout",
          "output_type": "stream",
          "text": [
            "EPOCH 16/150 :\n"
          ]
        },
        {
          "name": "stderr",
          "output_type": "stream",
          "text": [
            "  train: 100%|██████████| 469/469 [00:11<00:00, 39.18it/s, train_acc=91.068, train_loss=1.55]\n",
            "   test: 100%|██████████| 79/79 [00:02<00:00, 30.75it/s, test_acc=88.795, test_loss=1.57]\n"
          ]
        },
        {
          "name": "stdout",
          "output_type": "stream",
          "text": [
            "EPOCH 17/150 :\n"
          ]
        },
        {
          "name": "stderr",
          "output_type": "stream",
          "text": [
            "  train: 100%|██████████| 469/469 [00:11<00:00, 39.61it/s, train_acc=90.936, train_loss=1.55]\n",
            "   test: 100%|██████████| 79/79 [00:02<00:00, 38.38it/s, test_acc=89.181, test_loss=1.57]\n"
          ]
        },
        {
          "name": "stdout",
          "output_type": "stream",
          "text": [
            "EPOCH 18/150 :\n"
          ]
        },
        {
          "name": "stderr",
          "output_type": "stream",
          "text": [
            "  train: 100%|██████████| 469/469 [00:11<00:00, 39.30it/s, train_acc=91.144, train_loss=1.55]\n",
            "   test: 100%|██████████| 79/79 [00:01<00:00, 39.76it/s, test_acc=89.597, test_loss=1.56]\n"
          ]
        },
        {
          "name": "stdout",
          "output_type": "stream",
          "text": [
            "EPOCH 19/150 :\n"
          ]
        },
        {
          "name": "stderr",
          "output_type": "stream",
          "text": [
            "  train: 100%|██████████| 469/469 [00:11<00:00, 39.86it/s, train_acc=91.326, train_loss=1.55]\n",
            "   test: 100%|██████████| 79/79 [00:01<00:00, 39.74it/s, test_acc=89.982, test_loss=1.56]\n"
          ]
        },
        {
          "name": "stdout",
          "output_type": "stream",
          "text": [
            "EPOCH 20/150 :\n"
          ]
        },
        {
          "name": "stderr",
          "output_type": "stream",
          "text": [
            "  train: 100%|██████████| 469/469 [00:11<00:00, 39.34it/s, train_acc=91.558, train_loss=1.55]\n",
            "   test: 100%|██████████| 79/79 [00:02<00:00, 39.26it/s, test_acc=88.934, test_loss=1.57]\n"
          ]
        },
        {
          "name": "stdout",
          "output_type": "stream",
          "text": [
            "EPOCH 21/150 :\n"
          ]
        },
        {
          "name": "stderr",
          "output_type": "stream",
          "text": [
            "  train: 100%|██████████| 469/469 [00:11<00:00, 39.72it/s, train_acc=91.648, train_loss=1.55]\n",
            "   test: 100%|██████████| 79/79 [00:02<00:00, 39.31it/s, test_acc=90.091, test_loss=1.56]\n"
          ]
        },
        {
          "name": "stdout",
          "output_type": "stream",
          "text": [
            "EPOCH 22/150 :\n"
          ]
        },
        {
          "name": "stderr",
          "output_type": "stream",
          "text": [
            "  train: 100%|██████████| 469/469 [00:12<00:00, 39.05it/s, train_acc=91.809, train_loss=1.54]\n",
            "   test: 100%|██████████| 79/79 [00:02<00:00, 32.37it/s, test_acc=90.190, test_loss=1.56]\n"
          ]
        },
        {
          "name": "stdout",
          "output_type": "stream",
          "text": [
            "EPOCH 23/150 :\n"
          ]
        },
        {
          "name": "stderr",
          "output_type": "stream",
          "text": [
            "  train: 100%|██████████| 469/469 [00:11<00:00, 39.80it/s, train_acc=91.819, train_loss=1.54]\n",
            "   test: 100%|██████████| 79/79 [00:02<00:00, 36.11it/s, test_acc=89.587, test_loss=1.57]\n"
          ]
        },
        {
          "name": "stdout",
          "output_type": "stream",
          "text": [
            "EPOCH 24/150 :\n"
          ]
        },
        {
          "name": "stderr",
          "output_type": "stream",
          "text": [
            "  train: 100%|██████████| 469/469 [00:11<00:00, 39.86it/s, train_acc=91.762, train_loss=1.54]\n",
            "   test: 100%|██████████| 79/79 [00:02<00:00, 39.10it/s, test_acc=90.002, test_loss=1.56]\n"
          ]
        },
        {
          "name": "stdout",
          "output_type": "stream",
          "text": [
            "EPOCH 25/150 :\n"
          ]
        },
        {
          "name": "stderr",
          "output_type": "stream",
          "text": [
            "  train: 100%|██████████| 469/469 [00:11<00:00, 39.28it/s, train_acc=92.189, train_loss=1.54]\n",
            "   test: 100%|██████████| 79/79 [00:01<00:00, 39.81it/s, test_acc=90.229, test_loss=1.56]\n"
          ]
        },
        {
          "name": "stdout",
          "output_type": "stream",
          "text": [
            "EPOCH 26/150 :\n"
          ]
        },
        {
          "name": "stderr",
          "output_type": "stream",
          "text": [
            "  train: 100%|██████████| 469/469 [00:11<00:00, 39.53it/s, train_acc=92.272, train_loss=1.54]\n",
            "   test: 100%|██████████| 79/79 [00:02<00:00, 38.72it/s, test_acc=90.051, test_loss=1.56]\n"
          ]
        },
        {
          "name": "stdout",
          "output_type": "stream",
          "text": [
            "EPOCH 27/150 :\n"
          ]
        },
        {
          "name": "stderr",
          "output_type": "stream",
          "text": [
            "  train: 100%|██████████| 469/469 [00:11<00:00, 39.49it/s, train_acc=92.292, train_loss=1.54]\n",
            "   test: 100%|██████████| 79/79 [00:02<00:00, 38.63it/s, test_acc=89.102, test_loss=1.57]\n"
          ]
        },
        {
          "name": "stdout",
          "output_type": "stream",
          "text": [
            "EPOCH 28/150 :\n"
          ]
        },
        {
          "name": "stderr",
          "output_type": "stream",
          "text": [
            "  train: 100%|██████████| 469/469 [00:11<00:00, 39.70it/s, train_acc=92.502, train_loss=1.54]\n",
            "   test: 100%|██████████| 79/79 [00:02<00:00, 34.22it/s, test_acc=90.526, test_loss=1.56]\n"
          ]
        },
        {
          "name": "stdout",
          "output_type": "stream",
          "text": [
            "EPOCH 29/150 :\n"
          ]
        },
        {
          "name": "stderr",
          "output_type": "stream",
          "text": [
            "  train: 100%|██████████| 469/469 [00:11<00:00, 39.28it/s, train_acc=92.557, train_loss=1.54]\n",
            "   test: 100%|██████████| 79/79 [00:02<00:00, 33.90it/s, test_acc=90.002, test_loss=1.56]\n"
          ]
        },
        {
          "name": "stdout",
          "output_type": "stream",
          "text": [
            "EPOCH 30/150 :\n"
          ]
        },
        {
          "name": "stderr",
          "output_type": "stream",
          "text": [
            "  train: 100%|██████████| 469/469 [00:11<00:00, 39.90it/s, train_acc=92.633, train_loss=1.54]\n",
            "   test: 100%|██████████| 79/79 [00:02<00:00, 38.95it/s, test_acc=90.635, test_loss=1.55]\n"
          ]
        },
        {
          "name": "stdout",
          "output_type": "stream",
          "text": [
            "EPOCH 31/150 :\n"
          ]
        },
        {
          "name": "stderr",
          "output_type": "stream",
          "text": [
            "  train: 100%|██████████| 469/469 [00:11<00:00, 39.74it/s, train_acc=92.931, train_loss=1.53]\n",
            "   test: 100%|██████████| 79/79 [00:02<00:00, 38.14it/s, test_acc=90.506, test_loss=1.56]\n"
          ]
        },
        {
          "name": "stdout",
          "output_type": "stream",
          "text": [
            "EPOCH 32/150 :\n"
          ]
        },
        {
          "name": "stderr",
          "output_type": "stream",
          "text": [
            "  train: 100%|██████████| 469/469 [00:11<00:00, 39.38it/s, train_acc=92.851, train_loss=1.53]\n",
            "   test: 100%|██████████| 79/79 [00:02<00:00, 39.38it/s, test_acc=90.496, test_loss=1.56]\n"
          ]
        },
        {
          "name": "stdout",
          "output_type": "stream",
          "text": [
            "EPOCH 33/150 :\n"
          ]
        },
        {
          "name": "stderr",
          "output_type": "stream",
          "text": [
            "  train: 100%|██████████| 469/469 [00:11<00:00, 39.09it/s, train_acc=93.038, train_loss=1.53]\n",
            "   test: 100%|██████████| 79/79 [00:02<00:00, 38.45it/s, test_acc=90.991, test_loss=1.55]\n"
          ]
        },
        {
          "name": "stdout",
          "output_type": "stream",
          "text": [
            "EPOCH 34/150 :\n"
          ]
        },
        {
          "name": "stderr",
          "output_type": "stream",
          "text": [
            "  train: 100%|██████████| 469/469 [00:11<00:00, 39.76it/s, train_acc=93.182, train_loss=1.53]\n",
            "   test: 100%|██████████| 79/79 [00:02<00:00, 34.28it/s, test_acc=90.892, test_loss=1.55]\n"
          ]
        },
        {
          "name": "stdout",
          "output_type": "stream",
          "text": [
            "EPOCH 35/150 :\n"
          ]
        },
        {
          "name": "stderr",
          "output_type": "stream",
          "text": [
            "  train: 100%|██████████| 469/469 [00:12<00:00, 37.57it/s, train_acc=93.216, train_loss=1.53]\n",
            "   test: 100%|██████████| 79/79 [00:02<00:00, 32.91it/s, test_acc=90.378, test_loss=1.56]\n"
          ]
        },
        {
          "name": "stdout",
          "output_type": "stream",
          "text": [
            "EPOCH 36/150 :\n"
          ]
        },
        {
          "name": "stderr",
          "output_type": "stream",
          "text": [
            "  train: 100%|██████████| 469/469 [00:12<00:00, 37.61it/s, train_acc=93.216, train_loss=1.53]\n",
            "   test: 100%|██████████| 79/79 [00:02<00:00, 36.91it/s, test_acc=89.824, test_loss=1.56]\n"
          ]
        },
        {
          "name": "stdout",
          "output_type": "stream",
          "text": [
            "EPOCH 37/150 :\n"
          ]
        },
        {
          "name": "stderr",
          "output_type": "stream",
          "text": [
            "  train: 100%|██████████| 469/469 [00:12<00:00, 38.90it/s, train_acc=93.358, train_loss=1.53]\n",
            "   test: 100%|██████████| 79/79 [00:02<00:00, 38.86it/s, test_acc=90.803, test_loss=1.55]\n"
          ]
        },
        {
          "name": "stdout",
          "output_type": "stream",
          "text": [
            "EPOCH 38/150 :\n"
          ]
        },
        {
          "name": "stderr",
          "output_type": "stream",
          "text": [
            "  train: 100%|██████████| 469/469 [00:11<00:00, 39.24it/s, train_acc=93.425, train_loss=1.53]\n",
            "   test: 100%|██████████| 79/79 [00:02<00:00, 39.25it/s, test_acc=91.040, test_loss=1.55]\n"
          ]
        },
        {
          "name": "stdout",
          "output_type": "stream",
          "text": [
            "EPOCH 39/150 :\n"
          ]
        },
        {
          "name": "stderr",
          "output_type": "stream",
          "text": [
            "  train: 100%|██████████| 469/469 [00:12<00:00, 39.07it/s, train_acc=93.541, train_loss=1.53]\n",
            "   test: 100%|██████████| 79/79 [00:02<00:00, 37.94it/s, test_acc=91.208, test_loss=1.55]\n"
          ]
        },
        {
          "name": "stdout",
          "output_type": "stream",
          "text": [
            "EPOCH 40/150 :\n"
          ]
        },
        {
          "name": "stderr",
          "output_type": "stream",
          "text": [
            "  train: 100%|██████████| 469/469 [00:11<00:00, 39.21it/s, train_acc=93.571, train_loss=1.53]\n",
            "   test: 100%|██████████| 79/79 [00:02<00:00, 30.54it/s, test_acc=91.357, test_loss=1.55]\n"
          ]
        },
        {
          "name": "stdout",
          "output_type": "stream",
          "text": [
            "EPOCH 41/150 :\n"
          ]
        },
        {
          "name": "stderr",
          "output_type": "stream",
          "text": [
            "  train: 100%|██████████| 469/469 [00:11<00:00, 39.89it/s, train_acc=93.587, train_loss=1.53]\n",
            "   test: 100%|██████████| 79/79 [00:02<00:00, 35.59it/s, test_acc=91.011, test_loss=1.55]\n"
          ]
        },
        {
          "name": "stdout",
          "output_type": "stream",
          "text": [
            "EPOCH 42/150 :\n"
          ]
        },
        {
          "name": "stderr",
          "output_type": "stream",
          "text": [
            "  train: 100%|██████████| 469/469 [00:11<00:00, 39.42it/s, train_acc=93.699, train_loss=1.52]\n",
            "   test: 100%|██████████| 79/79 [00:02<00:00, 38.63it/s, test_acc=91.347, test_loss=1.55]\n"
          ]
        },
        {
          "name": "stdout",
          "output_type": "stream",
          "text": [
            "EPOCH 43/150 :\n"
          ]
        },
        {
          "name": "stderr",
          "output_type": "stream",
          "text": [
            "  train: 100%|██████████| 469/469 [00:11<00:00, 39.61it/s, train_acc=93.821, train_loss=1.52]\n",
            "   test: 100%|██████████| 79/79 [00:02<00:00, 38.37it/s, test_acc=90.467, test_loss=1.56]\n"
          ]
        },
        {
          "name": "stdout",
          "output_type": "stream",
          "text": [
            "EPOCH 44/150 :\n"
          ]
        },
        {
          "name": "stderr",
          "output_type": "stream",
          "text": [
            "  train: 100%|██████████| 469/469 [00:11<00:00, 39.35it/s, train_acc=93.831, train_loss=1.52]\n",
            "   test: 100%|██████████| 79/79 [00:02<00:00, 38.16it/s, test_acc=90.981, test_loss=1.55]\n"
          ]
        },
        {
          "name": "stdout",
          "output_type": "stream",
          "text": [
            "EPOCH 45/150 :\n"
          ]
        },
        {
          "name": "stderr",
          "output_type": "stream",
          "text": [
            "  train: 100%|██████████| 469/469 [00:11<00:00, 39.39it/s, train_acc=93.981, train_loss=1.52]\n",
            "   test: 100%|██████████| 79/79 [00:02<00:00, 38.78it/s, test_acc=91.119, test_loss=1.55]\n"
          ]
        },
        {
          "name": "stdout",
          "output_type": "stream",
          "text": [
            "EPOCH 46/150 :\n"
          ]
        },
        {
          "name": "stderr",
          "output_type": "stream",
          "text": [
            "  train: 100%|██████████| 469/469 [00:11<00:00, 39.29it/s, train_acc=94.079, train_loss=1.52]\n",
            "   test: 100%|██████████| 79/79 [00:02<00:00, 30.08it/s, test_acc=90.892, test_loss=1.55]\n"
          ]
        },
        {
          "name": "stdout",
          "output_type": "stream",
          "text": [
            "EPOCH 47/150 :\n"
          ]
        },
        {
          "name": "stderr",
          "output_type": "stream",
          "text": [
            "  train: 100%|██████████| 469/469 [00:11<00:00, 39.16it/s, train_acc=94.122, train_loss=1.52]\n",
            "   test: 100%|██████████| 79/79 [00:02<00:00, 38.27it/s, test_acc=91.169, test_loss=1.55]\n"
          ]
        },
        {
          "name": "stdout",
          "output_type": "stream",
          "text": [
            "EPOCH 48/150 :\n"
          ]
        },
        {
          "name": "stderr",
          "output_type": "stream",
          "text": [
            "  train: 100%|██████████| 469/469 [00:11<00:00, 39.47it/s, train_acc=94.201, train_loss=1.52]\n",
            "   test: 100%|██████████| 79/79 [00:02<00:00, 38.04it/s, test_acc=90.991, test_loss=1.55]\n"
          ]
        },
        {
          "name": "stdout",
          "output_type": "stream",
          "text": [
            "EPOCH 49/150 :\n"
          ]
        },
        {
          "name": "stderr",
          "output_type": "stream",
          "text": [
            "  train: 100%|██████████| 469/469 [00:11<00:00, 39.32it/s, train_acc=94.358, train_loss=1.52]\n",
            "   test: 100%|██████████| 79/79 [00:02<00:00, 38.97it/s, test_acc=91.199, test_loss=1.55]\n"
          ]
        },
        {
          "name": "stdout",
          "output_type": "stream",
          "text": [
            "EPOCH 50/150 :\n"
          ]
        },
        {
          "name": "stderr",
          "output_type": "stream",
          "text": [
            "  train: 100%|██████████| 469/469 [00:12<00:00, 39.04it/s, train_acc=94.364, train_loss=1.52]\n",
            "   test: 100%|██████████| 79/79 [00:02<00:00, 38.80it/s, test_acc=91.288, test_loss=1.55]\n"
          ]
        },
        {
          "name": "stdout",
          "output_type": "stream",
          "text": [
            "EPOCH 51/150 :\n"
          ]
        },
        {
          "name": "stderr",
          "output_type": "stream",
          "text": [
            "  train: 100%|██████████| 469/469 [00:12<00:00, 39.05it/s, train_acc=94.439, train_loss=1.52]\n",
            "   test: 100%|██████████| 79/79 [00:02<00:00, 38.31it/s, test_acc=91.080, test_loss=1.55]\n"
          ]
        },
        {
          "name": "stdout",
          "output_type": "stream",
          "text": [
            "EPOCH 52/150 :\n"
          ]
        },
        {
          "name": "stderr",
          "output_type": "stream",
          "text": [
            "  train: 100%|██████████| 469/469 [00:11<00:00, 39.88it/s, train_acc=94.450, train_loss=1.52]\n",
            "   test: 100%|██████████| 79/79 [00:02<00:00, 30.78it/s, test_acc=91.347, test_loss=1.55]\n"
          ]
        },
        {
          "name": "stdout",
          "output_type": "stream",
          "text": [
            "EPOCH 53/150 :\n"
          ]
        },
        {
          "name": "stderr",
          "output_type": "stream",
          "text": [
            "  train: 100%|██████████| 469/469 [00:11<00:00, 39.16it/s, train_acc=94.463, train_loss=1.52]\n",
            "   test: 100%|██████████| 79/79 [00:02<00:00, 38.77it/s, test_acc=91.367, test_loss=1.55]\n"
          ]
        },
        {
          "name": "stdout",
          "output_type": "stream",
          "text": [
            "EPOCH 54/150 :\n"
          ]
        },
        {
          "name": "stderr",
          "output_type": "stream",
          "text": [
            "  train: 100%|██████████| 469/469 [00:11<00:00, 39.16it/s, train_acc=94.666, train_loss=1.52]\n",
            "   test: 100%|██████████| 79/79 [00:02<00:00, 39.30it/s, test_acc=91.555, test_loss=1.55]\n"
          ]
        },
        {
          "name": "stdout",
          "output_type": "stream",
          "text": [
            "EPOCH 55/150 :\n"
          ]
        },
        {
          "name": "stderr",
          "output_type": "stream",
          "text": [
            "  train: 100%|██████████| 469/469 [00:11<00:00, 39.27it/s, train_acc=94.597, train_loss=1.52]\n",
            "   test: 100%|██████████| 79/79 [00:02<00:00, 38.30it/s, test_acc=91.288, test_loss=1.55]\n"
          ]
        },
        {
          "name": "stdout",
          "output_type": "stream",
          "text": [
            "EPOCH 56/150 :\n"
          ]
        },
        {
          "name": "stderr",
          "output_type": "stream",
          "text": [
            "  train: 100%|██████████| 469/469 [00:11<00:00, 39.64it/s, train_acc=94.784, train_loss=1.51]\n",
            "   test: 100%|██████████| 79/79 [00:02<00:00, 38.37it/s, test_acc=91.040, test_loss=1.55]\n"
          ]
        },
        {
          "name": "stdout",
          "output_type": "stream",
          "text": [
            "EPOCH 57/150 :\n"
          ]
        },
        {
          "name": "stderr",
          "output_type": "stream",
          "text": [
            "  train: 100%|██████████| 469/469 [00:11<00:00, 39.68it/s, train_acc=94.839, train_loss=1.51]\n",
            "   test: 100%|██████████| 79/79 [00:02<00:00, 38.74it/s, test_acc=91.644, test_loss=1.54]\n"
          ]
        },
        {
          "name": "stdout",
          "output_type": "stream",
          "text": [
            "EPOCH 58/150 :\n"
          ]
        },
        {
          "name": "stderr",
          "output_type": "stream",
          "text": [
            "  train: 100%|██████████| 469/469 [00:11<00:00, 39.44it/s, train_acc=94.792, train_loss=1.51]\n",
            "   test: 100%|██████████| 79/79 [00:02<00:00, 29.30it/s, test_acc=91.584, test_loss=1.55]\n"
          ]
        },
        {
          "name": "stdout",
          "output_type": "stream",
          "text": [
            "EPOCH 59/150 :\n"
          ]
        },
        {
          "name": "stderr",
          "output_type": "stream",
          "text": [
            "  train: 100%|██████████| 469/469 [00:11<00:00, 40.14it/s, train_acc=94.833, train_loss=1.51]\n",
            "   test: 100%|██████████| 79/79 [00:02<00:00, 38.13it/s, test_acc=91.792, test_loss=1.54]\n"
          ]
        },
        {
          "name": "stdout",
          "output_type": "stream",
          "text": [
            "EPOCH 60/150 :\n"
          ]
        },
        {
          "name": "stderr",
          "output_type": "stream",
          "text": [
            "  train: 100%|██████████| 469/469 [00:11<00:00, 39.68it/s, train_acc=94.979, train_loss=1.51]\n",
            "   test: 100%|██████████| 79/79 [00:02<00:00, 38.02it/s, test_acc=91.584, test_loss=1.55]\n"
          ]
        },
        {
          "name": "stdout",
          "output_type": "stream",
          "text": [
            "EPOCH 61/150 :\n"
          ]
        },
        {
          "name": "stderr",
          "output_type": "stream",
          "text": [
            "  train: 100%|██████████| 469/469 [00:11<00:00, 39.10it/s, train_acc=95.008, train_loss=1.51]\n",
            "   test: 100%|██████████| 79/79 [00:02<00:00, 37.22it/s, test_acc=90.961, test_loss=1.55]\n"
          ]
        },
        {
          "name": "stdout",
          "output_type": "stream",
          "text": [
            "EPOCH 62/150 :\n"
          ]
        },
        {
          "name": "stderr",
          "output_type": "stream",
          "text": [
            "  train: 100%|██████████| 469/469 [00:11<00:00, 39.11it/s, train_acc=95.165, train_loss=1.51]\n",
            "   test: 100%|██████████| 79/79 [00:02<00:00, 38.90it/s, test_acc=91.228, test_loss=1.55]\n"
          ]
        },
        {
          "name": "stdout",
          "output_type": "stream",
          "text": [
            "EPOCH 63/150 :\n"
          ]
        },
        {
          "name": "stderr",
          "output_type": "stream",
          "text": [
            "  train: 100%|██████████| 469/469 [00:11<00:00, 39.47it/s, train_acc=95.144, train_loss=1.51]\n",
            "   test: 100%|██████████| 79/79 [00:02<00:00, 39.28it/s, test_acc=91.841, test_loss=1.54]\n"
          ]
        },
        {
          "name": "stdout",
          "output_type": "stream",
          "text": [
            "EPOCH 64/150 :\n"
          ]
        },
        {
          "name": "stderr",
          "output_type": "stream",
          "text": [
            "  train: 100%|██████████| 469/469 [00:11<00:00, 39.35it/s, train_acc=95.289, train_loss=1.51]\n",
            "   test: 100%|██████████| 79/79 [00:02<00:00, 30.93it/s, test_acc=91.822, test_loss=1.54]\n"
          ]
        },
        {
          "name": "stdout",
          "output_type": "stream",
          "text": [
            "EPOCH 65/150 :\n"
          ]
        },
        {
          "name": "stderr",
          "output_type": "stream",
          "text": [
            "  train: 100%|██████████| 469/469 [00:11<00:00, 39.60it/s, train_acc=95.228, train_loss=1.51]\n",
            "   test: 100%|██████████| 79/79 [00:02<00:00, 37.58it/s, test_acc=91.693, test_loss=1.54]\n"
          ]
        },
        {
          "name": "stdout",
          "output_type": "stream",
          "text": [
            "EPOCH 66/150 :\n"
          ]
        },
        {
          "name": "stderr",
          "output_type": "stream",
          "text": [
            "  train: 100%|██████████| 469/469 [00:11<00:00, 39.75it/s, train_acc=95.247, train_loss=1.51]\n",
            "   test: 100%|██████████| 79/79 [00:02<00:00, 37.07it/s, test_acc=91.950, test_loss=1.54]\n"
          ]
        },
        {
          "name": "stdout",
          "output_type": "stream",
          "text": [
            "EPOCH 67/150 :\n"
          ]
        },
        {
          "name": "stderr",
          "output_type": "stream",
          "text": [
            "  train: 100%|██████████| 469/469 [00:11<00:00, 39.19it/s, train_acc=95.376, train_loss=1.51]\n",
            "   test: 100%|██████████| 79/79 [00:02<00:00, 38.17it/s, test_acc=91.920, test_loss=1.54]\n"
          ]
        },
        {
          "name": "stdout",
          "output_type": "stream",
          "text": [
            "EPOCH 68/150 :\n"
          ]
        },
        {
          "name": "stderr",
          "output_type": "stream",
          "text": [
            "  train: 100%|██████████| 469/469 [00:11<00:00, 39.32it/s, train_acc=95.433, train_loss=1.51]\n",
            "   test: 100%|██████████| 79/79 [00:02<00:00, 38.43it/s, test_acc=91.367, test_loss=1.55]\n"
          ]
        },
        {
          "name": "stdout",
          "output_type": "stream",
          "text": [
            "EPOCH 69/150 :\n"
          ]
        },
        {
          "name": "stderr",
          "output_type": "stream",
          "text": [
            "  train: 100%|██████████| 469/469 [00:11<00:00, 39.31it/s, train_acc=95.475, train_loss=1.51]\n",
            "   test: 100%|██████████| 79/79 [00:02<00:00, 38.74it/s, test_acc=91.644, test_loss=1.54]\n"
          ]
        },
        {
          "name": "stdout",
          "output_type": "stream",
          "text": [
            "EPOCH 70/150 :\n"
          ]
        },
        {
          "name": "stderr",
          "output_type": "stream",
          "text": [
            "  train: 100%|██████████| 469/469 [00:11<00:00, 39.78it/s, train_acc=95.444, train_loss=1.51]\n",
            "   test: 100%|██████████| 79/79 [00:02<00:00, 30.53it/s, test_acc=92.089, test_loss=1.54]\n"
          ]
        },
        {
          "name": "stdout",
          "output_type": "stream",
          "text": [
            "EPOCH 71/150 :\n"
          ]
        },
        {
          "name": "stderr",
          "output_type": "stream",
          "text": [
            "  train: 100%|██████████| 469/469 [00:11<00:00, 39.13it/s, train_acc=95.652, train_loss=1.51]\n",
            "   test: 100%|██████████| 79/79 [00:02<00:00, 39.20it/s, test_acc=92.049, test_loss=1.54]\n"
          ]
        },
        {
          "name": "stdout",
          "output_type": "stream",
          "text": [
            "EPOCH 72/150 :\n"
          ]
        },
        {
          "name": "stderr",
          "output_type": "stream",
          "text": [
            "  train: 100%|██████████| 469/469 [00:11<00:00, 39.48it/s, train_acc=95.551, train_loss=1.51]\n",
            "   test: 100%|██████████| 79/79 [00:02<00:00, 38.35it/s, test_acc=91.960, test_loss=1.54]\n"
          ]
        },
        {
          "name": "stdout",
          "output_type": "stream",
          "text": [
            "EPOCH 73/150 :\n"
          ]
        },
        {
          "name": "stderr",
          "output_type": "stream",
          "text": [
            "  train: 100%|██████████| 469/469 [00:11<00:00, 39.44it/s, train_acc=95.556, train_loss=1.51]\n",
            "   test: 100%|██████████| 79/79 [00:02<00:00, 38.60it/s, test_acc=91.525, test_loss=1.55]\n"
          ]
        },
        {
          "name": "stdout",
          "output_type": "stream",
          "text": [
            "EPOCH 74/150 :\n"
          ]
        },
        {
          "name": "stderr",
          "output_type": "stream",
          "text": [
            "  train: 100%|██████████| 469/469 [00:11<00:00, 39.54it/s, train_acc=95.747, train_loss=1.51]\n",
            "   test: 100%|██████████| 79/79 [00:02<00:00, 38.50it/s, test_acc=91.792, test_loss=1.54]\n"
          ]
        },
        {
          "name": "stdout",
          "output_type": "stream",
          "text": [
            "EPOCH 75/150 :\n"
          ]
        },
        {
          "name": "stderr",
          "output_type": "stream",
          "text": [
            "  train: 100%|██████████| 469/469 [00:11<00:00, 39.78it/s, train_acc=95.794, train_loss=1.5]\n",
            "   test: 100%|██████████| 79/79 [00:02<00:00, 36.15it/s, test_acc=91.594, test_loss=1.54]\n"
          ]
        },
        {
          "name": "stdout",
          "output_type": "stream",
          "text": [
            "EPOCH 76/150 :\n"
          ]
        },
        {
          "name": "stderr",
          "output_type": "stream",
          "text": [
            "  train: 100%|██████████| 469/469 [00:11<00:00, 40.05it/s, train_acc=95.742, train_loss=1.51]\n",
            "   test: 100%|██████████| 79/79 [00:02<00:00, 32.30it/s, test_acc=91.723, test_loss=1.54]\n"
          ]
        },
        {
          "name": "stdout",
          "output_type": "stream",
          "text": [
            "EPOCH 77/150 :\n"
          ]
        },
        {
          "name": "stderr",
          "output_type": "stream",
          "text": [
            "  train: 100%|██████████| 469/469 [00:11<00:00, 39.74it/s, train_acc=95.841, train_loss=1.5]\n",
            "   test: 100%|██████████| 79/79 [00:02<00:00, 34.23it/s, test_acc=91.871, test_loss=1.54]\n"
          ]
        },
        {
          "name": "stdout",
          "output_type": "stream",
          "text": [
            "EPOCH 78/150 :\n"
          ]
        },
        {
          "name": "stderr",
          "output_type": "stream",
          "text": [
            "  train: 100%|██████████| 469/469 [00:11<00:00, 39.45it/s, train_acc=95.888, train_loss=1.5]\n",
            "   test: 100%|██████████| 79/79 [00:02<00:00, 38.60it/s, test_acc=90.922, test_loss=1.55]\n"
          ]
        },
        {
          "name": "stdout",
          "output_type": "stream",
          "text": [
            "EPOCH 79/150 :\n"
          ]
        },
        {
          "name": "stderr",
          "output_type": "stream",
          "text": [
            "  train: 100%|██████████| 469/469 [00:11<00:00, 39.54it/s, train_acc=95.897, train_loss=1.5]\n",
            "   test: 100%|██████████| 79/79 [00:02<00:00, 38.27it/s, test_acc=91.624, test_loss=1.54]\n"
          ]
        },
        {
          "name": "stdout",
          "output_type": "stream",
          "text": [
            "EPOCH 80/150 :\n"
          ]
        },
        {
          "name": "stderr",
          "output_type": "stream",
          "text": [
            "  train: 100%|██████████| 469/469 [00:11<00:00, 39.22it/s, train_acc=96.002, train_loss=1.5]\n",
            "   test: 100%|██████████| 79/79 [00:02<00:00, 37.99it/s, test_acc=91.901, test_loss=1.54]\n"
          ]
        },
        {
          "name": "stdout",
          "output_type": "stream",
          "text": [
            "EPOCH 81/150 :\n"
          ]
        },
        {
          "name": "stderr",
          "output_type": "stream",
          "text": [
            "  train: 100%|██████████| 469/469 [00:11<00:00, 39.84it/s, train_acc=95.950, train_loss=1.5]\n",
            "   test: 100%|██████████| 79/79 [00:02<00:00, 38.70it/s, test_acc=91.515, test_loss=1.55]\n"
          ]
        },
        {
          "name": "stdout",
          "output_type": "stream",
          "text": [
            "EPOCH 82/150 :\n"
          ]
        },
        {
          "name": "stderr",
          "output_type": "stream",
          "text": [
            "  train: 100%|██████████| 469/469 [00:11<00:00, 39.41it/s, train_acc=95.939, train_loss=1.5]\n",
            "   test: 100%|██████████| 79/79 [00:02<00:00, 33.88it/s, test_acc=92.118, test_loss=1.54]\n"
          ]
        },
        {
          "name": "stdout",
          "output_type": "stream",
          "text": [
            "EPOCH 83/150 :\n"
          ]
        },
        {
          "name": "stderr",
          "output_type": "stream",
          "text": [
            "  train: 100%|██████████| 469/469 [00:11<00:00, 39.79it/s, train_acc=96.082, train_loss=1.5]\n",
            "   test: 100%|██████████| 79/79 [00:02<00:00, 33.16it/s, test_acc=91.802, test_loss=1.54]\n"
          ]
        },
        {
          "name": "stdout",
          "output_type": "stream",
          "text": [
            "EPOCH 84/150 :\n"
          ]
        },
        {
          "name": "stderr",
          "output_type": "stream",
          "text": [
            "  train: 100%|██████████| 469/469 [00:12<00:00, 38.86it/s, train_acc=96.085, train_loss=1.5]\n",
            "   test: 100%|██████████| 79/79 [00:02<00:00, 38.58it/s, test_acc=91.634, test_loss=1.54]\n"
          ]
        },
        {
          "name": "stdout",
          "output_type": "stream",
          "text": [
            "EPOCH 85/150 :\n"
          ]
        },
        {
          "name": "stderr",
          "output_type": "stream",
          "text": [
            "  train: 100%|██████████| 469/469 [00:11<00:00, 39.43it/s, train_acc=96.118, train_loss=1.5]\n",
            "   test: 100%|██████████| 79/79 [00:02<00:00, 38.52it/s, test_acc=91.723, test_loss=1.54]\n"
          ]
        },
        {
          "name": "stdout",
          "output_type": "stream",
          "text": [
            "EPOCH 86/150 :\n"
          ]
        },
        {
          "name": "stderr",
          "output_type": "stream",
          "text": [
            "  train: 100%|██████████| 469/469 [00:11<00:00, 39.44it/s, train_acc=96.258, train_loss=1.5]\n",
            "   test: 100%|██████████| 79/79 [00:02<00:00, 38.70it/s, test_acc=92.158, test_loss=1.54]\n"
          ]
        },
        {
          "name": "stdout",
          "output_type": "stream",
          "text": [
            "EPOCH 87/150 :\n"
          ]
        },
        {
          "name": "stderr",
          "output_type": "stream",
          "text": [
            "  train: 100%|██████████| 469/469 [00:11<00:00, 39.53it/s, train_acc=96.275, train_loss=1.5]\n",
            "   test: 100%|██████████| 79/79 [00:02<00:00, 38.55it/s, test_acc=92.158, test_loss=1.54]\n"
          ]
        },
        {
          "name": "stdout",
          "output_type": "stream",
          "text": [
            "EPOCH 88/150 :\n"
          ]
        },
        {
          "name": "stderr",
          "output_type": "stream",
          "text": [
            "  train: 100%|██████████| 469/469 [00:11<00:00, 39.56it/s, train_acc=96.272, train_loss=1.5]\n",
            "   test: 100%|██████████| 79/79 [00:02<00:00, 34.16it/s, test_acc=91.752, test_loss=1.54]\n"
          ]
        },
        {
          "name": "stdout",
          "output_type": "stream",
          "text": [
            "EPOCH 89/150 :\n"
          ]
        },
        {
          "name": "stderr",
          "output_type": "stream",
          "text": [
            "  train: 100%|██████████| 469/469 [00:11<00:00, 40.27it/s, train_acc=96.271, train_loss=1.5]\n",
            "   test: 100%|██████████| 79/79 [00:02<00:00, 32.67it/s, test_acc=92.089, test_loss=1.54]\n"
          ]
        },
        {
          "name": "stdout",
          "output_type": "stream",
          "text": [
            "EPOCH 90/150 :\n"
          ]
        },
        {
          "name": "stderr",
          "output_type": "stream",
          "text": [
            "  train: 100%|██████████| 469/469 [00:11<00:00, 39.31it/s, train_acc=96.343, train_loss=1.5]\n",
            "   test: 100%|██████████| 79/79 [00:02<00:00, 37.80it/s, test_acc=92.089, test_loss=1.54]\n"
          ]
        },
        {
          "name": "stdout",
          "output_type": "stream",
          "text": [
            "EPOCH 91/150 :\n"
          ]
        },
        {
          "name": "stderr",
          "output_type": "stream",
          "text": [
            "  train: 100%|██████████| 469/469 [00:11<00:00, 39.24it/s, train_acc=96.301, train_loss=1.5]\n",
            "   test: 100%|██████████| 79/79 [00:02<00:00, 38.32it/s, test_acc=91.831, test_loss=1.54]\n"
          ]
        },
        {
          "name": "stdout",
          "output_type": "stream",
          "text": [
            "EPOCH 92/150 :\n"
          ]
        },
        {
          "name": "stderr",
          "output_type": "stream",
          "text": [
            "  train: 100%|██████████| 469/469 [00:11<00:00, 39.42it/s, train_acc=96.330, train_loss=1.5]\n",
            "   test: 100%|██████████| 79/79 [00:02<00:00, 38.53it/s, test_acc=92.059, test_loss=1.54]\n"
          ]
        },
        {
          "name": "stdout",
          "output_type": "stream",
          "text": [
            "EPOCH 93/150 :\n"
          ]
        },
        {
          "name": "stderr",
          "output_type": "stream",
          "text": [
            "  train: 100%|██████████| 469/469 [00:11<00:00, 39.77it/s, train_acc=96.476, train_loss=1.5]\n",
            "   test: 100%|██████████| 79/79 [00:02<00:00, 38.61it/s, test_acc=91.911, test_loss=1.54]\n"
          ]
        },
        {
          "name": "stdout",
          "output_type": "stream",
          "text": [
            "EPOCH 94/150 :\n"
          ]
        },
        {
          "name": "stderr",
          "output_type": "stream",
          "text": [
            "  train: 100%|██████████| 469/469 [00:11<00:00, 39.55it/s, train_acc=96.442, train_loss=1.5]\n",
            "   test: 100%|██████████| 79/79 [00:02<00:00, 35.93it/s, test_acc=92.128, test_loss=1.54]\n"
          ]
        },
        {
          "name": "stdout",
          "output_type": "stream",
          "text": [
            "EPOCH 95/150 :\n"
          ]
        },
        {
          "name": "stderr",
          "output_type": "stream",
          "text": [
            "  train: 100%|██████████| 469/469 [00:11<00:00, 39.55it/s, train_acc=96.507, train_loss=1.5]\n",
            "   test: 100%|██████████| 79/79 [00:02<00:00, 30.98it/s, test_acc=92.207, test_loss=1.54]\n"
          ]
        },
        {
          "name": "stdout",
          "output_type": "stream",
          "text": [
            "EPOCH 96/150 :\n"
          ]
        },
        {
          "name": "stderr",
          "output_type": "stream",
          "text": [
            "  train: 100%|██████████| 469/469 [00:11<00:00, 39.54it/s, train_acc=96.607, train_loss=1.5]\n",
            "   test: 100%|██████████| 79/79 [00:02<00:00, 36.53it/s, test_acc=91.901, test_loss=1.54]\n"
          ]
        },
        {
          "name": "stdout",
          "output_type": "stream",
          "text": [
            "EPOCH 97/150 :\n"
          ]
        },
        {
          "name": "stderr",
          "output_type": "stream",
          "text": [
            "  train: 100%|██████████| 469/469 [00:11<00:00, 39.21it/s, train_acc=96.493, train_loss=1.5]\n",
            "   test: 100%|██████████| 79/79 [00:02<00:00, 38.74it/s, test_acc=92.286, test_loss=1.54]\n"
          ]
        },
        {
          "name": "stdout",
          "output_type": "stream",
          "text": [
            "EPOCH 98/150 :\n"
          ]
        },
        {
          "name": "stderr",
          "output_type": "stream",
          "text": [
            "  train: 100%|██████████| 469/469 [00:11<00:00, 39.96it/s, train_acc=96.605, train_loss=1.5]\n",
            "   test: 100%|██████████| 79/79 [00:02<00:00, 39.04it/s, test_acc=91.920, test_loss=1.54]\n"
          ]
        },
        {
          "name": "stdout",
          "output_type": "stream",
          "text": [
            "EPOCH 99/150 :\n"
          ]
        },
        {
          "name": "stderr",
          "output_type": "stream",
          "text": [
            "  train: 100%|██████████| 469/469 [00:11<00:00, 39.63it/s, train_acc=96.646, train_loss=1.5]\n",
            "   test: 100%|██████████| 79/79 [00:02<00:00, 38.51it/s, test_acc=92.306, test_loss=1.54]\n"
          ]
        },
        {
          "name": "stdout",
          "output_type": "stream",
          "text": [
            "EPOCH 100/150 :\n"
          ]
        },
        {
          "name": "stderr",
          "output_type": "stream",
          "text": [
            "  train: 100%|██████████| 469/469 [00:11<00:00, 39.84it/s, train_acc=96.594, train_loss=1.5]\n",
            "   test: 100%|██████████| 79/79 [00:02<00:00, 38.67it/s, test_acc=92.089, test_loss=1.54]\n"
          ]
        },
        {
          "name": "stdout",
          "output_type": "stream",
          "text": [
            "EPOCH 101/150 :\n"
          ]
        },
        {
          "name": "stderr",
          "output_type": "stream",
          "text": [
            "  train: 100%|██████████| 469/469 [00:11<00:00, 39.27it/s, train_acc=96.756, train_loss=1.5]\n",
            "   test: 100%|██████████| 79/79 [00:02<00:00, 29.85it/s, test_acc=92.128, test_loss=1.54]\n"
          ]
        },
        {
          "name": "stdout",
          "output_type": "stream",
          "text": [
            "EPOCH 102/150 :\n"
          ]
        },
        {
          "name": "stderr",
          "output_type": "stream",
          "text": [
            "  train: 100%|██████████| 469/469 [00:11<00:00, 39.45it/s, train_acc=96.737, train_loss=1.5]\n",
            "   test: 100%|██████████| 79/79 [00:02<00:00, 37.61it/s, test_acc=91.920, test_loss=1.54]\n"
          ]
        },
        {
          "name": "stdout",
          "output_type": "stream",
          "text": [
            "EPOCH 103/150 :\n"
          ]
        },
        {
          "name": "stderr",
          "output_type": "stream",
          "text": [
            "  train: 100%|██████████| 469/469 [00:11<00:00, 39.68it/s, train_acc=96.693, train_loss=1.5]\n",
            "   test: 100%|██████████| 79/79 [00:02<00:00, 36.61it/s, test_acc=92.158, test_loss=1.54]\n"
          ]
        },
        {
          "name": "stdout",
          "output_type": "stream",
          "text": [
            "EPOCH 104/150 :\n"
          ]
        },
        {
          "name": "stderr",
          "output_type": "stream",
          "text": [
            "  train: 100%|██████████| 469/469 [00:11<00:00, 39.62it/s, train_acc=96.693, train_loss=1.5]\n",
            "   test: 100%|██████████| 79/79 [00:02<00:00, 38.26it/s, test_acc=92.277, test_loss=1.54]\n"
          ]
        },
        {
          "name": "stdout",
          "output_type": "stream",
          "text": [
            "EPOCH 105/150 :\n"
          ]
        },
        {
          "name": "stderr",
          "output_type": "stream",
          "text": [
            "  train: 100%|██████████| 469/469 [00:11<00:00, 39.27it/s, train_acc=96.789, train_loss=1.49]\n",
            "   test: 100%|██████████| 79/79 [00:02<00:00, 36.16it/s, test_acc=92.000, test_loss=1.54]\n"
          ]
        },
        {
          "name": "stdout",
          "output_type": "stream",
          "text": [
            "EPOCH 106/150 :\n"
          ]
        },
        {
          "name": "stderr",
          "output_type": "stream",
          "text": [
            "  train: 100%|██████████| 469/469 [00:11<00:00, 39.30it/s, train_acc=96.794, train_loss=1.49]\n",
            "   test: 100%|██████████| 79/79 [00:02<00:00, 37.46it/s, test_acc=92.237, test_loss=1.54]\n"
          ]
        },
        {
          "name": "stdout",
          "output_type": "stream",
          "text": [
            "EPOCH 107/150 :\n"
          ]
        },
        {
          "name": "stderr",
          "output_type": "stream",
          "text": [
            "  train: 100%|██████████| 469/469 [00:11<00:00, 39.99it/s, train_acc=96.903, train_loss=1.49]\n",
            "   test: 100%|██████████| 79/79 [00:02<00:00, 29.91it/s, test_acc=92.029, test_loss=1.54]\n"
          ]
        },
        {
          "name": "stdout",
          "output_type": "stream",
          "text": [
            "EPOCH 108/150 :\n"
          ]
        },
        {
          "name": "stderr",
          "output_type": "stream",
          "text": [
            "  train: 100%|██████████| 469/469 [00:11<00:00, 39.15it/s, train_acc=96.943, train_loss=1.49]\n",
            "   test: 100%|██████████| 79/79 [00:02<00:00, 38.52it/s, test_acc=92.108, test_loss=1.54]\n"
          ]
        },
        {
          "name": "stdout",
          "output_type": "stream",
          "text": [
            "EPOCH 109/150 :\n"
          ]
        },
        {
          "name": "stderr",
          "output_type": "stream",
          "text": [
            "  train: 100%|██████████| 469/469 [00:11<00:00, 39.44it/s, train_acc=96.974, train_loss=1.49]\n",
            "   test: 100%|██████████| 79/79 [00:02<00:00, 38.63it/s, test_acc=92.188, test_loss=1.54]\n"
          ]
        },
        {
          "name": "stdout",
          "output_type": "stream",
          "text": [
            "EPOCH 110/150 :\n"
          ]
        },
        {
          "name": "stderr",
          "output_type": "stream",
          "text": [
            "  train: 100%|██████████| 469/469 [00:11<00:00, 39.69it/s, train_acc=96.888, train_loss=1.49]\n",
            "   test: 100%|██████████| 79/79 [00:02<00:00, 38.39it/s, test_acc=92.207, test_loss=1.54]\n"
          ]
        },
        {
          "name": "stdout",
          "output_type": "stream",
          "text": [
            "EPOCH 111/150 :\n"
          ]
        },
        {
          "name": "stderr",
          "output_type": "stream",
          "text": [
            "  train: 100%|██████████| 469/469 [00:11<00:00, 39.76it/s, train_acc=96.951, train_loss=1.49]\n",
            "   test: 100%|██████████| 79/79 [00:02<00:00, 39.24it/s, test_acc=92.168, test_loss=1.54]\n"
          ]
        },
        {
          "name": "stdout",
          "output_type": "stream",
          "text": [
            "EPOCH 112/150 :\n"
          ]
        },
        {
          "name": "stderr",
          "output_type": "stream",
          "text": [
            "  train: 100%|██████████| 469/469 [00:11<00:00, 39.76it/s, train_acc=96.951, train_loss=1.49]\n",
            "   test: 100%|██████████| 79/79 [00:02<00:00, 37.95it/s, test_acc=92.217, test_loss=1.54]\n"
          ]
        },
        {
          "name": "stdout",
          "output_type": "stream",
          "text": [
            "EPOCH 113/150 :\n"
          ]
        },
        {
          "name": "stderr",
          "output_type": "stream",
          "text": [
            "  train: 100%|██████████| 469/469 [00:11<00:00, 39.84it/s, train_acc=97.012, train_loss=1.49]\n",
            "   test: 100%|██████████| 79/79 [00:02<00:00, 28.21it/s, test_acc=91.871, test_loss=1.54]\n"
          ]
        },
        {
          "name": "stdout",
          "output_type": "stream",
          "text": [
            "EPOCH 114/150 :\n"
          ]
        },
        {
          "name": "stderr",
          "output_type": "stream",
          "text": [
            "  train: 100%|██████████| 469/469 [00:11<00:00, 40.10it/s, train_acc=97.011, train_loss=1.49]\n",
            "   test: 100%|██████████| 79/79 [00:02<00:00, 35.49it/s, test_acc=92.247, test_loss=1.54]\n"
          ]
        },
        {
          "name": "stdout",
          "output_type": "stream",
          "text": [
            "EPOCH 115/150 :\n"
          ]
        },
        {
          "name": "stderr",
          "output_type": "stream",
          "text": [
            "  train: 100%|██████████| 469/469 [00:11<00:00, 39.26it/s, train_acc=97.117, train_loss=1.49]\n",
            "   test: 100%|██████████| 79/79 [00:02<00:00, 38.77it/s, test_acc=92.247, test_loss=1.54]\n"
          ]
        },
        {
          "name": "stdout",
          "output_type": "stream",
          "text": [
            "EPOCH 116/150 :\n"
          ]
        },
        {
          "name": "stderr",
          "output_type": "stream",
          "text": [
            "  train: 100%|██████████| 469/469 [00:11<00:00, 39.92it/s, train_acc=97.122, train_loss=1.49]\n",
            "   test: 100%|██████████| 79/79 [00:02<00:00, 39.20it/s, test_acc=92.138, test_loss=1.54]\n"
          ]
        },
        {
          "name": "stdout",
          "output_type": "stream",
          "text": [
            "EPOCH 117/150 :\n"
          ]
        },
        {
          "name": "stderr",
          "output_type": "stream",
          "text": [
            "  train: 100%|██████████| 469/469 [00:11<00:00, 39.35it/s, train_acc=97.113, train_loss=1.49]\n",
            "   test: 100%|██████████| 79/79 [00:02<00:00, 38.93it/s, test_acc=92.425, test_loss=1.54]\n"
          ]
        },
        {
          "name": "stdout",
          "output_type": "stream",
          "text": [
            "EPOCH 118/150 :\n"
          ]
        },
        {
          "name": "stderr",
          "output_type": "stream",
          "text": [
            "  train: 100%|██████████| 469/469 [00:11<00:00, 39.22it/s, train_acc=97.158, train_loss=1.49]\n",
            "   test: 100%|██████████| 79/79 [00:02<00:00, 37.11it/s, test_acc=92.336, test_loss=1.54]\n"
          ]
        },
        {
          "name": "stdout",
          "output_type": "stream",
          "text": [
            "EPOCH 119/150 :\n"
          ]
        },
        {
          "name": "stderr",
          "output_type": "stream",
          "text": [
            "  train: 100%|██████████| 469/469 [00:11<00:00, 39.13it/s, train_acc=97.169, train_loss=1.49]\n",
            "   test: 100%|██████████| 79/79 [00:02<00:00, 30.25it/s, test_acc=92.247, test_loss=1.54]\n"
          ]
        },
        {
          "name": "stdout",
          "output_type": "stream",
          "text": [
            "EPOCH 120/150 :\n"
          ]
        },
        {
          "name": "stderr",
          "output_type": "stream",
          "text": [
            "  train: 100%|██████████| 469/469 [00:11<00:00, 39.76it/s, train_acc=97.163, train_loss=1.49]\n",
            "   test: 100%|██████████| 79/79 [00:02<00:00, 35.38it/s, test_acc=91.841, test_loss=1.54]\n"
          ]
        },
        {
          "name": "stdout",
          "output_type": "stream",
          "text": [
            "EPOCH 121/150 :\n"
          ]
        },
        {
          "name": "stderr",
          "output_type": "stream",
          "text": [
            "  train: 100%|██████████| 469/469 [00:11<00:00, 39.67it/s, train_acc=97.220, train_loss=1.49]\n",
            "   test: 100%|██████████| 79/79 [00:02<00:00, 38.59it/s, test_acc=92.613, test_loss=1.54]\n"
          ]
        },
        {
          "name": "stdout",
          "output_type": "stream",
          "text": [
            "EPOCH 122/150 :\n"
          ]
        },
        {
          "name": "stderr",
          "output_type": "stream",
          "text": [
            "  train: 100%|██████████| 469/469 [00:11<00:00, 39.49it/s, train_acc=97.267, train_loss=1.49]\n",
            "   test: 100%|██████████| 79/79 [00:02<00:00, 37.78it/s, test_acc=92.207, test_loss=1.54]\n"
          ]
        },
        {
          "name": "stdout",
          "output_type": "stream",
          "text": [
            "EPOCH 123/150 :\n"
          ]
        },
        {
          "name": "stderr",
          "output_type": "stream",
          "text": [
            "  train: 100%|██████████| 469/469 [00:11<00:00, 39.16it/s, train_acc=97.203, train_loss=1.49]\n",
            "   test: 100%|██████████| 79/79 [00:02<00:00, 38.61it/s, test_acc=92.277, test_loss=1.54]\n"
          ]
        },
        {
          "name": "stdout",
          "output_type": "stream",
          "text": [
            "EPOCH 124/150 :\n"
          ]
        },
        {
          "name": "stderr",
          "output_type": "stream",
          "text": [
            "  train: 100%|██████████| 469/469 [00:12<00:00, 39.01it/s, train_acc=97.153, train_loss=1.49]\n",
            "   test: 100%|██████████| 79/79 [00:02<00:00, 36.80it/s, test_acc=92.395, test_loss=1.54]\n"
          ]
        },
        {
          "name": "stdout",
          "output_type": "stream",
          "text": [
            "EPOCH 125/150 :\n"
          ]
        },
        {
          "name": "stderr",
          "output_type": "stream",
          "text": [
            "  train: 100%|██████████| 469/469 [00:11<00:00, 39.24it/s, train_acc=97.245, train_loss=1.49]\n",
            "   test: 100%|██████████| 79/79 [00:02<00:00, 30.12it/s, test_acc=92.158, test_loss=1.54]\n"
          ]
        },
        {
          "name": "stdout",
          "output_type": "stream",
          "text": [
            "EPOCH 126/150 :\n"
          ]
        },
        {
          "name": "stderr",
          "output_type": "stream",
          "text": [
            "  train: 100%|██████████| 469/469 [00:12<00:00, 38.63it/s, train_acc=97.295, train_loss=1.49]\n",
            "   test: 100%|██████████| 79/79 [00:02<00:00, 36.36it/s, test_acc=92.227, test_loss=1.54]\n"
          ]
        },
        {
          "name": "stdout",
          "output_type": "stream",
          "text": [
            "EPOCH 127/150 :\n"
          ]
        },
        {
          "name": "stderr",
          "output_type": "stream",
          "text": [
            "  train: 100%|██████████| 469/469 [00:11<00:00, 39.36it/s, train_acc=97.305, train_loss=1.49]\n",
            "   test: 100%|██████████| 79/79 [00:02<00:00, 38.83it/s, test_acc=92.366, test_loss=1.54]\n"
          ]
        },
        {
          "name": "stdout",
          "output_type": "stream",
          "text": [
            "EPOCH 128/150 :\n"
          ]
        },
        {
          "name": "stderr",
          "output_type": "stream",
          "text": [
            "  train: 100%|██████████| 469/469 [00:12<00:00, 39.05it/s, train_acc=97.398, train_loss=1.49]\n",
            "   test: 100%|██████████| 79/79 [00:02<00:00, 38.46it/s, test_acc=91.940, test_loss=1.54]\n"
          ]
        },
        {
          "name": "stdout",
          "output_type": "stream",
          "text": [
            "EPOCH 129/150 :\n"
          ]
        },
        {
          "name": "stderr",
          "output_type": "stream",
          "text": [
            "  train: 100%|██████████| 469/469 [00:11<00:00, 39.39it/s, train_acc=97.432, train_loss=1.49]\n",
            "   test: 100%|██████████| 79/79 [00:02<00:00, 38.28it/s, test_acc=92.257, test_loss=1.54]\n"
          ]
        },
        {
          "name": "stdout",
          "output_type": "stream",
          "text": [
            "EPOCH 130/150 :\n"
          ]
        },
        {
          "name": "stderr",
          "output_type": "stream",
          "text": [
            "  train: 100%|██████████| 469/469 [00:11<00:00, 39.37it/s, train_acc=97.480, train_loss=1.49]\n",
            "   test: 100%|██████████| 79/79 [00:02<00:00, 36.46it/s, test_acc=92.395, test_loss=1.54]\n"
          ]
        },
        {
          "name": "stdout",
          "output_type": "stream",
          "text": [
            "EPOCH 131/150 :\n"
          ]
        },
        {
          "name": "stderr",
          "output_type": "stream",
          "text": [
            "  train: 100%|██████████| 469/469 [00:11<00:00, 39.52it/s, train_acc=97.425, train_loss=1.49]\n",
            "   test: 100%|██████████| 79/79 [00:02<00:00, 30.80it/s, test_acc=92.247, test_loss=1.54]\n"
          ]
        },
        {
          "name": "stdout",
          "output_type": "stream",
          "text": [
            "EPOCH 132/150 :\n"
          ]
        },
        {
          "name": "stderr",
          "output_type": "stream",
          "text": [
            "  train: 100%|██████████| 469/469 [00:11<00:00, 39.63it/s, train_acc=97.462, train_loss=1.49]\n",
            "   test: 100%|██████████| 79/79 [00:02<00:00, 34.84it/s, test_acc=92.534, test_loss=1.54]\n"
          ]
        },
        {
          "name": "stdout",
          "output_type": "stream",
          "text": [
            "EPOCH 133/150 :\n"
          ]
        },
        {
          "name": "stderr",
          "output_type": "stream",
          "text": [
            "  train: 100%|██████████| 469/469 [00:11<00:00, 39.70it/s, train_acc=97.495, train_loss=1.49]\n",
            "   test: 100%|██████████| 79/79 [00:02<00:00, 37.84it/s, test_acc=92.375, test_loss=1.54]\n"
          ]
        },
        {
          "name": "stdout",
          "output_type": "stream",
          "text": [
            "EPOCH 134/150 :\n"
          ]
        },
        {
          "name": "stderr",
          "output_type": "stream",
          "text": [
            "  train: 100%|██████████| 469/469 [00:11<00:00, 39.65it/s, train_acc=97.396, train_loss=1.49]\n",
            "   test: 100%|██████████| 79/79 [00:02<00:00, 38.23it/s, test_acc=92.247, test_loss=1.54]\n"
          ]
        },
        {
          "name": "stdout",
          "output_type": "stream",
          "text": [
            "EPOCH 135/150 :\n"
          ]
        },
        {
          "name": "stderr",
          "output_type": "stream",
          "text": [
            "  train: 100%|██████████| 469/469 [00:11<00:00, 39.21it/s, train_acc=97.502, train_loss=1.49]\n",
            "   test: 100%|██████████| 79/79 [00:02<00:00, 38.11it/s, test_acc=92.464, test_loss=1.54]\n"
          ]
        },
        {
          "name": "stdout",
          "output_type": "stream",
          "text": [
            "EPOCH 136/150 :\n"
          ]
        },
        {
          "name": "stderr",
          "output_type": "stream",
          "text": [
            "  train: 100%|██████████| 469/469 [00:11<00:00, 39.37it/s, train_acc=97.527, train_loss=1.49]\n",
            "   test: 100%|██████████| 79/79 [00:02<00:00, 37.34it/s, test_acc=92.385, test_loss=1.54]\n"
          ]
        },
        {
          "name": "stdout",
          "output_type": "stream",
          "text": [
            "EPOCH 137/150 :\n"
          ]
        },
        {
          "name": "stderr",
          "output_type": "stream",
          "text": [
            "  train: 100%|██████████| 469/469 [00:12<00:00, 39.06it/s, train_acc=97.496, train_loss=1.49]\n",
            "   test: 100%|██████████| 79/79 [00:02<00:00, 32.21it/s, test_acc=92.286, test_loss=1.54]\n"
          ]
        },
        {
          "name": "stdout",
          "output_type": "stream",
          "text": [
            "EPOCH 138/150 :\n"
          ]
        },
        {
          "name": "stderr",
          "output_type": "stream",
          "text": [
            "  train: 100%|██████████| 469/469 [00:11<00:00, 39.63it/s, train_acc=97.482, train_loss=1.49]\n",
            "   test: 100%|██████████| 79/79 [00:02<00:00, 32.43it/s, test_acc=91.248, test_loss=1.55]\n"
          ]
        },
        {
          "name": "stdout",
          "output_type": "stream",
          "text": [
            "EPOCH 139/150 :\n"
          ]
        },
        {
          "name": "stderr",
          "output_type": "stream",
          "text": [
            "  train: 100%|██████████| 469/469 [00:12<00:00, 38.67it/s, train_acc=97.594, train_loss=1.49]\n",
            "   test: 100%|██████████| 79/79 [00:02<00:00, 37.06it/s, test_acc=92.158, test_loss=1.54]\n"
          ]
        },
        {
          "name": "stdout",
          "output_type": "stream",
          "text": [
            "EPOCH 140/150 :\n"
          ]
        },
        {
          "name": "stderr",
          "output_type": "stream",
          "text": [
            "  train: 100%|██████████| 469/469 [00:12<00:00, 39.02it/s, train_acc=97.527, train_loss=1.49]\n",
            "   test: 100%|██████████| 79/79 [00:02<00:00, 37.33it/s, test_acc=91.050, test_loss=1.55]\n"
          ]
        },
        {
          "name": "stdout",
          "output_type": "stream",
          "text": [
            "EPOCH 141/150 :\n"
          ]
        },
        {
          "name": "stderr",
          "output_type": "stream",
          "text": [
            "  train: 100%|██████████| 469/469 [00:12<00:00, 38.52it/s, train_acc=97.568, train_loss=1.49]\n",
            "   test: 100%|██████████| 79/79 [00:02<00:00, 37.25it/s, test_acc=92.187, test_loss=1.54]\n"
          ]
        },
        {
          "name": "stdout",
          "output_type": "stream",
          "text": [
            "EPOCH 142/150 :\n"
          ]
        },
        {
          "name": "stderr",
          "output_type": "stream",
          "text": [
            "  train: 100%|██████████| 469/469 [00:12<00:00, 38.54it/s, train_acc=97.588, train_loss=1.49]\n",
            "   test: 100%|██████████| 79/79 [00:02<00:00, 33.98it/s, test_acc=92.237, test_loss=1.54]\n"
          ]
        },
        {
          "name": "stdout",
          "output_type": "stream",
          "text": [
            "EPOCH 143/150 :\n"
          ]
        },
        {
          "name": "stderr",
          "output_type": "stream",
          "text": [
            "  train: 100%|██████████| 469/469 [00:12<00:00, 38.53it/s, train_acc=97.631, train_loss=1.49]\n",
            "   test: 100%|██████████| 79/79 [00:02<00:00, 31.54it/s, test_acc=92.098, test_loss=1.54]\n"
          ]
        },
        {
          "name": "stdout",
          "output_type": "stream",
          "text": [
            "EPOCH 144/150 :\n"
          ]
        },
        {
          "name": "stderr",
          "output_type": "stream",
          "text": [
            "  train: 100%|██████████| 469/469 [00:11<00:00, 39.14it/s, train_acc=97.671, train_loss=1.49]\n",
            "   test: 100%|██████████| 79/79 [00:02<00:00, 37.84it/s, test_acc=91.960, test_loss=1.54]\n"
          ]
        },
        {
          "name": "stdout",
          "output_type": "stream",
          "text": [
            "EPOCH 145/150 :\n"
          ]
        },
        {
          "name": "stderr",
          "output_type": "stream",
          "text": [
            "  train: 100%|██████████| 469/469 [00:12<00:00, 38.70it/s, train_acc=97.636, train_loss=1.49]\n",
            "   test: 100%|██████████| 79/79 [00:02<00:00, 37.95it/s, test_acc=92.069, test_loss=1.54]\n"
          ]
        },
        {
          "name": "stdout",
          "output_type": "stream",
          "text": [
            "EPOCH 146/150 :\n"
          ]
        },
        {
          "name": "stderr",
          "output_type": "stream",
          "text": [
            "  train: 100%|██████████| 469/469 [00:11<00:00, 39.27it/s, train_acc=97.646, train_loss=1.49]\n",
            "   test: 100%|██████████| 79/79 [00:02<00:00, 37.54it/s, test_acc=92.257, test_loss=1.54]\n"
          ]
        },
        {
          "name": "stdout",
          "output_type": "stream",
          "text": [
            "EPOCH 147/150 :\n"
          ]
        },
        {
          "name": "stderr",
          "output_type": "stream",
          "text": [
            "  train: 100%|██████████| 469/469 [00:12<00:00, 38.31it/s, train_acc=97.621, train_loss=1.49]\n",
            "   test: 100%|██████████| 79/79 [00:02<00:00, 37.97it/s, test_acc=92.346, test_loss=1.54]\n"
          ]
        },
        {
          "name": "stdout",
          "output_type": "stream",
          "text": [
            "EPOCH 148/150 :\n"
          ]
        },
        {
          "name": "stderr",
          "output_type": "stream",
          "text": [
            "  train: 100%|██████████| 469/469 [00:12<00:00, 38.94it/s, train_acc=97.691, train_loss=1.49]\n",
            "   test: 100%|██████████| 79/79 [00:02<00:00, 32.12it/s, test_acc=92.534, test_loss=1.54]\n"
          ]
        },
        {
          "name": "stdout",
          "output_type": "stream",
          "text": [
            "EPOCH 149/150 :\n"
          ]
        },
        {
          "name": "stderr",
          "output_type": "stream",
          "text": [
            "  train: 100%|██████████| 469/469 [00:11<00:00, 39.33it/s, train_acc=97.750, train_loss=1.49]\n",
            "   test: 100%|██████████| 79/79 [00:02<00:00, 33.70it/s, test_acc=92.168, test_loss=1.54]\n"
          ]
        },
        {
          "name": "stdout",
          "output_type": "stream",
          "text": [
            "EPOCH 150/150 :\n"
          ]
        },
        {
          "name": "stderr",
          "output_type": "stream",
          "text": [
            "  train: 100%|██████████| 469/469 [00:12<00:00, 37.56it/s, train_acc=97.777, train_loss=1.48]\n",
            "   test: 100%|██████████| 79/79 [00:02<00:00, 26.78it/s, test_acc=92.128, test_loss=1.54]"
          ]
        },
        {
          "name": "stdout",
          "output_type": "stream",
          "text": [
            "\n",
            "\n",
            "Train time: 2116.589 seconds\n"
          ]
        },
        {
          "name": "stderr",
          "output_type": "stream",
          "text": [
            "\n"
          ]
        }
      ],
      "source": [
        "hparams = [\"FMNIST\", \"SCNNB\", 150]\n",
        "SCNNB_FMNIST_model, SCNNB_FMNIST_train_loss, SCNNB_FMNIST_train_accuracy, SCNNB_FMNIST_test_loss, SCNNB_FMNIST_test_accuracy = train(hparams ,FMNIST_train_dataloader, FMNIST_test_dataloader)"
      ]
    },
    {
      "cell_type": "code",
      "execution_count": 46,
      "metadata": {
        "colab": {
          "base_uri": "https://localhost:8080/"
        },
        "id": "Ce1yEibg-Nwm",
        "outputId": "18644cc3-bd52-4947-e03b-b472f9f5671a"
      },
      "outputs": [
        {
          "name": "stdout",
          "output_type": "stream",
          "text": [
            "Maximum Test Accuracy for SCNNB model is:  92.61274177215189\n"
          ]
        }
      ],
      "source": [
        "SCNNB_max_acc = max(SCNNB_FMNIST_test_accuracy)\n",
        "SCNNB_MEAN = sum(SCNNB_FMNIST_test_accuracy)/len(SCNNB_FMNIST_test_accuracy)\n",
        "print(\"Maximum Test Accuracy for SCNNB model is: \", str(SCNNB_max_acc))"
      ]
    },
    {
      "cell_type": "code",
      "execution_count": 47,
      "metadata": {
        "id": "1K4OXmd285Za"
      },
      "outputs": [],
      "source": [
        "torch.save(SCNNB_FMNIST_model.state_dict(), 'SCNNB_FMNIST')"
      ]
    },
    {
      "cell_type": "code",
      "execution_count": 35,
      "metadata": {
        "colab": {
          "base_uri": "https://localhost:8080/"
        },
        "id": "ag7qcRvH7-hI",
        "outputId": "c68d3337-5f19-49d2-e2b2-438dc89dbe16"
      },
      "outputs": [
        {
          "name": "stdout",
          "output_type": "stream",
          "text": [
            "training model is 'SCNNB-a'\n",
            "EPOCH 1/150 :\n"
          ]
        },
        {
          "name": "stderr",
          "output_type": "stream",
          "text": [
            "  train: 100%|██████████| 469/469 [00:11<00:00, 39.49it/s, train_acc=75.343, train_loss=1.72]\n",
            "   test: 100%|██████████| 79/79 [00:02<00:00, 39.34it/s, test_acc=80.241, test_loss=1.66]\n"
          ]
        },
        {
          "name": "stdout",
          "output_type": "stream",
          "text": [
            "EPOCH 2/150 :\n"
          ]
        },
        {
          "name": "stderr",
          "output_type": "stream",
          "text": [
            "  train: 100%|██████████| 469/469 [00:11<00:00, 39.57it/s, train_acc=81.885, train_loss=1.65]\n",
            "   test: 100%|██████████| 79/79 [00:02<00:00, 39.41it/s, test_acc=82.644, test_loss=1.64]\n"
          ]
        },
        {
          "name": "stdout",
          "output_type": "stream",
          "text": [
            "EPOCH 3/150 :\n"
          ]
        },
        {
          "name": "stderr",
          "output_type": "stream",
          "text": [
            "  train: 100%|██████████| 469/469 [00:11<00:00, 40.04it/s, train_acc=82.794, train_loss=1.63]\n",
            "   test: 100%|██████████| 79/79 [00:02<00:00, 39.43it/s, test_acc=82.585, test_loss=1.64]\n"
          ]
        },
        {
          "name": "stdout",
          "output_type": "stream",
          "text": [
            "EPOCH 4/150 :\n"
          ]
        },
        {
          "name": "stderr",
          "output_type": "stream",
          "text": [
            "  train: 100%|██████████| 469/469 [00:11<00:00, 39.49it/s, train_acc=83.304, train_loss=1.63]\n",
            "   test: 100%|██████████| 79/79 [00:02<00:00, 37.86it/s, test_acc=83.584, test_loss=1.63]\n"
          ]
        },
        {
          "name": "stdout",
          "output_type": "stream",
          "text": [
            "EPOCH 5/150 :\n"
          ]
        },
        {
          "name": "stderr",
          "output_type": "stream",
          "text": [
            "  train: 100%|██████████| 469/469 [00:11<00:00, 39.26it/s, train_acc=83.741, train_loss=1.62]\n",
            "   test: 100%|██████████| 79/79 [00:01<00:00, 39.99it/s, test_acc=83.327, test_loss=1.63]\n"
          ]
        },
        {
          "name": "stdout",
          "output_type": "stream",
          "text": [
            "EPOCH 6/150 :\n"
          ]
        },
        {
          "name": "stderr",
          "output_type": "stream",
          "text": [
            "  train: 100%|██████████| 469/469 [00:11<00:00, 39.89it/s, train_acc=84.028, train_loss=1.62]\n",
            "   test: 100%|██████████| 79/79 [00:02<00:00, 30.10it/s, test_acc=83.683, test_loss=1.63]\n"
          ]
        },
        {
          "name": "stdout",
          "output_type": "stream",
          "text": [
            "EPOCH 7/150 :\n"
          ]
        },
        {
          "name": "stderr",
          "output_type": "stream",
          "text": [
            "  train: 100%|██████████| 469/469 [00:11<00:00, 40.40it/s, train_acc=84.268, train_loss=1.62]\n",
            "   test: 100%|██████████| 79/79 [00:02<00:00, 36.44it/s, test_acc=83.505, test_loss=1.63]\n"
          ]
        },
        {
          "name": "stdout",
          "output_type": "stream",
          "text": [
            "EPOCH 8/150 :\n"
          ]
        },
        {
          "name": "stderr",
          "output_type": "stream",
          "text": [
            "  train: 100%|██████████| 469/469 [00:11<00:00, 40.28it/s, train_acc=84.263, train_loss=1.62]\n",
            "   test: 100%|██████████| 79/79 [00:02<00:00, 39.43it/s, test_acc=84.138, test_loss=1.62]\n"
          ]
        },
        {
          "name": "stdout",
          "output_type": "stream",
          "text": [
            "EPOCH 9/150 :\n"
          ]
        },
        {
          "name": "stderr",
          "output_type": "stream",
          "text": [
            "  train: 100%|██████████| 469/469 [00:12<00:00, 39.03it/s, train_acc=84.584, train_loss=1.62]\n",
            "   test: 100%|██████████| 79/79 [00:01<00:00, 39.87it/s, test_acc=83.109, test_loss=1.63]\n"
          ]
        },
        {
          "name": "stdout",
          "output_type": "stream",
          "text": [
            "EPOCH 10/150 :\n"
          ]
        },
        {
          "name": "stderr",
          "output_type": "stream",
          "text": [
            "  train: 100%|██████████| 469/469 [00:11<00:00, 39.98it/s, train_acc=84.759, train_loss=1.61]\n",
            "   test: 100%|██████████| 79/79 [00:02<00:00, 38.66it/s, test_acc=84.424, test_loss=1.62]\n"
          ]
        },
        {
          "name": "stdout",
          "output_type": "stream",
          "text": [
            "EPOCH 11/150 :\n"
          ]
        },
        {
          "name": "stderr",
          "output_type": "stream",
          "text": [
            "  train: 100%|██████████| 469/469 [00:11<00:00, 39.52it/s, train_acc=84.796, train_loss=1.61]\n",
            "   test: 100%|██████████| 79/79 [00:02<00:00, 39.04it/s, test_acc=84.553, test_loss=1.61]\n"
          ]
        },
        {
          "name": "stdout",
          "output_type": "stream",
          "text": [
            "EPOCH 12/150 :\n"
          ]
        },
        {
          "name": "stderr",
          "output_type": "stream",
          "text": [
            "  train: 100%|██████████| 469/469 [00:11<00:00, 39.91it/s, train_acc=85.099, train_loss=1.61]\n",
            "   test: 100%|██████████| 79/79 [00:02<00:00, 34.64it/s, test_acc=84.059, test_loss=1.62]\n"
          ]
        },
        {
          "name": "stdout",
          "output_type": "stream",
          "text": [
            "EPOCH 13/150 :\n"
          ]
        },
        {
          "name": "stderr",
          "output_type": "stream",
          "text": [
            "  train: 100%|██████████| 469/469 [00:11<00:00, 40.19it/s, train_acc=85.122, train_loss=1.61]\n",
            "   test: 100%|██████████| 79/79 [00:02<00:00, 31.08it/s, test_acc=84.612, test_loss=1.62]\n"
          ]
        },
        {
          "name": "stdout",
          "output_type": "stream",
          "text": [
            "EPOCH 14/150 :\n"
          ]
        },
        {
          "name": "stderr",
          "output_type": "stream",
          "text": [
            "  train: 100%|██████████| 469/469 [00:11<00:00, 39.79it/s, train_acc=85.238, train_loss=1.61]\n",
            "   test: 100%|██████████| 79/79 [00:02<00:00, 39.44it/s, test_acc=84.583, test_loss=1.62]\n"
          ]
        },
        {
          "name": "stdout",
          "output_type": "stream",
          "text": [
            "EPOCH 15/150 :\n"
          ]
        },
        {
          "name": "stderr",
          "output_type": "stream",
          "text": [
            "  train: 100%|██████████| 469/469 [00:11<00:00, 39.46it/s, train_acc=85.426, train_loss=1.61]\n",
            "   test: 100%|██████████| 79/79 [00:02<00:00, 38.94it/s, test_acc=84.790, test_loss=1.61]\n"
          ]
        },
        {
          "name": "stdout",
          "output_type": "stream",
          "text": [
            "EPOCH 16/150 :\n"
          ]
        },
        {
          "name": "stderr",
          "output_type": "stream",
          "text": [
            "  train: 100%|██████████| 469/469 [00:11<00:00, 39.85it/s, train_acc=85.492, train_loss=1.61]\n",
            "   test: 100%|██████████| 79/79 [00:02<00:00, 39.35it/s, test_acc=84.652, test_loss=1.61]\n"
          ]
        },
        {
          "name": "stdout",
          "output_type": "stream",
          "text": [
            "EPOCH 17/150 :\n"
          ]
        },
        {
          "name": "stderr",
          "output_type": "stream",
          "text": [
            "  train: 100%|██████████| 469/469 [00:11<00:00, 39.41it/s, train_acc=85.502, train_loss=1.61]\n",
            "   test: 100%|██████████| 79/79 [00:02<00:00, 37.74it/s, test_acc=85.028, test_loss=1.61]\n"
          ]
        },
        {
          "name": "stdout",
          "output_type": "stream",
          "text": [
            "EPOCH 18/150 :\n"
          ]
        },
        {
          "name": "stderr",
          "output_type": "stream",
          "text": [
            "  train: 100%|██████████| 469/469 [00:12<00:00, 38.42it/s, train_acc=85.539, train_loss=1.61]\n",
            "   test: 100%|██████████| 79/79 [00:02<00:00, 34.72it/s, test_acc=83.881, test_loss=1.62]\n"
          ]
        },
        {
          "name": "stdout",
          "output_type": "stream",
          "text": [
            "EPOCH 19/150 :\n"
          ]
        },
        {
          "name": "stderr",
          "output_type": "stream",
          "text": [
            "  train: 100%|██████████| 469/469 [00:11<00:00, 39.75it/s, train_acc=85.763, train_loss=1.6]\n",
            "   test: 100%|██████████| 79/79 [00:02<00:00, 32.82it/s, test_acc=85.433, test_loss=1.61]\n"
          ]
        },
        {
          "name": "stdout",
          "output_type": "stream",
          "text": [
            "EPOCH 20/150 :\n"
          ]
        },
        {
          "name": "stderr",
          "output_type": "stream",
          "text": [
            "  train: 100%|██████████| 469/469 [00:11<00:00, 39.10it/s, train_acc=85.829, train_loss=1.6]\n",
            "   test: 100%|██████████| 79/79 [00:02<00:00, 38.55it/s, test_acc=85.018, test_loss=1.61]\n"
          ]
        },
        {
          "name": "stdout",
          "output_type": "stream",
          "text": [
            "EPOCH 21/150 :\n"
          ]
        },
        {
          "name": "stderr",
          "output_type": "stream",
          "text": [
            "  train: 100%|██████████| 469/469 [00:11<00:00, 39.61it/s, train_acc=85.891, train_loss=1.6]\n",
            "   test: 100%|██████████| 79/79 [00:02<00:00, 39.01it/s, test_acc=84.889, test_loss=1.61]\n"
          ]
        },
        {
          "name": "stdout",
          "output_type": "stream",
          "text": [
            "EPOCH 22/150 :\n"
          ]
        },
        {
          "name": "stderr",
          "output_type": "stream",
          "text": [
            "  train: 100%|██████████| 469/469 [00:11<00:00, 39.33it/s, train_acc=86.026, train_loss=1.6]\n",
            "   test: 100%|██████████| 79/79 [00:02<00:00, 39.43it/s, test_acc=84.968, test_loss=1.61]\n"
          ]
        },
        {
          "name": "stdout",
          "output_type": "stream",
          "text": [
            "EPOCH 23/150 :\n"
          ]
        },
        {
          "name": "stderr",
          "output_type": "stream",
          "text": [
            "  train: 100%|██████████| 469/469 [00:11<00:00, 39.91it/s, train_acc=86.082, train_loss=1.6]\n",
            "   test: 100%|██████████| 79/79 [00:01<00:00, 40.02it/s, test_acc=85.127, test_loss=1.61]\n"
          ]
        },
        {
          "name": "stdout",
          "output_type": "stream",
          "text": [
            "EPOCH 24/150 :\n"
          ]
        },
        {
          "name": "stderr",
          "output_type": "stream",
          "text": [
            "  train: 100%|██████████| 469/469 [00:11<00:00, 39.64it/s, train_acc=86.129, train_loss=1.6]\n",
            "   test: 100%|██████████| 79/79 [00:02<00:00, 37.00it/s, test_acc=85.117, test_loss=1.61]\n"
          ]
        },
        {
          "name": "stdout",
          "output_type": "stream",
          "text": [
            "EPOCH 25/150 :\n"
          ]
        },
        {
          "name": "stderr",
          "output_type": "stream",
          "text": [
            "  train: 100%|██████████| 469/469 [00:11<00:00, 40.68it/s, train_acc=86.116, train_loss=1.6]\n",
            "   test: 100%|██████████| 79/79 [00:02<00:00, 30.59it/s, test_acc=85.166, test_loss=1.61]\n"
          ]
        },
        {
          "name": "stdout",
          "output_type": "stream",
          "text": [
            "EPOCH 26/150 :\n"
          ]
        },
        {
          "name": "stderr",
          "output_type": "stream",
          "text": [
            "  train: 100%|██████████| 469/469 [00:11<00:00, 39.14it/s, train_acc=86.170, train_loss=1.6]\n",
            "   test: 100%|██████████| 79/79 [00:02<00:00, 39.30it/s, test_acc=84.771, test_loss=1.61]\n"
          ]
        },
        {
          "name": "stdout",
          "output_type": "stream",
          "text": [
            "EPOCH 27/150 :\n"
          ]
        },
        {
          "name": "stderr",
          "output_type": "stream",
          "text": [
            "  train: 100%|██████████| 469/469 [00:11<00:00, 40.14it/s, train_acc=88.030, train_loss=1.58]\n",
            "   test: 100%|██████████| 79/79 [00:01<00:00, 39.76it/s, test_acc=88.884, test_loss=1.57]\n"
          ]
        },
        {
          "name": "stdout",
          "output_type": "stream",
          "text": [
            "EPOCH 28/150 :\n"
          ]
        },
        {
          "name": "stderr",
          "output_type": "stream",
          "text": [
            "  train: 100%|██████████| 469/469 [00:11<00:00, 39.75it/s, train_acc=89.888, train_loss=1.56]\n",
            "   test: 100%|██████████| 79/79 [00:02<00:00, 38.87it/s, test_acc=89.310, test_loss=1.57]\n"
          ]
        },
        {
          "name": "stdout",
          "output_type": "stream",
          "text": [
            "EPOCH 29/150 :\n"
          ]
        },
        {
          "name": "stderr",
          "output_type": "stream",
          "text": [
            "  train: 100%|██████████| 469/469 [00:11<00:00, 39.78it/s, train_acc=90.495, train_loss=1.56]\n",
            "   test: 100%|██████████| 79/79 [00:02<00:00, 39.40it/s, test_acc=88.786, test_loss=1.57]\n"
          ]
        },
        {
          "name": "stdout",
          "output_type": "stream",
          "text": [
            "EPOCH 30/150 :\n"
          ]
        },
        {
          "name": "stderr",
          "output_type": "stream",
          "text": [
            "  train: 100%|██████████| 469/469 [00:11<00:00, 40.00it/s, train_acc=90.697, train_loss=1.56]\n",
            "   test: 100%|██████████| 79/79 [00:02<00:00, 36.44it/s, test_acc=89.359, test_loss=1.57]\n"
          ]
        },
        {
          "name": "stdout",
          "output_type": "stream",
          "text": [
            "EPOCH 31/150 :\n"
          ]
        },
        {
          "name": "stderr",
          "output_type": "stream",
          "text": [
            "  train: 100%|██████████| 469/469 [00:11<00:00, 39.28it/s, train_acc=90.894, train_loss=1.55]\n",
            "   test: 100%|██████████| 79/79 [00:02<00:00, 33.18it/s, test_acc=89.824, test_loss=1.56]\n"
          ]
        },
        {
          "name": "stdout",
          "output_type": "stream",
          "text": [
            "EPOCH 32/150 :\n"
          ]
        },
        {
          "name": "stderr",
          "output_type": "stream",
          "text": [
            "  train: 100%|██████████| 469/469 [00:11<00:00, 40.78it/s, train_acc=91.156, train_loss=1.55]\n",
            "   test: 100%|██████████| 79/79 [00:02<00:00, 34.42it/s, test_acc=89.913, test_loss=1.56]\n"
          ]
        },
        {
          "name": "stdout",
          "output_type": "stream",
          "text": [
            "EPOCH 33/150 :\n"
          ]
        },
        {
          "name": "stderr",
          "output_type": "stream",
          "text": [
            "  train: 100%|██████████| 469/469 [00:11<00:00, 39.86it/s, train_acc=91.557, train_loss=1.55]\n",
            "   test: 100%|██████████| 79/79 [00:02<00:00, 38.25it/s, test_acc=90.309, test_loss=1.56]\n"
          ]
        },
        {
          "name": "stdout",
          "output_type": "stream",
          "text": [
            "EPOCH 34/150 :\n"
          ]
        },
        {
          "name": "stderr",
          "output_type": "stream",
          "text": [
            "  train: 100%|██████████| 469/469 [00:11<00:00, 39.90it/s, train_acc=91.515, train_loss=1.55]\n",
            "   test: 100%|██████████| 79/79 [00:02<00:00, 38.84it/s, test_acc=90.032, test_loss=1.56]\n"
          ]
        },
        {
          "name": "stdout",
          "output_type": "stream",
          "text": [
            "EPOCH 35/150 :\n"
          ]
        },
        {
          "name": "stderr",
          "output_type": "stream",
          "text": [
            "  train: 100%|██████████| 469/469 [00:12<00:00, 38.99it/s, train_acc=91.736, train_loss=1.54]\n",
            "   test: 100%|██████████| 79/79 [00:02<00:00, 39.17it/s, test_acc=88.538, test_loss=1.58]\n"
          ]
        },
        {
          "name": "stdout",
          "output_type": "stream",
          "text": [
            "EPOCH 36/150 :\n"
          ]
        },
        {
          "name": "stderr",
          "output_type": "stream",
          "text": [
            "  train: 100%|██████████| 469/469 [00:11<00:00, 40.20it/s, train_acc=91.972, train_loss=1.54]\n",
            "   test: 100%|██████████| 79/79 [00:02<00:00, 39.30it/s, test_acc=89.686, test_loss=1.56]\n"
          ]
        },
        {
          "name": "stdout",
          "output_type": "stream",
          "text": [
            "EPOCH 37/150 :\n"
          ]
        },
        {
          "name": "stderr",
          "output_type": "stream",
          "text": [
            "  train: 100%|██████████| 469/469 [00:11<00:00, 39.51it/s, train_acc=92.106, train_loss=1.54]\n",
            "   test: 100%|██████████| 79/79 [00:02<00:00, 37.81it/s, test_acc=90.190, test_loss=1.56]\n"
          ]
        },
        {
          "name": "stdout",
          "output_type": "stream",
          "text": [
            "EPOCH 38/150 :\n"
          ]
        },
        {
          "name": "stderr",
          "output_type": "stream",
          "text": [
            "  train: 100%|██████████| 469/469 [00:11<00:00, 40.19it/s, train_acc=92.096, train_loss=1.54]\n",
            "   test: 100%|██████████| 79/79 [00:02<00:00, 30.56it/s, test_acc=90.645, test_loss=1.56]\n"
          ]
        },
        {
          "name": "stdout",
          "output_type": "stream",
          "text": [
            "EPOCH 39/150 :\n"
          ]
        },
        {
          "name": "stderr",
          "output_type": "stream",
          "text": [
            "  train: 100%|██████████| 469/469 [00:12<00:00, 38.89it/s, train_acc=92.207, train_loss=1.54]\n",
            "   test: 100%|██████████| 79/79 [00:02<00:00, 38.22it/s, test_acc=90.843, test_loss=1.55]\n"
          ]
        },
        {
          "name": "stdout",
          "output_type": "stream",
          "text": [
            "EPOCH 40/150 :\n"
          ]
        },
        {
          "name": "stderr",
          "output_type": "stream",
          "text": [
            "  train: 100%|██████████| 469/469 [00:11<00:00, 39.19it/s, train_acc=92.237, train_loss=1.54]\n",
            "   test: 100%|██████████| 79/79 [00:02<00:00, 38.41it/s, test_acc=90.022, test_loss=1.56]\n"
          ]
        },
        {
          "name": "stdout",
          "output_type": "stream",
          "text": [
            "EPOCH 41/150 :\n"
          ]
        },
        {
          "name": "stderr",
          "output_type": "stream",
          "text": [
            "  train: 100%|██████████| 469/469 [00:11<00:00, 39.91it/s, train_acc=92.543, train_loss=1.54]\n",
            "   test: 100%|██████████| 79/79 [00:02<00:00, 38.75it/s, test_acc=90.447, test_loss=1.56]\n"
          ]
        },
        {
          "name": "stdout",
          "output_type": "stream",
          "text": [
            "EPOCH 42/150 :\n"
          ]
        },
        {
          "name": "stderr",
          "output_type": "stream",
          "text": [
            "  train: 100%|██████████| 469/469 [00:11<00:00, 39.41it/s, train_acc=92.715, train_loss=1.53]\n",
            "   test: 100%|██████████| 79/79 [00:02<00:00, 38.78it/s, test_acc=91.090, test_loss=1.55]\n"
          ]
        },
        {
          "name": "stdout",
          "output_type": "stream",
          "text": [
            "EPOCH 43/150 :\n"
          ]
        },
        {
          "name": "stderr",
          "output_type": "stream",
          "text": [
            "  train: 100%|██████████| 469/469 [00:11<00:00, 39.19it/s, train_acc=92.834, train_loss=1.53]\n",
            "   test: 100%|██████████| 79/79 [00:02<00:00, 38.83it/s, test_acc=91.021, test_loss=1.55]\n"
          ]
        },
        {
          "name": "stdout",
          "output_type": "stream",
          "text": [
            "EPOCH 44/150 :\n"
          ]
        },
        {
          "name": "stderr",
          "output_type": "stream",
          "text": [
            "  train: 100%|██████████| 469/469 [00:11<00:00, 39.38it/s, train_acc=92.833, train_loss=1.53]\n",
            "   test: 100%|██████████| 79/79 [00:02<00:00, 30.13it/s, test_acc=90.724, test_loss=1.55]\n"
          ]
        },
        {
          "name": "stdout",
          "output_type": "stream",
          "text": [
            "EPOCH 45/150 :\n"
          ]
        },
        {
          "name": "stderr",
          "output_type": "stream",
          "text": [
            "  train: 100%|██████████| 469/469 [00:11<00:00, 39.95it/s, train_acc=93.015, train_loss=1.53]\n",
            "   test: 100%|██████████| 79/79 [00:02<00:00, 38.16it/s, test_acc=87.391, test_loss=1.59]\n"
          ]
        },
        {
          "name": "stdout",
          "output_type": "stream",
          "text": [
            "EPOCH 46/150 :\n"
          ]
        },
        {
          "name": "stderr",
          "output_type": "stream",
          "text": [
            "  train: 100%|██████████| 469/469 [00:11<00:00, 39.41it/s, train_acc=92.958, train_loss=1.53]\n",
            "   test: 100%|██████████| 79/79 [00:02<00:00, 38.20it/s, test_acc=90.427, test_loss=1.56]\n"
          ]
        },
        {
          "name": "stdout",
          "output_type": "stream",
          "text": [
            "EPOCH 47/150 :\n"
          ]
        },
        {
          "name": "stderr",
          "output_type": "stream",
          "text": [
            "  train: 100%|██████████| 469/469 [00:11<00:00, 39.91it/s, train_acc=93.214, train_loss=1.53]\n",
            "   test: 100%|██████████| 79/79 [00:02<00:00, 36.82it/s, test_acc=89.834, test_loss=1.56]\n"
          ]
        },
        {
          "name": "stdout",
          "output_type": "stream",
          "text": [
            "EPOCH 48/150 :\n"
          ]
        },
        {
          "name": "stderr",
          "output_type": "stream",
          "text": [
            "  train: 100%|██████████| 469/469 [00:11<00:00, 39.42it/s, train_acc=93.058, train_loss=1.53]\n",
            "   test: 100%|██████████| 79/79 [00:02<00:00, 39.26it/s, test_acc=90.941, test_loss=1.55]\n"
          ]
        },
        {
          "name": "stdout",
          "output_type": "stream",
          "text": [
            "EPOCH 49/150 :\n"
          ]
        },
        {
          "name": "stderr",
          "output_type": "stream",
          "text": [
            "  train: 100%|██████████| 469/469 [00:11<00:00, 40.32it/s, train_acc=93.255, train_loss=1.53]\n",
            "   test: 100%|██████████| 79/79 [00:02<00:00, 39.36it/s, test_acc=89.844, test_loss=1.56]\n"
          ]
        },
        {
          "name": "stdout",
          "output_type": "stream",
          "text": [
            "EPOCH 50/150 :\n"
          ]
        },
        {
          "name": "stderr",
          "output_type": "stream",
          "text": [
            "  train: 100%|██████████| 469/469 [00:11<00:00, 39.76it/s, train_acc=93.505, train_loss=1.53]\n",
            "   test: 100%|██████████| 79/79 [00:02<00:00, 31.92it/s, test_acc=91.228, test_loss=1.55]\n"
          ]
        },
        {
          "name": "stdout",
          "output_type": "stream",
          "text": [
            "EPOCH 51/150 :\n"
          ]
        },
        {
          "name": "stderr",
          "output_type": "stream",
          "text": [
            "  train: 100%|██████████| 469/469 [00:11<00:00, 39.98it/s, train_acc=93.538, train_loss=1.53]\n",
            "   test: 100%|██████████| 79/79 [00:02<00:00, 34.16it/s, test_acc=90.813, test_loss=1.55]\n"
          ]
        },
        {
          "name": "stdout",
          "output_type": "stream",
          "text": [
            "EPOCH 52/150 :\n"
          ]
        },
        {
          "name": "stderr",
          "output_type": "stream",
          "text": [
            "  train: 100%|██████████| 469/469 [00:11<00:00, 39.21it/s, train_acc=93.655, train_loss=1.53]\n",
            "   test: 100%|██████████| 79/79 [00:02<00:00, 37.65it/s, test_acc=91.110, test_loss=1.55]\n"
          ]
        },
        {
          "name": "stdout",
          "output_type": "stream",
          "text": [
            "EPOCH 53/150 :\n"
          ]
        },
        {
          "name": "stderr",
          "output_type": "stream",
          "text": [
            "  train: 100%|██████████| 469/469 [00:11<00:00, 40.09it/s, train_acc=93.678, train_loss=1.53]\n",
            "   test: 100%|██████████| 79/79 [00:02<00:00, 39.33it/s, test_acc=90.200, test_loss=1.56]\n"
          ]
        },
        {
          "name": "stdout",
          "output_type": "stream",
          "text": [
            "EPOCH 54/150 :\n"
          ]
        },
        {
          "name": "stderr",
          "output_type": "stream",
          "text": [
            "  train: 100%|██████████| 469/469 [00:11<00:00, 39.85it/s, train_acc=93.842, train_loss=1.52]\n",
            "   test: 100%|██████████| 79/79 [00:02<00:00, 38.73it/s, test_acc=91.278, test_loss=1.55]\n"
          ]
        },
        {
          "name": "stdout",
          "output_type": "stream",
          "text": [
            "EPOCH 55/150 :\n"
          ]
        },
        {
          "name": "stderr",
          "output_type": "stream",
          "text": [
            "  train: 100%|██████████| 469/469 [00:11<00:00, 39.63it/s, train_acc=93.843, train_loss=1.52]\n",
            "   test: 100%|██████████| 79/79 [00:02<00:00, 38.06it/s, test_acc=91.446, test_loss=1.55]\n"
          ]
        },
        {
          "name": "stdout",
          "output_type": "stream",
          "text": [
            "EPOCH 56/150 :\n"
          ]
        },
        {
          "name": "stderr",
          "output_type": "stream",
          "text": [
            "  train: 100%|██████████| 469/469 [00:11<00:00, 39.52it/s, train_acc=93.854, train_loss=1.52]\n",
            "   test: 100%|██████████| 79/79 [00:02<00:00, 35.28it/s, test_acc=91.307, test_loss=1.55]\n"
          ]
        },
        {
          "name": "stdout",
          "output_type": "stream",
          "text": [
            "EPOCH 57/150 :\n"
          ]
        },
        {
          "name": "stderr",
          "output_type": "stream",
          "text": [
            "  train: 100%|██████████| 469/469 [00:11<00:00, 39.64it/s, train_acc=94.009, train_loss=1.52]\n",
            "   test: 100%|██████████| 79/79 [00:02<00:00, 32.32it/s, test_acc=91.189, test_loss=1.55]\n"
          ]
        },
        {
          "name": "stdout",
          "output_type": "stream",
          "text": [
            "EPOCH 58/150 :\n"
          ]
        },
        {
          "name": "stderr",
          "output_type": "stream",
          "text": [
            "  train: 100%|██████████| 469/469 [00:11<00:00, 39.71it/s, train_acc=94.053, train_loss=1.52]\n",
            "   test: 100%|██████████| 79/79 [00:02<00:00, 38.56it/s, test_acc=91.258, test_loss=1.55]\n"
          ]
        },
        {
          "name": "stdout",
          "output_type": "stream",
          "text": [
            "EPOCH 59/150 :\n"
          ]
        },
        {
          "name": "stderr",
          "output_type": "stream",
          "text": [
            "  train: 100%|██████████| 469/469 [00:11<00:00, 39.49it/s, train_acc=94.163, train_loss=1.52]\n",
            "   test: 100%|██████████| 79/79 [00:02<00:00, 38.78it/s, test_acc=91.673, test_loss=1.54]\n"
          ]
        },
        {
          "name": "stdout",
          "output_type": "stream",
          "text": [
            "EPOCH 60/150 :\n"
          ]
        },
        {
          "name": "stderr",
          "output_type": "stream",
          "text": [
            "  train: 100%|██████████| 469/469 [00:11<00:00, 39.45it/s, train_acc=94.134, train_loss=1.52]\n",
            "   test: 100%|██████████| 79/79 [00:02<00:00, 37.27it/s, test_acc=90.991, test_loss=1.55]\n"
          ]
        },
        {
          "name": "stdout",
          "output_type": "stream",
          "text": [
            "EPOCH 61/150 :\n"
          ]
        },
        {
          "name": "stderr",
          "output_type": "stream",
          "text": [
            "  train: 100%|██████████| 469/469 [00:11<00:00, 39.54it/s, train_acc=94.271, train_loss=1.52]\n",
            "   test: 100%|██████████| 79/79 [00:02<00:00, 37.97it/s, test_acc=90.674, test_loss=1.55]\n"
          ]
        },
        {
          "name": "stdout",
          "output_type": "stream",
          "text": [
            "EPOCH 62/150 :\n"
          ]
        },
        {
          "name": "stderr",
          "output_type": "stream",
          "text": [
            "  train: 100%|██████████| 469/469 [00:11<00:00, 39.77it/s, train_acc=94.338, train_loss=1.52]\n",
            "   test: 100%|██████████| 79/79 [00:02<00:00, 35.12it/s, test_acc=91.297, test_loss=1.55]\n"
          ]
        },
        {
          "name": "stdout",
          "output_type": "stream",
          "text": [
            "EPOCH 63/150 :\n"
          ]
        },
        {
          "name": "stderr",
          "output_type": "stream",
          "text": [
            "  train: 100%|██████████| 469/469 [00:11<00:00, 39.86it/s, train_acc=94.319, train_loss=1.52]\n",
            "   test: 100%|██████████| 79/79 [00:02<00:00, 29.76it/s, test_acc=91.505, test_loss=1.55]\n"
          ]
        },
        {
          "name": "stdout",
          "output_type": "stream",
          "text": [
            "EPOCH 64/150 :\n"
          ]
        },
        {
          "name": "stderr",
          "output_type": "stream",
          "text": [
            "  train: 100%|██████████| 469/469 [00:11<00:00, 39.41it/s, train_acc=94.633, train_loss=1.52]\n",
            "   test: 100%|██████████| 79/79 [00:02<00:00, 36.11it/s, test_acc=91.149, test_loss=1.55]\n"
          ]
        },
        {
          "name": "stdout",
          "output_type": "stream",
          "text": [
            "EPOCH 65/150 :\n"
          ]
        },
        {
          "name": "stderr",
          "output_type": "stream",
          "text": [
            "  train: 100%|██████████| 469/469 [00:11<00:00, 39.98it/s, train_acc=94.586, train_loss=1.52]\n",
            "   test: 100%|██████████| 79/79 [00:02<00:00, 38.73it/s, test_acc=91.475, test_loss=1.55]\n"
          ]
        },
        {
          "name": "stdout",
          "output_type": "stream",
          "text": [
            "EPOCH 66/150 :\n"
          ]
        },
        {
          "name": "stderr",
          "output_type": "stream",
          "text": [
            "  train: 100%|██████████| 469/469 [00:11<00:00, 39.62it/s, train_acc=94.641, train_loss=1.52]\n",
            "   test: 100%|██████████| 79/79 [00:02<00:00, 38.63it/s, test_acc=90.971, test_loss=1.55]\n"
          ]
        },
        {
          "name": "stdout",
          "output_type": "stream",
          "text": [
            "EPOCH 67/150 :\n"
          ]
        },
        {
          "name": "stderr",
          "output_type": "stream",
          "text": [
            "  train: 100%|██████████| 469/469 [00:11<00:00, 39.91it/s, train_acc=94.743, train_loss=1.52]\n",
            "   test: 100%|██████████| 79/79 [00:02<00:00, 38.34it/s, test_acc=91.396, test_loss=1.55]\n"
          ]
        },
        {
          "name": "stdout",
          "output_type": "stream",
          "text": [
            "EPOCH 68/150 :\n"
          ]
        },
        {
          "name": "stderr",
          "output_type": "stream",
          "text": [
            "  train: 100%|██████████| 469/469 [00:12<00:00, 38.97it/s, train_acc=94.807, train_loss=1.51]\n",
            "   test: 100%|██████████| 79/79 [00:02<00:00, 38.55it/s, test_acc=91.248, test_loss=1.55]\n"
          ]
        },
        {
          "name": "stdout",
          "output_type": "stream",
          "text": [
            "EPOCH 69/150 :\n"
          ]
        },
        {
          "name": "stderr",
          "output_type": "stream",
          "text": [
            "  train: 100%|██████████| 469/469 [00:11<00:00, 39.28it/s, train_acc=94.823, train_loss=1.51]\n",
            "   test: 100%|██████████| 79/79 [00:02<00:00, 29.82it/s, test_acc=91.199, test_loss=1.55]\n"
          ]
        },
        {
          "name": "stdout",
          "output_type": "stream",
          "text": [
            "EPOCH 70/150 :\n"
          ]
        },
        {
          "name": "stderr",
          "output_type": "stream",
          "text": [
            "  train: 100%|██████████| 469/469 [00:11<00:00, 39.33it/s, train_acc=94.798, train_loss=1.51]\n",
            "   test: 100%|██████████| 79/79 [00:02<00:00, 38.69it/s, test_acc=91.772, test_loss=1.54]\n"
          ]
        },
        {
          "name": "stdout",
          "output_type": "stream",
          "text": [
            "EPOCH 71/150 :\n"
          ]
        },
        {
          "name": "stderr",
          "output_type": "stream",
          "text": [
            "  train: 100%|██████████| 469/469 [00:11<00:00, 40.05it/s, train_acc=94.882, train_loss=1.51]\n",
            "   test: 100%|██████████| 79/79 [00:02<00:00, 38.60it/s, test_acc=91.475, test_loss=1.55]\n"
          ]
        },
        {
          "name": "stdout",
          "output_type": "stream",
          "text": [
            "EPOCH 72/150 :\n"
          ]
        },
        {
          "name": "stderr",
          "output_type": "stream",
          "text": [
            "  train: 100%|██████████| 469/469 [00:11<00:00, 39.54it/s, train_acc=94.993, train_loss=1.51]\n",
            "   test: 100%|██████████| 79/79 [00:02<00:00, 38.28it/s, test_acc=90.882, test_loss=1.55]\n"
          ]
        },
        {
          "name": "stdout",
          "output_type": "stream",
          "text": [
            "EPOCH 73/150 :\n"
          ]
        },
        {
          "name": "stderr",
          "output_type": "stream",
          "text": [
            "  train: 100%|██████████| 469/469 [00:11<00:00, 39.43it/s, train_acc=95.007, train_loss=1.51]\n",
            "   test: 100%|██████████| 79/79 [00:02<00:00, 39.33it/s, test_acc=91.831, test_loss=1.54]\n"
          ]
        },
        {
          "name": "stdout",
          "output_type": "stream",
          "text": [
            "EPOCH 74/150 :\n"
          ]
        },
        {
          "name": "stderr",
          "output_type": "stream",
          "text": [
            "  train: 100%|██████████| 469/469 [00:11<00:00, 39.38it/s, train_acc=95.155, train_loss=1.51]\n",
            "   test: 100%|██████████| 79/79 [00:02<00:00, 37.33it/s, test_acc=91.555, test_loss=1.55]\n"
          ]
        },
        {
          "name": "stdout",
          "output_type": "stream",
          "text": [
            "EPOCH 75/150 :\n"
          ]
        },
        {
          "name": "stderr",
          "output_type": "stream",
          "text": [
            "  train: 100%|██████████| 469/469 [00:11<00:00, 39.79it/s, train_acc=95.215, train_loss=1.51]\n",
            "   test: 100%|██████████| 79/79 [00:02<00:00, 30.19it/s, test_acc=91.752, test_loss=1.54]\n"
          ]
        },
        {
          "name": "stdout",
          "output_type": "stream",
          "text": [
            "EPOCH 76/150 :\n"
          ]
        },
        {
          "name": "stderr",
          "output_type": "stream",
          "text": [
            "  train: 100%|██████████| 469/469 [00:11<00:00, 40.64it/s, train_acc=95.082, train_loss=1.51]\n",
            "   test: 100%|██████████| 79/79 [00:02<00:00, 34.61it/s, test_acc=92.098, test_loss=1.54]\n"
          ]
        },
        {
          "name": "stdout",
          "output_type": "stream",
          "text": [
            "EPOCH 77/150 :\n"
          ]
        },
        {
          "name": "stderr",
          "output_type": "stream",
          "text": [
            "  train: 100%|██████████| 469/469 [00:12<00:00, 39.00it/s, train_acc=95.215, train_loss=1.51]\n",
            "   test: 100%|██████████| 79/79 [00:02<00:00, 39.01it/s, test_acc=91.812, test_loss=1.54]\n"
          ]
        },
        {
          "name": "stdout",
          "output_type": "stream",
          "text": [
            "EPOCH 78/150 :\n"
          ]
        },
        {
          "name": "stderr",
          "output_type": "stream",
          "text": [
            "  train: 100%|██████████| 469/469 [00:11<00:00, 40.03it/s, train_acc=95.319, train_loss=1.51]\n",
            "   test: 100%|██████████| 79/79 [00:02<00:00, 38.70it/s, test_acc=91.673, test_loss=1.55]\n"
          ]
        },
        {
          "name": "stdout",
          "output_type": "stream",
          "text": [
            "EPOCH 79/150 :\n"
          ]
        },
        {
          "name": "stderr",
          "output_type": "stream",
          "text": [
            "  train: 100%|██████████| 469/469 [00:11<00:00, 39.76it/s, train_acc=95.467, train_loss=1.51]\n",
            "   test: 100%|██████████| 79/79 [00:02<00:00, 38.94it/s, test_acc=91.970, test_loss=1.54]\n"
          ]
        },
        {
          "name": "stdout",
          "output_type": "stream",
          "text": [
            "EPOCH 80/150 :\n"
          ]
        },
        {
          "name": "stderr",
          "output_type": "stream",
          "text": [
            "  train: 100%|██████████| 469/469 [00:11<00:00, 39.65it/s, train_acc=95.372, train_loss=1.51]\n",
            "   test: 100%|██████████| 79/79 [00:02<00:00, 38.18it/s, test_acc=90.981, test_loss=1.55]\n"
          ]
        },
        {
          "name": "stdout",
          "output_type": "stream",
          "text": [
            "EPOCH 81/150 :\n"
          ]
        },
        {
          "name": "stderr",
          "output_type": "stream",
          "text": [
            "  train: 100%|██████████| 469/469 [00:11<00:00, 39.52it/s, train_acc=95.320, train_loss=1.51]\n",
            "   test: 100%|██████████| 79/79 [00:02<00:00, 33.07it/s, test_acc=91.822, test_loss=1.54]\n"
          ]
        },
        {
          "name": "stdout",
          "output_type": "stream",
          "text": [
            "EPOCH 82/150 :\n"
          ]
        },
        {
          "name": "stderr",
          "output_type": "stream",
          "text": [
            "  train: 100%|██████████| 469/469 [00:11<00:00, 39.15it/s, train_acc=95.490, train_loss=1.51]\n",
            "   test: 100%|██████████| 79/79 [00:02<00:00, 34.09it/s, test_acc=90.358, test_loss=1.56]\n"
          ]
        },
        {
          "name": "stdout",
          "output_type": "stream",
          "text": [
            "EPOCH 83/150 :\n"
          ]
        },
        {
          "name": "stderr",
          "output_type": "stream",
          "text": [
            "  train: 100%|██████████| 469/469 [00:11<00:00, 39.86it/s, train_acc=95.567, train_loss=1.51]\n",
            "   test: 100%|██████████| 79/79 [00:02<00:00, 38.92it/s, test_acc=91.841, test_loss=1.54]\n"
          ]
        },
        {
          "name": "stdout",
          "output_type": "stream",
          "text": [
            "EPOCH 84/150 :\n"
          ]
        },
        {
          "name": "stderr",
          "output_type": "stream",
          "text": [
            "  train: 100%|██████████| 469/469 [00:11<00:00, 39.74it/s, train_acc=95.626, train_loss=1.51]\n",
            "   test: 100%|██████████| 79/79 [00:02<00:00, 38.52it/s, test_acc=92.207, test_loss=1.54]\n"
          ]
        },
        {
          "name": "stdout",
          "output_type": "stream",
          "text": [
            "EPOCH 85/150 :\n"
          ]
        },
        {
          "name": "stderr",
          "output_type": "stream",
          "text": [
            "  train: 100%|██████████| 469/469 [00:11<00:00, 39.73it/s, train_acc=95.703, train_loss=1.51]\n",
            "   test: 100%|██████████| 79/79 [00:02<00:00, 36.60it/s, test_acc=91.940, test_loss=1.54]\n"
          ]
        },
        {
          "name": "stdout",
          "output_type": "stream",
          "text": [
            "EPOCH 86/150 :\n"
          ]
        },
        {
          "name": "stderr",
          "output_type": "stream",
          "text": [
            "  train: 100%|██████████| 469/469 [00:11<00:00, 39.49it/s, train_acc=95.749, train_loss=1.51]\n",
            "   test: 100%|██████████| 79/79 [00:02<00:00, 38.13it/s, test_acc=91.634, test_loss=1.54]\n"
          ]
        },
        {
          "name": "stdout",
          "output_type": "stream",
          "text": [
            "EPOCH 87/150 :\n"
          ]
        },
        {
          "name": "stderr",
          "output_type": "stream",
          "text": [
            "  train: 100%|██████████| 469/469 [00:11<00:00, 39.72it/s, train_acc=95.834, train_loss=1.5]\n",
            "   test: 100%|██████████| 79/79 [00:02<00:00, 34.93it/s, test_acc=91.822, test_loss=1.54]\n"
          ]
        },
        {
          "name": "stdout",
          "output_type": "stream",
          "text": [
            "EPOCH 88/150 :\n"
          ]
        },
        {
          "name": "stderr",
          "output_type": "stream",
          "text": [
            "  train: 100%|██████████| 469/469 [00:11<00:00, 39.84it/s, train_acc=95.747, train_loss=1.51]\n",
            "   test: 100%|██████████| 79/79 [00:02<00:00, 30.67it/s, test_acc=91.584, test_loss=1.55]\n"
          ]
        },
        {
          "name": "stdout",
          "output_type": "stream",
          "text": [
            "EPOCH 89/150 :\n"
          ]
        },
        {
          "name": "stderr",
          "output_type": "stream",
          "text": [
            "  train: 100%|██████████| 469/469 [00:11<00:00, 39.74it/s, train_acc=95.884, train_loss=1.5]\n",
            "   test: 100%|██████████| 79/79 [00:02<00:00, 38.05it/s, test_acc=91.861, test_loss=1.54]\n"
          ]
        },
        {
          "name": "stdout",
          "output_type": "stream",
          "text": [
            "EPOCH 90/150 :\n"
          ]
        },
        {
          "name": "stderr",
          "output_type": "stream",
          "text": [
            "  train: 100%|██████████| 469/469 [00:12<00:00, 38.74it/s, train_acc=95.926, train_loss=1.5]\n",
            "   test: 100%|██████████| 79/79 [00:02<00:00, 38.09it/s, test_acc=91.920, test_loss=1.54]\n"
          ]
        },
        {
          "name": "stdout",
          "output_type": "stream",
          "text": [
            "EPOCH 91/150 :\n"
          ]
        },
        {
          "name": "stderr",
          "output_type": "stream",
          "text": [
            "  train: 100%|██████████| 469/469 [00:11<00:00, 39.49it/s, train_acc=96.030, train_loss=1.5]\n",
            "   test: 100%|██████████| 79/79 [00:02<00:00, 38.15it/s, test_acc=92.009, test_loss=1.54]\n"
          ]
        },
        {
          "name": "stdout",
          "output_type": "stream",
          "text": [
            "EPOCH 92/150 :\n"
          ]
        },
        {
          "name": "stderr",
          "output_type": "stream",
          "text": [
            "  train: 100%|██████████| 469/469 [00:11<00:00, 39.24it/s, train_acc=96.030, train_loss=1.5]\n",
            "   test: 100%|██████████| 79/79 [00:02<00:00, 38.16it/s, test_acc=91.752, test_loss=1.54]\n"
          ]
        },
        {
          "name": "stdout",
          "output_type": "stream",
          "text": [
            "EPOCH 93/150 :\n"
          ]
        },
        {
          "name": "stderr",
          "output_type": "stream",
          "text": [
            "  train: 100%|██████████| 469/469 [00:11<00:00, 39.75it/s, train_acc=96.045, train_loss=1.5]\n",
            "   test: 100%|██████████| 79/79 [00:02<00:00, 36.08it/s, test_acc=91.970, test_loss=1.54]\n"
          ]
        },
        {
          "name": "stdout",
          "output_type": "stream",
          "text": [
            "EPOCH 94/150 :\n"
          ]
        },
        {
          "name": "stderr",
          "output_type": "stream",
          "text": [
            "  train: 100%|██████████| 469/469 [00:11<00:00, 39.32it/s, train_acc=96.092, train_loss=1.5]\n",
            "   test: 100%|██████████| 79/79 [00:02<00:00, 31.00it/s, test_acc=92.138, test_loss=1.54]\n"
          ]
        },
        {
          "name": "stdout",
          "output_type": "stream",
          "text": [
            "EPOCH 95/150 :\n"
          ]
        },
        {
          "name": "stderr",
          "output_type": "stream",
          "text": [
            "  train: 100%|██████████| 469/469 [00:11<00:00, 39.96it/s, train_acc=96.153, train_loss=1.5]\n",
            "   test: 100%|██████████| 79/79 [00:02<00:00, 38.30it/s, test_acc=91.297, test_loss=1.55]\n"
          ]
        },
        {
          "name": "stdout",
          "output_type": "stream",
          "text": [
            "EPOCH 96/150 :\n"
          ]
        },
        {
          "name": "stderr",
          "output_type": "stream",
          "text": [
            "  train: 100%|██████████| 469/469 [00:11<00:00, 39.79it/s, train_acc=96.117, train_loss=1.5]\n",
            "   test: 100%|██████████| 79/79 [00:02<00:00, 38.37it/s, test_acc=91.920, test_loss=1.54]\n"
          ]
        },
        {
          "name": "stdout",
          "output_type": "stream",
          "text": [
            "EPOCH 97/150 :\n"
          ]
        },
        {
          "name": "stderr",
          "output_type": "stream",
          "text": [
            "  train: 100%|██████████| 469/469 [00:11<00:00, 39.64it/s, train_acc=96.275, train_loss=1.5]\n",
            "   test: 100%|██████████| 79/79 [00:02<00:00, 38.27it/s, test_acc=91.634, test_loss=1.54]\n"
          ]
        },
        {
          "name": "stdout",
          "output_type": "stream",
          "text": [
            "EPOCH 98/150 :\n"
          ]
        },
        {
          "name": "stderr",
          "output_type": "stream",
          "text": [
            "  train: 100%|██████████| 469/469 [00:11<00:00, 39.51it/s, train_acc=96.173, train_loss=1.5]\n",
            "   test: 100%|██████████| 79/79 [00:02<00:00, 36.94it/s, test_acc=92.138, test_loss=1.54]\n"
          ]
        },
        {
          "name": "stdout",
          "output_type": "stream",
          "text": [
            "EPOCH 99/150 :\n"
          ]
        },
        {
          "name": "stderr",
          "output_type": "stream",
          "text": [
            "  train: 100%|██████████| 469/469 [00:12<00:00, 38.95it/s, train_acc=96.357, train_loss=1.5]\n",
            "   test: 100%|██████████| 79/79 [00:02<00:00, 37.93it/s, test_acc=92.059, test_loss=1.54]\n"
          ]
        },
        {
          "name": "stdout",
          "output_type": "stream",
          "text": [
            "EPOCH 100/150 :\n"
          ]
        },
        {
          "name": "stderr",
          "output_type": "stream",
          "text": [
            "  train: 100%|██████████| 469/469 [00:11<00:00, 40.10it/s, train_acc=96.330, train_loss=1.5]\n",
            "   test: 100%|██████████| 79/79 [00:02<00:00, 30.86it/s, test_acc=92.089, test_loss=1.54]\n"
          ]
        },
        {
          "name": "stdout",
          "output_type": "stream",
          "text": [
            "EPOCH 101/150 :\n"
          ]
        },
        {
          "name": "stderr",
          "output_type": "stream",
          "text": [
            "  train: 100%|██████████| 469/469 [00:11<00:00, 39.82it/s, train_acc=96.328, train_loss=1.5]\n",
            "   test: 100%|██████████| 79/79 [00:02<00:00, 36.43it/s, test_acc=91.960, test_loss=1.54]\n"
          ]
        },
        {
          "name": "stdout",
          "output_type": "stream",
          "text": [
            "EPOCH 102/150 :\n"
          ]
        },
        {
          "name": "stderr",
          "output_type": "stream",
          "text": [
            "  train: 100%|██████████| 469/469 [00:11<00:00, 39.92it/s, train_acc=96.485, train_loss=1.5]\n",
            "   test: 100%|██████████| 79/79 [00:02<00:00, 39.04it/s, test_acc=92.267, test_loss=1.54]\n"
          ]
        },
        {
          "name": "stdout",
          "output_type": "stream",
          "text": [
            "EPOCH 103/150 :\n"
          ]
        },
        {
          "name": "stderr",
          "output_type": "stream",
          "text": [
            "  train: 100%|██████████| 469/469 [00:12<00:00, 38.42it/s, train_acc=96.385, train_loss=1.5]\n",
            "   test: 100%|██████████| 79/79 [00:02<00:00, 37.77it/s, test_acc=91.980, test_loss=1.54]\n"
          ]
        },
        {
          "name": "stdout",
          "output_type": "stream",
          "text": [
            "EPOCH 104/150 :\n"
          ]
        },
        {
          "name": "stderr",
          "output_type": "stream",
          "text": [
            "  train: 100%|██████████| 469/469 [00:11<00:00, 39.52it/s, train_acc=96.492, train_loss=1.5]\n",
            "   test: 100%|██████████| 79/79 [00:02<00:00, 38.49it/s, test_acc=92.000, test_loss=1.54]\n"
          ]
        },
        {
          "name": "stdout",
          "output_type": "stream",
          "text": [
            "EPOCH 105/150 :\n"
          ]
        },
        {
          "name": "stderr",
          "output_type": "stream",
          "text": [
            "  train: 100%|██████████| 469/469 [00:11<00:00, 39.39it/s, train_acc=96.535, train_loss=1.5]\n",
            "   test: 100%|██████████| 79/79 [00:02<00:00, 38.51it/s, test_acc=91.980, test_loss=1.54]\n"
          ]
        },
        {
          "name": "stdout",
          "output_type": "stream",
          "text": [
            "EPOCH 106/150 :\n"
          ]
        },
        {
          "name": "stderr",
          "output_type": "stream",
          "text": [
            "  train: 100%|██████████| 469/469 [00:11<00:00, 39.82it/s, train_acc=96.459, train_loss=1.5]\n",
            "   test: 100%|██████████| 79/79 [00:02<00:00, 30.60it/s, test_acc=92.128, test_loss=1.54]\n"
          ]
        },
        {
          "name": "stdout",
          "output_type": "stream",
          "text": [
            "EPOCH 107/150 :\n"
          ]
        },
        {
          "name": "stderr",
          "output_type": "stream",
          "text": [
            "  train: 100%|██████████| 469/469 [00:12<00:00, 38.90it/s, train_acc=96.460, train_loss=1.5]\n",
            "   test: 100%|██████████| 79/79 [00:02<00:00, 35.77it/s, test_acc=92.099, test_loss=1.54]\n"
          ]
        },
        {
          "name": "stdout",
          "output_type": "stream",
          "text": [
            "EPOCH 108/150 :\n"
          ]
        },
        {
          "name": "stderr",
          "output_type": "stream",
          "text": [
            "  train: 100%|██████████| 469/469 [00:11<00:00, 39.89it/s, train_acc=96.559, train_loss=1.5]\n",
            "   test: 100%|██████████| 79/79 [00:02<00:00, 37.22it/s, test_acc=92.445, test_loss=1.54]\n"
          ]
        },
        {
          "name": "stdout",
          "output_type": "stream",
          "text": [
            "EPOCH 109/150 :\n"
          ]
        },
        {
          "name": "stderr",
          "output_type": "stream",
          "text": [
            "  train: 100%|██████████| 469/469 [00:11<00:00, 39.77it/s, train_acc=96.648, train_loss=1.5]\n",
            "   test: 100%|██████████| 79/79 [00:02<00:00, 37.40it/s, test_acc=92.089, test_loss=1.54]\n"
          ]
        },
        {
          "name": "stdout",
          "output_type": "stream",
          "text": [
            "EPOCH 110/150 :\n"
          ]
        },
        {
          "name": "stderr",
          "output_type": "stream",
          "text": [
            "  train: 100%|██████████| 469/469 [00:11<00:00, 39.53it/s, train_acc=96.671, train_loss=1.5]\n",
            "   test: 100%|██████████| 79/79 [00:02<00:00, 37.88it/s, test_acc=91.792, test_loss=1.54]\n"
          ]
        },
        {
          "name": "stdout",
          "output_type": "stream",
          "text": [
            "EPOCH 111/150 :\n"
          ]
        },
        {
          "name": "stderr",
          "output_type": "stream",
          "text": [
            "  train: 100%|██████████| 469/469 [00:11<00:00, 40.17it/s, train_acc=96.657, train_loss=1.5]\n",
            "   test: 100%|██████████| 79/79 [00:02<00:00, 36.08it/s, test_acc=91.822, test_loss=1.54]\n"
          ]
        },
        {
          "name": "stdout",
          "output_type": "stream",
          "text": [
            "EPOCH 112/150 :\n"
          ]
        },
        {
          "name": "stderr",
          "output_type": "stream",
          "text": [
            "  train: 100%|██████████| 469/469 [00:11<00:00, 39.52it/s, train_acc=96.723, train_loss=1.5]\n",
            "   test: 100%|██████████| 79/79 [00:02<00:00, 33.00it/s, test_acc=92.188, test_loss=1.54]\n"
          ]
        },
        {
          "name": "stdout",
          "output_type": "stream",
          "text": [
            "EPOCH 113/150 :\n"
          ]
        },
        {
          "name": "stderr",
          "output_type": "stream",
          "text": [
            "  train: 100%|██████████| 469/469 [00:11<00:00, 40.21it/s, train_acc=96.605, train_loss=1.5]\n",
            "   test: 100%|██████████| 79/79 [00:02<00:00, 33.14it/s, test_acc=92.316, test_loss=1.54]\n"
          ]
        },
        {
          "name": "stdout",
          "output_type": "stream",
          "text": [
            "EPOCH 114/150 :\n"
          ]
        },
        {
          "name": "stderr",
          "output_type": "stream",
          "text": [
            "  train: 100%|██████████| 469/469 [00:11<00:00, 39.59it/s, train_acc=96.777, train_loss=1.49]\n",
            "   test: 100%|██████████| 79/79 [00:02<00:00, 38.47it/s, test_acc=92.000, test_loss=1.54]\n"
          ]
        },
        {
          "name": "stdout",
          "output_type": "stream",
          "text": [
            "EPOCH 115/150 :\n"
          ]
        },
        {
          "name": "stderr",
          "output_type": "stream",
          "text": [
            "  train: 100%|██████████| 469/469 [00:11<00:00, 39.90it/s, train_acc=96.824, train_loss=1.49]\n",
            "   test: 100%|██████████| 79/79 [00:02<00:00, 38.34it/s, test_acc=92.049, test_loss=1.54]\n"
          ]
        },
        {
          "name": "stdout",
          "output_type": "stream",
          "text": [
            "EPOCH 116/150 :\n"
          ]
        },
        {
          "name": "stderr",
          "output_type": "stream",
          "text": [
            "  train: 100%|██████████| 469/469 [00:12<00:00, 38.73it/s, train_acc=96.896, train_loss=1.49]\n",
            "   test: 100%|██████████| 79/79 [00:02<00:00, 37.84it/s, test_acc=91.841, test_loss=1.54]\n"
          ]
        },
        {
          "name": "stdout",
          "output_type": "stream",
          "text": [
            "EPOCH 117/150 :\n"
          ]
        },
        {
          "name": "stderr",
          "output_type": "stream",
          "text": [
            "  train: 100%|██████████| 469/469 [00:11<00:00, 39.81it/s, train_acc=96.840, train_loss=1.49]\n",
            "   test: 100%|██████████| 79/79 [00:02<00:00, 38.48it/s, test_acc=91.713, test_loss=1.54]\n"
          ]
        },
        {
          "name": "stdout",
          "output_type": "stream",
          "text": [
            "EPOCH 118/150 :\n"
          ]
        },
        {
          "name": "stderr",
          "output_type": "stream",
          "text": [
            "  train: 100%|██████████| 469/469 [00:11<00:00, 39.53it/s, train_acc=96.925, train_loss=1.49]\n",
            "   test: 100%|██████████| 79/79 [00:02<00:00, 34.95it/s, test_acc=92.178, test_loss=1.54]\n"
          ]
        },
        {
          "name": "stdout",
          "output_type": "stream",
          "text": [
            "EPOCH 119/150 :\n"
          ]
        },
        {
          "name": "stderr",
          "output_type": "stream",
          "text": [
            "  train: 100%|██████████| 469/469 [00:11<00:00, 40.45it/s, train_acc=96.931, train_loss=1.49]\n",
            "   test: 100%|██████████| 79/79 [00:02<00:00, 30.14it/s, test_acc=92.425, test_loss=1.54]\n"
          ]
        },
        {
          "name": "stdout",
          "output_type": "stream",
          "text": [
            "EPOCH 120/150 :\n"
          ]
        },
        {
          "name": "stderr",
          "output_type": "stream",
          "text": [
            "  train: 100%|██████████| 469/469 [00:12<00:00, 38.76it/s, train_acc=96.939, train_loss=1.49]\n",
            "   test: 100%|██████████| 79/79 [00:02<00:00, 36.53it/s, test_acc=92.128, test_loss=1.54]\n"
          ]
        },
        {
          "name": "stdout",
          "output_type": "stream",
          "text": [
            "EPOCH 121/150 :\n"
          ]
        },
        {
          "name": "stderr",
          "output_type": "stream",
          "text": [
            "  train: 100%|██████████| 469/469 [00:11<00:00, 39.75it/s, train_acc=97.005, train_loss=1.49]\n",
            "   test: 100%|██████████| 79/79 [00:02<00:00, 37.45it/s, test_acc=91.861, test_loss=1.54]\n"
          ]
        },
        {
          "name": "stdout",
          "output_type": "stream",
          "text": [
            "EPOCH 122/150 :\n"
          ]
        },
        {
          "name": "stderr",
          "output_type": "stream",
          "text": [
            "  train: 100%|██████████| 469/469 [00:11<00:00, 39.91it/s, train_acc=97.117, train_loss=1.49]\n",
            "   test: 100%|██████████| 79/79 [00:02<00:00, 37.32it/s, test_acc=92.148, test_loss=1.54]\n"
          ]
        },
        {
          "name": "stdout",
          "output_type": "stream",
          "text": [
            "EPOCH 123/150 :\n"
          ]
        },
        {
          "name": "stderr",
          "output_type": "stream",
          "text": [
            "  train: 100%|██████████| 469/469 [00:11<00:00, 39.64it/s, train_acc=97.053, train_loss=1.49]\n",
            "   test: 100%|██████████| 79/79 [00:02<00:00, 37.95it/s, test_acc=92.217, test_loss=1.54]\n"
          ]
        },
        {
          "name": "stdout",
          "output_type": "stream",
          "text": [
            "EPOCH 124/150 :\n"
          ]
        },
        {
          "name": "stderr",
          "output_type": "stream",
          "text": [
            "  train: 100%|██████████| 469/469 [00:11<00:00, 39.59it/s, train_acc=97.089, train_loss=1.49]\n",
            "   test: 100%|██████████| 79/79 [00:02<00:00, 35.27it/s, test_acc=91.831, test_loss=1.54]\n"
          ]
        },
        {
          "name": "stdout",
          "output_type": "stream",
          "text": [
            "EPOCH 125/150 :\n"
          ]
        },
        {
          "name": "stderr",
          "output_type": "stream",
          "text": [
            "  train: 100%|██████████| 469/469 [00:11<00:00, 39.39it/s, train_acc=97.068, train_loss=1.49]\n",
            "   test: 100%|██████████| 79/79 [00:02<00:00, 30.25it/s, test_acc=92.356, test_loss=1.54]\n"
          ]
        },
        {
          "name": "stdout",
          "output_type": "stream",
          "text": [
            "EPOCH 126/150 :\n"
          ]
        },
        {
          "name": "stderr",
          "output_type": "stream",
          "text": [
            "  train: 100%|██████████| 469/469 [00:11<00:00, 39.85it/s, train_acc=97.173, train_loss=1.49]\n",
            "   test: 100%|██████████| 79/79 [00:02<00:00, 38.42it/s, test_acc=92.514, test_loss=1.54]\n"
          ]
        },
        {
          "name": "stdout",
          "output_type": "stream",
          "text": [
            "EPOCH 127/150 :\n"
          ]
        },
        {
          "name": "stderr",
          "output_type": "stream",
          "text": [
            "  train: 100%|██████████| 469/469 [00:11<00:00, 39.57it/s, train_acc=97.195, train_loss=1.49]\n",
            "   test: 100%|██████████| 79/79 [00:02<00:00, 38.43it/s, test_acc=92.118, test_loss=1.54]\n"
          ]
        },
        {
          "name": "stdout",
          "output_type": "stream",
          "text": [
            "EPOCH 128/150 :\n"
          ]
        },
        {
          "name": "stderr",
          "output_type": "stream",
          "text": [
            "  train: 100%|██████████| 469/469 [00:11<00:00, 39.66it/s, train_acc=97.200, train_loss=1.49]\n",
            "   test: 100%|██████████| 79/79 [00:02<00:00, 35.17it/s, test_acc=92.316, test_loss=1.54]\n"
          ]
        },
        {
          "name": "stdout",
          "output_type": "stream",
          "text": [
            "EPOCH 129/150 :\n"
          ]
        },
        {
          "name": "stderr",
          "output_type": "stream",
          "text": [
            "  train: 100%|██████████| 469/469 [00:11<00:00, 39.29it/s, train_acc=97.211, train_loss=1.49]\n",
            "   test: 100%|██████████| 79/79 [00:02<00:00, 38.46it/s, test_acc=92.168, test_loss=1.54]\n"
          ]
        },
        {
          "name": "stdout",
          "output_type": "stream",
          "text": [
            "EPOCH 130/150 :\n"
          ]
        },
        {
          "name": "stderr",
          "output_type": "stream",
          "text": [
            "  train: 100%|██████████| 469/469 [00:11<00:00, 40.31it/s, train_acc=97.154, train_loss=1.49]\n",
            "   test: 100%|██████████| 79/79 [00:02<00:00, 38.06it/s, test_acc=92.375, test_loss=1.54]\n"
          ]
        },
        {
          "name": "stdout",
          "output_type": "stream",
          "text": [
            "EPOCH 131/150 :\n"
          ]
        },
        {
          "name": "stderr",
          "output_type": "stream",
          "text": [
            "  train: 100%|██████████| 469/469 [00:11<00:00, 39.75it/s, train_acc=97.277, train_loss=1.49]\n",
            "   test: 100%|██████████| 79/79 [00:02<00:00, 29.78it/s, test_acc=92.474, test_loss=1.54]\n"
          ]
        },
        {
          "name": "stdout",
          "output_type": "stream",
          "text": [
            "EPOCH 132/150 :\n"
          ]
        },
        {
          "name": "stderr",
          "output_type": "stream",
          "text": [
            "  train: 100%|██████████| 469/469 [00:11<00:00, 40.24it/s, train_acc=97.303, train_loss=1.49]\n",
            "   test: 100%|██████████| 79/79 [00:02<00:00, 33.48it/s, test_acc=92.019, test_loss=1.54]\n"
          ]
        },
        {
          "name": "stdout",
          "output_type": "stream",
          "text": [
            "EPOCH 133/150 :\n"
          ]
        },
        {
          "name": "stderr",
          "output_type": "stream",
          "text": [
            "  train: 100%|██████████| 469/469 [00:11<00:00, 39.17it/s, train_acc=97.303, train_loss=1.49]\n",
            "   test: 100%|██████████| 79/79 [00:02<00:00, 37.51it/s, test_acc=91.960, test_loss=1.54]\n"
          ]
        },
        {
          "name": "stdout",
          "output_type": "stream",
          "text": [
            "EPOCH 134/150 :\n"
          ]
        },
        {
          "name": "stderr",
          "output_type": "stream",
          "text": [
            "  train: 100%|██████████| 469/469 [00:11<00:00, 39.40it/s, train_acc=97.288, train_loss=1.49]\n",
            "   test: 100%|██████████| 79/79 [00:02<00:00, 38.18it/s, test_acc=92.316, test_loss=1.54]\n"
          ]
        },
        {
          "name": "stdout",
          "output_type": "stream",
          "text": [
            "EPOCH 135/150 :\n"
          ]
        },
        {
          "name": "stderr",
          "output_type": "stream",
          "text": [
            "  train: 100%|██████████| 469/469 [00:11<00:00, 40.01it/s, train_acc=97.334, train_loss=1.49]\n",
            "   test: 100%|██████████| 79/79 [00:02<00:00, 37.57it/s, test_acc=92.217, test_loss=1.54]\n"
          ]
        },
        {
          "name": "stdout",
          "output_type": "stream",
          "text": [
            "EPOCH 136/150 :\n"
          ]
        },
        {
          "name": "stderr",
          "output_type": "stream",
          "text": [
            "  train: 100%|██████████| 469/469 [00:12<00:00, 38.98it/s, train_acc=97.352, train_loss=1.49]\n",
            "   test: 100%|██████████| 79/79 [00:02<00:00, 37.62it/s, test_acc=91.772, test_loss=1.54]\n"
          ]
        },
        {
          "name": "stdout",
          "output_type": "stream",
          "text": [
            "EPOCH 137/150 :\n"
          ]
        },
        {
          "name": "stderr",
          "output_type": "stream",
          "text": [
            "  train: 100%|██████████| 469/469 [00:11<00:00, 39.22it/s, train_acc=97.422, train_loss=1.49]\n",
            "   test: 100%|██████████| 79/79 [00:02<00:00, 31.27it/s, test_acc=92.039, test_loss=1.54]\n"
          ]
        },
        {
          "name": "stdout",
          "output_type": "stream",
          "text": [
            "EPOCH 138/150 :\n"
          ]
        },
        {
          "name": "stderr",
          "output_type": "stream",
          "text": [
            "  train: 100%|██████████| 469/469 [00:11<00:00, 39.11it/s, train_acc=97.358, train_loss=1.49]\n",
            "   test: 100%|██████████| 79/79 [00:02<00:00, 33.98it/s, test_acc=91.901, test_loss=1.54]\n"
          ]
        },
        {
          "name": "stdout",
          "output_type": "stream",
          "text": [
            "EPOCH 139/150 :\n"
          ]
        },
        {
          "name": "stderr",
          "output_type": "stream",
          "text": [
            "  train: 100%|██████████| 469/469 [00:11<00:00, 39.70it/s, train_acc=97.388, train_loss=1.49]\n",
            "   test: 100%|██████████| 79/79 [00:02<00:00, 37.59it/s, test_acc=92.474, test_loss=1.54]\n"
          ]
        },
        {
          "name": "stdout",
          "output_type": "stream",
          "text": [
            "EPOCH 140/150 :\n"
          ]
        },
        {
          "name": "stderr",
          "output_type": "stream",
          "text": [
            "  train: 100%|██████████| 469/469 [00:11<00:00, 39.60it/s, train_acc=97.389, train_loss=1.49]\n",
            "   test: 100%|██████████| 79/79 [00:02<00:00, 37.87it/s, test_acc=92.108, test_loss=1.54]\n"
          ]
        },
        {
          "name": "stdout",
          "output_type": "stream",
          "text": [
            "EPOCH 141/150 :\n"
          ]
        },
        {
          "name": "stderr",
          "output_type": "stream",
          "text": [
            "  train: 100%|██████████| 469/469 [00:11<00:00, 39.32it/s, train_acc=97.485, train_loss=1.49]\n",
            "   test: 100%|██████████| 79/79 [00:02<00:00, 37.48it/s, test_acc=92.316, test_loss=1.54]\n"
          ]
        },
        {
          "name": "stdout",
          "output_type": "stream",
          "text": [
            "EPOCH 142/150 :\n"
          ]
        },
        {
          "name": "stderr",
          "output_type": "stream",
          "text": [
            "  train: 100%|██████████| 469/469 [00:12<00:00, 39.06it/s, train_acc=97.460, train_loss=1.49]\n",
            "   test: 100%|██████████| 79/79 [00:02<00:00, 37.73it/s, test_acc=91.990, test_loss=1.54]\n"
          ]
        },
        {
          "name": "stdout",
          "output_type": "stream",
          "text": [
            "EPOCH 143/150 :\n"
          ]
        },
        {
          "name": "stderr",
          "output_type": "stream",
          "text": [
            "  train: 100%|██████████| 469/469 [00:11<00:00, 39.48it/s, train_acc=97.422, train_loss=1.49]\n",
            "   test: 100%|██████████| 79/79 [00:02<00:00, 32.10it/s, test_acc=91.871, test_loss=1.54]\n"
          ]
        },
        {
          "name": "stdout",
          "output_type": "stream",
          "text": [
            "EPOCH 144/150 :\n"
          ]
        },
        {
          "name": "stderr",
          "output_type": "stream",
          "text": [
            "  train: 100%|██████████| 469/469 [00:11<00:00, 39.61it/s, train_acc=97.477, train_loss=1.49]\n",
            "   test: 100%|██████████| 79/79 [00:02<00:00, 33.01it/s, test_acc=92.069, test_loss=1.54]\n"
          ]
        },
        {
          "name": "stdout",
          "output_type": "stream",
          "text": [
            "EPOCH 145/150 :\n"
          ]
        },
        {
          "name": "stderr",
          "output_type": "stream",
          "text": [
            "  train: 100%|██████████| 469/469 [00:11<00:00, 39.92it/s, train_acc=97.559, train_loss=1.49]\n",
            "   test: 100%|██████████| 79/79 [00:02<00:00, 38.32it/s, test_acc=92.059, test_loss=1.54]\n"
          ]
        },
        {
          "name": "stdout",
          "output_type": "stream",
          "text": [
            "EPOCH 146/150 :\n"
          ]
        },
        {
          "name": "stderr",
          "output_type": "stream",
          "text": [
            "  train: 100%|██████████| 469/469 [00:12<00:00, 38.75it/s, train_acc=97.485, train_loss=1.49]\n",
            "   test: 100%|██████████| 79/79 [00:02<00:00, 36.66it/s, test_acc=91.822, test_loss=1.54]\n"
          ]
        },
        {
          "name": "stdout",
          "output_type": "stream",
          "text": [
            "EPOCH 147/150 :\n"
          ]
        },
        {
          "name": "stderr",
          "output_type": "stream",
          "text": [
            "  train: 100%|██████████| 469/469 [00:11<00:00, 39.52it/s, train_acc=97.626, train_loss=1.49]\n",
            "   test: 100%|██████████| 79/79 [00:02<00:00, 38.13it/s, test_acc=92.000, test_loss=1.54]\n"
          ]
        },
        {
          "name": "stdout",
          "output_type": "stream",
          "text": [
            "EPOCH 148/150 :\n"
          ]
        },
        {
          "name": "stderr",
          "output_type": "stream",
          "text": [
            "  train: 100%|██████████| 469/469 [00:11<00:00, 39.68it/s, train_acc=97.555, train_loss=1.49]\n",
            "   test: 100%|██████████| 79/79 [00:02<00:00, 37.79it/s, test_acc=92.306, test_loss=1.54]\n"
          ]
        },
        {
          "name": "stdout",
          "output_type": "stream",
          "text": [
            "EPOCH 149/150 :\n"
          ]
        },
        {
          "name": "stderr",
          "output_type": "stream",
          "text": [
            "  train: 100%|██████████| 469/469 [00:11<00:00, 39.48it/s, train_acc=97.635, train_loss=1.49]\n",
            "   test: 100%|██████████| 79/79 [00:02<00:00, 32.14it/s, test_acc=91.871, test_loss=1.54]\n"
          ]
        },
        {
          "name": "stdout",
          "output_type": "stream",
          "text": [
            "EPOCH 150/150 :\n"
          ]
        },
        {
          "name": "stderr",
          "output_type": "stream",
          "text": [
            "  train: 100%|██████████| 469/469 [00:12<00:00, 38.46it/s, train_acc=97.707, train_loss=1.49]\n",
            "   test: 100%|██████████| 79/79 [00:02<00:00, 33.24it/s, test_acc=92.237, test_loss=1.54]\n"
          ]
        },
        {
          "name": "stdout",
          "output_type": "stream",
          "text": [
            "\n",
            "\n",
            "Train time: 2105.411 seconds\n"
          ]
        }
      ],
      "source": [
        "hparams = [\"FMNIST\", \"SCNNB-a\", 150]\n",
        "SCNNB_a_FMNIST_model, SCNNB_a_FMNIST_train_loss, SCNNB_a_FMNIST_train_accuracy, SCNNB_a_FMNIST_test_loss, SCNNB_a_FMNIST_test_accuracy = train(hparams ,FMNIST_train_dataloader, FMNIST_test_dataloader)\n"
      ]
    },
    {
      "cell_type": "code",
      "execution_count": 41,
      "metadata": {
        "colab": {
          "base_uri": "https://localhost:8080/"
        },
        "id": "sgrCe5aIYWkv",
        "outputId": "7820adb0-baf3-4015-c2c7-d8ed57567a9b"
      },
      "outputs": [
        {
          "name": "stdout",
          "output_type": "stream",
          "text": [
            "Maximum Test Accuracy for SCNNB-a model is:  92.51384303797468\n"
          ]
        }
      ],
      "source": [
        "SCNNB_a_max_acc = max(SCNNB_a_FMNIST_test_accuracy)\n",
        "SCNNB_a_MEAN = sum(SCNNB_a_FMNIST_test_accuracy)/len(SCNNB_a_FMNIST_test_accuracy)\n",
        "print(\"Maximum Test Accuracy for SCNNB-a model is: \", str(SCNNB_a_max_acc))"
      ]
    },
    {
      "cell_type": "code",
      "execution_count": 42,
      "metadata": {
        "id": "tDJQ4aon8-Uq"
      },
      "outputs": [],
      "source": [
        "torch.save(SCNNB_a_FMNIST_model.state_dict(), 'SCNNB_a_FMNIST')"
      ]
    },
    {
      "cell_type": "code",
      "execution_count": 54,
      "metadata": {
        "colab": {
          "base_uri": "https://localhost:8080/"
        },
        "id": "h-qfM7bC8Rgq",
        "outputId": "65adb0be-9ac3-42e9-dcc4-edf5a0b69d5e"
      },
      "outputs": [
        {
          "name": "stdout",
          "output_type": "stream",
          "text": [
            "training model is 'SCNNB-b'\n",
            "EPOCH 1/150 :\n"
          ]
        },
        {
          "name": "stderr",
          "output_type": "stream",
          "text": [
            "  train: 100%|██████████| 469/469 [00:11<00:00, 39.97it/s, train_acc=50.745, train_loss=1.97]\n",
            "   test: 100%|██████████| 79/79 [00:02<00:00, 38.59it/s, test_acc=67.178, test_loss=1.79]\n"
          ]
        },
        {
          "name": "stdout",
          "output_type": "stream",
          "text": [
            "EPOCH 2/150 :\n"
          ]
        },
        {
          "name": "stderr",
          "output_type": "stream",
          "text": [
            "  train: 100%|██████████| 469/469 [00:11<00:00, 39.93it/s, train_acc=71.340, train_loss=1.75]\n",
            "   test: 100%|██████████| 79/79 [00:01<00:00, 39.78it/s, test_acc=75.405, test_loss=1.71]\n"
          ]
        },
        {
          "name": "stdout",
          "output_type": "stream",
          "text": [
            "EPOCH 3/150 :\n"
          ]
        },
        {
          "name": "stderr",
          "output_type": "stream",
          "text": [
            "  train: 100%|██████████| 469/469 [00:11<00:00, 39.79it/s, train_acc=76.212, train_loss=1.7]\n",
            "   test: 100%|██████████| 79/79 [00:02<00:00, 38.93it/s, test_acc=77.799, test_loss=1.69]\n"
          ]
        },
        {
          "name": "stdout",
          "output_type": "stream",
          "text": [
            "EPOCH 4/150 :\n"
          ]
        },
        {
          "name": "stderr",
          "output_type": "stream",
          "text": [
            "  train: 100%|██████████| 469/469 [00:11<00:00, 40.30it/s, train_acc=77.958, train_loss=1.68]\n",
            "   test: 100%|██████████| 79/79 [00:01<00:00, 40.26it/s, test_acc=79.223, test_loss=1.67]\n"
          ]
        },
        {
          "name": "stdout",
          "output_type": "stream",
          "text": [
            "EPOCH 5/150 :\n"
          ]
        },
        {
          "name": "stderr",
          "output_type": "stream",
          "text": [
            "  train: 100%|██████████| 469/469 [00:11<00:00, 39.75it/s, train_acc=78.976, train_loss=1.67]\n",
            "   test: 100%|██████████| 79/79 [00:01<00:00, 40.39it/s, test_acc=79.608, test_loss=1.67]\n"
          ]
        },
        {
          "name": "stdout",
          "output_type": "stream",
          "text": [
            "EPOCH 6/150 :\n"
          ]
        },
        {
          "name": "stderr",
          "output_type": "stream",
          "text": [
            "  train: 100%|██████████| 469/469 [00:11<00:00, 40.41it/s, train_acc=79.604, train_loss=1.67]\n",
            "   test: 100%|██████████| 79/79 [00:02<00:00, 34.08it/s, test_acc=80.113, test_loss=1.66]\n"
          ]
        },
        {
          "name": "stdout",
          "output_type": "stream",
          "text": [
            "EPOCH 7/150 :\n"
          ]
        },
        {
          "name": "stderr",
          "output_type": "stream",
          "text": [
            "  train: 100%|██████████| 469/469 [00:11<00:00, 39.96it/s, train_acc=80.007, train_loss=1.66]\n",
            "   test: 100%|██████████| 79/79 [00:02<00:00, 33.61it/s, test_acc=80.390, test_loss=1.66]\n"
          ]
        },
        {
          "name": "stdout",
          "output_type": "stream",
          "text": [
            "EPOCH 8/150 :\n"
          ]
        },
        {
          "name": "stderr",
          "output_type": "stream",
          "text": [
            "  train: 100%|██████████| 469/469 [00:11<00:00, 40.10it/s, train_acc=80.566, train_loss=1.66]\n",
            "   test: 100%|██████████| 79/79 [00:01<00:00, 40.42it/s, test_acc=80.123, test_loss=1.66]\n"
          ]
        },
        {
          "name": "stdout",
          "output_type": "stream",
          "text": [
            "EPOCH 9/150 :\n"
          ]
        },
        {
          "name": "stderr",
          "output_type": "stream",
          "text": [
            "  train: 100%|██████████| 469/469 [00:11<00:00, 39.94it/s, train_acc=80.878, train_loss=1.65]\n",
            "   test: 100%|██████████| 79/79 [00:02<00:00, 38.20it/s, test_acc=80.963, test_loss=1.65]\n"
          ]
        },
        {
          "name": "stdout",
          "output_type": "stream",
          "text": [
            "EPOCH 10/150 :\n"
          ]
        },
        {
          "name": "stderr",
          "output_type": "stream",
          "text": [
            "  train: 100%|██████████| 469/469 [00:11<00:00, 40.61it/s, train_acc=81.123, train_loss=1.65]\n",
            "   test: 100%|██████████| 79/79 [00:01<00:00, 40.09it/s, test_acc=81.003, test_loss=1.65]\n"
          ]
        },
        {
          "name": "stdout",
          "output_type": "stream",
          "text": [
            "EPOCH 11/150 :\n"
          ]
        },
        {
          "name": "stderr",
          "output_type": "stream",
          "text": [
            "  train: 100%|██████████| 469/469 [00:11<00:00, 40.77it/s, train_acc=81.467, train_loss=1.65]\n",
            "   test: 100%|██████████| 79/79 [00:01<00:00, 39.79it/s, test_acc=81.606, test_loss=1.65]\n"
          ]
        },
        {
          "name": "stdout",
          "output_type": "stream",
          "text": [
            "EPOCH 12/150 :\n"
          ]
        },
        {
          "name": "stderr",
          "output_type": "stream",
          "text": [
            "  train: 100%|██████████| 469/469 [00:11<00:00, 40.00it/s, train_acc=81.530, train_loss=1.65]\n",
            "   test: 100%|██████████| 79/79 [00:02<00:00, 38.23it/s, test_acc=81.962, test_loss=1.64]\n"
          ]
        },
        {
          "name": "stdout",
          "output_type": "stream",
          "text": [
            "EPOCH 13/150 :\n"
          ]
        },
        {
          "name": "stderr",
          "output_type": "stream",
          "text": [
            "  train: 100%|██████████| 469/469 [00:11<00:00, 40.59it/s, train_acc=82.096, train_loss=1.64]\n",
            "   test: 100%|██████████| 79/79 [00:02<00:00, 34.22it/s, test_acc=82.239, test_loss=1.64]\n"
          ]
        },
        {
          "name": "stdout",
          "output_type": "stream",
          "text": [
            "EPOCH 14/150 :\n"
          ]
        },
        {
          "name": "stderr",
          "output_type": "stream",
          "text": [
            "  train: 100%|██████████| 469/469 [00:11<00:00, 40.33it/s, train_acc=83.527, train_loss=1.63]\n",
            "   test: 100%|██████████| 79/79 [00:02<00:00, 33.55it/s, test_acc=84.424, test_loss=1.62]\n"
          ]
        },
        {
          "name": "stdout",
          "output_type": "stream",
          "text": [
            "EPOCH 15/150 :\n"
          ]
        },
        {
          "name": "stderr",
          "output_type": "stream",
          "text": [
            "  train: 100%|██████████| 469/469 [00:11<00:00, 40.44it/s, train_acc=84.563, train_loss=1.62]\n",
            "   test: 100%|██████████| 79/79 [00:02<00:00, 39.42it/s, test_acc=84.464, test_loss=1.62]\n"
          ]
        },
        {
          "name": "stdout",
          "output_type": "stream",
          "text": [
            "EPOCH 16/150 :\n"
          ]
        },
        {
          "name": "stderr",
          "output_type": "stream",
          "text": [
            "  train: 100%|██████████| 469/469 [00:11<00:00, 40.32it/s, train_acc=85.170, train_loss=1.61]\n",
            "   test: 100%|██████████| 79/79 [00:02<00:00, 39.33it/s, test_acc=84.810, test_loss=1.61]\n"
          ]
        },
        {
          "name": "stdout",
          "output_type": "stream",
          "text": [
            "EPOCH 17/150 :\n"
          ]
        },
        {
          "name": "stderr",
          "output_type": "stream",
          "text": [
            "  train: 100%|██████████| 469/469 [00:11<00:00, 40.47it/s, train_acc=85.532, train_loss=1.61]\n",
            "   test: 100%|██████████| 79/79 [00:02<00:00, 39.42it/s, test_acc=85.374, test_loss=1.61]\n"
          ]
        },
        {
          "name": "stdout",
          "output_type": "stream",
          "text": [
            "EPOCH 18/150 :\n"
          ]
        },
        {
          "name": "stderr",
          "output_type": "stream",
          "text": [
            "  train: 100%|██████████| 469/469 [00:11<00:00, 39.57it/s, train_acc=85.763, train_loss=1.6]\n",
            "   test: 100%|██████████| 79/79 [00:01<00:00, 40.01it/s, test_acc=85.651, test_loss=1.6]\n"
          ]
        },
        {
          "name": "stdout",
          "output_type": "stream",
          "text": [
            "EPOCH 19/150 :\n"
          ]
        },
        {
          "name": "stderr",
          "output_type": "stream",
          "text": [
            "  train: 100%|██████████| 469/469 [00:11<00:00, 40.50it/s, train_acc=86.238, train_loss=1.6]\n",
            "   test: 100%|██████████| 79/79 [00:02<00:00, 39.05it/s, test_acc=85.621, test_loss=1.6]\n"
          ]
        },
        {
          "name": "stdout",
          "output_type": "stream",
          "text": [
            "EPOCH 20/150 :\n"
          ]
        },
        {
          "name": "stderr",
          "output_type": "stream",
          "text": [
            "  train: 100%|██████████| 469/469 [00:11<00:00, 40.59it/s, train_acc=86.383, train_loss=1.6]\n",
            "   test: 100%|██████████| 79/79 [00:02<00:00, 34.10it/s, test_acc=86.343, test_loss=1.6]\n"
          ]
        },
        {
          "name": "stdout",
          "output_type": "stream",
          "text": [
            "EPOCH 21/150 :\n"
          ]
        },
        {
          "name": "stderr",
          "output_type": "stream",
          "text": [
            "  train: 100%|██████████| 469/469 [00:11<00:00, 40.86it/s, train_acc=86.670, train_loss=1.6]\n",
            "   test: 100%|██████████| 79/79 [00:02<00:00, 32.17it/s, test_acc=86.778, test_loss=1.59]\n"
          ]
        },
        {
          "name": "stdout",
          "output_type": "stream",
          "text": [
            "EPOCH 22/150 :\n"
          ]
        },
        {
          "name": "stderr",
          "output_type": "stream",
          "text": [
            "  train: 100%|██████████| 469/469 [00:11<00:00, 40.60it/s, train_acc=87.130, train_loss=1.59]\n",
            "   test: 100%|██████████| 79/79 [00:02<00:00, 37.71it/s, test_acc=86.867, test_loss=1.59]\n"
          ]
        },
        {
          "name": "stdout",
          "output_type": "stream",
          "text": [
            "EPOCH 23/150 :\n"
          ]
        },
        {
          "name": "stderr",
          "output_type": "stream",
          "text": [
            "  train: 100%|██████████| 469/469 [00:11<00:00, 40.14it/s, train_acc=87.403, train_loss=1.59]\n",
            "   test: 100%|██████████| 79/79 [00:01<00:00, 39.94it/s, test_acc=86.946, test_loss=1.59]\n"
          ]
        },
        {
          "name": "stdout",
          "output_type": "stream",
          "text": [
            "EPOCH 24/150 :\n"
          ]
        },
        {
          "name": "stderr",
          "output_type": "stream",
          "text": [
            "  train: 100%|██████████| 469/469 [00:11<00:00, 40.65it/s, train_acc=87.643, train_loss=1.59]\n",
            "   test: 100%|██████████| 79/79 [00:02<00:00, 39.41it/s, test_acc=87.530, test_loss=1.59]\n"
          ]
        },
        {
          "name": "stdout",
          "output_type": "stream",
          "text": [
            "EPOCH 25/150 :\n"
          ]
        },
        {
          "name": "stderr",
          "output_type": "stream",
          "text": [
            "  train: 100%|██████████| 469/469 [00:11<00:00, 40.17it/s, train_acc=87.930, train_loss=1.58]\n",
            "   test: 100%|██████████| 79/79 [00:02<00:00, 39.30it/s, test_acc=87.085, test_loss=1.59]\n"
          ]
        },
        {
          "name": "stdout",
          "output_type": "stream",
          "text": [
            "EPOCH 26/150 :\n"
          ]
        },
        {
          "name": "stderr",
          "output_type": "stream",
          "text": [
            "  train: 100%|██████████| 469/469 [00:11<00:00, 40.18it/s, train_acc=88.180, train_loss=1.58]\n",
            "   test: 100%|██████████| 79/79 [00:02<00:00, 39.47it/s, test_acc=87.658, test_loss=1.59]\n"
          ]
        },
        {
          "name": "stdout",
          "output_type": "stream",
          "text": [
            "EPOCH 27/150 :\n"
          ]
        },
        {
          "name": "stderr",
          "output_type": "stream",
          "text": [
            "  train: 100%|██████████| 469/469 [00:11<00:00, 39.71it/s, train_acc=88.378, train_loss=1.58]\n",
            "   test: 100%|██████████| 79/79 [00:02<00:00, 36.35it/s, test_acc=88.034, test_loss=1.58]\n"
          ]
        },
        {
          "name": "stdout",
          "output_type": "stream",
          "text": [
            "EPOCH 28/150 :\n"
          ]
        },
        {
          "name": "stderr",
          "output_type": "stream",
          "text": [
            "  train: 100%|██████████| 469/469 [00:11<00:00, 41.16it/s, train_acc=88.473, train_loss=1.58]\n",
            "   test: 100%|██████████| 79/79 [00:02<00:00, 30.78it/s, test_acc=87.866, test_loss=1.58]\n"
          ]
        },
        {
          "name": "stdout",
          "output_type": "stream",
          "text": [
            "EPOCH 29/150 :\n"
          ]
        },
        {
          "name": "stderr",
          "output_type": "stream",
          "text": [
            "  train: 100%|██████████| 469/469 [00:11<00:00, 40.56it/s, train_acc=88.679, train_loss=1.58]\n",
            "   test: 100%|██████████| 79/79 [00:02<00:00, 37.20it/s, test_acc=88.271, test_loss=1.58]\n"
          ]
        },
        {
          "name": "stdout",
          "output_type": "stream",
          "text": [
            "EPOCH 30/150 :\n"
          ]
        },
        {
          "name": "stderr",
          "output_type": "stream",
          "text": [
            "  train: 100%|██████████| 469/469 [00:11<00:00, 40.24it/s, train_acc=88.960, train_loss=1.57]\n",
            "   test: 100%|██████████| 79/79 [00:01<00:00, 39.70it/s, test_acc=88.578, test_loss=1.58]\n"
          ]
        },
        {
          "name": "stdout",
          "output_type": "stream",
          "text": [
            "EPOCH 31/150 :\n"
          ]
        },
        {
          "name": "stderr",
          "output_type": "stream",
          "text": [
            "  train: 100%|██████████| 469/469 [00:11<00:00, 39.81it/s, train_acc=89.010, train_loss=1.57]\n",
            "   test: 100%|██████████| 79/79 [00:02<00:00, 38.94it/s, test_acc=88.845, test_loss=1.57]\n"
          ]
        },
        {
          "name": "stdout",
          "output_type": "stream",
          "text": [
            "EPOCH 32/150 :\n"
          ]
        },
        {
          "name": "stderr",
          "output_type": "stream",
          "text": [
            "  train: 100%|██████████| 469/469 [00:11<00:00, 40.24it/s, train_acc=89.110, train_loss=1.57]\n",
            "   test: 100%|██████████| 79/79 [00:01<00:00, 39.63it/s, test_acc=88.924, test_loss=1.57]\n"
          ]
        },
        {
          "name": "stdout",
          "output_type": "stream",
          "text": [
            "EPOCH 33/150 :\n"
          ]
        },
        {
          "name": "stderr",
          "output_type": "stream",
          "text": [
            "  train: 100%|██████████| 469/469 [00:11<00:00, 40.28it/s, train_acc=89.220, train_loss=1.57]\n",
            "   test: 100%|██████████| 79/79 [00:02<00:00, 39.48it/s, test_acc=88.528, test_loss=1.58]\n"
          ]
        },
        {
          "name": "stdout",
          "output_type": "stream",
          "text": [
            "EPOCH 34/150 :\n"
          ]
        },
        {
          "name": "stderr",
          "output_type": "stream",
          "text": [
            "  train: 100%|██████████| 469/469 [00:11<00:00, 39.35it/s, train_acc=89.341, train_loss=1.57]\n",
            "   test: 100%|██████████| 79/79 [00:02<00:00, 35.00it/s, test_acc=89.043, test_loss=1.57]\n"
          ]
        },
        {
          "name": "stdout",
          "output_type": "stream",
          "text": [
            "EPOCH 35/150 :\n"
          ]
        },
        {
          "name": "stderr",
          "output_type": "stream",
          "text": [
            "  train: 100%|██████████| 469/469 [00:11<00:00, 40.88it/s, train_acc=89.531, train_loss=1.57]\n",
            "   test: 100%|██████████| 79/79 [00:02<00:00, 30.75it/s, test_acc=88.805, test_loss=1.57]\n"
          ]
        },
        {
          "name": "stdout",
          "output_type": "stream",
          "text": [
            "EPOCH 36/150 :\n"
          ]
        },
        {
          "name": "stderr",
          "output_type": "stream",
          "text": [
            "  train: 100%|██████████| 469/469 [00:11<00:00, 40.42it/s, train_acc=89.799, train_loss=1.56]\n",
            "   test: 100%|██████████| 79/79 [00:01<00:00, 39.61it/s, test_acc=89.241, test_loss=1.57]\n"
          ]
        },
        {
          "name": "stdout",
          "output_type": "stream",
          "text": [
            "EPOCH 37/150 :\n"
          ]
        },
        {
          "name": "stderr",
          "output_type": "stream",
          "text": [
            "  train: 100%|██████████| 469/469 [00:11<00:00, 39.92it/s, train_acc=89.809, train_loss=1.56]\n",
            "   test: 100%|██████████| 79/79 [00:02<00:00, 37.90it/s, test_acc=89.043, test_loss=1.57]\n"
          ]
        },
        {
          "name": "stdout",
          "output_type": "stream",
          "text": [
            "EPOCH 38/150 :\n"
          ]
        },
        {
          "name": "stderr",
          "output_type": "stream",
          "text": [
            "  train: 100%|██████████| 469/469 [00:11<00:00, 40.45it/s, train_acc=89.748, train_loss=1.56]\n",
            "   test: 100%|██████████| 79/79 [00:02<00:00, 38.23it/s, test_acc=88.479, test_loss=1.58]\n"
          ]
        },
        {
          "name": "stdout",
          "output_type": "stream",
          "text": [
            "EPOCH 39/150 :\n"
          ]
        },
        {
          "name": "stderr",
          "output_type": "stream",
          "text": [
            "  train: 100%|██████████| 469/469 [00:11<00:00, 40.17it/s, train_acc=89.959, train_loss=1.56]\n",
            "   test: 100%|██████████| 79/79 [00:02<00:00, 38.70it/s, test_acc=89.280, test_loss=1.57]\n"
          ]
        },
        {
          "name": "stdout",
          "output_type": "stream",
          "text": [
            "EPOCH 40/150 :\n"
          ]
        },
        {
          "name": "stderr",
          "output_type": "stream",
          "text": [
            "  train: 100%|██████████| 469/469 [00:11<00:00, 40.08it/s, train_acc=90.038, train_loss=1.56]\n",
            "   test: 100%|██████████| 79/79 [00:02<00:00, 39.06it/s, test_acc=89.320, test_loss=1.57]\n"
          ]
        },
        {
          "name": "stdout",
          "output_type": "stream",
          "text": [
            "EPOCH 41/150 :\n"
          ]
        },
        {
          "name": "stderr",
          "output_type": "stream",
          "text": [
            "  train: 100%|██████████| 469/469 [00:11<00:00, 40.17it/s, train_acc=90.150, train_loss=1.56]\n",
            "   test: 100%|██████████| 79/79 [00:02<00:00, 35.29it/s, test_acc=89.419, test_loss=1.57]\n"
          ]
        },
        {
          "name": "stdout",
          "output_type": "stream",
          "text": [
            "EPOCH 42/150 :\n"
          ]
        },
        {
          "name": "stderr",
          "output_type": "stream",
          "text": [
            "  train: 100%|██████████| 469/469 [00:11<00:00, 40.57it/s, train_acc=90.351, train_loss=1.56]\n",
            "   test: 100%|██████████| 79/79 [00:02<00:00, 32.20it/s, test_acc=89.715, test_loss=1.57]\n"
          ]
        },
        {
          "name": "stdout",
          "output_type": "stream",
          "text": [
            "EPOCH 43/150 :\n"
          ]
        },
        {
          "name": "stderr",
          "output_type": "stream",
          "text": [
            "  train: 100%|██████████| 469/469 [00:11<00:00, 39.93it/s, train_acc=90.421, train_loss=1.56]\n",
            "   test: 100%|██████████| 79/79 [00:01<00:00, 39.64it/s, test_acc=89.448, test_loss=1.57]\n"
          ]
        },
        {
          "name": "stdout",
          "output_type": "stream",
          "text": [
            "EPOCH 44/150 :\n"
          ]
        },
        {
          "name": "stderr",
          "output_type": "stream",
          "text": [
            "  train: 100%|██████████| 469/469 [00:11<00:00, 40.33it/s, train_acc=90.498, train_loss=1.56]\n",
            "   test: 100%|██████████| 79/79 [00:02<00:00, 39.40it/s, test_acc=89.537, test_loss=1.57]\n"
          ]
        },
        {
          "name": "stdout",
          "output_type": "stream",
          "text": [
            "EPOCH 45/150 :\n"
          ]
        },
        {
          "name": "stderr",
          "output_type": "stream",
          "text": [
            "  train: 100%|██████████| 469/469 [00:11<00:00, 40.04it/s, train_acc=90.376, train_loss=1.56]\n",
            "   test: 100%|██████████| 79/79 [00:01<00:00, 39.61it/s, test_acc=89.478, test_loss=1.57]\n"
          ]
        },
        {
          "name": "stdout",
          "output_type": "stream",
          "text": [
            "EPOCH 46/150 :\n"
          ]
        },
        {
          "name": "stderr",
          "output_type": "stream",
          "text": [
            "  train: 100%|██████████| 469/469 [00:11<00:00, 40.24it/s, train_acc=90.571, train_loss=1.56]\n",
            "   test: 100%|██████████| 79/79 [00:02<00:00, 38.61it/s, test_acc=89.379, test_loss=1.57]\n"
          ]
        },
        {
          "name": "stdout",
          "output_type": "stream",
          "text": [
            "EPOCH 47/150 :\n"
          ]
        },
        {
          "name": "stderr",
          "output_type": "stream",
          "text": [
            "  train: 100%|██████████| 469/469 [00:11<00:00, 40.25it/s, train_acc=90.694, train_loss=1.55]\n",
            "   test: 100%|██████████| 79/79 [00:02<00:00, 37.74it/s, test_acc=89.676, test_loss=1.57]\n"
          ]
        },
        {
          "name": "stdout",
          "output_type": "stream",
          "text": [
            "EPOCH 48/150 :\n"
          ]
        },
        {
          "name": "stderr",
          "output_type": "stream",
          "text": [
            "  train: 100%|██████████| 469/469 [00:11<00:00, 39.75it/s, train_acc=90.884, train_loss=1.55]\n",
            "   test: 100%|██████████| 79/79 [00:02<00:00, 31.29it/s, test_acc=89.765, test_loss=1.56]\n"
          ]
        },
        {
          "name": "stdout",
          "output_type": "stream",
          "text": [
            "EPOCH 49/150 :\n"
          ]
        },
        {
          "name": "stderr",
          "output_type": "stream",
          "text": [
            "  train: 100%|██████████| 469/469 [00:11<00:00, 40.54it/s, train_acc=90.759, train_loss=1.55]\n",
            "   test: 100%|██████████| 79/79 [00:02<00:00, 33.84it/s, test_acc=89.794, test_loss=1.56]\n"
          ]
        },
        {
          "name": "stdout",
          "output_type": "stream",
          "text": [
            "EPOCH 50/150 :\n"
          ]
        },
        {
          "name": "stderr",
          "output_type": "stream",
          "text": [
            "  train: 100%|██████████| 469/469 [00:11<00:00, 40.05it/s, train_acc=91.079, train_loss=1.55]\n",
            "   test: 100%|██████████| 79/79 [00:02<00:00, 39.06it/s, test_acc=89.814, test_loss=1.56]\n"
          ]
        },
        {
          "name": "stdout",
          "output_type": "stream",
          "text": [
            "EPOCH 51/150 :\n"
          ]
        },
        {
          "name": "stderr",
          "output_type": "stream",
          "text": [
            "  train: 100%|██████████| 469/469 [00:11<00:00, 40.26it/s, train_acc=91.117, train_loss=1.55]\n",
            "   test: 100%|██████████| 79/79 [00:02<00:00, 39.04it/s, test_acc=89.616, test_loss=1.57]\n"
          ]
        },
        {
          "name": "stdout",
          "output_type": "stream",
          "text": [
            "EPOCH 52/150 :\n"
          ]
        },
        {
          "name": "stderr",
          "output_type": "stream",
          "text": [
            "  train: 100%|██████████| 469/469 [00:11<00:00, 39.87it/s, train_acc=91.188, train_loss=1.55]\n",
            "   test: 100%|██████████| 79/79 [00:02<00:00, 38.70it/s, test_acc=89.834, test_loss=1.56]\n"
          ]
        },
        {
          "name": "stdout",
          "output_type": "stream",
          "text": [
            "EPOCH 53/150 :\n"
          ]
        },
        {
          "name": "stderr",
          "output_type": "stream",
          "text": [
            "  train: 100%|██████████| 469/469 [00:11<00:00, 40.07it/s, train_acc=91.207, train_loss=1.55]\n",
            "   test: 100%|██████████| 79/79 [00:01<00:00, 39.65it/s, test_acc=89.686, test_loss=1.56]\n"
          ]
        },
        {
          "name": "stdout",
          "output_type": "stream",
          "text": [
            "EPOCH 54/150 :\n"
          ]
        },
        {
          "name": "stderr",
          "output_type": "stream",
          "text": [
            "  train: 100%|██████████| 469/469 [00:11<00:00, 40.14it/s, train_acc=91.214, train_loss=1.55]\n",
            "   test: 100%|██████████| 79/79 [00:02<00:00, 38.15it/s, test_acc=89.745, test_loss=1.56]\n"
          ]
        },
        {
          "name": "stdout",
          "output_type": "stream",
          "text": [
            "EPOCH 55/150 :\n"
          ]
        },
        {
          "name": "stderr",
          "output_type": "stream",
          "text": [
            "  train: 100%|██████████| 469/469 [00:11<00:00, 39.86it/s, train_acc=91.412, train_loss=1.55]\n",
            "   test: 100%|██████████| 79/79 [00:02<00:00, 30.52it/s, test_acc=90.190, test_loss=1.56]\n"
          ]
        },
        {
          "name": "stdout",
          "output_type": "stream",
          "text": [
            "EPOCH 56/150 :\n"
          ]
        },
        {
          "name": "stderr",
          "output_type": "stream",
          "text": [
            "  train: 100%|██████████| 469/469 [00:11<00:00, 40.81it/s, train_acc=91.389, train_loss=1.55]\n",
            "   test: 100%|██████████| 79/79 [00:02<00:00, 35.30it/s, test_acc=90.289, test_loss=1.56]\n"
          ]
        },
        {
          "name": "stdout",
          "output_type": "stream",
          "text": [
            "EPOCH 57/150 :\n"
          ]
        },
        {
          "name": "stderr",
          "output_type": "stream",
          "text": [
            "  train: 100%|██████████| 469/469 [00:11<00:00, 40.24it/s, train_acc=91.461, train_loss=1.55]\n",
            "   test: 100%|██████████| 79/79 [00:02<00:00, 39.35it/s, test_acc=89.933, test_loss=1.56]\n"
          ]
        },
        {
          "name": "stdout",
          "output_type": "stream",
          "text": [
            "EPOCH 58/150 :\n"
          ]
        },
        {
          "name": "stderr",
          "output_type": "stream",
          "text": [
            "  train: 100%|██████████| 469/469 [00:11<00:00, 40.60it/s, train_acc=91.491, train_loss=1.55]\n",
            "   test: 100%|██████████| 79/79 [00:02<00:00, 36.66it/s, test_acc=89.794, test_loss=1.56]\n"
          ]
        },
        {
          "name": "stdout",
          "output_type": "stream",
          "text": [
            "EPOCH 59/150 :\n"
          ]
        },
        {
          "name": "stderr",
          "output_type": "stream",
          "text": [
            "  train: 100%|██████████| 469/469 [00:11<00:00, 39.72it/s, train_acc=91.666, train_loss=1.55]\n",
            "   test: 100%|██████████| 79/79 [00:02<00:00, 38.10it/s, test_acc=90.101, test_loss=1.56]\n"
          ]
        },
        {
          "name": "stdout",
          "output_type": "stream",
          "text": [
            "EPOCH 60/150 :\n"
          ]
        },
        {
          "name": "stderr",
          "output_type": "stream",
          "text": [
            "  train: 100%|██████████| 469/469 [00:11<00:00, 40.32it/s, train_acc=91.692, train_loss=1.55]\n",
            "   test: 100%|██████████| 79/79 [00:02<00:00, 38.68it/s, test_acc=90.309, test_loss=1.56]\n"
          ]
        },
        {
          "name": "stdout",
          "output_type": "stream",
          "text": [
            "EPOCH 61/150 :\n"
          ]
        },
        {
          "name": "stderr",
          "output_type": "stream",
          "text": [
            "  train: 100%|██████████| 469/469 [00:11<00:00, 39.95it/s, train_acc=91.859, train_loss=1.54]\n",
            "   test: 100%|██████████| 79/79 [00:02<00:00, 34.65it/s, test_acc=90.249, test_loss=1.56]\n"
          ]
        },
        {
          "name": "stdout",
          "output_type": "stream",
          "text": [
            "EPOCH 62/150 :\n"
          ]
        },
        {
          "name": "stderr",
          "output_type": "stream",
          "text": [
            "  train: 100%|██████████| 469/469 [00:11<00:00, 40.75it/s, train_acc=91.739, train_loss=1.54]\n",
            "   test: 100%|██████████| 79/79 [00:02<00:00, 29.95it/s, test_acc=90.457, test_loss=1.56]\n"
          ]
        },
        {
          "name": "stdout",
          "output_type": "stream",
          "text": [
            "EPOCH 63/150 :\n"
          ]
        },
        {
          "name": "stderr",
          "output_type": "stream",
          "text": [
            "  train: 100%|██████████| 469/469 [00:11<00:00, 40.03it/s, train_acc=91.859, train_loss=1.54]\n",
            "   test: 100%|██████████| 79/79 [00:02<00:00, 37.53it/s, test_acc=90.338, test_loss=1.56]\n"
          ]
        },
        {
          "name": "stdout",
          "output_type": "stream",
          "text": [
            "EPOCH 64/150 :\n"
          ]
        },
        {
          "name": "stderr",
          "output_type": "stream",
          "text": [
            "  train: 100%|██████████| 469/469 [00:11<00:00, 40.13it/s, train_acc=92.051, train_loss=1.54]\n",
            "   test: 100%|██████████| 79/79 [00:02<00:00, 38.60it/s, test_acc=90.605, test_loss=1.56]\n"
          ]
        },
        {
          "name": "stdout",
          "output_type": "stream",
          "text": [
            "EPOCH 65/150 :\n"
          ]
        },
        {
          "name": "stderr",
          "output_type": "stream",
          "text": [
            "  train: 100%|██████████| 469/469 [00:11<00:00, 39.62it/s, train_acc=92.081, train_loss=1.54]\n",
            "   test: 100%|██████████| 79/79 [00:02<00:00, 39.42it/s, test_acc=90.318, test_loss=1.56]\n"
          ]
        },
        {
          "name": "stdout",
          "output_type": "stream",
          "text": [
            "EPOCH 66/150 :\n"
          ]
        },
        {
          "name": "stderr",
          "output_type": "stream",
          "text": [
            "  train: 100%|██████████| 469/469 [00:11<00:00, 39.67it/s, train_acc=92.057, train_loss=1.54]\n",
            "   test: 100%|██████████| 79/79 [00:02<00:00, 37.84it/s, test_acc=90.744, test_loss=1.55]\n"
          ]
        },
        {
          "name": "stdout",
          "output_type": "stream",
          "text": [
            "EPOCH 67/150 :\n"
          ]
        },
        {
          "name": "stderr",
          "output_type": "stream",
          "text": [
            "  train: 100%|██████████| 469/469 [00:11<00:00, 39.85it/s, train_acc=92.241, train_loss=1.54]\n",
            "   test: 100%|██████████| 79/79 [00:02<00:00, 38.60it/s, test_acc=90.576, test_loss=1.56]\n"
          ]
        },
        {
          "name": "stdout",
          "output_type": "stream",
          "text": [
            "EPOCH 68/150 :\n"
          ]
        },
        {
          "name": "stderr",
          "output_type": "stream",
          "text": [
            "  train: 100%|██████████| 469/469 [00:11<00:00, 40.48it/s, train_acc=92.327, train_loss=1.54]\n",
            "   test: 100%|██████████| 79/79 [00:02<00:00, 35.57it/s, test_acc=90.121, test_loss=1.56]\n"
          ]
        },
        {
          "name": "stdout",
          "output_type": "stream",
          "text": [
            "EPOCH 69/150 :\n"
          ]
        },
        {
          "name": "stderr",
          "output_type": "stream",
          "text": [
            "  train: 100%|██████████| 469/469 [00:11<00:00, 40.76it/s, train_acc=92.374, train_loss=1.54]\n",
            "   test: 100%|██████████| 79/79 [00:02<00:00, 30.28it/s, test_acc=90.536, test_loss=1.56]\n"
          ]
        },
        {
          "name": "stdout",
          "output_type": "stream",
          "text": [
            "EPOCH 70/150 :\n"
          ]
        },
        {
          "name": "stderr",
          "output_type": "stream",
          "text": [
            "  train: 100%|██████████| 469/469 [00:11<00:00, 39.88it/s, train_acc=92.361, train_loss=1.54]\n",
            "   test: 100%|██████████| 79/79 [00:02<00:00, 39.31it/s, test_acc=90.813, test_loss=1.55]\n"
          ]
        },
        {
          "name": "stdout",
          "output_type": "stream",
          "text": [
            "EPOCH 71/150 :\n"
          ]
        },
        {
          "name": "stderr",
          "output_type": "stream",
          "text": [
            "  train: 100%|██████████| 469/469 [00:11<00:00, 40.38it/s, train_acc=92.396, train_loss=1.54]\n",
            "   test: 100%|██████████| 79/79 [00:02<00:00, 38.97it/s, test_acc=90.081, test_loss=1.56]\n"
          ]
        },
        {
          "name": "stdout",
          "output_type": "stream",
          "text": [
            "EPOCH 72/150 :\n"
          ]
        },
        {
          "name": "stderr",
          "output_type": "stream",
          "text": [
            "  train: 100%|██████████| 469/469 [00:11<00:00, 39.63it/s, train_acc=92.446, train_loss=1.54]\n",
            "   test: 100%|██████████| 79/79 [00:02<00:00, 37.93it/s, test_acc=90.061, test_loss=1.56]\n"
          ]
        },
        {
          "name": "stdout",
          "output_type": "stream",
          "text": [
            "EPOCH 73/150 :\n"
          ]
        },
        {
          "name": "stderr",
          "output_type": "stream",
          "text": [
            "  train: 100%|██████████| 469/469 [00:11<00:00, 40.56it/s, train_acc=92.378, train_loss=1.54]\n",
            "   test: 100%|██████████| 79/79 [00:01<00:00, 39.70it/s, test_acc=90.457, test_loss=1.56]\n"
          ]
        },
        {
          "name": "stdout",
          "output_type": "stream",
          "text": [
            "EPOCH 74/150 :\n"
          ]
        },
        {
          "name": "stderr",
          "output_type": "stream",
          "text": [
            "  train: 100%|██████████| 469/469 [00:11<00:00, 39.81it/s, train_acc=92.612, train_loss=1.54]\n",
            "   test: 100%|██████████| 79/79 [00:02<00:00, 37.34it/s, test_acc=90.566, test_loss=1.55]\n"
          ]
        },
        {
          "name": "stdout",
          "output_type": "stream",
          "text": [
            "EPOCH 75/150 :\n"
          ]
        },
        {
          "name": "stderr",
          "output_type": "stream",
          "text": [
            "  train: 100%|██████████| 469/469 [00:11<00:00, 40.38it/s, train_acc=92.613, train_loss=1.54]\n",
            "   test: 100%|██████████| 79/79 [00:02<00:00, 33.75it/s, test_acc=90.487, test_loss=1.56]\n"
          ]
        },
        {
          "name": "stdout",
          "output_type": "stream",
          "text": [
            "EPOCH 76/150 :\n"
          ]
        },
        {
          "name": "stderr",
          "output_type": "stream",
          "text": [
            "  train: 100%|██████████| 469/469 [00:11<00:00, 40.78it/s, train_acc=92.610, train_loss=1.54]\n",
            "   test: 100%|██████████| 79/79 [00:02<00:00, 32.35it/s, test_acc=90.724, test_loss=1.55]\n"
          ]
        },
        {
          "name": "stdout",
          "output_type": "stream",
          "text": [
            "EPOCH 77/150 :\n"
          ]
        },
        {
          "name": "stderr",
          "output_type": "stream",
          "text": [
            "  train: 100%|██████████| 469/469 [00:11<00:00, 39.88it/s, train_acc=92.657, train_loss=1.54]\n",
            "   test: 100%|██████████| 79/79 [00:02<00:00, 38.95it/s, test_acc=90.941, test_loss=1.55]\n"
          ]
        },
        {
          "name": "stdout",
          "output_type": "stream",
          "text": [
            "EPOCH 78/150 :\n"
          ]
        },
        {
          "name": "stderr",
          "output_type": "stream",
          "text": [
            "  train: 100%|██████████| 469/469 [00:11<00:00, 39.68it/s, train_acc=92.825, train_loss=1.53]\n",
            "   test: 100%|██████████| 79/79 [00:02<00:00, 37.97it/s, test_acc=90.457, test_loss=1.56]\n"
          ]
        },
        {
          "name": "stdout",
          "output_type": "stream",
          "text": [
            "EPOCH 79/150 :\n"
          ]
        },
        {
          "name": "stderr",
          "output_type": "stream",
          "text": [
            "  train: 100%|██████████| 469/469 [00:11<00:00, 39.58it/s, train_acc=92.894, train_loss=1.53]\n",
            "   test: 100%|██████████| 79/79 [00:02<00:00, 38.56it/s, test_acc=90.704, test_loss=1.55]\n"
          ]
        },
        {
          "name": "stdout",
          "output_type": "stream",
          "text": [
            "EPOCH 80/150 :\n"
          ]
        },
        {
          "name": "stderr",
          "output_type": "stream",
          "text": [
            "  train: 100%|██████████| 469/469 [00:11<00:00, 40.25it/s, train_acc=92.984, train_loss=1.53]\n",
            "   test: 100%|██████████| 79/79 [00:02<00:00, 38.17it/s, test_acc=90.645, test_loss=1.55]\n"
          ]
        },
        {
          "name": "stdout",
          "output_type": "stream",
          "text": [
            "EPOCH 81/150 :\n"
          ]
        },
        {
          "name": "stderr",
          "output_type": "stream",
          "text": [
            "  train: 100%|██████████| 469/469 [00:11<00:00, 39.83it/s, train_acc=92.984, train_loss=1.53]\n",
            "   test: 100%|██████████| 79/79 [00:02<00:00, 38.32it/s, test_acc=90.585, test_loss=1.56]\n"
          ]
        },
        {
          "name": "stdout",
          "output_type": "stream",
          "text": [
            "EPOCH 82/150 :\n"
          ]
        },
        {
          "name": "stderr",
          "output_type": "stream",
          "text": [
            "  train: 100%|██████████| 469/469 [00:11<00:00, 40.04it/s, train_acc=93.048, train_loss=1.53]\n",
            "   test: 100%|██████████| 79/79 [00:02<00:00, 30.61it/s, test_acc=90.674, test_loss=1.55]\n"
          ]
        },
        {
          "name": "stdout",
          "output_type": "stream",
          "text": [
            "EPOCH 83/150 :\n"
          ]
        },
        {
          "name": "stderr",
          "output_type": "stream",
          "text": [
            "  train: 100%|██████████| 469/469 [00:11<00:00, 39.12it/s, train_acc=93.008, train_loss=1.53]\n",
            "   test: 100%|██████████| 79/79 [00:02<00:00, 37.05it/s, test_acc=90.902, test_loss=1.55]\n"
          ]
        },
        {
          "name": "stdout",
          "output_type": "stream",
          "text": [
            "EPOCH 84/150 :\n"
          ]
        },
        {
          "name": "stderr",
          "output_type": "stream",
          "text": [
            "  train: 100%|██████████| 469/469 [00:11<00:00, 39.85it/s, train_acc=93.190, train_loss=1.53]\n",
            "   test: 100%|██████████| 79/79 [00:02<00:00, 38.86it/s, test_acc=91.268, test_loss=1.55]\n"
          ]
        },
        {
          "name": "stdout",
          "output_type": "stream",
          "text": [
            "EPOCH 85/150 :\n"
          ]
        },
        {
          "name": "stderr",
          "output_type": "stream",
          "text": [
            "  train: 100%|██████████| 469/469 [00:11<00:00, 39.38it/s, train_acc=93.220, train_loss=1.53]\n",
            "   test: 100%|██████████| 79/79 [00:02<00:00, 36.68it/s, test_acc=91.446, test_loss=1.55]\n"
          ]
        },
        {
          "name": "stdout",
          "output_type": "stream",
          "text": [
            "EPOCH 86/150 :\n"
          ]
        },
        {
          "name": "stderr",
          "output_type": "stream",
          "text": [
            "  train: 100%|██████████| 469/469 [00:11<00:00, 40.08it/s, train_acc=93.163, train_loss=1.53]\n",
            "   test: 100%|██████████| 79/79 [00:02<00:00, 38.60it/s, test_acc=91.139, test_loss=1.55]\n"
          ]
        },
        {
          "name": "stdout",
          "output_type": "stream",
          "text": [
            "EPOCH 87/150 :\n"
          ]
        },
        {
          "name": "stderr",
          "output_type": "stream",
          "text": [
            "  train: 100%|██████████| 469/469 [00:11<00:00, 40.02it/s, train_acc=93.038, train_loss=1.53]\n",
            "   test: 100%|██████████| 79/79 [00:02<00:00, 38.81it/s, test_acc=90.961, test_loss=1.55]\n"
          ]
        },
        {
          "name": "stdout",
          "output_type": "stream",
          "text": [
            "EPOCH 88/150 :\n"
          ]
        },
        {
          "name": "stderr",
          "output_type": "stream",
          "text": [
            "  train: 100%|██████████| 469/469 [00:11<00:00, 39.97it/s, train_acc=93.386, train_loss=1.53]\n",
            "   test: 100%|██████████| 79/79 [00:02<00:00, 34.11it/s, test_acc=90.843, test_loss=1.55]\n"
          ]
        },
        {
          "name": "stdout",
          "output_type": "stream",
          "text": [
            "EPOCH 89/150 :\n"
          ]
        },
        {
          "name": "stderr",
          "output_type": "stream",
          "text": [
            "  train: 100%|██████████| 469/469 [00:11<00:00, 40.67it/s, train_acc=93.361, train_loss=1.53]\n",
            "   test: 100%|██████████| 79/79 [00:02<00:00, 30.92it/s, test_acc=90.951, test_loss=1.55]\n"
          ]
        },
        {
          "name": "stdout",
          "output_type": "stream",
          "text": [
            "EPOCH 90/150 :\n"
          ]
        },
        {
          "name": "stderr",
          "output_type": "stream",
          "text": [
            "  train: 100%|██████████| 469/469 [00:11<00:00, 40.08it/s, train_acc=93.422, train_loss=1.53]\n",
            "   test: 100%|██████████| 79/79 [00:02<00:00, 38.48it/s, test_acc=91.367, test_loss=1.55]\n"
          ]
        },
        {
          "name": "stdout",
          "output_type": "stream",
          "text": [
            "EPOCH 91/150 :\n"
          ]
        },
        {
          "name": "stderr",
          "output_type": "stream",
          "text": [
            "  train: 100%|██████████| 469/469 [00:11<00:00, 40.05it/s, train_acc=93.531, train_loss=1.53]\n",
            "   test: 100%|██████████| 79/79 [00:02<00:00, 39.04it/s, test_acc=91.169, test_loss=1.55]\n"
          ]
        },
        {
          "name": "stdout",
          "output_type": "stream",
          "text": [
            "EPOCH 92/150 :\n"
          ]
        },
        {
          "name": "stderr",
          "output_type": "stream",
          "text": [
            "  train: 100%|██████████| 469/469 [00:11<00:00, 39.26it/s, train_acc=93.630, train_loss=1.53]\n",
            "   test: 100%|██████████| 79/79 [00:02<00:00, 38.19it/s, test_acc=91.446, test_loss=1.55]\n"
          ]
        },
        {
          "name": "stdout",
          "output_type": "stream",
          "text": [
            "EPOCH 93/150 :\n"
          ]
        },
        {
          "name": "stderr",
          "output_type": "stream",
          "text": [
            "  train: 100%|██████████| 469/469 [00:11<00:00, 40.44it/s, train_acc=93.460, train_loss=1.53]\n",
            "   test: 100%|██████████| 79/79 [00:02<00:00, 38.33it/s, test_acc=91.416, test_loss=1.55]\n"
          ]
        },
        {
          "name": "stdout",
          "output_type": "stream",
          "text": [
            "EPOCH 94/150 :\n"
          ]
        },
        {
          "name": "stderr",
          "output_type": "stream",
          "text": [
            "  train: 100%|██████████| 469/469 [00:11<00:00, 39.44it/s, train_acc=93.644, train_loss=1.53]\n",
            "   test: 100%|██████████| 79/79 [00:02<00:00, 38.81it/s, test_acc=91.179, test_loss=1.55]\n"
          ]
        },
        {
          "name": "stdout",
          "output_type": "stream",
          "text": [
            "EPOCH 95/150 :\n"
          ]
        },
        {
          "name": "stderr",
          "output_type": "stream",
          "text": [
            "  train: 100%|██████████| 469/469 [00:11<00:00, 40.02it/s, train_acc=93.586, train_loss=1.53]\n",
            "   test: 100%|██████████| 79/79 [00:02<00:00, 30.38it/s, test_acc=90.022, test_loss=1.56]\n"
          ]
        },
        {
          "name": "stdout",
          "output_type": "stream",
          "text": [
            "EPOCH 96/150 :\n"
          ]
        },
        {
          "name": "stderr",
          "output_type": "stream",
          "text": [
            "  train: 100%|██████████| 469/469 [00:11<00:00, 39.22it/s, train_acc=93.719, train_loss=1.53]\n",
            "   test: 100%|██████████| 79/79 [00:02<00:00, 36.44it/s, test_acc=91.426, test_loss=1.55]\n"
          ]
        },
        {
          "name": "stdout",
          "output_type": "stream",
          "text": [
            "EPOCH 97/150 :\n"
          ]
        },
        {
          "name": "stderr",
          "output_type": "stream",
          "text": [
            "  train: 100%|██████████| 469/469 [00:11<00:00, 40.29it/s, train_acc=93.762, train_loss=1.52]\n",
            "   test: 100%|██████████| 79/79 [00:02<00:00, 39.10it/s, test_acc=91.080, test_loss=1.55]\n"
          ]
        },
        {
          "name": "stdout",
          "output_type": "stream",
          "text": [
            "EPOCH 98/150 :\n"
          ]
        },
        {
          "name": "stderr",
          "output_type": "stream",
          "text": [
            "  train: 100%|██████████| 469/469 [00:11<00:00, 39.53it/s, train_acc=93.865, train_loss=1.52]\n",
            "   test: 100%|██████████| 79/79 [00:02<00:00, 36.04it/s, test_acc=91.466, test_loss=1.55]\n"
          ]
        },
        {
          "name": "stdout",
          "output_type": "stream",
          "text": [
            "EPOCH 99/150 :\n"
          ]
        },
        {
          "name": "stderr",
          "output_type": "stream",
          "text": [
            "  train: 100%|██████████| 469/469 [00:11<00:00, 39.92it/s, train_acc=93.803, train_loss=1.52]\n",
            "   test: 100%|██████████| 79/79 [00:02<00:00, 38.26it/s, test_acc=91.386, test_loss=1.55]\n"
          ]
        },
        {
          "name": "stdout",
          "output_type": "stream",
          "text": [
            "EPOCH 100/150 :\n"
          ]
        },
        {
          "name": "stderr",
          "output_type": "stream",
          "text": [
            "  train: 100%|██████████| 469/469 [00:11<00:00, 39.84it/s, train_acc=93.889, train_loss=1.52]\n",
            "   test: 100%|██████████| 79/79 [00:02<00:00, 36.34it/s, test_acc=91.377, test_loss=1.55]\n"
          ]
        },
        {
          "name": "stdout",
          "output_type": "stream",
          "text": [
            "EPOCH 101/150 :\n"
          ]
        },
        {
          "name": "stderr",
          "output_type": "stream",
          "text": [
            "  train: 100%|██████████| 469/469 [00:11<00:00, 39.30it/s, train_acc=93.865, train_loss=1.52]\n",
            "   test: 100%|██████████| 79/79 [00:02<00:00, 31.79it/s, test_acc=91.100, test_loss=1.55]\n"
          ]
        },
        {
          "name": "stdout",
          "output_type": "stream",
          "text": [
            "EPOCH 102/150 :\n"
          ]
        },
        {
          "name": "stderr",
          "output_type": "stream",
          "text": [
            "  train: 100%|██████████| 469/469 [00:11<00:00, 40.36it/s, train_acc=93.942, train_loss=1.52]\n",
            "   test: 100%|██████████| 79/79 [00:02<00:00, 32.48it/s, test_acc=91.466, test_loss=1.55]\n"
          ]
        },
        {
          "name": "stdout",
          "output_type": "stream",
          "text": [
            "EPOCH 103/150 :\n"
          ]
        },
        {
          "name": "stderr",
          "output_type": "stream",
          "text": [
            "  train: 100%|██████████| 469/469 [00:11<00:00, 39.66it/s, train_acc=93.963, train_loss=1.52]\n",
            "   test: 100%|██████████| 79/79 [00:02<00:00, 38.03it/s, test_acc=91.634, test_loss=1.55]\n"
          ]
        },
        {
          "name": "stdout",
          "output_type": "stream",
          "text": [
            "EPOCH 104/150 :\n"
          ]
        },
        {
          "name": "stderr",
          "output_type": "stream",
          "text": [
            "  train: 100%|██████████| 469/469 [00:11<00:00, 39.97it/s, train_acc=93.950, train_loss=1.52]\n",
            "   test: 100%|██████████| 79/79 [00:02<00:00, 38.76it/s, test_acc=91.327, test_loss=1.55]\n"
          ]
        },
        {
          "name": "stdout",
          "output_type": "stream",
          "text": [
            "EPOCH 105/150 :\n"
          ]
        },
        {
          "name": "stderr",
          "output_type": "stream",
          "text": [
            "  train: 100%|██████████| 469/469 [00:11<00:00, 39.26it/s, train_acc=94.177, train_loss=1.52]\n",
            "   test: 100%|██████████| 79/79 [00:02<00:00, 38.56it/s, test_acc=91.475, test_loss=1.55]\n"
          ]
        },
        {
          "name": "stdout",
          "output_type": "stream",
          "text": [
            "EPOCH 106/150 :\n"
          ]
        },
        {
          "name": "stderr",
          "output_type": "stream",
          "text": [
            "  train: 100%|██████████| 469/469 [00:11<00:00, 39.92it/s, train_acc=94.214, train_loss=1.52]\n",
            "   test: 100%|██████████| 79/79 [00:02<00:00, 38.85it/s, test_acc=91.386, test_loss=1.55]\n"
          ]
        },
        {
          "name": "stdout",
          "output_type": "stream",
          "text": [
            "EPOCH 107/150 :\n"
          ]
        },
        {
          "name": "stderr",
          "output_type": "stream",
          "text": [
            "  train: 100%|██████████| 469/469 [00:12<00:00, 38.84it/s, train_acc=94.237, train_loss=1.52]\n",
            "   test: 100%|██████████| 79/79 [00:02<00:00, 34.98it/s, test_acc=91.505, test_loss=1.55]\n"
          ]
        },
        {
          "name": "stdout",
          "output_type": "stream",
          "text": [
            "EPOCH 108/150 :\n"
          ]
        },
        {
          "name": "stderr",
          "output_type": "stream",
          "text": [
            "  train: 100%|██████████| 469/469 [00:11<00:00, 40.40it/s, train_acc=94.192, train_loss=1.52]\n",
            "   test: 100%|██████████| 79/79 [00:02<00:00, 30.54it/s, test_acc=91.495, test_loss=1.55]\n"
          ]
        },
        {
          "name": "stdout",
          "output_type": "stream",
          "text": [
            "EPOCH 109/150 :\n"
          ]
        },
        {
          "name": "stderr",
          "output_type": "stream",
          "text": [
            "  train: 100%|██████████| 469/469 [00:11<00:00, 39.57it/s, train_acc=94.286, train_loss=1.52]\n",
            "   test: 100%|██████████| 79/79 [00:02<00:00, 37.92it/s, test_acc=91.248, test_loss=1.55]\n"
          ]
        },
        {
          "name": "stdout",
          "output_type": "stream",
          "text": [
            "EPOCH 110/150 :\n"
          ]
        },
        {
          "name": "stderr",
          "output_type": "stream",
          "text": [
            "  train: 100%|██████████| 469/469 [00:11<00:00, 40.35it/s, train_acc=94.296, train_loss=1.52]\n",
            "   test: 100%|██████████| 79/79 [00:02<00:00, 37.91it/s, test_acc=91.327, test_loss=1.55]\n"
          ]
        },
        {
          "name": "stdout",
          "output_type": "stream",
          "text": [
            "EPOCH 111/150 :\n"
          ]
        },
        {
          "name": "stderr",
          "output_type": "stream",
          "text": [
            "  train: 100%|██████████| 469/469 [00:11<00:00, 39.96it/s, train_acc=94.300, train_loss=1.52]\n",
            "   test: 100%|██████████| 79/79 [00:02<00:00, 36.38it/s, test_acc=91.456, test_loss=1.55]\n"
          ]
        },
        {
          "name": "stdout",
          "output_type": "stream",
          "text": [
            "EPOCH 112/150 :\n"
          ]
        },
        {
          "name": "stderr",
          "output_type": "stream",
          "text": [
            "  train: 100%|██████████| 469/469 [00:11<00:00, 39.79it/s, train_acc=94.392, train_loss=1.52]\n",
            "   test: 100%|██████████| 79/79 [00:02<00:00, 37.93it/s, test_acc=91.752, test_loss=1.54]\n"
          ]
        },
        {
          "name": "stdout",
          "output_type": "stream",
          "text": [
            "EPOCH 113/150 :\n"
          ]
        },
        {
          "name": "stderr",
          "output_type": "stream",
          "text": [
            "  train: 100%|██████████| 469/469 [00:11<00:00, 40.01it/s, train_acc=94.408, train_loss=1.52]\n",
            "   test: 100%|██████████| 79/79 [00:02<00:00, 38.71it/s, test_acc=91.535, test_loss=1.55]\n"
          ]
        },
        {
          "name": "stdout",
          "output_type": "stream",
          "text": [
            "EPOCH 114/150 :\n"
          ]
        },
        {
          "name": "stderr",
          "output_type": "stream",
          "text": [
            "  train: 100%|██████████| 469/469 [00:11<00:00, 39.46it/s, train_acc=94.450, train_loss=1.52]\n",
            "   test: 100%|██████████| 79/79 [00:02<00:00, 32.76it/s, test_acc=91.584, test_loss=1.55]\n"
          ]
        },
        {
          "name": "stdout",
          "output_type": "stream",
          "text": [
            "EPOCH 115/150 :\n"
          ]
        },
        {
          "name": "stderr",
          "output_type": "stream",
          "text": [
            "  train: 100%|██████████| 469/469 [00:11<00:00, 40.71it/s, train_acc=94.439, train_loss=1.52]\n",
            "   test: 100%|██████████| 79/79 [00:02<00:00, 32.28it/s, test_acc=91.624, test_loss=1.55]\n"
          ]
        },
        {
          "name": "stdout",
          "output_type": "stream",
          "text": [
            "EPOCH 116/150 :\n"
          ]
        },
        {
          "name": "stderr",
          "output_type": "stream",
          "text": [
            "  train: 100%|██████████| 469/469 [00:11<00:00, 39.59it/s, train_acc=94.433, train_loss=1.52]\n",
            "   test: 100%|██████████| 79/79 [00:02<00:00, 38.93it/s, test_acc=91.772, test_loss=1.55]\n"
          ]
        },
        {
          "name": "stdout",
          "output_type": "stream",
          "text": [
            "EPOCH 117/150 :\n"
          ]
        },
        {
          "name": "stderr",
          "output_type": "stream",
          "text": [
            "  train: 100%|██████████| 469/469 [00:11<00:00, 40.43it/s, train_acc=94.464, train_loss=1.52]\n",
            "   test: 100%|██████████| 79/79 [00:02<00:00, 36.91it/s, test_acc=91.841, test_loss=1.54]\n"
          ]
        },
        {
          "name": "stdout",
          "output_type": "stream",
          "text": [
            "EPOCH 118/150 :\n"
          ]
        },
        {
          "name": "stderr",
          "output_type": "stream",
          "text": [
            "  train: 100%|██████████| 469/469 [00:11<00:00, 39.52it/s, train_acc=94.508, train_loss=1.52]\n",
            "   test: 100%|██████████| 79/79 [00:02<00:00, 38.18it/s, test_acc=91.653, test_loss=1.54]\n"
          ]
        },
        {
          "name": "stdout",
          "output_type": "stream",
          "text": [
            "EPOCH 119/150 :\n"
          ]
        },
        {
          "name": "stderr",
          "output_type": "stream",
          "text": [
            "  train: 100%|██████████| 469/469 [00:11<00:00, 40.14it/s, train_acc=94.586, train_loss=1.52]\n",
            "   test: 100%|██████████| 79/79 [00:02<00:00, 39.23it/s, test_acc=91.406, test_loss=1.55]\n"
          ]
        },
        {
          "name": "stdout",
          "output_type": "stream",
          "text": [
            "EPOCH 120/150 :\n"
          ]
        },
        {
          "name": "stderr",
          "output_type": "stream",
          "text": [
            "  train: 100%|██████████| 469/469 [00:11<00:00, 39.14it/s, train_acc=94.619, train_loss=1.52]\n",
            "   test: 100%|██████████| 79/79 [00:02<00:00, 36.15it/s, test_acc=91.268, test_loss=1.55]\n"
          ]
        },
        {
          "name": "stdout",
          "output_type": "stream",
          "text": [
            "EPOCH 121/150 :\n"
          ]
        },
        {
          "name": "stderr",
          "output_type": "stream",
          "text": [
            "  train: 100%|██████████| 469/469 [00:11<00:00, 40.50it/s, train_acc=94.658, train_loss=1.52]\n",
            "   test: 100%|██████████| 79/79 [00:02<00:00, 29.43it/s, test_acc=91.782, test_loss=1.54]\n"
          ]
        },
        {
          "name": "stdout",
          "output_type": "stream",
          "text": [
            "EPOCH 122/150 :\n"
          ]
        },
        {
          "name": "stderr",
          "output_type": "stream",
          "text": [
            "  train: 100%|██████████| 469/469 [00:11<00:00, 40.01it/s, train_acc=94.698, train_loss=1.52]\n",
            "   test: 100%|██████████| 79/79 [00:02<00:00, 37.05it/s, test_acc=91.555, test_loss=1.55]\n"
          ]
        },
        {
          "name": "stdout",
          "output_type": "stream",
          "text": [
            "EPOCH 123/150 :\n"
          ]
        },
        {
          "name": "stderr",
          "output_type": "stream",
          "text": [
            "  train: 100%|██████████| 469/469 [00:11<00:00, 39.37it/s, train_acc=94.712, train_loss=1.52]\n",
            "   test: 100%|██████████| 79/79 [00:02<00:00, 37.18it/s, test_acc=91.663, test_loss=1.55]\n"
          ]
        },
        {
          "name": "stdout",
          "output_type": "stream",
          "text": [
            "EPOCH 124/150 :\n"
          ]
        },
        {
          "name": "stderr",
          "output_type": "stream",
          "text": [
            "  train: 100%|██████████| 469/469 [00:11<00:00, 39.17it/s, train_acc=94.789, train_loss=1.51]\n",
            "   test: 100%|██████████| 79/79 [00:02<00:00, 37.83it/s, test_acc=91.555, test_loss=1.55]\n"
          ]
        },
        {
          "name": "stdout",
          "output_type": "stream",
          "text": [
            "EPOCH 125/150 :\n"
          ]
        },
        {
          "name": "stderr",
          "output_type": "stream",
          "text": [
            "  train: 100%|██████████| 469/469 [00:11<00:00, 39.40it/s, train_acc=94.833, train_loss=1.51]\n",
            "   test: 100%|██████████| 79/79 [00:02<00:00, 38.05it/s, test_acc=91.485, test_loss=1.55]\n"
          ]
        },
        {
          "name": "stdout",
          "output_type": "stream",
          "text": [
            "EPOCH 126/150 :\n"
          ]
        },
        {
          "name": "stderr",
          "output_type": "stream",
          "text": [
            "  train: 100%|██████████| 469/469 [00:12<00:00, 36.19it/s, train_acc=94.739, train_loss=1.51]\n",
            "   test: 100%|██████████| 79/79 [00:02<00:00, 34.11it/s, test_acc=91.693, test_loss=1.54]\n"
          ]
        },
        {
          "name": "stdout",
          "output_type": "stream",
          "text": [
            "EPOCH 127/150 :\n"
          ]
        },
        {
          "name": "stderr",
          "output_type": "stream",
          "text": [
            "  train: 100%|██████████| 469/469 [00:11<00:00, 39.16it/s, train_acc=94.905, train_loss=1.51]\n",
            "   test: 100%|██████████| 79/79 [00:02<00:00, 33.02it/s, test_acc=91.653, test_loss=1.55]\n"
          ]
        },
        {
          "name": "stdout",
          "output_type": "stream",
          "text": [
            "EPOCH 128/150 :\n"
          ]
        },
        {
          "name": "stderr",
          "output_type": "stream",
          "text": [
            "  train: 100%|██████████| 469/469 [00:11<00:00, 40.04it/s, train_acc=94.873, train_loss=1.51]\n",
            "   test: 100%|██████████| 79/79 [00:02<00:00, 38.28it/s, test_acc=91.723, test_loss=1.54]\n"
          ]
        },
        {
          "name": "stdout",
          "output_type": "stream",
          "text": [
            "EPOCH 129/150 :\n"
          ]
        },
        {
          "name": "stderr",
          "output_type": "stream",
          "text": [
            "  train: 100%|██████████| 469/469 [00:11<00:00, 39.81it/s, train_acc=95.019, train_loss=1.51]\n",
            "   test: 100%|██████████| 79/79 [00:02<00:00, 37.83it/s, test_acc=91.644, test_loss=1.55]\n"
          ]
        },
        {
          "name": "stdout",
          "output_type": "stream",
          "text": [
            "EPOCH 130/150 :\n"
          ]
        },
        {
          "name": "stderr",
          "output_type": "stream",
          "text": [
            "  train: 100%|██████████| 469/469 [00:11<00:00, 39.47it/s, train_acc=94.999, train_loss=1.51]\n",
            "   test: 100%|██████████| 79/79 [00:02<00:00, 38.25it/s, test_acc=91.822, test_loss=1.54]\n"
          ]
        },
        {
          "name": "stdout",
          "output_type": "stream",
          "text": [
            "EPOCH 131/150 :\n"
          ]
        },
        {
          "name": "stderr",
          "output_type": "stream",
          "text": [
            "  train: 100%|██████████| 469/469 [00:11<00:00, 39.25it/s, train_acc=94.970, train_loss=1.51]\n",
            "   test: 100%|██████████| 79/79 [00:02<00:00, 38.04it/s, test_acc=91.762, test_loss=1.54]\n"
          ]
        },
        {
          "name": "stdout",
          "output_type": "stream",
          "text": [
            "EPOCH 132/150 :\n"
          ]
        },
        {
          "name": "stderr",
          "output_type": "stream",
          "text": [
            "  train: 100%|██████████| 469/469 [00:11<00:00, 40.04it/s, train_acc=95.141, train_loss=1.51]\n",
            "   test: 100%|██████████| 79/79 [00:02<00:00, 35.02it/s, test_acc=91.752, test_loss=1.54]\n"
          ]
        },
        {
          "name": "stdout",
          "output_type": "stream",
          "text": [
            "EPOCH 133/150 :\n"
          ]
        },
        {
          "name": "stderr",
          "output_type": "stream",
          "text": [
            "  train: 100%|██████████| 469/469 [00:11<00:00, 40.80it/s, train_acc=95.044, train_loss=1.51]\n",
            "   test: 100%|██████████| 79/79 [00:02<00:00, 28.22it/s, test_acc=91.297, test_loss=1.55]\n"
          ]
        },
        {
          "name": "stdout",
          "output_type": "stream",
          "text": [
            "EPOCH 134/150 :\n"
          ]
        },
        {
          "name": "stderr",
          "output_type": "stream",
          "text": [
            "  train: 100%|██████████| 469/469 [00:11<00:00, 40.77it/s, train_acc=95.148, train_loss=1.51]\n",
            "   test: 100%|██████████| 79/79 [00:02<00:00, 36.34it/s, test_acc=91.485, test_loss=1.55]\n"
          ]
        },
        {
          "name": "stdout",
          "output_type": "stream",
          "text": [
            "EPOCH 135/150 :\n"
          ]
        },
        {
          "name": "stderr",
          "output_type": "stream",
          "text": [
            "  train: 100%|██████████| 469/469 [00:11<00:00, 39.69it/s, train_acc=95.140, train_loss=1.51]\n",
            "   test: 100%|██████████| 79/79 [00:02<00:00, 34.98it/s, test_acc=91.693, test_loss=1.54]\n"
          ]
        },
        {
          "name": "stdout",
          "output_type": "stream",
          "text": [
            "EPOCH 136/150 :\n"
          ]
        },
        {
          "name": "stderr",
          "output_type": "stream",
          "text": [
            "  train: 100%|██████████| 469/469 [00:11<00:00, 39.69it/s, train_acc=95.290, train_loss=1.51]\n",
            "   test: 100%|██████████| 79/79 [00:02<00:00, 37.87it/s, test_acc=91.782, test_loss=1.54]\n"
          ]
        },
        {
          "name": "stdout",
          "output_type": "stream",
          "text": [
            "EPOCH 137/150 :\n"
          ]
        },
        {
          "name": "stderr",
          "output_type": "stream",
          "text": [
            "  train: 100%|██████████| 469/469 [00:11<00:00, 39.84it/s, train_acc=95.293, train_loss=1.51]\n",
            "   test: 100%|██████████| 79/79 [00:02<00:00, 37.64it/s, test_acc=91.920, test_loss=1.54]\n"
          ]
        },
        {
          "name": "stdout",
          "output_type": "stream",
          "text": [
            "EPOCH 138/150 :\n"
          ]
        },
        {
          "name": "stderr",
          "output_type": "stream",
          "text": [
            "  train: 100%|██████████| 469/469 [00:11<00:00, 39.83it/s, train_acc=95.216, train_loss=1.51]\n",
            "   test: 100%|██████████| 79/79 [00:02<00:00, 37.94it/s, test_acc=91.634, test_loss=1.54]\n"
          ]
        },
        {
          "name": "stdout",
          "output_type": "stream",
          "text": [
            "EPOCH 139/150 :\n"
          ]
        },
        {
          "name": "stderr",
          "output_type": "stream",
          "text": [
            "  train: 100%|██████████| 469/469 [00:11<00:00, 39.79it/s, train_acc=95.311, train_loss=1.51]\n",
            "   test: 100%|██████████| 79/79 [00:02<00:00, 31.79it/s, test_acc=91.822, test_loss=1.54]\n"
          ]
        },
        {
          "name": "stdout",
          "output_type": "stream",
          "text": [
            "EPOCH 140/150 :\n"
          ]
        },
        {
          "name": "stderr",
          "output_type": "stream",
          "text": [
            "  train: 100%|██████████| 469/469 [00:11<00:00, 39.54it/s, train_acc=95.347, train_loss=1.51]\n",
            "   test: 100%|██████████| 79/79 [00:02<00:00, 33.01it/s, test_acc=91.733, test_loss=1.54]\n"
          ]
        },
        {
          "name": "stdout",
          "output_type": "stream",
          "text": [
            "EPOCH 141/150 :\n"
          ]
        },
        {
          "name": "stderr",
          "output_type": "stream",
          "text": [
            "  train: 100%|██████████| 469/469 [00:11<00:00, 39.73it/s, train_acc=95.291, train_loss=1.51]\n",
            "   test: 100%|██████████| 79/79 [00:02<00:00, 37.97it/s, test_acc=91.822, test_loss=1.54]\n"
          ]
        },
        {
          "name": "stdout",
          "output_type": "stream",
          "text": [
            "EPOCH 142/150 :\n"
          ]
        },
        {
          "name": "stderr",
          "output_type": "stream",
          "text": [
            "  train: 100%|██████████| 469/469 [00:11<00:00, 39.47it/s, train_acc=95.337, train_loss=1.51]\n",
            "   test: 100%|██████████| 79/79 [00:02<00:00, 38.01it/s, test_acc=92.000, test_loss=1.54]\n"
          ]
        },
        {
          "name": "stdout",
          "output_type": "stream",
          "text": [
            "EPOCH 143/150 :\n"
          ]
        },
        {
          "name": "stderr",
          "output_type": "stream",
          "text": [
            "  train: 100%|██████████| 469/469 [00:11<00:00, 40.04it/s, train_acc=95.321, train_loss=1.51]\n",
            "   test: 100%|██████████| 79/79 [00:02<00:00, 37.80it/s, test_acc=91.723, test_loss=1.54]\n"
          ]
        },
        {
          "name": "stdout",
          "output_type": "stream",
          "text": [
            "EPOCH 144/150 :\n"
          ]
        },
        {
          "name": "stderr",
          "output_type": "stream",
          "text": [
            "  train: 100%|██████████| 469/469 [00:11<00:00, 39.17it/s, train_acc=95.444, train_loss=1.51]\n",
            "   test: 100%|██████████| 79/79 [00:02<00:00, 37.51it/s, test_acc=91.683, test_loss=1.54]\n"
          ]
        },
        {
          "name": "stdout",
          "output_type": "stream",
          "text": [
            "EPOCH 145/150 :\n"
          ]
        },
        {
          "name": "stderr",
          "output_type": "stream",
          "text": [
            "  train: 100%|██████████| 469/469 [00:11<00:00, 39.86it/s, train_acc=95.465, train_loss=1.51]\n",
            "   test: 100%|██████████| 79/79 [00:02<00:00, 34.90it/s, test_acc=91.624, test_loss=1.54]\n"
          ]
        },
        {
          "name": "stdout",
          "output_type": "stream",
          "text": [
            "EPOCH 146/150 :\n"
          ]
        },
        {
          "name": "stderr",
          "output_type": "stream",
          "text": [
            "  train: 100%|██████████| 469/469 [00:11<00:00, 40.57it/s, train_acc=95.455, train_loss=1.51]\n",
            "   test: 100%|██████████| 79/79 [00:02<00:00, 28.04it/s, test_acc=91.881, test_loss=1.54]\n"
          ]
        },
        {
          "name": "stdout",
          "output_type": "stream",
          "text": [
            "EPOCH 147/150 :\n"
          ]
        },
        {
          "name": "stderr",
          "output_type": "stream",
          "text": [
            "  train: 100%|██████████| 469/469 [00:11<00:00, 39.76it/s, train_acc=95.461, train_loss=1.51]\n",
            "   test: 100%|██████████| 79/79 [00:02<00:00, 37.86it/s, test_acc=91.911, test_loss=1.54]\n"
          ]
        },
        {
          "name": "stdout",
          "output_type": "stream",
          "text": [
            "EPOCH 148/150 :\n"
          ]
        },
        {
          "name": "stderr",
          "output_type": "stream",
          "text": [
            "  train: 100%|██████████| 469/469 [00:11<00:00, 40.02it/s, train_acc=95.455, train_loss=1.51]\n",
            "   test: 100%|██████████| 79/79 [00:02<00:00, 36.27it/s, test_acc=91.683, test_loss=1.54]\n"
          ]
        },
        {
          "name": "stdout",
          "output_type": "stream",
          "text": [
            "EPOCH 149/150 :\n"
          ]
        },
        {
          "name": "stderr",
          "output_type": "stream",
          "text": [
            "  train: 100%|██████████| 469/469 [00:11<00:00, 39.93it/s, train_acc=95.577, train_loss=1.51]\n",
            "   test: 100%|██████████| 79/79 [00:02<00:00, 37.22it/s, test_acc=92.000, test_loss=1.54]\n"
          ]
        },
        {
          "name": "stdout",
          "output_type": "stream",
          "text": [
            "EPOCH 150/150 :\n"
          ]
        },
        {
          "name": "stderr",
          "output_type": "stream",
          "text": [
            "  train: 100%|██████████| 469/469 [00:11<00:00, 40.28it/s, train_acc=95.528, train_loss=1.51]\n",
            "   test: 100%|██████████| 79/79 [00:02<00:00, 37.43it/s, test_acc=91.288, test_loss=1.55]"
          ]
        },
        {
          "name": "stdout",
          "output_type": "stream",
          "text": [
            "\n",
            "\n",
            "Train time: 2086.917 seconds\n"
          ]
        },
        {
          "name": "stderr",
          "output_type": "stream",
          "text": [
            "\n"
          ]
        }
      ],
      "source": [
        "hparams = [\"FMNIST\", \"SCNNB-b\", 150]\n",
        "SCNNB_b_FMNIST_model, SCNNB_b_FMNIST_train_loss, SCNNB_b_FMNIST_train_accuracy, SCNNB_b_FMNIST_test_loss, SCNNB_b_FMNIST_test_accuracy = train(hparams ,FMNIST_train_dataloader, FMNIST_test_dataloader)\n"
      ]
    },
    {
      "cell_type": "code",
      "execution_count": 55,
      "metadata": {
        "colab": {
          "base_uri": "https://localhost:8080/"
        },
        "id": "poyEgfzHY3k1",
        "outputId": "9b404b68-5f72-4fb5-cc53-98b55088c0a8"
      },
      "outputs": [
        {
          "name": "stdout",
          "output_type": "stream",
          "text": [
            "Maxiumum Test Accuracy for SCNNB-b model is:  89.31896064135017\n"
          ]
        }
      ],
      "source": [
        "SCNNB_b_max_acc = max(SCNNB_b_FMNIST_test_accuracy)\n",
        "SCNNB_b_MEAN = sum(SCNNB_b_FMNIST_test_accuracy)/len(SCNNB_b_FMNIST_test_accuracy)\n",
        "print(\"Maxiumum Test Accuracy for SCNNB-b model is: \", str(SCNNB_b_MEAN))"
      ]
    },
    {
      "cell_type": "code",
      "execution_count": 56,
      "metadata": {
        "id": "OAKtHLdjjUCh"
      },
      "outputs": [],
      "source": [
        "torch.save(SCNNB_b_FMNIST_model.state_dict(), 'SCNNB_b_FMNIST')"
      ]
    },
    {
      "cell_type": "code",
      "execution_count": 57,
      "metadata": {
        "id": "jK6IBXFDlqqW"
      },
      "outputs": [],
      "source": [
        "from sklearn.metrics import confusion_matrix\n",
        "from sklearn.metrics import classification_report\n",
        "\n",
        "def Testing(model, model_name, data_loader):\n",
        "\n",
        "    model.load_state_dict(torch.load(model_name))\n",
        "    # Send model to GPU\n",
        "    device = torch.device(\"cuda:0\" if torch.cuda.is_available() else \"cpu\")\n",
        "    \n",
        "    model.to(device)\n",
        "\n",
        "    # put model in eval mode\n",
        "    model.eval() \n",
        "\n",
        "    loss_fn = nn.CrossEntropyLoss()\n",
        "    def accuracy_fn(true, pred):\n",
        "        pred = F.softmax(pred, dim = 1)\n",
        "        true = torch.zeros(pred.shape[0], pred.shape[1]).scatter_(1, true.unsqueeze(1), 1.)\n",
        "        acc = (true.argmax(-1) == pred.argmax(-1)).float().detach().numpy()\n",
        "        acc = float((100 * acc.sum()) / len(acc))\n",
        "        return round(acc, 4)\n",
        "\n",
        "    test_loss, test_acc, counter = 0, 0, 0\n",
        "    with tqdm(data_loader, desc =\"   test\") as test_tqdm:\n",
        "        for X, y in test_tqdm:\n",
        "            # Send data to GPU\n",
        "            X, y = X.to(device), y.to(device)\n",
        "            \n",
        "            # 1. Forward pass\n",
        "            test_pred = model(X)\n",
        "\n",
        "            _, preds = torch.max(test_pred.data, 1)\n",
        "            \n",
        "            # 2. Calculate loss and accuracy\n",
        "            test_loss += loss_fn(test_pred, y)\n",
        "            test_acc += accuracy_fn(true=y.cpu(),\n",
        "                                    pred=test_pred.cpu())\n",
        "            counter += 1\n",
        "\n",
        "            if counter==1 :\n",
        "                y_true = (y.detach().cpu().numpy())\n",
        "                y_pred = (preds.detach().cpu().numpy())\n",
        "            else:\n",
        "                y_true = np.concatenate((y_true, np.array(y.detach().cpu().numpy())), axis=0)\n",
        "                y_pred = np.concatenate((y_pred, np.array(preds.detach().cpu().numpy())), axis=0)\n",
        "\n",
        "\n",
        "            test_tqdm.set_postfix(test_acc=\"{:.3f}\".format(test_acc/counter), test_loss=test_loss.item()/counter, refresh=True)\n",
        "\n",
        "\n",
        "        # Adjust metrics and print out\n",
        "        test_loss /= len(data_loader)\n",
        "        test_acc  /= len(data_loader)\n",
        "\n",
        "    class_names = ['T_shirt/top', 'Trouser', 'Pullover', 'Dress', 'Coat', 'Sandal', 'Shirt', 'Sneaker', 'Bag', 'Ankle boot']\n",
        "    cnf_matrix = confusion_matrix(y_true, y_pred)   ## Sklearn confusion matrix object\n",
        "    accuracy = np.trace(cnf_matrix) / float(np.sum(cnf_matrix))\n",
        "    misclass = 1 - accuracy\n",
        "\n",
        "    fig, ax = plt.subplots()\n",
        "    tick_marks = np.arange(len(class_names))\n",
        "    plt.xticks(tick_marks, class_names, rotation=45)\n",
        "    plt.yticks(tick_marks, class_names)\n",
        "\n",
        "    sns.heatmap(pd.DataFrame(cnf_matrix), annot=True, cmap = \"Blues\" ,fmt='g', xticklabels=class_names , yticklabels=class_names)\n",
        "    ax.xaxis.set_label_position(\"bottom\")\n",
        "    plt.title('Confusion matrix for '+ model_name, y=1.1)\n",
        "    plt.ylabel('True label')\n",
        "    plt.xlabel('Predicted label\\naccuracy={:0.2f}; misclass={:0.2f}'.format(accuracy, misclass))\n",
        "    plt.tight_layout()\n",
        "    print(classification_report(y_true, y_pred, target_names=class_names, digits=4))\n",
        "    return test_loss.item(), test_acc"
      ]
    },
    {
      "cell_type": "code",
      "execution_count": 53,
      "metadata": {
        "colab": {
          "base_uri": "https://localhost:8080/",
          "height": 805
        },
        "id": "j1N4h8RBeSzp",
        "outputId": "862c6a89-ea95-4bc3-8280-9844c1d92cc8"
      },
      "outputs": [
        {
          "name": "stderr",
          "output_type": "stream",
          "text": [
            "   test: 100%|██████████| 79/79 [00:02<00:00, 32.28it/s, test_acc=92.385, test_loss=1.54]\n"
          ]
        },
        {
          "name": "stdout",
          "output_type": "stream",
          "text": [
            "              precision    recall  f1-score   support\n",
            "\n",
            " T_shirt/top     0.8779    0.8560    0.8668      1000\n",
            "     Trouser     0.9980    0.9800    0.9889      1000\n",
            "    Pullover     0.9096    0.8550    0.8814      1000\n",
            "       Dress     0.9233    0.9390    0.9311      1000\n",
            "        Coat     0.8828    0.8960    0.8893      1000\n",
            "      Sandal     0.9772    0.9840    0.9806      1000\n",
            "       Shirt     0.7566    0.7990    0.7772      1000\n",
            "     Sneaker     0.9613    0.9680    0.9646      1000\n",
            "         Bag     0.9821    0.9900    0.9861      1000\n",
            "  Ankle boot     0.9698    0.9630    0.9664      1000\n",
            "\n",
            "    accuracy                         0.9230     10000\n",
            "   macro avg     0.9239    0.9230    0.9232     10000\n",
            "weighted avg     0.9239    0.9230    0.9232     10000\n",
            "\n",
            "\n",
            "Test Accuracy for SCNNB model on FMNIST is: 92.38528607594935\n"
          ]
        },
        {
          "data": {
            "image/png": "[encoded data removed]",
            "text/plain": [
              "<Figure size 640x480 with 2 Axes>"
            ]
          },
          "metadata": {},
          "output_type": "display_data"
        }
      ],
      "source": [
        "SCNNB_test_loss, SCNNB_test_acc = Testing(SCNNB_FMNIST_model, \"SCNNB_FMNIST\", FMNIST_test_dataloader )\n",
        "print(\"\\nTest Accuracy for SCNNB model on FMNIST is: \"+str(SCNNB_test_acc))"
      ]
    },
    {
      "cell_type": "code",
      "execution_count": 52,
      "metadata": {
        "colab": {
          "base_uri": "https://localhost:8080/",
          "height": 805
        },
        "id": "3EWfRdVJjcsJ",
        "outputId": "eb61db56-2b1a-4205-b244-4b98969a8301"
      },
      "outputs": [
        {
          "name": "stderr",
          "output_type": "stream",
          "text": [
            "   test: 100%|██████████| 79/79 [00:01<00:00, 39.91it/s, test_acc=92.217, test_loss=1.54]\n"
          ]
        },
        {
          "name": "stdout",
          "output_type": "stream",
          "text": [
            "              precision    recall  f1-score   support\n",
            "\n",
            " T_shirt/top     0.8933    0.8460    0.8690      1000\n",
            "     Trouser     0.9940    0.9870    0.9905      1000\n",
            "    Pullover     0.8895    0.8770    0.8832      1000\n",
            "       Dress     0.9159    0.9260    0.9209      1000\n",
            "        Coat     0.9012    0.8670    0.8838      1000\n",
            "      Sandal     0.9771    0.9830    0.9801      1000\n",
            "       Shirt     0.7463    0.8120    0.7778      1000\n",
            "     Sneaker     0.9689    0.9660    0.9675      1000\n",
            "         Bag     0.9802    0.9890    0.9846      1000\n",
            "  Ankle boot     0.9730    0.9740    0.9735      1000\n",
            "\n",
            "    accuracy                         0.9227     10000\n",
            "   macro avg     0.9240    0.9227    0.9231     10000\n",
            "weighted avg     0.9240    0.9227    0.9231     10000\n",
            "\n",
            "\n",
            "Test Accuracy for SCNNB-a model on FMNIST is: 92.21716202531645\n"
          ]
        },
        {
          "data": {
            "image/png": "[encoded data removed]",
            "text/plain": [
              "<Figure size 640x480 with 2 Axes>"
            ]
          },
          "metadata": {},
          "output_type": "display_data"
        }
      ],
      "source": [
        "SCNNB_a_test_loss, SCNNB_a_test_acc = Testing(SCNNB_a_FMNIST_model, \"SCNNB_a_FMNIST\", FMNIST_test_dataloader )\n",
        "print(\"\\nTest Accuracy for SCNNB-a model on FMNIST is: \"+str(SCNNB_a_test_acc))"
      ]
    },
    {
      "cell_type": "code",
      "execution_count": 58,
      "metadata": {
        "colab": {
          "base_uri": "https://localhost:8080/",
          "height": 805
        },
        "id": "oyLeMNDgjdYo",
        "outputId": "48b14a13-2f3f-4fc0-b2f9-e4f9cb28dc07"
      },
      "outputs": [
        {
          "name": "stderr",
          "output_type": "stream",
          "text": [
            "   test: 100%|██████████| 79/79 [00:02<00:00, 28.21it/s, test_acc=91.466, test_loss=1.55]\n"
          ]
        },
        {
          "name": "stdout",
          "output_type": "stream",
          "text": [
            "              precision    recall  f1-score   support\n",
            "\n",
            " T_shirt/top     0.8466    0.8940    0.8696      1000\n",
            "     Trouser     0.9959    0.9780    0.9869      1000\n",
            "    Pullover     0.8134    0.9240    0.8652      1000\n",
            "       Dress     0.9204    0.9250    0.9227      1000\n",
            "        Coat     0.9030    0.8190    0.8589      1000\n",
            "      Sandal     0.9791    0.9820    0.9805      1000\n",
            "       Shirt     0.7936    0.7190    0.7545      1000\n",
            "     Sneaker     0.9561    0.9590    0.9576      1000\n",
            "         Bag     0.9770    0.9750    0.9760      1000\n",
            "  Ankle boot     0.9651    0.9690    0.9671      1000\n",
            "\n",
            "    accuracy                         0.9144     10000\n",
            "   macro avg     0.9150    0.9144    0.9139     10000\n",
            "weighted avg     0.9150    0.9144    0.9139     10000\n",
            "\n",
            "\n",
            "Test Accuracy for SCNNB-b model on FMNIST is: 91.46558734177212\n"
          ]
        },
        {
          "data": {
            "image/png": "[encoded data removed]",
            "text/plain": [
              "<Figure size 640x480 with 2 Axes>"
            ]
          },
          "metadata": {},
          "output_type": "display_data"
        }
      ],
      "source": [
        "SCNNB_b_test_loss, SCNNB_b_test_acc = Testing(SCNNB_b_FMNIST_model, \"SCNNB_b_FMNIST\", FMNIST_test_dataloader )\n",
        "print(\"\\nTest Accuracy for SCNNB-b model on FMNIST is: \"+str(SCNNB_b_test_acc))"
      ]
    },
    {
      "cell_type": "code",
      "execution_count": 59,
      "metadata": {
        "id": "1GYqdKiDjXVj"
      },
      "outputs": [],
      "source": [
        "def acc_test_plots(SCNNB_test, SCNNB_a_test, SCNNB_b_test):\n",
        "  \n",
        "    num_epochs = len(SCNNB_test)\n",
        "    plt.figure(figsize=(13,5))\n",
        "    plt.plot(SCNNB_a_test , 'b', label='SCNNB-a', linestyle = '-')\n",
        "    plt.plot(SCNNB_b_test , 'g', label='SCNNB-b', linestyle = '-.')\n",
        "    plt.plot(SCNNB_test, 'r', label='SCNNB', linestyle = ':')\n",
        "    plt.ylabel('Test Accuracy', fontsize=10, labelpad=8)\n",
        "    plt.xlabel('Epochs', fontsize=10, labelpad=8)\n",
        "    plt.title('Test Accuracy for FashionMNIST dataset', fontsize=25, pad=15)\n",
        "    plt.legend()\n",
        "    sns.despine()\n",
        "    plt.show()"
      ]
    },
    {
      "cell_type": "code",
      "execution_count": 65,
      "metadata": {
        "colab": {
          "base_uri": "https://localhost:8080/",
          "height": 517
        },
        "id": "yA35a8uajYEH",
        "outputId": "2ae120b0-9407-44d2-bf4d-f24ded2475c5"
      },
      "outputs": [
        {
          "data": {
            "image/png": "[encoded data removed]",
            "text/plain": [
              "<Figure size 1300x500 with 1 Axes>"
            ]
          },
          "metadata": {},
          "output_type": "display_data"
        }
      ],
      "source": [
        "acc_test_plots(SCNNB_FMNIST_test_accuracy, SCNNB_a_FMNIST_test_accuracy, SCNNB_b_FMNIST_test_accuracy[2:])"
      ]
    },
    {
      "cell_type": "code",
      "execution_count": 61,
      "metadata": {
        "id": "bLbRmVazbCwA"
      },
      "outputs": [],
      "source": [
        "def acc_train_plots(SCNNB_train, SCNNB_a_train, SCNNB_b_train):\n",
        "  \n",
        "    num_epochs = len(SCNNB_train)\n",
        "    plt.figure(figsize=(13,5))\n",
        "    plt.plot(SCNNB_a_train , 'b', label='SCNNB-a', linestyle = '-')\n",
        "    plt.plot(SCNNB_b_train , 'g', label='SCNNB-b', linestyle = '-.')\n",
        "    plt.plot(SCNNB_train, 'r', label='SCNNB', linestyle = ':')\n",
        "    plt.ylabel('Train Accuracy', fontsize=10, labelpad=8)\n",
        "    plt.xlabel('Epochs', fontsize=10, labelpad=8)\n",
        "    plt.title('Train Accuracy for FashionMNIST dataset', fontsize=25, pad=15)\n",
        "    plt.legend()\n",
        "    sns.despine()\n",
        "    plt.show()"
      ]
    },
    {
      "cell_type": "code",
      "execution_count": 62,
      "metadata": {
        "colab": {
          "base_uri": "https://localhost:8080/",
          "height": 517
        },
        "id": "khNfXH-tbCwE",
        "outputId": "653ebf39-68e9-406d-f823-4db82e88dd86"
      },
      "outputs": [
        {
          "data": {
            "image/png": "[encoded data removed]",
            "text/plain": [
              "<Figure size 1300x500 with 1 Axes>"
            ]
          },
          "metadata": {},
          "output_type": "display_data"
        }
      ],
      "source": [
        "acc_train_plots(SCNNB_FMNIST_train_accuracy, SCNNB_a_FMNIST_train_accuracy, SCNNB_b_FMNIST_train_accuracy[1:])"
      ]
    },
    {
      "cell_type": "code",
      "execution_count": 63,
      "metadata": {
        "id": "vq6uE-7TbZSW"
      },
      "outputs": [],
      "source": [
        "def loss_train_plots(SCNNB_train, SCNNB_a_train, SCNNB_b_train):\n",
        "  \n",
        "    num_epochs = len(SCNNB_train)\n",
        "    plt.figure(figsize=(13,5))\n",
        "    plt.plot(SCNNB_a_train , 'b', label='SCNNB-a', linestyle = '-')\n",
        "    plt.plot(SCNNB_b_train , 'g', label='SCNNB-b', linestyle = '-.')\n",
        "    plt.plot(SCNNB_train, 'r', label='SCNNB', linestyle = ':')\n",
        "    plt.ylabel('Train Accuracy', fontsize=10, labelpad=8)\n",
        "    plt.xlabel('Epochs', fontsize=10, labelpad=8)\n",
        "    plt.title('Train Loss for FashionMNIST dataset', fontsize=25, pad=15)\n",
        "    plt.legend()\n",
        "    sns.despine()\n",
        "    plt.show()"
      ]
    },
    {
      "cell_type": "code",
      "execution_count": 64,
      "metadata": {
        "colab": {
          "base_uri": "https://localhost:8080/",
          "height": 512
        },
        "id": "1B8IyqXWbZSX",
        "outputId": "e7564fe6-bdc6-4441-8e4a-2cff05dad6ab"
      },
      "outputs": [
        {
          "data": {
            "image/png": "[encoded data removed]",
            "text/plain": [
              "<Figure size 1300x500 with 1 Axes>"
            ]
          },
          "metadata": {},
          "output_type": "display_data"
        }
      ],
      "source": [
        "acc_train_plots(SCNNB_FMNIST_train_loss, SCNNB_a_FMNIST_train_loss, SCNNB_b_FMNIST_train_loss[1:])"
      ]
    },
    {
      "cell_type": "code",
      "execution_count": null,
      "metadata": {
        "id": "2g10yZbm1Y0Y"
      },
      "outputs": [],
      "source": []
    }
  ],
  "metadata": {
    "accelerator": "GPU",
    "colab": {
      "provenance": []
    },
    "gpuClass": "standard",
    "kernelspec": {
      "display_name": "Python 3",
      "name": "python3"
    },
    "language_info": {
      "name": "python"
    }
  },
  "nbformat": 4,
  "nbformat_minor": 0
}
