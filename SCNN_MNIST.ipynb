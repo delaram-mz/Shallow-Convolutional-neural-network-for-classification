{
  "cells": [
    {
      "attachments": {},
      "cell_type": "markdown",
      "metadata": {
        "id": "0ZnKUkkN52Ua"
      },
      "source": [
        "<font color=\"#e32b3d\"><h1>Shallow Neural Networks for Classification</h2></font>\n",
        "\n",
        "<font color=\"#822b34\"><h2>*MNIST Dataset*</h2></font>"
      ]
    },
    {
      "attachments": {},
      "cell_type": "markdown",
      "metadata": {
        "id": "c3BDQvldVyPH"
      },
      "source": [
        "<font color=\"#2ff9b3d\"><h1>Part 1: Importing Datasets and Pre-processing </h1></font>\n",
        "\n",
        "required library and packages are imported."
      ]
    },
    {
      "cell_type": "code",
      "execution_count": 1,
      "metadata": {
        "id": "-2FMOPeHVyPI"
      },
      "outputs": [],
      "source": [
        "# Import library\n",
        "import torch\n",
        "from torch import nn\n",
        "import torch.nn.functional as F\n",
        "from torch.utils.data import DataLoader, Dataset\n",
        "\n",
        "import torchvision\n",
        "from torchvision import transforms\n",
        "from torchvision.datasets import ImageFolder\n",
        "\n",
        "import matplotlib.pyplot as plt\n",
        "import seaborn as sns\n",
        "import numpy as np\n",
        "import pandas as pd\n",
        "from tqdm import tqdm\n",
        "from PIL import Image\n",
        "import cv2\n",
        "import glob\n",
        "import os"
      ]
    },
    {
      "cell_type": "code",
      "execution_count": 2,
      "metadata": {
        "id": "xsV0Pa_VQemk"
      },
      "outputs": [],
      "source": [
        "##Constants\n",
        "batch_size = 128\n",
        "num_of_classes = 10\n",
        "dim_MNIST = 5\n",
        "dim_CIFAR = 6\n",
        "in_shape_MNIST = 1\n",
        "in_shape_CIFAR = 3"
      ]
    },
    {
      "attachments": {},
      "cell_type": "markdown",
      "metadata": {
        "id": "A7pCgzj2hMwI"
      },
      "source": [
        "Importing the MNIST dataset into train and test sets.\n",
        "\n",
        "\n",
        "note that using torch.vision requiers to transform dataset into tensors using *ToTensor()*, this function normalizes all the features in dataset and no further normalization is needed."
      ]
    },
    {
      "cell_type": "code",
      "execution_count": 3,
      "metadata": {
        "colab": {
          "base_uri": "https://localhost:8080/",
          "height": 821
        },
        "id": "uoSSTRdWVyPK",
        "outputId": "dc6373cb-1ef5-46b5-f51f-239fe34d7a61"
      },
      "outputs": [
        {
          "name": "stdout",
          "output_type": "stream",
          "text": [
            "Downloading http://yann.lecun.com/exdb/mnist/train-images-idx3-ubyte.gz\n",
            "Downloading http://yann.lecun.com/exdb/mnist/train-images-idx3-ubyte.gz to ./MNIST/raw/train-images-idx3-ubyte.gz\n"
          ]
        },
        {
          "name": "stderr",
          "output_type": "stream",
          "text": [
            "100%|██████████| 9912422/9912422 [00:00<00:00, 226843835.05it/s]"
          ]
        },
        {
          "name": "stdout",
          "output_type": "stream",
          "text": [
            "Extracting ./MNIST/raw/train-images-idx3-ubyte.gz to ./MNIST/raw\n"
          ]
        },
        {
          "name": "stderr",
          "output_type": "stream",
          "text": [
            "\n"
          ]
        },
        {
          "name": "stdout",
          "output_type": "stream",
          "text": [
            "\n",
            "Downloading http://yann.lecun.com/exdb/mnist/train-labels-idx1-ubyte.gz\n",
            "Downloading http://yann.lecun.com/exdb/mnist/train-labels-idx1-ubyte.gz to ./MNIST/raw/train-labels-idx1-ubyte.gz\n"
          ]
        },
        {
          "name": "stderr",
          "output_type": "stream",
          "text": [
            "100%|██████████| 28881/28881 [00:00<00:00, 95683802.39it/s]\n"
          ]
        },
        {
          "name": "stdout",
          "output_type": "stream",
          "text": [
            "Extracting ./MNIST/raw/train-labels-idx1-ubyte.gz to ./MNIST/raw\n",
            "\n",
            "Downloading http://yann.lecun.com/exdb/mnist/t10k-images-idx3-ubyte.gz\n",
            "Downloading http://yann.lecun.com/exdb/mnist/t10k-images-idx3-ubyte.gz to ./MNIST/raw/t10k-images-idx3-ubyte.gz\n"
          ]
        },
        {
          "name": "stderr",
          "output_type": "stream",
          "text": [
            "100%|██████████| 1648877/1648877 [00:00<00:00, 66504071.43it/s]\n"
          ]
        },
        {
          "name": "stdout",
          "output_type": "stream",
          "text": [
            "Extracting ./MNIST/raw/t10k-images-idx3-ubyte.gz to ./MNIST/raw\n",
            "\n",
            "Downloading http://yann.lecun.com/exdb/mnist/t10k-labels-idx1-ubyte.gz\n",
            "Downloading http://yann.lecun.com/exdb/mnist/t10k-labels-idx1-ubyte.gz to ./MNIST/raw/t10k-labels-idx1-ubyte.gz\n"
          ]
        },
        {
          "name": "stderr",
          "output_type": "stream",
          "text": [
            "100%|██████████| 4542/4542 [00:00<00:00, 4549923.28it/s]\n"
          ]
        },
        {
          "name": "stdout",
          "output_type": "stream",
          "text": [
            "Extracting ./MNIST/raw/t10k-labels-idx1-ubyte.gz to ./MNIST/raw\n",
            "\n",
            "Image size: torch.Size([1, 28, 28])\n",
            "Label: 1\n"
          ]
        },
        {
          "data": {
            "image/png": "[encoded data removed]",
            "text/plain": [
              "<Figure size 640x480 with 1 Axes>"
            ]
          },
          "metadata": {},
          "output_type": "display_data"
        }
      ],
      "source": [
        "import torchvision\n",
        "import torchvision.transforms as transforms\n",
        "## importing MNIST\n",
        "MNIST_Train_set = torchvision.datasets.MNIST(root=\"./\", download=True,train=True, transform=transforms.Compose([transforms.ToTensor(), transforms.RandomHorizontalFlip(p=0.5)]))\n",
        "MNIST_test_set = torchvision.datasets.MNIST(root=\"./\", download=True,train=False, transform=transforms.Compose([transforms.ToTensor(), transforms.RandomHorizontalFlip(p=0.5)]))\n",
        "dff = pd.DataFrame(MNIST_Train_set.targets.numpy(), columns=[\"labels\"])\n",
        "MNIST_classes = list(set(dff['labels'].values))\n",
        "##Creating DataLoaders\n",
        "MNIST_train_dataloader = DataLoader(\n",
        "    dataset = MNIST_Train_set,\n",
        "    batch_size = batch_size,\n",
        "    shuffle = True\n",
        ")\n",
        "\n",
        "MNIST_test_dataloader = DataLoader(\n",
        "    dataset = MNIST_test_set,\n",
        "    batch_size = batch_size\n",
        ")\n",
        "##Visualizing a sample\n",
        "MNIST_train_features_batch, MNIST_train_labels_batch = next(iter(MNIST_train_dataloader))\n",
        "MNIST_train_features_batch.shape, MNIST_train_labels_batch.shape\n",
        "img, label = MNIST_train_features_batch[0], MNIST_train_labels_batch[0]\n",
        "mean, std = 0.5, 0.5\n",
        "img = std * img + mean\n",
        "plt.imshow(img.permute(1, 2, 0), cmap='gray')\n",
        "plt.title(MNIST_classes[label])\n",
        "plt.axis(\"Off\");\n",
        "print(f\"Image size: {img.shape}\")\n",
        "print(f\"Label: {label}\")"
      ]
    },
    {
      "cell_type": "code",
      "execution_count": 4,
      "metadata": {
        "colab": {
          "base_uri": "https://localhost:8080/"
        },
        "id": "3DJVwaToXIu_",
        "outputId": "54b56264-ce37-46c1-e141-0a4216da2b63"
      },
      "outputs": [
        {
          "name": "stdout",
          "output_type": "stream",
          "text": [
            "cuda\n"
          ]
        }
      ],
      "source": [
        "# We move our tensor to the GPU if available\n",
        "if (torch.cuda.is_available()):\n",
        "    DEVICE = 'cuda'\n",
        "else:\n",
        "    DEVICE = 'cpu'\n",
        "print(DEVICE)"
      ]
    },
    {
      "attachments": {},
      "cell_type": "markdown",
      "metadata": {
        "id": "rqi6Fek8hMwW"
      },
      "source": [
        "<font color=\"#2ff9b3d\"><h1>Part 3: SCNNB Implementation </h1></font>"
      ]
    },
    {
      "cell_type": "code",
      "execution_count": 5,
      "metadata": {
        "id": "6evo0QhzVyPT"
      },
      "outputs": [],
      "source": [
        "# Create a convolutional neural network : SCNNB\n",
        "class SCNNB(nn.Module):\n",
        "    def __init__(self, input_shape, dim,  output_shape):\n",
        "        super().__init__()\n",
        "        \n",
        "        self.CNN_block = nn.Sequential(\n",
        "            nn.Conv2d(input_shape, 32, kernel_size = 3), \n",
        "            nn.BatchNorm2d(num_features=32),\n",
        "            nn.ReLU(),\n",
        "            nn.MaxPool2d(kernel_size=2),\n",
        "            nn.Conv2d(32, 64, kernel_size = 3),\n",
        "            nn.BatchNorm2d(num_features=64),\n",
        "            nn.ReLU(),\n",
        "            nn.MaxPool2d(kernel_size=2)\n",
        "\n",
        "        )\n",
        "\n",
        "        self.classifier = nn.Sequential(\n",
        "            nn.Flatten(),\n",
        "            nn.Linear(in_features = 64*dim*dim, out_features = 1280),\n",
        "            nn.ReLU(),\n",
        "            nn.Dropout(p=0.5),\n",
        "            nn.Linear(in_features = 1280, out_features = output_shape),\n",
        "            nn.Softmax(dim=1)\n",
        "        )\n",
        "    \n",
        "    def forward(self, x: torch.Tensor):\n",
        "        x = self.CNN_block(x)\n",
        "        # print(x.shape)\n",
        "        x = self.classifier(x)\n",
        "        # print(x.shape)\n",
        "        return x"
      ]
    },
    {
      "cell_type": "code",
      "execution_count": 6,
      "metadata": {
        "id": "MmQMVySpzeay"
      },
      "outputs": [],
      "source": [
        "# Create a convolutional neural network : SCNNB-a\n",
        "class SCNNB_a(nn.Module):\n",
        "    def __init__(self, input_shape, dim, output_shape):\n",
        "        super().__init__()\n",
        "        \n",
        "        self.CNN_block = nn.Sequential(\n",
        "            nn.Conv2d(input_shape, 32, kernel_size = 3), \n",
        "            # nn.BatchNorm2d(num_features=32),\n",
        "            nn.ReLU(),\n",
        "            nn.MaxPool2d(kernel_size=2),\n",
        "            nn.Conv2d(32, 64, kernel_size = 3),\n",
        "            nn.BatchNorm2d(num_features=64),\n",
        "            nn.ReLU(),\n",
        "            nn.MaxPool2d(kernel_size=2)\n",
        "\n",
        "        )\n",
        "\n",
        "        self.classifier = nn.Sequential(\n",
        "            nn.Flatten(),\n",
        "            nn.Linear(in_features = 64*dim*dim, out_features = 1280),\n",
        "            nn.ReLU(),\n",
        "            nn.Dropout(p=0.5),\n",
        "            nn.Linear(in_features = 1280, out_features = output_shape),\n",
        "            nn.Softmax(dim=1)\n",
        "        )\n",
        "    \n",
        "    def forward(self, x: torch.Tensor):\n",
        "        x = self.CNN_block(x)\n",
        "        # print(x.shape)\n",
        "        x = self.classifier(x)\n",
        "        # print(x.shape)\n",
        "        return x"
      ]
    },
    {
      "cell_type": "code",
      "execution_count": 7,
      "metadata": {
        "id": "Vo611YYBzj6j"
      },
      "outputs": [],
      "source": [
        "# Create a convolutional neural network : SCNNB-b\n",
        "class SCNNB_b(nn.Module):\n",
        "    def __init__(self, input_shape, dim, output_shape):\n",
        "        super().__init__()\n",
        "        \n",
        "        self.CNN_block = nn.Sequential(\n",
        "            nn.Conv2d(input_shape, 32, kernel_size = 3), \n",
        "            # nn.BatchNorm2d(num_features=32),\n",
        "            nn.ReLU(),\n",
        "            nn.MaxPool2d(kernel_size=2),\n",
        "            nn.Conv2d(32, 64, kernel_size = 3),\n",
        "            # nn.BatchNorm2d(num_features=64),\n",
        "            nn.ReLU(),\n",
        "            nn.MaxPool2d(kernel_size=2)\n",
        "\n",
        "        )\n",
        "\n",
        "        self.classifier = nn.Sequential(\n",
        "            nn.Flatten(),\n",
        "            nn.Linear(in_features = 64*dim*dim, out_features = 1280),\n",
        "            nn.ReLU(),\n",
        "            nn.Dropout(p=0.5),\n",
        "            nn.Linear(in_features = 1280, out_features = output_shape),\n",
        "            nn.Softmax(dim=1)\n",
        "        )\n",
        "    \n",
        "    def forward(self, x: torch.Tensor):\n",
        "        x = self.CNN_block(x)\n",
        "        # print(x.shape)\n",
        "        x = self.classifier(x)\n",
        "        # print(x.shape)\n",
        "        return x"
      ]
    },
    {
      "cell_type": "code",
      "execution_count": 8,
      "metadata": {
        "colab": {
          "base_uri": "https://localhost:8080/"
        },
        "id": "1olTY3XyhMwX",
        "outputId": "02fcf591-384d-4ad1-a3da-0fd7dbd15fb2"
      },
      "outputs": [
        {
          "data": {
            "text/plain": [
              "SCNNB(\n",
              "  (CNN_block): Sequential(\n",
              "    (0): Conv2d(1, 32, kernel_size=(3, 3), stride=(1, 1))\n",
              "    (1): BatchNorm2d(32, eps=1e-05, momentum=0.1, affine=True, track_running_stats=True)\n",
              "    (2): ReLU()\n",
              "    (3): MaxPool2d(kernel_size=2, stride=2, padding=0, dilation=1, ceil_mode=False)\n",
              "    (4): Conv2d(32, 64, kernel_size=(3, 3), stride=(1, 1))\n",
              "    (5): BatchNorm2d(64, eps=1e-05, momentum=0.1, affine=True, track_running_stats=True)\n",
              "    (6): ReLU()\n",
              "    (7): MaxPool2d(kernel_size=2, stride=2, padding=0, dilation=1, ceil_mode=False)\n",
              "  )\n",
              "  (classifier): Sequential(\n",
              "    (0): Flatten(start_dim=1, end_dim=-1)\n",
              "    (1): Linear(in_features=1600, out_features=1280, bias=True)\n",
              "    (2): ReLU()\n",
              "    (3): Dropout(p=0.5, inplace=False)\n",
              "    (4): Linear(in_features=1280, out_features=10, bias=True)\n",
              "    (5): Softmax(dim=1)\n",
              "  )\n",
              ")"
            ]
          },
          "execution_count": 8,
          "metadata": {},
          "output_type": "execute_result"
        }
      ],
      "source": [
        "## Sample Model Description\n",
        "model_SCNNB = SCNNB(input_shape=1, dim=5, output_shape=num_of_classes)\n",
        "# model_SCNNB_a = SCNNB_a(input_shape=1, output_shape=len(num_of_classes))\n",
        "# model_SCNNB_b = SCNNB_b(input_shape=1, output_shape=len(num_of_classes))\n",
        "\n",
        "model_SCNNB"
      ]
    },
    {
      "cell_type": "code",
      "execution_count": 9,
      "metadata": {
        "id": "3RJROgg9hMwZ"
      },
      "outputs": [],
      "source": [
        "def train_step(model,\n",
        "               data_loader,\n",
        "               loss_fn,\n",
        "               optimizer,\n",
        "               accuracy_fn,\n",
        "               device):\n",
        "    \n",
        "    # Send model to GPU\n",
        "    model.train()\n",
        "    model = model.to(device)\n",
        "    train_loss, train_acc, counter = 0, 0, 0\n",
        "    with tqdm(data_loader, desc =\"  train\") as train_tqdm:\n",
        "        for X, y in train_tqdm:\n",
        "            # Send data to GPU\n",
        "            X, y = X.to(device), y.to(device)\n",
        "\n",
        "            # 1. Forward pass\n",
        "            y_pred = model(X)\n",
        "\n",
        "            # 2. Calculate loss\n",
        "            loss = loss_fn(y_pred, y)\n",
        "            train_loss += loss\n",
        "            train_acc += accuracy_fn(true=y.cpu(),\n",
        "                                     pred=y_pred.cpu())\n",
        "            counter += 1\n",
        "            train_tqdm.set_postfix(train_acc=\"{:.3f}\".format(train_acc/counter), train_loss=train_loss.item()/counter, refresh=False)\n",
        "\n",
        "            # 3. Optimizer zero grad\n",
        "            optimizer.zero_grad()\n",
        "\n",
        "            # 4. Loss backward\n",
        "            loss.backward()\n",
        "\n",
        "            # 5. Optimizer step\n",
        "            optimizer.step()\n",
        "\n",
        "        # Calculate loss and accuracy per epoch and print out what's happening\n",
        "        train_loss /= len(data_loader)\n",
        "        train_acc /= len(data_loader)\n",
        "    return train_loss.item(), train_acc\n"
      ]
    },
    {
      "cell_type": "code",
      "execution_count": 10,
      "metadata": {
        "id": "YQft1sVthMwa"
      },
      "outputs": [],
      "source": [
        "def test_step(model,\n",
        "              data_loader,\n",
        "              loss_fn,\n",
        "              accuracy_fn,\n",
        "              device):\n",
        "    \n",
        "    # Send model to GPU\n",
        "    model.to(device)\n",
        "\n",
        "    # put model in eval mode\n",
        "    model.eval() \n",
        "    test_loss, test_acc, counter = 0, 0, 0\n",
        "    with tqdm(data_loader, desc =\"   test\") as test_tqdm:\n",
        "        for X, y in test_tqdm:\n",
        "            # Send data to GPU\n",
        "            X, y = X.to(device), y.to(device)\n",
        "            \n",
        "            # 1. Forward pass\n",
        "            test_pred = model(X)\n",
        "            \n",
        "            # 2. Calculate loss and accuracy\n",
        "            test_loss += loss_fn(test_pred, y)\n",
        "            test_acc += accuracy_fn(true=y.cpu(),\n",
        "                                    pred=test_pred.cpu())\n",
        "            counter += 1\n",
        "            test_tqdm.set_postfix(test_acc=\"{:.3f}\".format(test_acc/counter), test_loss=test_loss.item()/counter, refresh=True)\n",
        "\n",
        "        # Adjust metrics and print out\n",
        "        test_loss /= len(data_loader)\n",
        "        test_acc  /= len(data_loader)\n",
        "            \n",
        "    return test_loss.item(), test_acc"
      ]
    },
    {
      "cell_type": "code",
      "execution_count": 11,
      "metadata": {
        "id": "uNlaMz7EhMwb"
      },
      "outputs": [],
      "source": [
        "def train(hparams, train_data_loader, test_data_loader):\n",
        "  # Datasets: \n",
        "  if (hparams[0] == 'MNIST' or hparams[0] == 'FMNIST' ):\n",
        "    in_shape = in_shape_MNIST\n",
        "    dim = dim_MNIST\n",
        "  elif hparams[0] == 'CIFAR' :\n",
        "    in_shape = in_shape_CIFAR\n",
        "    dim = dim_CIFAR\n",
        "\n",
        "  # Models:\n",
        "  if hparams[1] == 'SCNNB':\n",
        "    model = SCNNB(input_shape=in_shape, dim=dim, output_shape=num_of_classes)\n",
        "  elif hparams[1] == 'SCNNB-a':\n",
        "    model = SCNNB_a(input_shape=in_shape, dim=dim, output_shape=num_of_classes)\n",
        "  elif hparams[1] == 'SCNNB-b':\n",
        "    model = SCNNB_b(input_shape=in_shape, dim=dim, output_shape=num_of_classes)\n",
        "\n",
        "  loss_fn = nn.CrossEntropyLoss()\n",
        "  optimizer = torch.optim.SGD(model.parameters(), lr = 0.02, momentum=0.9, weight_decay=0.000005)\n",
        "  device = torch.device(\"cuda:0\" if torch.cuda.is_available() else \"cpu\")\n",
        "  def accuracy_fn(true, pred):\n",
        "      pred = F.softmax(pred, dim = 1)\n",
        "      true = torch.zeros(pred.shape[0], pred.shape[1]).scatter_(1, true.unsqueeze(1), 1.)\n",
        "      acc = (true.argmax(-1) == pred.argmax(-1)).float().detach().numpy()\n",
        "      acc = float((100 * acc.sum()) / len(acc))\n",
        "      return round(acc, 4)\n",
        "  # Measure time\n",
        "  from timeit import default_timer as timer\n",
        "\n",
        "  train_epoch_loss = []\n",
        "  train_epoch_accuracy = []\n",
        "  test_epoch_loss = []\n",
        "  test_epoch_accuracy = []\n",
        "\n",
        "  train_time_start = timer()\n",
        "\n",
        "  epochs = hparams[2]\n",
        "  for epoch in range(epochs):\n",
        "      print(\"EPOCH {}/{} :\".format(epoch +1, epochs))\n",
        "      train_loss, train_acc = train_step(data_loader=train_data_loader,\n",
        "                                                model=model, \n",
        "                                                loss_fn=loss_fn,\n",
        "                                                optimizer=optimizer,\n",
        "                                                accuracy_fn=accuracy_fn,\n",
        "                                                device=device\n",
        "                                                )\n",
        "      test_loss, test_acc = test_step(data_loader=test_data_loader,\n",
        "                                      model=model,\n",
        "                                      loss_fn=loss_fn,\n",
        "                                      accuracy_fn=accuracy_fn,\n",
        "                                      device=device\n",
        "                                      )\n",
        "      \n",
        "      train_epoch_loss.append(train_loss)\n",
        "      train_epoch_accuracy.append(train_acc)\n",
        "      test_epoch_loss.append(test_loss)\n",
        "      test_epoch_accuracy.append(test_acc)\n",
        "\n",
        "  train_time_end = timer()\n",
        "  total_time = train_time_end - train_time_start\n",
        "  print(f\"\\n\\nTrain time: {total_time:.3f} seconds\")\n",
        "  return model, train_epoch_loss, train_epoch_accuracy, test_epoch_loss, test_epoch_accuracy"
      ]
    },
    {
      "cell_type": "code",
      "execution_count": 12,
      "metadata": {
        "colab": {
          "base_uri": "https://localhost:8080/"
        },
        "id": "m_52gQO5bB3s",
        "outputId": "6b0fb5f5-9c50-4e8d-8f3f-14ffdff50505"
      },
      "outputs": [
        {
          "name": "stdout",
          "output_type": "stream",
          "text": [
            "EPOCH 1/150 :\n"
          ]
        },
        {
          "name": "stderr",
          "output_type": "stream",
          "text": [
            "  train: 100%|██████████| 469/469 [00:20<00:00, 22.84it/s, train_acc=73.374, train_loss=1.74]\n",
            "   test: 100%|██████████| 79/79 [00:02<00:00, 35.27it/s, test_acc=81.922, test_loss=1.65]\n"
          ]
        },
        {
          "name": "stdout",
          "output_type": "stream",
          "text": [
            "EPOCH 2/150 :\n"
          ]
        },
        {
          "name": "stderr",
          "output_type": "stream",
          "text": [
            "  train: 100%|██████████| 469/469 [00:13<00:00, 35.28it/s, train_acc=89.878, train_loss=1.57]\n",
            "   test: 100%|██████████| 79/79 [00:02<00:00, 31.38it/s, test_acc=95.945, test_loss=1.51]\n"
          ]
        },
        {
          "name": "stdout",
          "output_type": "stream",
          "text": [
            "EPOCH 3/150 :\n"
          ]
        },
        {
          "name": "stderr",
          "output_type": "stream",
          "text": [
            "  train: 100%|██████████| 469/469 [00:13<00:00, 35.50it/s, train_acc=96.260, train_loss=1.5]\n",
            "   test: 100%|██████████| 79/79 [00:02<00:00, 35.41it/s, test_acc=96.509, test_loss=1.5]\n"
          ]
        },
        {
          "name": "stdout",
          "output_type": "stream",
          "text": [
            "EPOCH 4/150 :\n"
          ]
        },
        {
          "name": "stderr",
          "output_type": "stream",
          "text": [
            "  train: 100%|██████████| 469/469 [00:12<00:00, 36.22it/s, train_acc=97.090, train_loss=1.49]\n",
            "   test: 100%|██████████| 79/79 [00:02<00:00, 34.51it/s, test_acc=97.903, test_loss=1.48]\n"
          ]
        },
        {
          "name": "stdout",
          "output_type": "stream",
          "text": [
            "EPOCH 5/150 :\n"
          ]
        },
        {
          "name": "stderr",
          "output_type": "stream",
          "text": [
            "  train: 100%|██████████| 469/469 [00:12<00:00, 36.32it/s, train_acc=97.420, train_loss=1.49]\n",
            "   test: 100%|██████████| 79/79 [00:02<00:00, 35.91it/s, test_acc=97.992, test_loss=1.48]\n"
          ]
        },
        {
          "name": "stdout",
          "output_type": "stream",
          "text": [
            "EPOCH 6/150 :\n"
          ]
        },
        {
          "name": "stderr",
          "output_type": "stream",
          "text": [
            "  train: 100%|██████████| 469/469 [00:13<00:00, 35.48it/s, train_acc=97.881, train_loss=1.49]\n",
            "   test: 100%|██████████| 79/79 [00:02<00:00, 28.60it/s, test_acc=97.903, test_loss=1.49]\n"
          ]
        },
        {
          "name": "stdout",
          "output_type": "stream",
          "text": [
            "EPOCH 7/150 :\n"
          ]
        },
        {
          "name": "stderr",
          "output_type": "stream",
          "text": [
            "  train: 100%|██████████| 469/469 [00:13<00:00, 35.87it/s, train_acc=97.957, train_loss=1.48]\n",
            "   test: 100%|██████████| 79/79 [00:02<00:00, 35.31it/s, test_acc=98.141, test_loss=1.48]\n"
          ]
        },
        {
          "name": "stdout",
          "output_type": "stream",
          "text": [
            "EPOCH 8/150 :\n"
          ]
        },
        {
          "name": "stderr",
          "output_type": "stream",
          "text": [
            "  train: 100%|██████████| 469/469 [00:13<00:00, 35.97it/s, train_acc=98.173, train_loss=1.48]\n",
            "   test: 100%|██████████| 79/79 [00:02<00:00, 35.27it/s, test_acc=98.497, test_loss=1.48]\n"
          ]
        },
        {
          "name": "stdout",
          "output_type": "stream",
          "text": [
            "EPOCH 9/150 :\n"
          ]
        },
        {
          "name": "stderr",
          "output_type": "stream",
          "text": [
            "  train: 100%|██████████| 469/469 [00:13<00:00, 35.58it/s, train_acc=98.331, train_loss=1.48]\n",
            "   test: 100%|██████████| 79/79 [00:02<00:00, 35.40it/s, test_acc=98.447, test_loss=1.48]\n"
          ]
        },
        {
          "name": "stdout",
          "output_type": "stream",
          "text": [
            "EPOCH 10/150 :\n"
          ]
        },
        {
          "name": "stderr",
          "output_type": "stream",
          "text": [
            "  train: 100%|██████████| 469/469 [00:12<00:00, 36.39it/s, train_acc=98.389, train_loss=1.48]\n",
            "   test: 100%|██████████| 79/79 [00:02<00:00, 27.73it/s, test_acc=98.447, test_loss=1.48]\n"
          ]
        },
        {
          "name": "stdout",
          "output_type": "stream",
          "text": [
            "EPOCH 11/150 :\n"
          ]
        },
        {
          "name": "stderr",
          "output_type": "stream",
          "text": [
            "  train: 100%|██████████| 469/469 [00:13<00:00, 35.96it/s, train_acc=98.559, train_loss=1.48]\n",
            "   test: 100%|██████████| 79/79 [00:02<00:00, 34.41it/s, test_acc=98.675, test_loss=1.48]\n"
          ]
        },
        {
          "name": "stdout",
          "output_type": "stream",
          "text": [
            "EPOCH 12/150 :\n"
          ]
        },
        {
          "name": "stderr",
          "output_type": "stream",
          "text": [
            "  train: 100%|██████████| 469/469 [00:13<00:00, 35.60it/s, train_acc=98.648, train_loss=1.48]\n",
            "   test: 100%|██████████| 79/79 [00:02<00:00, 35.24it/s, test_acc=98.586, test_loss=1.48]\n"
          ]
        },
        {
          "name": "stdout",
          "output_type": "stream",
          "text": [
            "EPOCH 13/150 :\n"
          ]
        },
        {
          "name": "stderr",
          "output_type": "stream",
          "text": [
            "  train: 100%|██████████| 469/469 [00:13<00:00, 35.29it/s, train_acc=98.694, train_loss=1.48]\n",
            "   test: 100%|██████████| 79/79 [00:02<00:00, 35.62it/s, test_acc=98.586, test_loss=1.48]\n"
          ]
        },
        {
          "name": "stdout",
          "output_type": "stream",
          "text": [
            "EPOCH 14/150 :\n"
          ]
        },
        {
          "name": "stderr",
          "output_type": "stream",
          "text": [
            "  train: 100%|██████████| 469/469 [00:13<00:00, 35.29it/s, train_acc=98.716, train_loss=1.48]\n",
            "   test: 100%|██████████| 79/79 [00:02<00:00, 30.87it/s, test_acc=98.586, test_loss=1.48]\n"
          ]
        },
        {
          "name": "stdout",
          "output_type": "stream",
          "text": [
            "EPOCH 15/150 :\n"
          ]
        },
        {
          "name": "stderr",
          "output_type": "stream",
          "text": [
            "  train: 100%|██████████| 469/469 [00:12<00:00, 36.31it/s, train_acc=98.738, train_loss=1.48]\n",
            "   test: 100%|██████████| 79/79 [00:02<00:00, 35.25it/s, test_acc=98.714, test_loss=1.47]\n"
          ]
        },
        {
          "name": "stdout",
          "output_type": "stream",
          "text": [
            "EPOCH 16/150 :\n"
          ]
        },
        {
          "name": "stderr",
          "output_type": "stream",
          "text": [
            "  train: 100%|██████████| 469/469 [00:12<00:00, 36.27it/s, train_acc=98.834, train_loss=1.47]\n",
            "   test: 100%|██████████| 79/79 [00:02<00:00, 36.14it/s, test_acc=98.774, test_loss=1.48]\n"
          ]
        },
        {
          "name": "stdout",
          "output_type": "stream",
          "text": [
            "EPOCH 17/150 :\n"
          ]
        },
        {
          "name": "stderr",
          "output_type": "stream",
          "text": [
            "  train: 100%|██████████| 469/469 [00:12<00:00, 36.30it/s, train_acc=98.897, train_loss=1.47]\n",
            "   test: 100%|██████████| 79/79 [00:02<00:00, 35.61it/s, test_acc=98.655, test_loss=1.48]\n"
          ]
        },
        {
          "name": "stdout",
          "output_type": "stream",
          "text": [
            "EPOCH 18/150 :\n"
          ]
        },
        {
          "name": "stderr",
          "output_type": "stream",
          "text": [
            "  train: 100%|██████████| 469/469 [00:13<00:00, 35.11it/s, train_acc=98.957, train_loss=1.47]\n",
            "   test: 100%|██████████| 79/79 [00:02<00:00, 30.75it/s, test_acc=98.853, test_loss=1.47]\n"
          ]
        },
        {
          "name": "stdout",
          "output_type": "stream",
          "text": [
            "EPOCH 19/150 :\n"
          ]
        },
        {
          "name": "stderr",
          "output_type": "stream",
          "text": [
            "  train: 100%|██████████| 469/469 [00:13<00:00, 35.78it/s, train_acc=99.001, train_loss=1.47]\n",
            "   test: 100%|██████████| 79/79 [00:02<00:00, 35.97it/s, test_acc=98.922, test_loss=1.47]\n"
          ]
        },
        {
          "name": "stdout",
          "output_type": "stream",
          "text": [
            "EPOCH 20/150 :\n"
          ]
        },
        {
          "name": "stderr",
          "output_type": "stream",
          "text": [
            "  train: 100%|██████████| 469/469 [00:13<00:00, 35.77it/s, train_acc=99.022, train_loss=1.47]\n",
            "   test: 100%|██████████| 79/79 [00:02<00:00, 35.90it/s, test_acc=98.705, test_loss=1.47]\n"
          ]
        },
        {
          "name": "stdout",
          "output_type": "stream",
          "text": [
            "EPOCH 21/150 :\n"
          ]
        },
        {
          "name": "stderr",
          "output_type": "stream",
          "text": [
            "  train: 100%|██████████| 469/469 [00:13<00:00, 35.50it/s, train_acc=99.067, train_loss=1.47]\n",
            "   test: 100%|██████████| 79/79 [00:02<00:00, 29.99it/s, test_acc=98.833, test_loss=1.47]\n"
          ]
        },
        {
          "name": "stdout",
          "output_type": "stream",
          "text": [
            "EPOCH 22/150 :\n"
          ]
        },
        {
          "name": "stderr",
          "output_type": "stream",
          "text": [
            "  train: 100%|██████████| 469/469 [00:13<00:00, 35.14it/s, train_acc=99.033, train_loss=1.47]\n",
            "   test: 100%|██████████| 79/79 [00:02<00:00, 36.04it/s, test_acc=98.873, test_loss=1.47]\n"
          ]
        },
        {
          "name": "stdout",
          "output_type": "stream",
          "text": [
            "EPOCH 23/150 :\n"
          ]
        },
        {
          "name": "stderr",
          "output_type": "stream",
          "text": [
            "  train: 100%|██████████| 469/469 [00:13<00:00, 35.85it/s, train_acc=99.069, train_loss=1.47]\n",
            "   test: 100%|██████████| 79/79 [00:02<00:00, 35.33it/s, test_acc=98.823, test_loss=1.47]\n"
          ]
        },
        {
          "name": "stdout",
          "output_type": "stream",
          "text": [
            "EPOCH 24/150 :\n"
          ]
        },
        {
          "name": "stderr",
          "output_type": "stream",
          "text": [
            "  train: 100%|██████████| 469/469 [00:13<00:00, 36.01it/s, train_acc=99.159, train_loss=1.47]\n",
            "   test: 100%|██████████| 79/79 [00:02<00:00, 35.79it/s, test_acc=98.843, test_loss=1.47]\n"
          ]
        },
        {
          "name": "stdout",
          "output_type": "stream",
          "text": [
            "EPOCH 25/150 :\n"
          ]
        },
        {
          "name": "stderr",
          "output_type": "stream",
          "text": [
            "  train: 100%|██████████| 469/469 [00:13<00:00, 35.89it/s, train_acc=99.158, train_loss=1.47]\n",
            "   test: 100%|██████████| 79/79 [00:02<00:00, 27.04it/s, test_acc=98.932, test_loss=1.47]\n"
          ]
        },
        {
          "name": "stdout",
          "output_type": "stream",
          "text": [
            "EPOCH 26/150 :\n"
          ]
        },
        {
          "name": "stderr",
          "output_type": "stream",
          "text": [
            "  train: 100%|██████████| 469/469 [00:13<00:00, 35.91it/s, train_acc=99.255, train_loss=1.47]\n",
            "   test: 100%|██████████| 79/79 [00:02<00:00, 35.61it/s, test_acc=98.922, test_loss=1.47]\n"
          ]
        },
        {
          "name": "stdout",
          "output_type": "stream",
          "text": [
            "EPOCH 27/150 :\n"
          ]
        },
        {
          "name": "stderr",
          "output_type": "stream",
          "text": [
            "  train: 100%|██████████| 469/469 [00:13<00:00, 35.97it/s, train_acc=99.220, train_loss=1.47]\n",
            "   test: 100%|██████████| 79/79 [00:02<00:00, 35.78it/s, test_acc=98.932, test_loss=1.47]\n"
          ]
        },
        {
          "name": "stdout",
          "output_type": "stream",
          "text": [
            "EPOCH 28/150 :\n"
          ]
        },
        {
          "name": "stderr",
          "output_type": "stream",
          "text": [
            "  train: 100%|██████████| 469/469 [00:12<00:00, 36.20it/s, train_acc=99.190, train_loss=1.47]\n",
            "   test: 100%|██████████| 79/79 [00:02<00:00, 36.14it/s, test_acc=98.912, test_loss=1.47]\n"
          ]
        },
        {
          "name": "stdout",
          "output_type": "stream",
          "text": [
            "EPOCH 29/150 :\n"
          ]
        },
        {
          "name": "stderr",
          "output_type": "stream",
          "text": [
            "  train: 100%|██████████| 469/469 [00:12<00:00, 36.14it/s, train_acc=99.285, train_loss=1.47]\n",
            "   test: 100%|██████████| 79/79 [00:02<00:00, 27.79it/s, test_acc=98.883, test_loss=1.47]\n"
          ]
        },
        {
          "name": "stdout",
          "output_type": "stream",
          "text": [
            "EPOCH 30/150 :\n"
          ]
        },
        {
          "name": "stderr",
          "output_type": "stream",
          "text": [
            "  train: 100%|██████████| 469/469 [00:12<00:00, 36.45it/s, train_acc=99.295, train_loss=1.47]\n",
            "   test: 100%|██████████| 79/79 [00:02<00:00, 36.26it/s, test_acc=98.803, test_loss=1.47]\n"
          ]
        },
        {
          "name": "stdout",
          "output_type": "stream",
          "text": [
            "EPOCH 31/150 :\n"
          ]
        },
        {
          "name": "stderr",
          "output_type": "stream",
          "text": [
            "  train: 100%|██████████| 469/469 [00:12<00:00, 36.88it/s, train_acc=99.315, train_loss=1.47]\n",
            "   test: 100%|██████████| 79/79 [00:02<00:00, 35.59it/s, test_acc=98.991, test_loss=1.47]\n"
          ]
        },
        {
          "name": "stdout",
          "output_type": "stream",
          "text": [
            "EPOCH 32/150 :\n"
          ]
        },
        {
          "name": "stderr",
          "output_type": "stream",
          "text": [
            "  train: 100%|██████████| 469/469 [00:12<00:00, 36.76it/s, train_acc=99.329, train_loss=1.47]\n",
            "   test: 100%|██████████| 79/79 [00:02<00:00, 35.74it/s, test_acc=98.883, test_loss=1.47]\n"
          ]
        },
        {
          "name": "stdout",
          "output_type": "stream",
          "text": [
            "EPOCH 33/150 :\n"
          ]
        },
        {
          "name": "stderr",
          "output_type": "stream",
          "text": [
            "  train: 100%|██████████| 469/469 [00:13<00:00, 35.23it/s, train_acc=99.285, train_loss=1.47]\n",
            "   test: 100%|██████████| 79/79 [00:03<00:00, 20.93it/s, test_acc=99.080, test_loss=1.47]\n"
          ]
        },
        {
          "name": "stdout",
          "output_type": "stream",
          "text": [
            "EPOCH 34/150 :\n"
          ]
        },
        {
          "name": "stderr",
          "output_type": "stream",
          "text": [
            "  train: 100%|██████████| 469/469 [00:13<00:00, 34.59it/s, train_acc=99.325, train_loss=1.47]\n",
            "   test: 100%|██████████| 79/79 [00:02<00:00, 35.25it/s, test_acc=99.070, test_loss=1.47]\n"
          ]
        },
        {
          "name": "stdout",
          "output_type": "stream",
          "text": [
            "EPOCH 35/150 :\n"
          ]
        },
        {
          "name": "stderr",
          "output_type": "stream",
          "text": [
            "  train: 100%|██████████| 469/469 [00:13<00:00, 35.69it/s, train_acc=99.370, train_loss=1.47]\n",
            "   test: 100%|██████████| 79/79 [00:02<00:00, 36.02it/s, test_acc=99.021, test_loss=1.47]\n"
          ]
        },
        {
          "name": "stdout",
          "output_type": "stream",
          "text": [
            "EPOCH 36/150 :\n"
          ]
        },
        {
          "name": "stderr",
          "output_type": "stream",
          "text": [
            "  train: 100%|██████████| 469/469 [00:13<00:00, 35.36it/s, train_acc=99.377, train_loss=1.47]\n",
            "   test: 100%|██████████| 79/79 [00:02<00:00, 31.49it/s, test_acc=99.041, test_loss=1.47]\n"
          ]
        },
        {
          "name": "stdout",
          "output_type": "stream",
          "text": [
            "EPOCH 37/150 :\n"
          ]
        },
        {
          "name": "stderr",
          "output_type": "stream",
          "text": [
            "  train: 100%|██████████| 469/469 [00:13<00:00, 35.17it/s, train_acc=99.423, train_loss=1.47]\n",
            "   test: 100%|██████████| 79/79 [00:02<00:00, 36.09it/s, test_acc=99.011, test_loss=1.47]\n"
          ]
        },
        {
          "name": "stdout",
          "output_type": "stream",
          "text": [
            "EPOCH 38/150 :\n"
          ]
        },
        {
          "name": "stderr",
          "output_type": "stream",
          "text": [
            "  train: 100%|██████████| 469/469 [00:12<00:00, 36.74it/s, train_acc=99.342, train_loss=1.47]\n",
            "   test: 100%|██████████| 79/79 [00:02<00:00, 36.22it/s, test_acc=99.031, test_loss=1.47]\n"
          ]
        },
        {
          "name": "stdout",
          "output_type": "stream",
          "text": [
            "EPOCH 39/150 :\n"
          ]
        },
        {
          "name": "stderr",
          "output_type": "stream",
          "text": [
            "  train: 100%|██████████| 469/469 [00:12<00:00, 36.29it/s, train_acc=99.434, train_loss=1.47]\n",
            "   test: 100%|██████████| 79/79 [00:02<00:00, 36.02it/s, test_acc=99.070, test_loss=1.47]\n"
          ]
        },
        {
          "name": "stdout",
          "output_type": "stream",
          "text": [
            "EPOCH 40/150 :\n"
          ]
        },
        {
          "name": "stderr",
          "output_type": "stream",
          "text": [
            "  train: 100%|██████████| 469/469 [00:12<00:00, 36.29it/s, train_acc=99.424, train_loss=1.47]\n",
            "   test: 100%|██████████| 79/79 [00:02<00:00, 31.28it/s, test_acc=99.021, test_loss=1.47]\n"
          ]
        },
        {
          "name": "stdout",
          "output_type": "stream",
          "text": [
            "EPOCH 41/150 :\n"
          ]
        },
        {
          "name": "stderr",
          "output_type": "stream",
          "text": [
            "  train: 100%|██████████| 469/469 [00:13<00:00, 35.59it/s, train_acc=99.455, train_loss=1.47]\n",
            "   test: 100%|██████████| 79/79 [00:02<00:00, 32.84it/s, test_acc=98.952, test_loss=1.47]\n"
          ]
        },
        {
          "name": "stdout",
          "output_type": "stream",
          "text": [
            "EPOCH 42/150 :\n"
          ]
        },
        {
          "name": "stderr",
          "output_type": "stream",
          "text": [
            "  train: 100%|██████████| 469/469 [00:12<00:00, 36.11it/s, train_acc=99.470, train_loss=1.47]\n",
            "   test: 100%|██████████| 79/79 [00:02<00:00, 35.74it/s, test_acc=98.883, test_loss=1.47]\n"
          ]
        },
        {
          "name": "stdout",
          "output_type": "stream",
          "text": [
            "EPOCH 43/150 :\n"
          ]
        },
        {
          "name": "stderr",
          "output_type": "stream",
          "text": [
            "  train: 100%|██████████| 469/469 [00:13<00:00, 35.42it/s, train_acc=99.499, train_loss=1.47]\n",
            "   test: 100%|██████████| 79/79 [00:02<00:00, 35.28it/s, test_acc=98.952, test_loss=1.47]\n"
          ]
        },
        {
          "name": "stdout",
          "output_type": "stream",
          "text": [
            "EPOCH 44/150 :\n"
          ]
        },
        {
          "name": "stderr",
          "output_type": "stream",
          "text": [
            "  train: 100%|██████████| 469/469 [00:13<00:00, 36.01it/s, train_acc=99.487, train_loss=1.47]\n",
            "   test: 100%|██████████| 79/79 [00:02<00:00, 28.05it/s, test_acc=99.061, test_loss=1.47]\n"
          ]
        },
        {
          "name": "stdout",
          "output_type": "stream",
          "text": [
            "EPOCH 45/150 :\n"
          ]
        },
        {
          "name": "stderr",
          "output_type": "stream",
          "text": [
            "  train: 100%|██████████| 469/469 [00:13<00:00, 35.70it/s, train_acc=99.515, train_loss=1.47]\n",
            "   test: 100%|██████████| 79/79 [00:02<00:00, 33.97it/s, test_acc=99.011, test_loss=1.47]\n"
          ]
        },
        {
          "name": "stdout",
          "output_type": "stream",
          "text": [
            "EPOCH 46/150 :\n"
          ]
        },
        {
          "name": "stderr",
          "output_type": "stream",
          "text": [
            "  train: 100%|██████████| 469/469 [00:12<00:00, 36.28it/s, train_acc=99.493, train_loss=1.47]\n",
            "   test: 100%|██████████| 79/79 [00:02<00:00, 36.03it/s, test_acc=99.051, test_loss=1.47]\n"
          ]
        },
        {
          "name": "stdout",
          "output_type": "stream",
          "text": [
            "EPOCH 47/150 :\n"
          ]
        },
        {
          "name": "stderr",
          "output_type": "stream",
          "text": [
            "  train: 100%|██████████| 469/469 [00:12<00:00, 36.49it/s, train_acc=99.506, train_loss=1.47]\n",
            "   test: 100%|██████████| 79/79 [00:02<00:00, 36.34it/s, test_acc=98.883, test_loss=1.47]\n"
          ]
        },
        {
          "name": "stdout",
          "output_type": "stream",
          "text": [
            "EPOCH 48/150 :\n"
          ]
        },
        {
          "name": "stderr",
          "output_type": "stream",
          "text": [
            "  train: 100%|██████████| 469/469 [00:12<00:00, 37.40it/s, train_acc=99.555, train_loss=1.47]\n",
            "   test: 100%|██████████| 79/79 [00:02<00:00, 29.81it/s, test_acc=98.981, test_loss=1.47]\n"
          ]
        },
        {
          "name": "stdout",
          "output_type": "stream",
          "text": [
            "EPOCH 49/150 :\n"
          ]
        },
        {
          "name": "stderr",
          "output_type": "stream",
          "text": [
            "  train: 100%|██████████| 469/469 [00:13<00:00, 36.08it/s, train_acc=99.556, train_loss=1.47]\n",
            "   test: 100%|██████████| 79/79 [00:02<00:00, 35.98it/s, test_acc=99.120, test_loss=1.47]\n"
          ]
        },
        {
          "name": "stdout",
          "output_type": "stream",
          "text": [
            "EPOCH 50/150 :\n"
          ]
        },
        {
          "name": "stderr",
          "output_type": "stream",
          "text": [
            "  train: 100%|██████████| 469/469 [00:12<00:00, 36.28it/s, train_acc=99.526, train_loss=1.47]\n",
            "   test: 100%|██████████| 79/79 [00:02<00:00, 35.71it/s, test_acc=99.100, test_loss=1.47]\n"
          ]
        },
        {
          "name": "stdout",
          "output_type": "stream",
          "text": [
            "EPOCH 51/150 :\n"
          ]
        },
        {
          "name": "stderr",
          "output_type": "stream",
          "text": [
            "  train: 100%|██████████| 469/469 [00:13<00:00, 35.20it/s, train_acc=99.565, train_loss=1.47]\n",
            "   test: 100%|██████████| 79/79 [00:02<00:00, 35.62it/s, test_acc=99.051, test_loss=1.47]\n"
          ]
        },
        {
          "name": "stdout",
          "output_type": "stream",
          "text": [
            "EPOCH 52/150 :\n"
          ]
        },
        {
          "name": "stderr",
          "output_type": "stream",
          "text": [
            "  train: 100%|██████████| 469/469 [00:12<00:00, 36.60it/s, train_acc=99.575, train_loss=1.47]\n",
            "   test: 100%|██████████| 79/79 [00:02<00:00, 28.66it/s, test_acc=99.159, test_loss=1.47]\n"
          ]
        },
        {
          "name": "stdout",
          "output_type": "stream",
          "text": [
            "EPOCH 53/150 :\n"
          ]
        },
        {
          "name": "stderr",
          "output_type": "stream",
          "text": [
            "  train: 100%|██████████| 469/469 [00:13<00:00, 36.00it/s, train_acc=99.551, train_loss=1.47]\n",
            "   test: 100%|██████████| 79/79 [00:02<00:00, 35.22it/s, test_acc=99.070, test_loss=1.47]\n"
          ]
        },
        {
          "name": "stdout",
          "output_type": "stream",
          "text": [
            "EPOCH 54/150 :\n"
          ]
        },
        {
          "name": "stderr",
          "output_type": "stream",
          "text": [
            "  train: 100%|██████████| 469/469 [00:13<00:00, 35.65it/s, train_acc=99.582, train_loss=1.47]\n",
            "   test: 100%|██████████| 79/79 [00:02<00:00, 35.70it/s, test_acc=99.140, test_loss=1.47]\n"
          ]
        },
        {
          "name": "stdout",
          "output_type": "stream",
          "text": [
            "EPOCH 55/150 :\n"
          ]
        },
        {
          "name": "stderr",
          "output_type": "stream",
          "text": [
            "  train: 100%|██████████| 469/469 [00:13<00:00, 35.90it/s, train_acc=99.595, train_loss=1.47]\n",
            "   test: 100%|██████████| 79/79 [00:02<00:00, 35.06it/s, test_acc=99.179, test_loss=1.47]\n"
          ]
        },
        {
          "name": "stdout",
          "output_type": "stream",
          "text": [
            "EPOCH 56/150 :\n"
          ]
        },
        {
          "name": "stderr",
          "output_type": "stream",
          "text": [
            "  train: 100%|██████████| 469/469 [00:13<00:00, 35.67it/s, train_acc=99.612, train_loss=1.47]\n",
            "   test: 100%|██████████| 79/79 [00:02<00:00, 27.52it/s, test_acc=99.080, test_loss=1.47]\n"
          ]
        },
        {
          "name": "stdout",
          "output_type": "stream",
          "text": [
            "EPOCH 57/150 :\n"
          ]
        },
        {
          "name": "stderr",
          "output_type": "stream",
          "text": [
            "  train: 100%|██████████| 469/469 [00:13<00:00, 35.92it/s, train_acc=99.590, train_loss=1.47]\n",
            "   test: 100%|██████████| 79/79 [00:02<00:00, 35.68it/s, test_acc=99.001, test_loss=1.47]\n"
          ]
        },
        {
          "name": "stdout",
          "output_type": "stream",
          "text": [
            "EPOCH 58/150 :\n"
          ]
        },
        {
          "name": "stderr",
          "output_type": "stream",
          "text": [
            "  train: 100%|██████████| 469/469 [00:13<00:00, 36.03it/s, train_acc=99.605, train_loss=1.47]\n",
            "   test: 100%|██████████| 79/79 [00:02<00:00, 35.40it/s, test_acc=99.080, test_loss=1.47]\n"
          ]
        },
        {
          "name": "stdout",
          "output_type": "stream",
          "text": [
            "EPOCH 59/150 :\n"
          ]
        },
        {
          "name": "stderr",
          "output_type": "stream",
          "text": [
            "  train: 100%|██████████| 469/469 [00:13<00:00, 35.90it/s, train_acc=99.641, train_loss=1.47]\n",
            "   test: 100%|██████████| 79/79 [00:02<00:00, 35.44it/s, test_acc=99.150, test_loss=1.47]\n"
          ]
        },
        {
          "name": "stdout",
          "output_type": "stream",
          "text": [
            "EPOCH 60/150 :\n"
          ]
        },
        {
          "name": "stderr",
          "output_type": "stream",
          "text": [
            "  train: 100%|██████████| 469/469 [00:13<00:00, 35.53it/s, train_acc=99.660, train_loss=1.47]\n",
            "   test: 100%|██████████| 79/79 [00:02<00:00, 29.24it/s, test_acc=99.150, test_loss=1.47]\n"
          ]
        },
        {
          "name": "stdout",
          "output_type": "stream",
          "text": [
            "EPOCH 61/150 :\n"
          ]
        },
        {
          "name": "stderr",
          "output_type": "stream",
          "text": [
            "  train: 100%|██████████| 469/469 [00:13<00:00, 35.73it/s, train_acc=99.663, train_loss=1.47]\n",
            "   test: 100%|██████████| 79/79 [00:02<00:00, 35.93it/s, test_acc=99.150, test_loss=1.47]\n"
          ]
        },
        {
          "name": "stdout",
          "output_type": "stream",
          "text": [
            "EPOCH 62/150 :\n"
          ]
        },
        {
          "name": "stderr",
          "output_type": "stream",
          "text": [
            "  train: 100%|██████████| 469/469 [00:13<00:00, 35.97it/s, train_acc=99.669, train_loss=1.47]\n",
            "   test: 100%|██████████| 79/79 [00:02<00:00, 35.74it/s, test_acc=99.130, test_loss=1.47]\n"
          ]
        },
        {
          "name": "stdout",
          "output_type": "stream",
          "text": [
            "EPOCH 63/150 :\n"
          ]
        },
        {
          "name": "stderr",
          "output_type": "stream",
          "text": [
            "  train: 100%|██████████| 469/469 [00:13<00:00, 35.87it/s, train_acc=99.667, train_loss=1.47]\n",
            "   test: 100%|██████████| 79/79 [00:02<00:00, 34.55it/s, test_acc=99.070, test_loss=1.47]\n"
          ]
        },
        {
          "name": "stdout",
          "output_type": "stream",
          "text": [
            "EPOCH 64/150 :\n"
          ]
        },
        {
          "name": "stderr",
          "output_type": "stream",
          "text": [
            "  train: 100%|██████████| 469/469 [00:13<00:00, 35.52it/s, train_acc=99.687, train_loss=1.46]\n",
            "   test: 100%|██████████| 79/79 [00:02<00:00, 31.68it/s, test_acc=99.070, test_loss=1.47]\n"
          ]
        },
        {
          "name": "stdout",
          "output_type": "stream",
          "text": [
            "EPOCH 65/150 :\n"
          ]
        },
        {
          "name": "stderr",
          "output_type": "stream",
          "text": [
            "  train: 100%|██████████| 469/469 [00:13<00:00, 35.94it/s, train_acc=99.680, train_loss=1.46]\n",
            "   test: 100%|██████████| 79/79 [00:02<00:00, 36.14it/s, test_acc=99.090, test_loss=1.47]\n"
          ]
        },
        {
          "name": "stdout",
          "output_type": "stream",
          "text": [
            "EPOCH 66/150 :\n"
          ]
        },
        {
          "name": "stderr",
          "output_type": "stream",
          "text": [
            "  train: 100%|██████████| 469/469 [00:13<00:00, 35.91it/s, train_acc=99.686, train_loss=1.46]\n",
            "   test: 100%|██████████| 79/79 [00:02<00:00, 35.32it/s, test_acc=99.051, test_loss=1.47]\n"
          ]
        },
        {
          "name": "stdout",
          "output_type": "stream",
          "text": [
            "EPOCH 67/150 :\n"
          ]
        },
        {
          "name": "stderr",
          "output_type": "stream",
          "text": [
            "  train: 100%|██████████| 469/469 [00:12<00:00, 36.46it/s, train_acc=99.667, train_loss=1.46]\n",
            "   test: 100%|██████████| 79/79 [00:02<00:00, 32.62it/s, test_acc=99.080, test_loss=1.47]\n"
          ]
        },
        {
          "name": "stdout",
          "output_type": "stream",
          "text": [
            "EPOCH 68/150 :\n"
          ]
        },
        {
          "name": "stderr",
          "output_type": "stream",
          "text": [
            "  train: 100%|██████████| 469/469 [00:12<00:00, 36.09it/s, train_acc=99.670, train_loss=1.47]\n",
            "   test: 100%|██████████| 79/79 [00:02<00:00, 32.69it/s, test_acc=99.159, test_loss=1.47]\n"
          ]
        },
        {
          "name": "stdout",
          "output_type": "stream",
          "text": [
            "EPOCH 69/150 :\n"
          ]
        },
        {
          "name": "stderr",
          "output_type": "stream",
          "text": [
            "  train: 100%|██████████| 469/469 [00:13<00:00, 35.78it/s, train_acc=99.723, train_loss=1.46]\n",
            "   test: 100%|██████████| 79/79 [00:02<00:00, 35.26it/s, test_acc=99.110, test_loss=1.47]\n"
          ]
        },
        {
          "name": "stdout",
          "output_type": "stream",
          "text": [
            "EPOCH 70/150 :\n"
          ]
        },
        {
          "name": "stderr",
          "output_type": "stream",
          "text": [
            "  train: 100%|██████████| 469/469 [00:13<00:00, 35.91it/s, train_acc=99.713, train_loss=1.46]\n",
            "   test: 100%|██████████| 79/79 [00:02<00:00, 36.11it/s, test_acc=99.080, test_loss=1.47]\n"
          ]
        },
        {
          "name": "stdout",
          "output_type": "stream",
          "text": [
            "EPOCH 71/150 :\n"
          ]
        },
        {
          "name": "stderr",
          "output_type": "stream",
          "text": [
            "  train: 100%|██████████| 469/469 [00:13<00:00, 35.83it/s, train_acc=99.710, train_loss=1.46]\n",
            "   test: 100%|██████████| 79/79 [00:02<00:00, 31.51it/s, test_acc=99.120, test_loss=1.47]\n"
          ]
        },
        {
          "name": "stdout",
          "output_type": "stream",
          "text": [
            "EPOCH 72/150 :\n"
          ]
        },
        {
          "name": "stderr",
          "output_type": "stream",
          "text": [
            "  train: 100%|██████████| 469/469 [00:12<00:00, 36.24it/s, train_acc=99.740, train_loss=1.46]\n",
            "   test: 100%|██████████| 79/79 [00:02<00:00, 33.54it/s, test_acc=99.110, test_loss=1.47]\n"
          ]
        },
        {
          "name": "stdout",
          "output_type": "stream",
          "text": [
            "EPOCH 73/150 :\n"
          ]
        },
        {
          "name": "stderr",
          "output_type": "stream",
          "text": [
            "  train: 100%|██████████| 469/469 [00:12<00:00, 36.87it/s, train_acc=99.705, train_loss=1.46]\n",
            "   test: 100%|██████████| 79/79 [00:02<00:00, 35.07it/s, test_acc=98.981, test_loss=1.47]\n"
          ]
        },
        {
          "name": "stdout",
          "output_type": "stream",
          "text": [
            "EPOCH 74/150 :\n"
          ]
        },
        {
          "name": "stderr",
          "output_type": "stream",
          "text": [
            "  train: 100%|██████████| 469/469 [00:12<00:00, 36.55it/s, train_acc=99.732, train_loss=1.46]\n",
            "   test: 100%|██████████| 79/79 [00:02<00:00, 35.88it/s, test_acc=99.061, test_loss=1.47]\n"
          ]
        },
        {
          "name": "stdout",
          "output_type": "stream",
          "text": [
            "EPOCH 75/150 :\n"
          ]
        },
        {
          "name": "stderr",
          "output_type": "stream",
          "text": [
            "  train: 100%|██████████| 469/469 [00:12<00:00, 36.73it/s, train_acc=99.737, train_loss=1.46]\n",
            "   test: 100%|██████████| 79/79 [00:02<00:00, 34.07it/s, test_acc=99.140, test_loss=1.47]\n"
          ]
        },
        {
          "name": "stdout",
          "output_type": "stream",
          "text": [
            "EPOCH 76/150 :\n"
          ]
        },
        {
          "name": "stderr",
          "output_type": "stream",
          "text": [
            "  train: 100%|██████████| 469/469 [00:13<00:00, 35.30it/s, train_acc=99.750, train_loss=1.46]\n",
            "   test: 100%|██████████| 79/79 [00:02<00:00, 31.55it/s, test_acc=99.130, test_loss=1.47]\n"
          ]
        },
        {
          "name": "stdout",
          "output_type": "stream",
          "text": [
            "EPOCH 77/150 :\n"
          ]
        },
        {
          "name": "stderr",
          "output_type": "stream",
          "text": [
            "  train: 100%|██████████| 469/469 [00:13<00:00, 36.04it/s, train_acc=99.770, train_loss=1.46]\n",
            "   test: 100%|██████████| 79/79 [00:02<00:00, 35.41it/s, test_acc=99.288, test_loss=1.47]\n"
          ]
        },
        {
          "name": "stdout",
          "output_type": "stream",
          "text": [
            "EPOCH 78/150 :\n"
          ]
        },
        {
          "name": "stderr",
          "output_type": "stream",
          "text": [
            "  train: 100%|██████████| 469/469 [00:13<00:00, 36.05it/s, train_acc=99.750, train_loss=1.46]\n",
            "   test: 100%|██████████| 79/79 [00:02<00:00, 33.99it/s, test_acc=99.120, test_loss=1.47]\n"
          ]
        },
        {
          "name": "stdout",
          "output_type": "stream",
          "text": [
            "EPOCH 79/150 :\n"
          ]
        },
        {
          "name": "stderr",
          "output_type": "stream",
          "text": [
            "  train: 100%|██████████| 469/469 [00:13<00:00, 35.82it/s, train_acc=99.747, train_loss=1.46]\n",
            "   test: 100%|██████████| 79/79 [00:02<00:00, 32.06it/s, test_acc=99.090, test_loss=1.47]\n"
          ]
        },
        {
          "name": "stdout",
          "output_type": "stream",
          "text": [
            "EPOCH 80/150 :\n"
          ]
        },
        {
          "name": "stderr",
          "output_type": "stream",
          "text": [
            "  train: 100%|██████████| 469/469 [00:13<00:00, 35.72it/s, train_acc=99.753, train_loss=1.46]\n",
            "   test: 100%|██████████| 79/79 [00:02<00:00, 33.05it/s, test_acc=99.120, test_loss=1.47]\n"
          ]
        },
        {
          "name": "stdout",
          "output_type": "stream",
          "text": [
            "EPOCH 81/150 :\n"
          ]
        },
        {
          "name": "stderr",
          "output_type": "stream",
          "text": [
            "  train: 100%|██████████| 469/469 [00:12<00:00, 36.51it/s, train_acc=99.763, train_loss=1.46]\n",
            "   test: 100%|██████████| 79/79 [00:02<00:00, 35.64it/s, test_acc=99.100, test_loss=1.47]\n"
          ]
        },
        {
          "name": "stdout",
          "output_type": "stream",
          "text": [
            "EPOCH 82/150 :\n"
          ]
        },
        {
          "name": "stderr",
          "output_type": "stream",
          "text": [
            "  train: 100%|██████████| 469/469 [00:12<00:00, 36.12it/s, train_acc=99.742, train_loss=1.46]\n",
            "   test: 100%|██████████| 79/79 [00:02<00:00, 33.92it/s, test_acc=99.100, test_loss=1.47]\n"
          ]
        },
        {
          "name": "stdout",
          "output_type": "stream",
          "text": [
            "EPOCH 83/150 :\n"
          ]
        },
        {
          "name": "stderr",
          "output_type": "stream",
          "text": [
            "  train: 100%|██████████| 469/469 [00:12<00:00, 36.47it/s, train_acc=99.783, train_loss=1.46]\n",
            "   test: 100%|██████████| 79/79 [00:02<00:00, 31.94it/s, test_acc=99.070, test_loss=1.47]\n"
          ]
        },
        {
          "name": "stdout",
          "output_type": "stream",
          "text": [
            "EPOCH 84/150 :\n"
          ]
        },
        {
          "name": "stderr",
          "output_type": "stream",
          "text": [
            "  train: 100%|██████████| 469/469 [00:13<00:00, 35.92it/s, train_acc=99.762, train_loss=1.46]\n",
            "   test: 100%|██████████| 79/79 [00:02<00:00, 33.86it/s, test_acc=99.070, test_loss=1.47]\n"
          ]
        },
        {
          "name": "stdout",
          "output_type": "stream",
          "text": [
            "EPOCH 85/150 :\n"
          ]
        },
        {
          "name": "stderr",
          "output_type": "stream",
          "text": [
            "  train: 100%|██████████| 469/469 [00:12<00:00, 36.19it/s, train_acc=99.763, train_loss=1.46]\n",
            "   test: 100%|██████████| 79/79 [00:02<00:00, 35.68it/s, test_acc=99.140, test_loss=1.47]\n"
          ]
        },
        {
          "name": "stdout",
          "output_type": "stream",
          "text": [
            "EPOCH 86/150 :\n"
          ]
        },
        {
          "name": "stderr",
          "output_type": "stream",
          "text": [
            "  train: 100%|██████████| 469/469 [00:12<00:00, 36.42it/s, train_acc=99.788, train_loss=1.46]\n",
            "   test: 100%|██████████| 79/79 [00:02<00:00, 36.12it/s, test_acc=99.209, test_loss=1.47]\n"
          ]
        },
        {
          "name": "stdout",
          "output_type": "stream",
          "text": [
            "EPOCH 87/150 :\n"
          ]
        },
        {
          "name": "stderr",
          "output_type": "stream",
          "text": [
            "  train: 100%|██████████| 469/469 [00:13<00:00, 35.62it/s, train_acc=99.778, train_loss=1.46]\n",
            "   test: 100%|██████████| 79/79 [00:02<00:00, 31.77it/s, test_acc=99.100, test_loss=1.47]\n"
          ]
        },
        {
          "name": "stdout",
          "output_type": "stream",
          "text": [
            "EPOCH 88/150 :\n"
          ]
        },
        {
          "name": "stderr",
          "output_type": "stream",
          "text": [
            "  train: 100%|██████████| 469/469 [00:13<00:00, 35.37it/s, train_acc=99.803, train_loss=1.46]\n",
            "   test: 100%|██████████| 79/79 [00:02<00:00, 33.73it/s, test_acc=99.001, test_loss=1.47]\n"
          ]
        },
        {
          "name": "stdout",
          "output_type": "stream",
          "text": [
            "EPOCH 89/150 :\n"
          ]
        },
        {
          "name": "stderr",
          "output_type": "stream",
          "text": [
            "  train: 100%|██████████| 469/469 [00:12<00:00, 36.21it/s, train_acc=99.785, train_loss=1.46]\n",
            "   test: 100%|██████████| 79/79 [00:02<00:00, 35.02it/s, test_acc=99.140, test_loss=1.47]\n"
          ]
        },
        {
          "name": "stdout",
          "output_type": "stream",
          "text": [
            "EPOCH 90/150 :\n"
          ]
        },
        {
          "name": "stderr",
          "output_type": "stream",
          "text": [
            "  train: 100%|██████████| 469/469 [00:13<00:00, 35.93it/s, train_acc=99.787, train_loss=1.46]\n",
            "   test: 100%|██████████| 79/79 [00:02<00:00, 35.98it/s, test_acc=99.080, test_loss=1.47]\n"
          ]
        },
        {
          "name": "stdout",
          "output_type": "stream",
          "text": [
            "EPOCH 91/150 :\n"
          ]
        },
        {
          "name": "stderr",
          "output_type": "stream",
          "text": [
            "  train: 100%|██████████| 469/469 [00:13<00:00, 36.07it/s, train_acc=99.785, train_loss=1.46]\n",
            "   test: 100%|██████████| 79/79 [00:02<00:00, 31.44it/s, test_acc=99.080, test_loss=1.47]\n"
          ]
        },
        {
          "name": "stdout",
          "output_type": "stream",
          "text": [
            "EPOCH 92/150 :\n"
          ]
        },
        {
          "name": "stderr",
          "output_type": "stream",
          "text": [
            "  train: 100%|██████████| 469/469 [00:13<00:00, 35.93it/s, train_acc=99.800, train_loss=1.46]\n",
            "   test: 100%|██████████| 79/79 [00:02<00:00, 33.61it/s, test_acc=99.209, test_loss=1.47]\n"
          ]
        },
        {
          "name": "stdout",
          "output_type": "stream",
          "text": [
            "EPOCH 93/150 :\n"
          ]
        },
        {
          "name": "stderr",
          "output_type": "stream",
          "text": [
            "  train: 100%|██████████| 469/469 [00:12<00:00, 36.35it/s, train_acc=99.815, train_loss=1.46]\n",
            "   test: 100%|██████████| 79/79 [00:02<00:00, 35.37it/s, test_acc=99.189, test_loss=1.47]\n"
          ]
        },
        {
          "name": "stdout",
          "output_type": "stream",
          "text": [
            "EPOCH 94/150 :\n"
          ]
        },
        {
          "name": "stderr",
          "output_type": "stream",
          "text": [
            "  train: 100%|██████████| 469/469 [00:12<00:00, 36.19it/s, train_acc=99.812, train_loss=1.46]\n",
            "   test: 100%|██████████| 79/79 [00:02<00:00, 35.66it/s, test_acc=99.120, test_loss=1.47]\n"
          ]
        },
        {
          "name": "stdout",
          "output_type": "stream",
          "text": [
            "EPOCH 95/150 :\n"
          ]
        },
        {
          "name": "stderr",
          "output_type": "stream",
          "text": [
            "  train: 100%|██████████| 469/469 [00:12<00:00, 36.45it/s, train_acc=99.800, train_loss=1.46]\n",
            "   test: 100%|██████████| 79/79 [00:02<00:00, 30.63it/s, test_acc=99.080, test_loss=1.47]\n"
          ]
        },
        {
          "name": "stdout",
          "output_type": "stream",
          "text": [
            "EPOCH 96/150 :\n"
          ]
        },
        {
          "name": "stderr",
          "output_type": "stream",
          "text": [
            "  train: 100%|██████████| 469/469 [00:13<00:00, 35.37it/s, train_acc=99.802, train_loss=1.46]\n",
            "   test: 100%|██████████| 79/79 [00:02<00:00, 34.79it/s, test_acc=99.120, test_loss=1.47]\n"
          ]
        },
        {
          "name": "stdout",
          "output_type": "stream",
          "text": [
            "EPOCH 97/150 :\n"
          ]
        },
        {
          "name": "stderr",
          "output_type": "stream",
          "text": [
            "  train: 100%|██████████| 469/469 [00:12<00:00, 36.34it/s, train_acc=99.832, train_loss=1.46]\n",
            "   test: 100%|██████████| 79/79 [00:02<00:00, 34.95it/s, test_acc=99.120, test_loss=1.47]\n"
          ]
        },
        {
          "name": "stdout",
          "output_type": "stream",
          "text": [
            "EPOCH 98/150 :\n"
          ]
        },
        {
          "name": "stderr",
          "output_type": "stream",
          "text": [
            "  train: 100%|██████████| 469/469 [00:12<00:00, 36.31it/s, train_acc=99.828, train_loss=1.46]\n",
            "   test: 100%|██████████| 79/79 [00:02<00:00, 36.07it/s, test_acc=99.140, test_loss=1.47]\n"
          ]
        },
        {
          "name": "stdout",
          "output_type": "stream",
          "text": [
            "EPOCH 99/150 :\n"
          ]
        },
        {
          "name": "stderr",
          "output_type": "stream",
          "text": [
            "  train: 100%|██████████| 469/469 [00:13<00:00, 35.58it/s, train_acc=99.843, train_loss=1.46]\n",
            "   test: 100%|██████████| 79/79 [00:02<00:00, 28.31it/s, test_acc=99.159, test_loss=1.47]\n"
          ]
        },
        {
          "name": "stdout",
          "output_type": "stream",
          "text": [
            "EPOCH 100/150 :\n"
          ]
        },
        {
          "name": "stderr",
          "output_type": "stream",
          "text": [
            "  train: 100%|██████████| 469/469 [00:13<00:00, 35.13it/s, train_acc=99.838, train_loss=1.46]\n",
            "   test: 100%|██████████| 79/79 [00:02<00:00, 35.48it/s, test_acc=99.189, test_loss=1.47]\n"
          ]
        },
        {
          "name": "stdout",
          "output_type": "stream",
          "text": [
            "EPOCH 101/150 :\n"
          ]
        },
        {
          "name": "stderr",
          "output_type": "stream",
          "text": [
            "  train: 100%|██████████| 469/469 [00:13<00:00, 35.93it/s, train_acc=99.828, train_loss=1.46]\n",
            "   test: 100%|██████████| 79/79 [00:02<00:00, 35.82it/s, test_acc=99.130, test_loss=1.47]\n"
          ]
        },
        {
          "name": "stdout",
          "output_type": "stream",
          "text": [
            "EPOCH 102/150 :\n"
          ]
        },
        {
          "name": "stderr",
          "output_type": "stream",
          "text": [
            "  train: 100%|██████████| 469/469 [00:12<00:00, 36.18it/s, train_acc=99.805, train_loss=1.46]\n",
            "   test: 100%|██████████| 79/79 [00:02<00:00, 35.60it/s, test_acc=99.090, test_loss=1.47]\n"
          ]
        },
        {
          "name": "stdout",
          "output_type": "stream",
          "text": [
            "EPOCH 103/150 :\n"
          ]
        },
        {
          "name": "stderr",
          "output_type": "stream",
          "text": [
            "  train: 100%|██████████| 469/469 [00:12<00:00, 36.19it/s, train_acc=99.813, train_loss=1.46]\n",
            "   test: 100%|██████████| 79/79 [00:02<00:00, 29.17it/s, test_acc=99.140, test_loss=1.47]\n"
          ]
        },
        {
          "name": "stdout",
          "output_type": "stream",
          "text": [
            "EPOCH 104/150 :\n"
          ]
        },
        {
          "name": "stderr",
          "output_type": "stream",
          "text": [
            "  train: 100%|██████████| 469/469 [00:12<00:00, 36.33it/s, train_acc=99.833, train_loss=1.46]\n",
            "   test: 100%|██████████| 79/79 [00:02<00:00, 35.81it/s, test_acc=99.248, test_loss=1.47]\n"
          ]
        },
        {
          "name": "stdout",
          "output_type": "stream",
          "text": [
            "EPOCH 105/150 :\n"
          ]
        },
        {
          "name": "stderr",
          "output_type": "stream",
          "text": [
            "  train: 100%|██████████| 469/469 [00:12<00:00, 36.55it/s, train_acc=99.847, train_loss=1.46]\n",
            "   test: 100%|██████████| 79/79 [00:02<00:00, 35.57it/s, test_acc=99.140, test_loss=1.47]\n"
          ]
        },
        {
          "name": "stdout",
          "output_type": "stream",
          "text": [
            "EPOCH 106/150 :\n"
          ]
        },
        {
          "name": "stderr",
          "output_type": "stream",
          "text": [
            "  train: 100%|██████████| 469/469 [00:12<00:00, 36.68it/s, train_acc=99.840, train_loss=1.46]\n",
            "   test: 100%|██████████| 79/79 [00:02<00:00, 35.59it/s, test_acc=99.189, test_loss=1.47]\n"
          ]
        },
        {
          "name": "stdout",
          "output_type": "stream",
          "text": [
            "EPOCH 107/150 :\n"
          ]
        },
        {
          "name": "stderr",
          "output_type": "stream",
          "text": [
            "  train: 100%|██████████| 469/469 [00:12<00:00, 36.20it/s, train_acc=99.822, train_loss=1.46]\n",
            "   test: 100%|██████████| 79/79 [00:02<00:00, 30.35it/s, test_acc=99.120, test_loss=1.47]\n"
          ]
        },
        {
          "name": "stdout",
          "output_type": "stream",
          "text": [
            "EPOCH 108/150 :\n"
          ]
        },
        {
          "name": "stderr",
          "output_type": "stream",
          "text": [
            "  train: 100%|██████████| 469/469 [00:13<00:00, 35.87it/s, train_acc=99.840, train_loss=1.46]\n",
            "   test: 100%|██████████| 79/79 [00:02<00:00, 35.28it/s, test_acc=99.159, test_loss=1.47]\n"
          ]
        },
        {
          "name": "stdout",
          "output_type": "stream",
          "text": [
            "EPOCH 109/150 :\n"
          ]
        },
        {
          "name": "stderr",
          "output_type": "stream",
          "text": [
            "  train: 100%|██████████| 469/469 [00:12<00:00, 36.35it/s, train_acc=99.833, train_loss=1.46]\n",
            "   test: 100%|██████████| 79/79 [00:02<00:00, 34.78it/s, test_acc=99.031, test_loss=1.47]\n"
          ]
        },
        {
          "name": "stdout",
          "output_type": "stream",
          "text": [
            "EPOCH 110/150 :\n"
          ]
        },
        {
          "name": "stderr",
          "output_type": "stream",
          "text": [
            "  train: 100%|██████████| 469/469 [00:12<00:00, 36.42it/s, train_acc=99.835, train_loss=1.46]\n",
            "   test: 100%|██████████| 79/79 [00:02<00:00, 34.67it/s, test_acc=99.199, test_loss=1.47]\n"
          ]
        },
        {
          "name": "stdout",
          "output_type": "stream",
          "text": [
            "EPOCH 111/150 :\n"
          ]
        },
        {
          "name": "stderr",
          "output_type": "stream",
          "text": [
            "  train: 100%|██████████| 469/469 [00:19<00:00, 24.55it/s, train_acc=99.827, train_loss=1.46]\n",
            "   test: 100%|██████████| 79/79 [00:02<00:00, 29.95it/s, test_acc=99.110, test_loss=1.47]\n"
          ]
        },
        {
          "name": "stdout",
          "output_type": "stream",
          "text": [
            "EPOCH 112/150 :\n"
          ]
        },
        {
          "name": "stderr",
          "output_type": "stream",
          "text": [
            "  train: 100%|██████████| 469/469 [00:12<00:00, 36.64it/s, train_acc=99.857, train_loss=1.46]\n",
            "   test: 100%|██████████| 79/79 [00:02<00:00, 36.52it/s, test_acc=99.140, test_loss=1.47]\n"
          ]
        },
        {
          "name": "stdout",
          "output_type": "stream",
          "text": [
            "EPOCH 113/150 :\n"
          ]
        },
        {
          "name": "stderr",
          "output_type": "stream",
          "text": [
            "  train: 100%|██████████| 469/469 [00:13<00:00, 35.94it/s, train_acc=99.850, train_loss=1.46]\n",
            "   test: 100%|██████████| 79/79 [00:02<00:00, 31.44it/s, test_acc=99.169, test_loss=1.47]\n"
          ]
        },
        {
          "name": "stdout",
          "output_type": "stream",
          "text": [
            "EPOCH 114/150 :\n"
          ]
        },
        {
          "name": "stderr",
          "output_type": "stream",
          "text": [
            "  train: 100%|██████████| 469/469 [00:13<00:00, 35.58it/s, train_acc=99.833, train_loss=1.46]\n",
            "   test: 100%|██████████| 79/79 [00:02<00:00, 33.65it/s, test_acc=99.140, test_loss=1.47]\n"
          ]
        },
        {
          "name": "stdout",
          "output_type": "stream",
          "text": [
            "EPOCH 115/150 :\n"
          ]
        },
        {
          "name": "stderr",
          "output_type": "stream",
          "text": [
            "  train: 100%|██████████| 469/469 [00:12<00:00, 36.17it/s, train_acc=99.860, train_loss=1.46]\n",
            "   test: 100%|██████████| 79/79 [00:02<00:00, 34.63it/s, test_acc=99.140, test_loss=1.47]\n"
          ]
        },
        {
          "name": "stdout",
          "output_type": "stream",
          "text": [
            "EPOCH 116/150 :\n"
          ]
        },
        {
          "name": "stderr",
          "output_type": "stream",
          "text": [
            "  train: 100%|██████████| 469/469 [00:13<00:00, 33.69it/s, train_acc=99.858, train_loss=1.46]\n",
            "   test: 100%|██████████| 79/79 [00:02<00:00, 35.27it/s, test_acc=99.159, test_loss=1.47]\n"
          ]
        },
        {
          "name": "stdout",
          "output_type": "stream",
          "text": [
            "EPOCH 117/150 :\n"
          ]
        },
        {
          "name": "stderr",
          "output_type": "stream",
          "text": [
            "  train: 100%|██████████| 469/469 [00:12<00:00, 36.74it/s, train_acc=99.857, train_loss=1.46]\n",
            "   test: 100%|██████████| 79/79 [00:02<00:00, 27.70it/s, test_acc=99.169, test_loss=1.47]\n"
          ]
        },
        {
          "name": "stdout",
          "output_type": "stream",
          "text": [
            "EPOCH 118/150 :\n"
          ]
        },
        {
          "name": "stderr",
          "output_type": "stream",
          "text": [
            "  train: 100%|██████████| 469/469 [00:13<00:00, 35.98it/s, train_acc=99.863, train_loss=1.46]\n",
            "   test: 100%|██████████| 79/79 [00:02<00:00, 34.83it/s, test_acc=99.189, test_loss=1.47]\n"
          ]
        },
        {
          "name": "stdout",
          "output_type": "stream",
          "text": [
            "EPOCH 119/150 :\n"
          ]
        },
        {
          "name": "stderr",
          "output_type": "stream",
          "text": [
            "  train: 100%|██████████| 469/469 [00:12<00:00, 36.31it/s, train_acc=99.855, train_loss=1.46]\n",
            "   test: 100%|██████████| 79/79 [00:02<00:00, 33.12it/s, test_acc=99.219, test_loss=1.47]\n"
          ]
        },
        {
          "name": "stdout",
          "output_type": "stream",
          "text": [
            "EPOCH 120/150 :\n"
          ]
        },
        {
          "name": "stderr",
          "output_type": "stream",
          "text": [
            "  train: 100%|██████████| 469/469 [00:12<00:00, 36.41it/s, train_acc=99.878, train_loss=1.46]\n",
            "   test: 100%|██████████| 79/79 [00:02<00:00, 35.63it/s, test_acc=99.090, test_loss=1.47]\n"
          ]
        },
        {
          "name": "stdout",
          "output_type": "stream",
          "text": [
            "EPOCH 121/150 :\n"
          ]
        },
        {
          "name": "stderr",
          "output_type": "stream",
          "text": [
            "  train: 100%|██████████| 469/469 [00:12<00:00, 36.50it/s, train_acc=99.870, train_loss=1.46]\n",
            "   test: 100%|██████████| 79/79 [00:02<00:00, 27.78it/s, test_acc=99.080, test_loss=1.47]\n"
          ]
        },
        {
          "name": "stdout",
          "output_type": "stream",
          "text": [
            "EPOCH 122/150 :\n"
          ]
        },
        {
          "name": "stderr",
          "output_type": "stream",
          "text": [
            "  train: 100%|██████████| 469/469 [00:12<00:00, 36.45it/s, train_acc=99.853, train_loss=1.46]\n",
            "   test: 100%|██████████| 79/79 [00:02<00:00, 34.89it/s, test_acc=99.110, test_loss=1.47]\n"
          ]
        },
        {
          "name": "stdout",
          "output_type": "stream",
          "text": [
            "EPOCH 123/150 :\n"
          ]
        },
        {
          "name": "stderr",
          "output_type": "stream",
          "text": [
            "  train: 100%|██████████| 469/469 [00:12<00:00, 36.15it/s, train_acc=99.862, train_loss=1.46]\n",
            "   test: 100%|██████████| 79/79 [00:02<00:00, 32.65it/s, test_acc=99.169, test_loss=1.47]\n"
          ]
        },
        {
          "name": "stdout",
          "output_type": "stream",
          "text": [
            "EPOCH 124/150 :\n"
          ]
        },
        {
          "name": "stderr",
          "output_type": "stream",
          "text": [
            "  train: 100%|██████████| 469/469 [00:12<00:00, 36.20it/s, train_acc=99.875, train_loss=1.46]\n",
            "   test: 100%|██████████| 79/79 [00:02<00:00, 34.74it/s, test_acc=99.150, test_loss=1.47]\n"
          ]
        },
        {
          "name": "stdout",
          "output_type": "stream",
          "text": [
            "EPOCH 125/150 :\n"
          ]
        },
        {
          "name": "stderr",
          "output_type": "stream",
          "text": [
            "  train: 100%|██████████| 469/469 [00:12<00:00, 36.39it/s, train_acc=99.867, train_loss=1.46]\n",
            "   test: 100%|██████████| 79/79 [00:02<00:00, 27.25it/s, test_acc=99.179, test_loss=1.47]\n"
          ]
        },
        {
          "name": "stdout",
          "output_type": "stream",
          "text": [
            "EPOCH 126/150 :\n"
          ]
        },
        {
          "name": "stderr",
          "output_type": "stream",
          "text": [
            "  train: 100%|██████████| 469/469 [00:12<00:00, 36.49it/s, train_acc=99.857, train_loss=1.46]\n",
            "   test: 100%|██████████| 79/79 [00:02<00:00, 35.30it/s, test_acc=99.110, test_loss=1.47]\n"
          ]
        },
        {
          "name": "stdout",
          "output_type": "stream",
          "text": [
            "EPOCH 127/150 :\n"
          ]
        },
        {
          "name": "stderr",
          "output_type": "stream",
          "text": [
            "  train: 100%|██████████| 469/469 [00:12<00:00, 36.62it/s, train_acc=99.862, train_loss=1.46]\n",
            "   test: 100%|██████████| 79/79 [00:02<00:00, 35.10it/s, test_acc=99.100, test_loss=1.47]\n"
          ]
        },
        {
          "name": "stdout",
          "output_type": "stream",
          "text": [
            "EPOCH 128/150 :\n"
          ]
        },
        {
          "name": "stderr",
          "output_type": "stream",
          "text": [
            "  train: 100%|██████████| 469/469 [00:12<00:00, 36.41it/s, train_acc=99.872, train_loss=1.46]\n",
            "   test: 100%|██████████| 79/79 [00:02<00:00, 35.46it/s, test_acc=99.179, test_loss=1.47]\n"
          ]
        },
        {
          "name": "stdout",
          "output_type": "stream",
          "text": [
            "EPOCH 129/150 :\n"
          ]
        },
        {
          "name": "stderr",
          "output_type": "stream",
          "text": [
            "  train: 100%|██████████| 469/469 [00:12<00:00, 36.66it/s, train_acc=99.877, train_loss=1.46]\n",
            "   test: 100%|██████████| 79/79 [00:02<00:00, 27.60it/s, test_acc=99.189, test_loss=1.47]\n"
          ]
        },
        {
          "name": "stdout",
          "output_type": "stream",
          "text": [
            "EPOCH 130/150 :\n"
          ]
        },
        {
          "name": "stderr",
          "output_type": "stream",
          "text": [
            "  train: 100%|██████████| 469/469 [00:12<00:00, 36.59it/s, train_acc=99.883, train_loss=1.46]\n",
            "   test: 100%|██████████| 79/79 [00:02<00:00, 35.13it/s, test_acc=99.140, test_loss=1.47]\n"
          ]
        },
        {
          "name": "stdout",
          "output_type": "stream",
          "text": [
            "EPOCH 131/150 :\n"
          ]
        },
        {
          "name": "stderr",
          "output_type": "stream",
          "text": [
            "  train: 100%|██████████| 469/469 [00:12<00:00, 36.50it/s, train_acc=99.890, train_loss=1.46]\n",
            "   test: 100%|██████████| 79/79 [00:02<00:00, 35.72it/s, test_acc=99.150, test_loss=1.47]\n"
          ]
        },
        {
          "name": "stdout",
          "output_type": "stream",
          "text": [
            "EPOCH 132/150 :\n"
          ]
        },
        {
          "name": "stderr",
          "output_type": "stream",
          "text": [
            "  train: 100%|██████████| 469/469 [00:12<00:00, 36.15it/s, train_acc=99.863, train_loss=1.46]\n",
            "   test: 100%|██████████| 79/79 [00:02<00:00, 35.38it/s, test_acc=99.248, test_loss=1.47]\n"
          ]
        },
        {
          "name": "stdout",
          "output_type": "stream",
          "text": [
            "EPOCH 133/150 :\n"
          ]
        },
        {
          "name": "stderr",
          "output_type": "stream",
          "text": [
            "  train: 100%|██████████| 469/469 [00:12<00:00, 36.60it/s, train_acc=99.893, train_loss=1.46]\n",
            "   test: 100%|██████████| 79/79 [00:02<00:00, 28.39it/s, test_acc=99.100, test_loss=1.47]\n"
          ]
        },
        {
          "name": "stdout",
          "output_type": "stream",
          "text": [
            "EPOCH 134/150 :\n"
          ]
        },
        {
          "name": "stderr",
          "output_type": "stream",
          "text": [
            "  train: 100%|██████████| 469/469 [00:13<00:00, 36.03it/s, train_acc=99.875, train_loss=1.46]\n",
            "   test: 100%|██████████| 79/79 [00:02<00:00, 35.65it/s, test_acc=99.229, test_loss=1.47]\n"
          ]
        },
        {
          "name": "stdout",
          "output_type": "stream",
          "text": [
            "EPOCH 135/150 :\n"
          ]
        },
        {
          "name": "stderr",
          "output_type": "stream",
          "text": [
            "  train: 100%|██████████| 469/469 [00:12<00:00, 36.70it/s, train_acc=99.890, train_loss=1.46]\n",
            "   test: 100%|██████████| 79/79 [00:02<00:00, 35.50it/s, test_acc=99.169, test_loss=1.47]\n"
          ]
        },
        {
          "name": "stdout",
          "output_type": "stream",
          "text": [
            "EPOCH 136/150 :\n"
          ]
        },
        {
          "name": "stderr",
          "output_type": "stream",
          "text": [
            "  train: 100%|██████████| 469/469 [00:13<00:00, 35.77it/s, train_acc=99.880, train_loss=1.46]\n",
            "   test: 100%|██████████| 79/79 [00:02<00:00, 34.78it/s, test_acc=99.169, test_loss=1.47]\n"
          ]
        },
        {
          "name": "stdout",
          "output_type": "stream",
          "text": [
            "EPOCH 137/150 :\n"
          ]
        },
        {
          "name": "stderr",
          "output_type": "stream",
          "text": [
            "  train: 100%|██████████| 469/469 [00:12<00:00, 36.98it/s, train_acc=99.890, train_loss=1.46]\n",
            "   test: 100%|██████████| 79/79 [00:02<00:00, 28.52it/s, test_acc=99.150, test_loss=1.47]\n"
          ]
        },
        {
          "name": "stdout",
          "output_type": "stream",
          "text": [
            "EPOCH 138/150 :\n"
          ]
        },
        {
          "name": "stderr",
          "output_type": "stream",
          "text": [
            "  train: 100%|██████████| 469/469 [00:13<00:00, 35.67it/s, train_acc=99.890, train_loss=1.46]\n",
            "   test: 100%|██████████| 79/79 [00:02<00:00, 35.35it/s, test_acc=99.199, test_loss=1.47]\n"
          ]
        },
        {
          "name": "stdout",
          "output_type": "stream",
          "text": [
            "EPOCH 139/150 :\n"
          ]
        },
        {
          "name": "stderr",
          "output_type": "stream",
          "text": [
            "  train: 100%|██████████| 469/469 [00:12<00:00, 36.74it/s, train_acc=99.902, train_loss=1.46]\n",
            "   test: 100%|██████████| 79/79 [00:02<00:00, 35.28it/s, test_acc=99.179, test_loss=1.47]\n"
          ]
        },
        {
          "name": "stdout",
          "output_type": "stream",
          "text": [
            "EPOCH 140/150 :\n"
          ]
        },
        {
          "name": "stderr",
          "output_type": "stream",
          "text": [
            "  train: 100%|██████████| 469/469 [00:13<00:00, 35.99it/s, train_acc=99.887, train_loss=1.46]\n",
            "   test: 100%|██████████| 79/79 [00:02<00:00, 36.34it/s, test_acc=99.120, test_loss=1.47]\n"
          ]
        },
        {
          "name": "stdout",
          "output_type": "stream",
          "text": [
            "EPOCH 141/150 :\n"
          ]
        },
        {
          "name": "stderr",
          "output_type": "stream",
          "text": [
            "  train: 100%|██████████| 469/469 [00:12<00:00, 36.78it/s, train_acc=99.883, train_loss=1.46]\n",
            "   test: 100%|██████████| 79/79 [00:02<00:00, 29.67it/s, test_acc=99.189, test_loss=1.47]\n"
          ]
        },
        {
          "name": "stdout",
          "output_type": "stream",
          "text": [
            "EPOCH 142/150 :\n"
          ]
        },
        {
          "name": "stderr",
          "output_type": "stream",
          "text": [
            "  train: 100%|██████████| 469/469 [00:12<00:00, 36.13it/s, train_acc=99.880, train_loss=1.46]\n",
            "   test: 100%|██████████| 79/79 [00:02<00:00, 35.43it/s, test_acc=99.219, test_loss=1.47]\n"
          ]
        },
        {
          "name": "stdout",
          "output_type": "stream",
          "text": [
            "EPOCH 143/150 :\n"
          ]
        },
        {
          "name": "stderr",
          "output_type": "stream",
          "text": [
            "  train: 100%|██████████| 469/469 [00:12<00:00, 37.00it/s, train_acc=99.890, train_loss=1.46]\n",
            "   test: 100%|██████████| 79/79 [00:02<00:00, 35.90it/s, test_acc=99.110, test_loss=1.47]\n"
          ]
        },
        {
          "name": "stdout",
          "output_type": "stream",
          "text": [
            "EPOCH 144/150 :\n"
          ]
        },
        {
          "name": "stderr",
          "output_type": "stream",
          "text": [
            "  train: 100%|██████████| 469/469 [00:12<00:00, 36.18it/s, train_acc=99.885, train_loss=1.46]\n",
            "   test: 100%|██████████| 79/79 [00:02<00:00, 35.63it/s, test_acc=99.179, test_loss=1.47]\n"
          ]
        },
        {
          "name": "stdout",
          "output_type": "stream",
          "text": [
            "EPOCH 145/150 :\n"
          ]
        },
        {
          "name": "stderr",
          "output_type": "stream",
          "text": [
            "  train: 100%|██████████| 469/469 [00:12<00:00, 36.56it/s, train_acc=99.887, train_loss=1.46]\n",
            "   test: 100%|██████████| 79/79 [00:02<00:00, 30.49it/s, test_acc=99.159, test_loss=1.47]\n"
          ]
        },
        {
          "name": "stdout",
          "output_type": "stream",
          "text": [
            "EPOCH 146/150 :\n"
          ]
        },
        {
          "name": "stderr",
          "output_type": "stream",
          "text": [
            "  train: 100%|██████████| 469/469 [00:13<00:00, 35.78it/s, train_acc=99.867, train_loss=1.46]\n",
            "   test: 100%|██████████| 79/79 [00:02<00:00, 35.47it/s, test_acc=99.080, test_loss=1.47]\n"
          ]
        },
        {
          "name": "stdout",
          "output_type": "stream",
          "text": [
            "EPOCH 147/150 :\n"
          ]
        },
        {
          "name": "stderr",
          "output_type": "stream",
          "text": [
            "  train: 100%|██████████| 469/469 [00:12<00:00, 36.74it/s, train_acc=99.902, train_loss=1.46]\n",
            "   test: 100%|██████████| 79/79 [00:02<00:00, 35.36it/s, test_acc=99.110, test_loss=1.47]\n"
          ]
        },
        {
          "name": "stdout",
          "output_type": "stream",
          "text": [
            "EPOCH 148/150 :\n"
          ]
        },
        {
          "name": "stderr",
          "output_type": "stream",
          "text": [
            "  train: 100%|██████████| 469/469 [00:13<00:00, 35.89it/s, train_acc=99.891, train_loss=1.46]\n",
            "   test: 100%|██████████| 79/79 [00:02<00:00, 34.98it/s, test_acc=99.229, test_loss=1.47]\n"
          ]
        },
        {
          "name": "stdout",
          "output_type": "stream",
          "text": [
            "EPOCH 149/150 :\n"
          ]
        },
        {
          "name": "stderr",
          "output_type": "stream",
          "text": [
            "  train: 100%|██████████| 469/469 [00:12<00:00, 36.43it/s, train_acc=99.885, train_loss=1.46]\n",
            "   test: 100%|██████████| 79/79 [00:02<00:00, 30.05it/s, test_acc=99.229, test_loss=1.47]\n"
          ]
        },
        {
          "name": "stdout",
          "output_type": "stream",
          "text": [
            "EPOCH 150/150 :\n"
          ]
        },
        {
          "name": "stderr",
          "output_type": "stream",
          "text": [
            "  train: 100%|██████████| 469/469 [00:13<00:00, 35.45it/s, train_acc=99.900, train_loss=1.46]\n",
            "   test: 100%|██████████| 79/79 [00:02<00:00, 35.36it/s, test_acc=99.209, test_loss=1.47]\n"
          ]
        },
        {
          "name": "stdout",
          "output_type": "stream",
          "text": [
            "\n",
            "\n",
            "Train time: 2327.876 seconds\n"
          ]
        }
      ],
      "source": [
        "hparams = [\"MNIST\", \"SCNNB\", 150]\n",
        "SCNNB_MNIST_model, SCNNB_MNIST_train_loss, SCNNB_MNIST_train_accuracy, SCNNB_MNIST_test_loss, SCNNB_MNIST_test_accuracy = train(hparams ,MNIST_train_dataloader, MNIST_test_dataloader)"
      ]
    },
    {
      "cell_type": "code",
      "execution_count": 31,
      "metadata": {
        "id": "1K4OXmd285Za"
      },
      "outputs": [],
      "source": [
        "torch.save(SCNNB_MNIST_model.state_dict(), 'SCNNB_MNIST')"
      ]
    },
    {
      "cell_type": "code",
      "execution_count": 14,
      "metadata": {
        "colab": {
          "base_uri": "https://localhost:8080/"
        },
        "id": "UrfQCnYBQZP6",
        "outputId": "76220abe-0f56-41e3-a326-f90f514acfd1"
      },
      "outputs": [
        {
          "name": "stdout",
          "output_type": "stream",
          "text": [
            "Maximum Test Accuracy for SCNNB model is:  99.28798607594936\n"
          ]
        }
      ],
      "source": [
        "SCNNB_max_acc = max(SCNNB_MNIST_test_accuracy)\n",
        "SCNNB_MEAN = sum(SCNNB_MNIST_test_accuracy)/len(SCNNB_MNIST_test_accuracy)\n",
        "print(\"Maximum Test Accuracy for SCNNB model is: \", str(SCNNB_max_acc))"
      ]
    },
    {
      "cell_type": "code",
      "execution_count": 15,
      "metadata": {
        "colab": {
          "base_uri": "https://localhost:8080/"
        },
        "id": "ag7qcRvH7-hI",
        "outputId": "15eb65bb-5312-4b32-8742-301abaec710c"
      },
      "outputs": [
        {
          "name": "stdout",
          "output_type": "stream",
          "text": [
            "EPOCH 1/150 :\n"
          ]
        },
        {
          "name": "stderr",
          "output_type": "stream",
          "text": [
            "  train: 100%|██████████| 469/469 [00:12<00:00, 37.75it/s, train_acc=78.611, train_loss=1.69]\n",
            "   test: 100%|██████████| 79/79 [00:02<00:00, 37.81it/s, test_acc=87.045, test_loss=1.6]\n"
          ]
        },
        {
          "name": "stdout",
          "output_type": "stream",
          "text": [
            "EPOCH 2/150 :\n"
          ]
        },
        {
          "name": "stderr",
          "output_type": "stream",
          "text": [
            "  train: 100%|██████████| 469/469 [00:12<00:00, 36.99it/s, train_acc=86.900, train_loss=1.6]\n",
            "   test: 100%|██████████| 79/79 [00:02<00:00, 37.65it/s, test_acc=88.321, test_loss=1.58]\n"
          ]
        },
        {
          "name": "stdout",
          "output_type": "stream",
          "text": [
            "EPOCH 3/150 :\n"
          ]
        },
        {
          "name": "stderr",
          "output_type": "stream",
          "text": [
            "  train: 100%|██████████| 469/469 [00:12<00:00, 37.45it/s, train_acc=87.912, train_loss=1.58]\n",
            "   test: 100%|██████████| 79/79 [00:02<00:00, 37.12it/s, test_acc=88.835, test_loss=1.57]\n"
          ]
        },
        {
          "name": "stdout",
          "output_type": "stream",
          "text": [
            "EPOCH 4/150 :\n"
          ]
        },
        {
          "name": "stderr",
          "output_type": "stream",
          "text": [
            "  train: 100%|██████████| 469/469 [00:12<00:00, 36.82it/s, train_acc=91.469, train_loss=1.55]\n",
            "   test: 100%|██████████| 79/79 [00:02<00:00, 30.13it/s, test_acc=97.172, test_loss=1.49]\n"
          ]
        },
        {
          "name": "stdout",
          "output_type": "stream",
          "text": [
            "EPOCH 5/150 :\n"
          ]
        },
        {
          "name": "stderr",
          "output_type": "stream",
          "text": [
            "  train: 100%|██████████| 469/469 [00:12<00:00, 36.29it/s, train_acc=97.033, train_loss=1.49]\n",
            "   test: 100%|██████████| 79/79 [00:02<00:00, 34.71it/s, test_acc=98.032, test_loss=1.48]\n"
          ]
        },
        {
          "name": "stdout",
          "output_type": "stream",
          "text": [
            "EPOCH 6/150 :\n"
          ]
        },
        {
          "name": "stderr",
          "output_type": "stream",
          "text": [
            "  train: 100%|██████████| 469/469 [00:13<00:00, 34.53it/s, train_acc=97.542, train_loss=1.49]\n",
            "   test: 100%|██████████| 79/79 [00:02<00:00, 34.81it/s, test_acc=98.072, test_loss=1.48]\n"
          ]
        },
        {
          "name": "stdout",
          "output_type": "stream",
          "text": [
            "EPOCH 7/150 :\n"
          ]
        },
        {
          "name": "stderr",
          "output_type": "stream",
          "text": [
            "  train: 100%|██████████| 469/469 [00:13<00:00, 36.07it/s, train_acc=97.835, train_loss=1.49]\n",
            "   test: 100%|██████████| 79/79 [00:02<00:00, 34.53it/s, test_acc=98.329, test_loss=1.48]\n"
          ]
        },
        {
          "name": "stdout",
          "output_type": "stream",
          "text": [
            "EPOCH 8/150 :\n"
          ]
        },
        {
          "name": "stderr",
          "output_type": "stream",
          "text": [
            "  train: 100%|██████████| 469/469 [00:13<00:00, 35.98it/s, train_acc=98.019, train_loss=1.48]\n",
            "   test: 100%|██████████| 79/79 [00:02<00:00, 32.28it/s, test_acc=98.180, test_loss=1.48]\n"
          ]
        },
        {
          "name": "stdout",
          "output_type": "stream",
          "text": [
            "EPOCH 9/150 :\n"
          ]
        },
        {
          "name": "stderr",
          "output_type": "stream",
          "text": [
            "  train: 100%|██████████| 469/469 [00:12<00:00, 37.31it/s, train_acc=98.217, train_loss=1.48]\n",
            "   test: 100%|██████████| 79/79 [00:02<00:00, 37.42it/s, test_acc=98.101, test_loss=1.48]\n"
          ]
        },
        {
          "name": "stdout",
          "output_type": "stream",
          "text": [
            "EPOCH 10/150 :\n"
          ]
        },
        {
          "name": "stderr",
          "output_type": "stream",
          "text": [
            "  train: 100%|██████████| 469/469 [00:12<00:00, 36.39it/s, train_acc=98.316, train_loss=1.48]\n",
            "   test: 100%|██████████| 79/79 [00:02<00:00, 33.39it/s, test_acc=98.289, test_loss=1.48]\n"
          ]
        },
        {
          "name": "stdout",
          "output_type": "stream",
          "text": [
            "EPOCH 11/150 :\n"
          ]
        },
        {
          "name": "stderr",
          "output_type": "stream",
          "text": [
            "  train: 100%|██████████| 469/469 [00:13<00:00, 36.07it/s, train_acc=98.446, train_loss=1.48]\n",
            "   test: 100%|██████████| 79/79 [00:02<00:00, 35.27it/s, test_acc=98.339, test_loss=1.48]\n"
          ]
        },
        {
          "name": "stdout",
          "output_type": "stream",
          "text": [
            "EPOCH 12/150 :\n"
          ]
        },
        {
          "name": "stderr",
          "output_type": "stream",
          "text": [
            "  train: 100%|██████████| 469/469 [00:13<00:00, 35.65it/s, train_acc=98.523, train_loss=1.48]\n",
            "   test: 100%|██████████| 79/79 [00:02<00:00, 32.11it/s, test_acc=98.536, test_loss=1.48]\n"
          ]
        },
        {
          "name": "stdout",
          "output_type": "stream",
          "text": [
            "EPOCH 13/150 :\n"
          ]
        },
        {
          "name": "stderr",
          "output_type": "stream",
          "text": [
            "  train: 100%|██████████| 469/469 [00:12<00:00, 36.97it/s, train_acc=98.560, train_loss=1.48]\n",
            "   test: 100%|██████████| 79/79 [00:02<00:00, 37.00it/s, test_acc=98.497, test_loss=1.48]\n"
          ]
        },
        {
          "name": "stdout",
          "output_type": "stream",
          "text": [
            "EPOCH 14/150 :\n"
          ]
        },
        {
          "name": "stderr",
          "output_type": "stream",
          "text": [
            "  train: 100%|██████████| 469/469 [00:12<00:00, 36.89it/s, train_acc=98.697, train_loss=1.48]\n",
            "   test: 100%|██████████| 79/79 [00:02<00:00, 36.42it/s, test_acc=98.487, test_loss=1.48]\n"
          ]
        },
        {
          "name": "stdout",
          "output_type": "stream",
          "text": [
            "EPOCH 15/150 :\n"
          ]
        },
        {
          "name": "stderr",
          "output_type": "stream",
          "text": [
            "  train: 100%|██████████| 469/469 [00:12<00:00, 36.49it/s, train_acc=98.782, train_loss=1.47]\n",
            "   test: 100%|██████████| 79/79 [00:02<00:00, 37.19it/s, test_acc=98.655, test_loss=1.48]\n"
          ]
        },
        {
          "name": "stdout",
          "output_type": "stream",
          "text": [
            "EPOCH 16/150 :\n"
          ]
        },
        {
          "name": "stderr",
          "output_type": "stream",
          "text": [
            "  train: 100%|██████████| 469/469 [00:12<00:00, 36.68it/s, train_acc=98.756, train_loss=1.47]\n",
            "   test: 100%|██████████| 79/79 [00:02<00:00, 29.28it/s, test_acc=98.803, test_loss=1.47]\n"
          ]
        },
        {
          "name": "stdout",
          "output_type": "stream",
          "text": [
            "EPOCH 17/150 :\n"
          ]
        },
        {
          "name": "stderr",
          "output_type": "stream",
          "text": [
            "  train: 100%|██████████| 469/469 [00:12<00:00, 37.12it/s, train_acc=98.836, train_loss=1.47]\n",
            "   test: 100%|██████████| 79/79 [00:02<00:00, 36.23it/s, test_acc=98.566, test_loss=1.48]\n"
          ]
        },
        {
          "name": "stdout",
          "output_type": "stream",
          "text": [
            "EPOCH 18/150 :\n"
          ]
        },
        {
          "name": "stderr",
          "output_type": "stream",
          "text": [
            "  train: 100%|██████████| 469/469 [00:12<00:00, 36.72it/s, train_acc=98.892, train_loss=1.47]\n",
            "   test: 100%|██████████| 79/79 [00:02<00:00, 35.73it/s, test_acc=98.685, test_loss=1.48]\n"
          ]
        },
        {
          "name": "stdout",
          "output_type": "stream",
          "text": [
            "EPOCH 19/150 :\n"
          ]
        },
        {
          "name": "stderr",
          "output_type": "stream",
          "text": [
            "  train: 100%|██████████| 469/469 [00:12<00:00, 36.65it/s, train_acc=98.936, train_loss=1.47]\n",
            "   test: 100%|██████████| 79/79 [00:02<00:00, 36.78it/s, test_acc=98.645, test_loss=1.48]\n"
          ]
        },
        {
          "name": "stdout",
          "output_type": "stream",
          "text": [
            "EPOCH 20/150 :\n"
          ]
        },
        {
          "name": "stderr",
          "output_type": "stream",
          "text": [
            "  train: 100%|██████████| 469/469 [00:12<00:00, 37.03it/s, train_acc=98.952, train_loss=1.47]\n",
            "   test: 100%|██████████| 79/79 [00:02<00:00, 27.60it/s, test_acc=98.794, test_loss=1.47]\n"
          ]
        },
        {
          "name": "stdout",
          "output_type": "stream",
          "text": [
            "EPOCH 21/150 :\n"
          ]
        },
        {
          "name": "stderr",
          "output_type": "stream",
          "text": [
            "  train: 100%|██████████| 469/469 [00:12<00:00, 37.10it/s, train_acc=99.059, train_loss=1.47]\n",
            "   test: 100%|██████████| 79/79 [00:02<00:00, 37.15it/s, test_acc=98.616, test_loss=1.48]\n"
          ]
        },
        {
          "name": "stdout",
          "output_type": "stream",
          "text": [
            "EPOCH 22/150 :\n"
          ]
        },
        {
          "name": "stderr",
          "output_type": "stream",
          "text": [
            "  train: 100%|██████████| 469/469 [00:12<00:00, 37.38it/s, train_acc=99.057, train_loss=1.47]\n",
            "   test: 100%|██████████| 79/79 [00:02<00:00, 37.50it/s, test_acc=98.566, test_loss=1.48]\n"
          ]
        },
        {
          "name": "stdout",
          "output_type": "stream",
          "text": [
            "EPOCH 23/150 :\n"
          ]
        },
        {
          "name": "stderr",
          "output_type": "stream",
          "text": [
            "  train: 100%|██████████| 469/469 [00:12<00:00, 37.41it/s, train_acc=99.070, train_loss=1.47]\n",
            "   test: 100%|██████████| 79/79 [00:02<00:00, 37.03it/s, test_acc=98.863, test_loss=1.47]\n"
          ]
        },
        {
          "name": "stdout",
          "output_type": "stream",
          "text": [
            "EPOCH 24/150 :\n"
          ]
        },
        {
          "name": "stderr",
          "output_type": "stream",
          "text": [
            "  train: 100%|██████████| 469/469 [00:12<00:00, 37.83it/s, train_acc=99.093, train_loss=1.47]\n",
            "   test: 100%|██████████| 79/79 [00:02<00:00, 35.02it/s, test_acc=98.833, test_loss=1.47]\n"
          ]
        },
        {
          "name": "stdout",
          "output_type": "stream",
          "text": [
            "EPOCH 25/150 :\n"
          ]
        },
        {
          "name": "stderr",
          "output_type": "stream",
          "text": [
            "  train: 100%|██████████| 469/469 [00:12<00:00, 36.87it/s, train_acc=99.107, train_loss=1.47]\n",
            "   test: 100%|██████████| 79/79 [00:02<00:00, 31.70it/s, test_acc=98.833, test_loss=1.47]\n"
          ]
        },
        {
          "name": "stdout",
          "output_type": "stream",
          "text": [
            "EPOCH 26/150 :\n"
          ]
        },
        {
          "name": "stderr",
          "output_type": "stream",
          "text": [
            "  train: 100%|██████████| 469/469 [00:12<00:00, 36.48it/s, train_acc=99.190, train_loss=1.47]\n",
            "   test: 100%|██████████| 79/79 [00:02<00:00, 35.04it/s, test_acc=98.863, test_loss=1.47]\n"
          ]
        },
        {
          "name": "stdout",
          "output_type": "stream",
          "text": [
            "EPOCH 27/150 :\n"
          ]
        },
        {
          "name": "stderr",
          "output_type": "stream",
          "text": [
            "  train: 100%|██████████| 469/469 [00:13<00:00, 35.68it/s, train_acc=99.228, train_loss=1.47]\n",
            "   test: 100%|██████████| 79/79 [00:02<00:00, 35.18it/s, test_acc=98.932, test_loss=1.47]\n"
          ]
        },
        {
          "name": "stdout",
          "output_type": "stream",
          "text": [
            "EPOCH 28/150 :\n"
          ]
        },
        {
          "name": "stderr",
          "output_type": "stream",
          "text": [
            "  train: 100%|██████████| 469/469 [00:12<00:00, 37.02it/s, train_acc=99.223, train_loss=1.47]\n",
            "   test: 100%|██████████| 79/79 [00:02<00:00, 35.74it/s, test_acc=98.932, test_loss=1.47]\n"
          ]
        },
        {
          "name": "stdout",
          "output_type": "stream",
          "text": [
            "EPOCH 29/150 :\n"
          ]
        },
        {
          "name": "stderr",
          "output_type": "stream",
          "text": [
            "  train: 100%|██████████| 469/469 [00:12<00:00, 36.93it/s, train_acc=99.185, train_loss=1.47]\n",
            "   test: 100%|██████████| 79/79 [00:02<00:00, 29.92it/s, test_acc=98.873, test_loss=1.47]\n"
          ]
        },
        {
          "name": "stdout",
          "output_type": "stream",
          "text": [
            "EPOCH 30/150 :\n"
          ]
        },
        {
          "name": "stderr",
          "output_type": "stream",
          "text": [
            "  train: 100%|██████████| 469/469 [00:12<00:00, 37.14it/s, train_acc=99.275, train_loss=1.47]\n",
            "   test: 100%|██████████| 79/79 [00:02<00:00, 35.64it/s, test_acc=98.902, test_loss=1.47]\n"
          ]
        },
        {
          "name": "stdout",
          "output_type": "stream",
          "text": [
            "EPOCH 31/150 :\n"
          ]
        },
        {
          "name": "stderr",
          "output_type": "stream",
          "text": [
            "  train: 100%|██████████| 469/469 [00:12<00:00, 37.40it/s, train_acc=99.281, train_loss=1.47]\n",
            "   test: 100%|██████████| 79/79 [00:02<00:00, 37.57it/s, test_acc=98.991, test_loss=1.47]\n"
          ]
        },
        {
          "name": "stdout",
          "output_type": "stream",
          "text": [
            "EPOCH 32/150 :\n"
          ]
        },
        {
          "name": "stderr",
          "output_type": "stream",
          "text": [
            "  train: 100%|██████████| 469/469 [00:12<00:00, 37.80it/s, train_acc=99.257, train_loss=1.47]\n",
            "   test: 100%|██████████| 79/79 [00:02<00:00, 36.80it/s, test_acc=98.883, test_loss=1.47]\n"
          ]
        },
        {
          "name": "stdout",
          "output_type": "stream",
          "text": [
            "EPOCH 33/150 :\n"
          ]
        },
        {
          "name": "stderr",
          "output_type": "stream",
          "text": [
            "  train: 100%|██████████| 469/469 [00:12<00:00, 37.75it/s, train_acc=99.335, train_loss=1.47]\n",
            "   test: 100%|██████████| 79/79 [00:02<00:00, 31.24it/s, test_acc=98.932, test_loss=1.47]\n"
          ]
        },
        {
          "name": "stdout",
          "output_type": "stream",
          "text": [
            "EPOCH 34/150 :\n"
          ]
        },
        {
          "name": "stderr",
          "output_type": "stream",
          "text": [
            "  train: 100%|██████████| 469/469 [00:12<00:00, 37.73it/s, train_acc=99.316, train_loss=1.47]\n",
            "   test: 100%|██████████| 79/79 [00:02<00:00, 34.98it/s, test_acc=98.823, test_loss=1.47]\n"
          ]
        },
        {
          "name": "stdout",
          "output_type": "stream",
          "text": [
            "EPOCH 35/150 :\n"
          ]
        },
        {
          "name": "stderr",
          "output_type": "stream",
          "text": [
            "  train: 100%|██████████| 469/469 [00:12<00:00, 37.22it/s, train_acc=99.365, train_loss=1.47]\n",
            "   test: 100%|██████████| 79/79 [00:02<00:00, 37.40it/s, test_acc=98.823, test_loss=1.47]\n"
          ]
        },
        {
          "name": "stdout",
          "output_type": "stream",
          "text": [
            "EPOCH 36/150 :\n"
          ]
        },
        {
          "name": "stderr",
          "output_type": "stream",
          "text": [
            "  train: 100%|██████████| 469/469 [00:12<00:00, 37.69it/s, train_acc=99.344, train_loss=1.47]\n",
            "   test: 100%|██████████| 79/79 [00:02<00:00, 37.00it/s, test_acc=98.942, test_loss=1.47]\n"
          ]
        },
        {
          "name": "stdout",
          "output_type": "stream",
          "text": [
            "EPOCH 37/150 :\n"
          ]
        },
        {
          "name": "stderr",
          "output_type": "stream",
          "text": [
            "  train: 100%|██████████| 469/469 [00:12<00:00, 37.61it/s, train_acc=99.349, train_loss=1.47]\n",
            "   test: 100%|██████████| 79/79 [00:02<00:00, 36.83it/s, test_acc=98.942, test_loss=1.47]\n"
          ]
        },
        {
          "name": "stdout",
          "output_type": "stream",
          "text": [
            "EPOCH 38/150 :\n"
          ]
        },
        {
          "name": "stderr",
          "output_type": "stream",
          "text": [
            "  train: 100%|██████████| 469/469 [00:12<00:00, 37.67it/s, train_acc=99.425, train_loss=1.47]\n",
            "   test: 100%|██████████| 79/79 [00:02<00:00, 28.47it/s, test_acc=99.041, test_loss=1.47]\n"
          ]
        },
        {
          "name": "stdout",
          "output_type": "stream",
          "text": [
            "EPOCH 39/150 :\n"
          ]
        },
        {
          "name": "stderr",
          "output_type": "stream",
          "text": [
            "  train: 100%|██████████| 469/469 [00:12<00:00, 36.84it/s, train_acc=99.429, train_loss=1.47]\n",
            "   test: 100%|██████████| 79/79 [00:02<00:00, 37.32it/s, test_acc=99.090, test_loss=1.47]\n"
          ]
        },
        {
          "name": "stdout",
          "output_type": "stream",
          "text": [
            "EPOCH 40/150 :\n"
          ]
        },
        {
          "name": "stderr",
          "output_type": "stream",
          "text": [
            "  train: 100%|██████████| 469/469 [00:12<00:00, 37.70it/s, train_acc=99.444, train_loss=1.47]\n",
            "   test: 100%|██████████| 79/79 [00:02<00:00, 37.43it/s, test_acc=98.972, test_loss=1.47]\n"
          ]
        },
        {
          "name": "stdout",
          "output_type": "stream",
          "text": [
            "EPOCH 41/150 :\n"
          ]
        },
        {
          "name": "stderr",
          "output_type": "stream",
          "text": [
            "  train: 100%|██████████| 469/469 [00:12<00:00, 37.41it/s, train_acc=99.426, train_loss=1.47]\n",
            "   test: 100%|██████████| 79/79 [00:02<00:00, 36.87it/s, test_acc=99.011, test_loss=1.47]\n"
          ]
        },
        {
          "name": "stdout",
          "output_type": "stream",
          "text": [
            "EPOCH 42/150 :\n"
          ]
        },
        {
          "name": "stderr",
          "output_type": "stream",
          "text": [
            "  train: 100%|██████████| 469/469 [00:12<00:00, 37.49it/s, train_acc=99.489, train_loss=1.47]\n",
            "   test: 100%|██████████| 79/79 [00:02<00:00, 33.22it/s, test_acc=99.011, test_loss=1.47]\n"
          ]
        },
        {
          "name": "stdout",
          "output_type": "stream",
          "text": [
            "EPOCH 43/150 :\n"
          ]
        },
        {
          "name": "stderr",
          "output_type": "stream",
          "text": [
            "  train: 100%|██████████| 469/469 [00:12<00:00, 36.55it/s, train_acc=99.443, train_loss=1.47]\n",
            "   test: 100%|██████████| 79/79 [00:02<00:00, 30.93it/s, test_acc=99.041, test_loss=1.47]\n"
          ]
        },
        {
          "name": "stdout",
          "output_type": "stream",
          "text": [
            "EPOCH 44/150 :\n"
          ]
        },
        {
          "name": "stderr",
          "output_type": "stream",
          "text": [
            "  train: 100%|██████████| 469/469 [00:12<00:00, 37.78it/s, train_acc=99.474, train_loss=1.47]\n",
            "   test: 100%|██████████| 79/79 [00:02<00:00, 36.91it/s, test_acc=98.922, test_loss=1.47]\n"
          ]
        },
        {
          "name": "stdout",
          "output_type": "stream",
          "text": [
            "EPOCH 45/150 :\n"
          ]
        },
        {
          "name": "stderr",
          "output_type": "stream",
          "text": [
            "  train: 100%|██████████| 469/469 [00:12<00:00, 37.59it/s, train_acc=99.535, train_loss=1.47]\n",
            "   test: 100%|██████████| 79/79 [00:02<00:00, 36.19it/s, test_acc=99.051, test_loss=1.47]\n"
          ]
        },
        {
          "name": "stdout",
          "output_type": "stream",
          "text": [
            "EPOCH 46/150 :\n"
          ]
        },
        {
          "name": "stderr",
          "output_type": "stream",
          "text": [
            "  train: 100%|██████████| 469/469 [00:12<00:00, 37.60it/s, train_acc=99.499, train_loss=1.47]\n",
            "   test: 100%|██████████| 79/79 [00:02<00:00, 36.66it/s, test_acc=99.001, test_loss=1.47]\n"
          ]
        },
        {
          "name": "stdout",
          "output_type": "stream",
          "text": [
            "EPOCH 47/150 :\n"
          ]
        },
        {
          "name": "stderr",
          "output_type": "stream",
          "text": [
            "  train: 100%|██████████| 469/469 [00:12<00:00, 37.30it/s, train_acc=99.502, train_loss=1.47]\n",
            "   test: 100%|██████████| 79/79 [00:02<00:00, 26.98it/s, test_acc=99.051, test_loss=1.47]\n"
          ]
        },
        {
          "name": "stdout",
          "output_type": "stream",
          "text": [
            "EPOCH 48/150 :\n"
          ]
        },
        {
          "name": "stderr",
          "output_type": "stream",
          "text": [
            "  train: 100%|██████████| 469/469 [00:12<00:00, 37.17it/s, train_acc=99.551, train_loss=1.47]\n",
            "   test: 100%|██████████| 79/79 [00:02<00:00, 36.21it/s, test_acc=99.120, test_loss=1.47]\n"
          ]
        },
        {
          "name": "stdout",
          "output_type": "stream",
          "text": [
            "EPOCH 49/150 :\n"
          ]
        },
        {
          "name": "stderr",
          "output_type": "stream",
          "text": [
            "  train: 100%|██████████| 469/469 [00:12<00:00, 37.10it/s, train_acc=99.552, train_loss=1.47]\n",
            "   test: 100%|██████████| 79/79 [00:02<00:00, 37.18it/s, test_acc=99.120, test_loss=1.47]\n"
          ]
        },
        {
          "name": "stdout",
          "output_type": "stream",
          "text": [
            "EPOCH 50/150 :\n"
          ]
        },
        {
          "name": "stderr",
          "output_type": "stream",
          "text": [
            "  train: 100%|██████████| 469/469 [00:12<00:00, 37.47it/s, train_acc=99.534, train_loss=1.47]\n",
            "   test: 100%|██████████| 79/79 [00:02<00:00, 36.41it/s, test_acc=99.070, test_loss=1.47]\n"
          ]
        },
        {
          "name": "stdout",
          "output_type": "stream",
          "text": [
            "EPOCH 51/150 :\n"
          ]
        },
        {
          "name": "stderr",
          "output_type": "stream",
          "text": [
            "  train: 100%|██████████| 469/469 [00:12<00:00, 37.34it/s, train_acc=99.592, train_loss=1.47]\n",
            "   test: 100%|██████████| 79/79 [00:02<00:00, 33.24it/s, test_acc=99.061, test_loss=1.47]\n"
          ]
        },
        {
          "name": "stdout",
          "output_type": "stream",
          "text": [
            "EPOCH 52/150 :\n"
          ]
        },
        {
          "name": "stderr",
          "output_type": "stream",
          "text": [
            "  train: 100%|██████████| 469/469 [00:12<00:00, 36.97it/s, train_acc=99.585, train_loss=1.47]\n",
            "   test: 100%|██████████| 79/79 [00:02<00:00, 32.75it/s, test_acc=99.110, test_loss=1.47]\n"
          ]
        },
        {
          "name": "stdout",
          "output_type": "stream",
          "text": [
            "EPOCH 53/150 :\n"
          ]
        },
        {
          "name": "stderr",
          "output_type": "stream",
          "text": [
            "  train: 100%|██████████| 469/469 [00:12<00:00, 37.26it/s, train_acc=99.586, train_loss=1.47]\n",
            "   test: 100%|██████████| 79/79 [00:02<00:00, 36.92it/s, test_acc=99.070, test_loss=1.47]\n"
          ]
        },
        {
          "name": "stdout",
          "output_type": "stream",
          "text": [
            "EPOCH 54/150 :\n"
          ]
        },
        {
          "name": "stderr",
          "output_type": "stream",
          "text": [
            "  train: 100%|██████████| 469/469 [00:12<00:00, 37.20it/s, train_acc=99.582, train_loss=1.47]\n",
            "   test: 100%|██████████| 79/79 [00:02<00:00, 36.83it/s, test_acc=99.051, test_loss=1.47]\n"
          ]
        },
        {
          "name": "stdout",
          "output_type": "stream",
          "text": [
            "EPOCH 55/150 :\n"
          ]
        },
        {
          "name": "stderr",
          "output_type": "stream",
          "text": [
            "  train: 100%|██████████| 469/469 [00:12<00:00, 37.57it/s, train_acc=99.613, train_loss=1.47]\n",
            "   test: 100%|██████████| 79/79 [00:02<00:00, 36.75it/s, test_acc=99.070, test_loss=1.47]\n"
          ]
        },
        {
          "name": "stdout",
          "output_type": "stream",
          "text": [
            "EPOCH 56/150 :\n"
          ]
        },
        {
          "name": "stderr",
          "output_type": "stream",
          "text": [
            "  train: 100%|██████████| 469/469 [00:12<00:00, 37.33it/s, train_acc=99.600, train_loss=1.47]\n",
            "   test: 100%|██████████| 79/79 [00:02<00:00, 28.18it/s, test_acc=98.991, test_loss=1.47]\n"
          ]
        },
        {
          "name": "stdout",
          "output_type": "stream",
          "text": [
            "EPOCH 57/150 :\n"
          ]
        },
        {
          "name": "stderr",
          "output_type": "stream",
          "text": [
            "  train: 100%|██████████| 469/469 [00:12<00:00, 36.71it/s, train_acc=99.653, train_loss=1.47]\n",
            "   test: 100%|██████████| 79/79 [00:02<00:00, 36.43it/s, test_acc=99.179, test_loss=1.47]\n"
          ]
        },
        {
          "name": "stdout",
          "output_type": "stream",
          "text": [
            "EPOCH 58/150 :\n"
          ]
        },
        {
          "name": "stderr",
          "output_type": "stream",
          "text": [
            "  train: 100%|██████████| 469/469 [00:12<00:00, 37.51it/s, train_acc=99.659, train_loss=1.47]\n",
            "   test: 100%|██████████| 79/79 [00:02<00:00, 36.50it/s, test_acc=99.001, test_loss=1.47]\n"
          ]
        },
        {
          "name": "stdout",
          "output_type": "stream",
          "text": [
            "EPOCH 59/150 :\n"
          ]
        },
        {
          "name": "stderr",
          "output_type": "stream",
          "text": [
            "  train: 100%|██████████| 469/469 [00:12<00:00, 37.11it/s, train_acc=99.642, train_loss=1.47]\n",
            "   test: 100%|██████████| 79/79 [00:02<00:00, 35.63it/s, test_acc=99.169, test_loss=1.47]\n"
          ]
        },
        {
          "name": "stdout",
          "output_type": "stream",
          "text": [
            "EPOCH 60/150 :\n"
          ]
        },
        {
          "name": "stderr",
          "output_type": "stream",
          "text": [
            "  train: 100%|██████████| 469/469 [00:12<00:00, 36.36it/s, train_acc=99.659, train_loss=1.47]\n",
            "   test: 100%|██████████| 79/79 [00:02<00:00, 30.66it/s, test_acc=99.130, test_loss=1.47]\n"
          ]
        },
        {
          "name": "stdout",
          "output_type": "stream",
          "text": [
            "EPOCH 61/150 :\n"
          ]
        },
        {
          "name": "stderr",
          "output_type": "stream",
          "text": [
            "  train: 100%|██████████| 469/469 [00:12<00:00, 36.46it/s, train_acc=99.665, train_loss=1.47]\n",
            "   test: 100%|██████████| 79/79 [00:02<00:00, 34.92it/s, test_acc=99.041, test_loss=1.47]\n"
          ]
        },
        {
          "name": "stdout",
          "output_type": "stream",
          "text": [
            "EPOCH 62/150 :\n"
          ]
        },
        {
          "name": "stderr",
          "output_type": "stream",
          "text": [
            "  train: 100%|██████████| 469/469 [00:12<00:00, 37.25it/s, train_acc=99.629, train_loss=1.47]\n",
            "   test: 100%|██████████| 79/79 [00:02<00:00, 36.84it/s, test_acc=99.110, test_loss=1.47]\n"
          ]
        },
        {
          "name": "stdout",
          "output_type": "stream",
          "text": [
            "EPOCH 63/150 :\n"
          ]
        },
        {
          "name": "stderr",
          "output_type": "stream",
          "text": [
            "  train: 100%|██████████| 469/469 [00:12<00:00, 36.76it/s, train_acc=99.663, train_loss=1.47]\n",
            "   test: 100%|██████████| 79/79 [00:02<00:00, 36.36it/s, test_acc=99.080, test_loss=1.47]\n"
          ]
        },
        {
          "name": "stdout",
          "output_type": "stream",
          "text": [
            "EPOCH 64/150 :\n"
          ]
        },
        {
          "name": "stderr",
          "output_type": "stream",
          "text": [
            "  train: 100%|██████████| 469/469 [00:12<00:00, 36.63it/s, train_acc=99.680, train_loss=1.46]\n",
            "   test: 100%|██████████| 79/79 [00:02<00:00, 34.49it/s, test_acc=99.159, test_loss=1.47]\n"
          ]
        },
        {
          "name": "stdout",
          "output_type": "stream",
          "text": [
            "EPOCH 65/150 :\n"
          ]
        },
        {
          "name": "stderr",
          "output_type": "stream",
          "text": [
            "  train: 100%|██████████| 469/469 [00:13<00:00, 35.99it/s, train_acc=99.689, train_loss=1.46]\n",
            "   test: 100%|██████████| 79/79 [00:02<00:00, 31.97it/s, test_acc=99.031, test_loss=1.47]\n"
          ]
        },
        {
          "name": "stdout",
          "output_type": "stream",
          "text": [
            "EPOCH 66/150 :\n"
          ]
        },
        {
          "name": "stderr",
          "output_type": "stream",
          "text": [
            "  train: 100%|██████████| 469/469 [00:12<00:00, 36.73it/s, train_acc=99.692, train_loss=1.46]\n",
            "   test: 100%|██████████| 79/79 [00:02<00:00, 35.82it/s, test_acc=99.090, test_loss=1.47]\n"
          ]
        },
        {
          "name": "stdout",
          "output_type": "stream",
          "text": [
            "EPOCH 67/150 :\n"
          ]
        },
        {
          "name": "stderr",
          "output_type": "stream",
          "text": [
            "  train: 100%|██████████| 469/469 [00:12<00:00, 36.87it/s, train_acc=99.692, train_loss=1.46]\n",
            "   test: 100%|██████████| 79/79 [00:02<00:00, 35.96it/s, test_acc=99.070, test_loss=1.47]\n"
          ]
        },
        {
          "name": "stdout",
          "output_type": "stream",
          "text": [
            "EPOCH 68/150 :\n"
          ]
        },
        {
          "name": "stderr",
          "output_type": "stream",
          "text": [
            "  train: 100%|██████████| 469/469 [00:12<00:00, 36.30it/s, train_acc=99.715, train_loss=1.46]\n",
            "   test: 100%|██████████| 79/79 [00:02<00:00, 35.24it/s, test_acc=99.159, test_loss=1.47]\n"
          ]
        },
        {
          "name": "stdout",
          "output_type": "stream",
          "text": [
            "EPOCH 69/150 :\n"
          ]
        },
        {
          "name": "stderr",
          "output_type": "stream",
          "text": [
            "  train: 100%|██████████| 469/469 [00:12<00:00, 36.61it/s, train_acc=99.704, train_loss=1.46]\n",
            "   test: 100%|██████████| 79/79 [00:02<00:00, 28.97it/s, test_acc=99.169, test_loss=1.47]\n"
          ]
        },
        {
          "name": "stdout",
          "output_type": "stream",
          "text": [
            "EPOCH 70/150 :\n"
          ]
        },
        {
          "name": "stderr",
          "output_type": "stream",
          "text": [
            "  train: 100%|██████████| 469/469 [00:12<00:00, 36.82it/s, train_acc=99.683, train_loss=1.46]\n",
            "   test: 100%|██████████| 79/79 [00:02<00:00, 35.88it/s, test_acc=99.011, test_loss=1.47]\n"
          ]
        },
        {
          "name": "stdout",
          "output_type": "stream",
          "text": [
            "EPOCH 71/150 :\n"
          ]
        },
        {
          "name": "stderr",
          "output_type": "stream",
          "text": [
            "  train: 100%|██████████| 469/469 [00:12<00:00, 36.86it/s, train_acc=99.723, train_loss=1.46]\n",
            "   test: 100%|██████████| 79/79 [00:02<00:00, 35.62it/s, test_acc=99.080, test_loss=1.47]\n"
          ]
        },
        {
          "name": "stdout",
          "output_type": "stream",
          "text": [
            "EPOCH 72/150 :\n"
          ]
        },
        {
          "name": "stderr",
          "output_type": "stream",
          "text": [
            "  train: 100%|██████████| 469/469 [00:12<00:00, 36.60it/s, train_acc=99.707, train_loss=1.46]\n",
            "   test: 100%|██████████| 79/79 [00:02<00:00, 36.02it/s, test_acc=99.120, test_loss=1.47]\n"
          ]
        },
        {
          "name": "stdout",
          "output_type": "stream",
          "text": [
            "EPOCH 73/150 :\n"
          ]
        },
        {
          "name": "stderr",
          "output_type": "stream",
          "text": [
            "  train: 100%|██████████| 469/469 [00:12<00:00, 37.35it/s, train_acc=99.728, train_loss=1.46]\n",
            "   test: 100%|██████████| 79/79 [00:02<00:00, 27.69it/s, test_acc=99.159, test_loss=1.47]\n"
          ]
        },
        {
          "name": "stdout",
          "output_type": "stream",
          "text": [
            "EPOCH 74/150 :\n"
          ]
        },
        {
          "name": "stderr",
          "output_type": "stream",
          "text": [
            "  train: 100%|██████████| 469/469 [00:12<00:00, 36.90it/s, train_acc=99.748, train_loss=1.46]\n",
            "   test: 100%|██████████| 79/79 [00:02<00:00, 36.21it/s, test_acc=99.159, test_loss=1.47]\n"
          ]
        },
        {
          "name": "stdout",
          "output_type": "stream",
          "text": [
            "EPOCH 75/150 :\n"
          ]
        },
        {
          "name": "stderr",
          "output_type": "stream",
          "text": [
            "  train: 100%|██████████| 469/469 [00:12<00:00, 37.16it/s, train_acc=99.755, train_loss=1.46]\n",
            "   test: 100%|██████████| 79/79 [00:02<00:00, 35.76it/s, test_acc=99.001, test_loss=1.47]\n"
          ]
        },
        {
          "name": "stdout",
          "output_type": "stream",
          "text": [
            "EPOCH 76/150 :\n"
          ]
        },
        {
          "name": "stderr",
          "output_type": "stream",
          "text": [
            "  train: 100%|██████████| 469/469 [00:12<00:00, 36.28it/s, train_acc=99.737, train_loss=1.46]\n",
            "   test: 100%|██████████| 79/79 [00:02<00:00, 34.03it/s, test_acc=99.130, test_loss=1.47]\n"
          ]
        },
        {
          "name": "stdout",
          "output_type": "stream",
          "text": [
            "EPOCH 77/150 :\n"
          ]
        },
        {
          "name": "stderr",
          "output_type": "stream",
          "text": [
            "  train: 100%|██████████| 469/469 [00:12<00:00, 37.30it/s, train_acc=99.763, train_loss=1.46]\n",
            "   test: 100%|██████████| 79/79 [00:02<00:00, 32.18it/s, test_acc=99.159, test_loss=1.47]\n"
          ]
        },
        {
          "name": "stdout",
          "output_type": "stream",
          "text": [
            "EPOCH 78/150 :\n"
          ]
        },
        {
          "name": "stderr",
          "output_type": "stream",
          "text": [
            "  train: 100%|██████████| 469/469 [00:12<00:00, 36.76it/s, train_acc=99.765, train_loss=1.46]\n",
            "   test: 100%|██████████| 79/79 [00:02<00:00, 33.14it/s, test_acc=99.169, test_loss=1.47]\n"
          ]
        },
        {
          "name": "stdout",
          "output_type": "stream",
          "text": [
            "EPOCH 79/150 :\n"
          ]
        },
        {
          "name": "stderr",
          "output_type": "stream",
          "text": [
            "  train: 100%|██████████| 469/469 [00:12<00:00, 37.31it/s, train_acc=99.783, train_loss=1.46]\n",
            "   test: 100%|██████████| 79/79 [00:02<00:00, 34.88it/s, test_acc=99.110, test_loss=1.47]\n"
          ]
        },
        {
          "name": "stdout",
          "output_type": "stream",
          "text": [
            "EPOCH 80/150 :\n"
          ]
        },
        {
          "name": "stderr",
          "output_type": "stream",
          "text": [
            "  train: 100%|██████████| 469/469 [00:12<00:00, 37.85it/s, train_acc=99.773, train_loss=1.46]\n",
            "   test: 100%|██████████| 79/79 [00:02<00:00, 35.75it/s, test_acc=99.199, test_loss=1.47]\n"
          ]
        },
        {
          "name": "stdout",
          "output_type": "stream",
          "text": [
            "EPOCH 81/150 :\n"
          ]
        },
        {
          "name": "stderr",
          "output_type": "stream",
          "text": [
            "  train: 100%|██████████| 469/469 [00:12<00:00, 36.67it/s, train_acc=99.778, train_loss=1.46]\n",
            "   test: 100%|██████████| 79/79 [00:02<00:00, 35.07it/s, test_acc=99.189, test_loss=1.47]\n"
          ]
        },
        {
          "name": "stdout",
          "output_type": "stream",
          "text": [
            "EPOCH 82/150 :\n"
          ]
        },
        {
          "name": "stderr",
          "output_type": "stream",
          "text": [
            "  train: 100%|██████████| 469/469 [00:12<00:00, 36.56it/s, train_acc=99.763, train_loss=1.46]\n",
            "   test: 100%|██████████| 79/79 [00:02<00:00, 29.63it/s, test_acc=99.159, test_loss=1.47]\n"
          ]
        },
        {
          "name": "stdout",
          "output_type": "stream",
          "text": [
            "EPOCH 83/150 :\n"
          ]
        },
        {
          "name": "stderr",
          "output_type": "stream",
          "text": [
            "  train: 100%|██████████| 469/469 [00:12<00:00, 37.48it/s, train_acc=99.783, train_loss=1.46]\n",
            "   test: 100%|██████████| 79/79 [00:02<00:00, 35.21it/s, test_acc=99.169, test_loss=1.47]\n"
          ]
        },
        {
          "name": "stdout",
          "output_type": "stream",
          "text": [
            "EPOCH 84/150 :\n"
          ]
        },
        {
          "name": "stderr",
          "output_type": "stream",
          "text": [
            "  train: 100%|██████████| 469/469 [00:12<00:00, 36.92it/s, train_acc=99.795, train_loss=1.46]\n",
            "   test: 100%|██████████| 79/79 [00:02<00:00, 36.21it/s, test_acc=99.021, test_loss=1.47]\n"
          ]
        },
        {
          "name": "stdout",
          "output_type": "stream",
          "text": [
            "EPOCH 85/150 :\n"
          ]
        },
        {
          "name": "stderr",
          "output_type": "stream",
          "text": [
            "  train: 100%|██████████| 469/469 [00:12<00:00, 36.67it/s, train_acc=99.777, train_loss=1.46]\n",
            "   test: 100%|██████████| 79/79 [00:02<00:00, 35.60it/s, test_acc=99.179, test_loss=1.47]\n"
          ]
        },
        {
          "name": "stdout",
          "output_type": "stream",
          "text": [
            "EPOCH 86/150 :\n"
          ]
        },
        {
          "name": "stderr",
          "output_type": "stream",
          "text": [
            "  train: 100%|██████████| 469/469 [00:12<00:00, 37.09it/s, train_acc=99.805, train_loss=1.46]\n",
            "   test: 100%|██████████| 79/79 [00:02<00:00, 27.57it/s, test_acc=99.150, test_loss=1.47]\n"
          ]
        },
        {
          "name": "stdout",
          "output_type": "stream",
          "text": [
            "EPOCH 87/150 :\n"
          ]
        },
        {
          "name": "stderr",
          "output_type": "stream",
          "text": [
            "  train: 100%|██████████| 469/469 [00:12<00:00, 37.47it/s, train_acc=99.766, train_loss=1.46]\n",
            "   test: 100%|██████████| 79/79 [00:02<00:00, 36.13it/s, test_acc=99.209, test_loss=1.47]\n"
          ]
        },
        {
          "name": "stdout",
          "output_type": "stream",
          "text": [
            "EPOCH 88/150 :\n"
          ]
        },
        {
          "name": "stderr",
          "output_type": "stream",
          "text": [
            "  train: 100%|██████████| 469/469 [00:12<00:00, 37.26it/s, train_acc=99.797, train_loss=1.46]\n",
            "   test: 100%|██████████| 79/79 [00:02<00:00, 35.98it/s, test_acc=99.159, test_loss=1.47]\n"
          ]
        },
        {
          "name": "stdout",
          "output_type": "stream",
          "text": [
            "EPOCH 89/150 :\n"
          ]
        },
        {
          "name": "stderr",
          "output_type": "stream",
          "text": [
            "  train: 100%|██████████| 469/469 [00:12<00:00, 37.16it/s, train_acc=99.787, train_loss=1.46]\n",
            "   test: 100%|██████████| 79/79 [00:02<00:00, 36.24it/s, test_acc=99.189, test_loss=1.47]\n"
          ]
        },
        {
          "name": "stdout",
          "output_type": "stream",
          "text": [
            "EPOCH 90/150 :\n"
          ]
        },
        {
          "name": "stderr",
          "output_type": "stream",
          "text": [
            "  train: 100%|██████████| 469/469 [00:12<00:00, 37.00it/s, train_acc=99.808, train_loss=1.46]\n",
            "   test: 100%|██████████| 79/79 [00:02<00:00, 33.25it/s, test_acc=99.140, test_loss=1.47]\n"
          ]
        },
        {
          "name": "stdout",
          "output_type": "stream",
          "text": [
            "EPOCH 91/150 :\n"
          ]
        },
        {
          "name": "stderr",
          "output_type": "stream",
          "text": [
            "  train: 100%|██████████| 469/469 [00:12<00:00, 37.04it/s, train_acc=99.792, train_loss=1.46]\n",
            "   test: 100%|██████████| 79/79 [00:02<00:00, 32.00it/s, test_acc=99.179, test_loss=1.47]\n"
          ]
        },
        {
          "name": "stdout",
          "output_type": "stream",
          "text": [
            "EPOCH 92/150 :\n"
          ]
        },
        {
          "name": "stderr",
          "output_type": "stream",
          "text": [
            "  train: 100%|██████████| 469/469 [00:12<00:00, 37.24it/s, train_acc=99.818, train_loss=1.46]\n",
            "   test: 100%|██████████| 79/79 [00:02<00:00, 35.42it/s, test_acc=99.189, test_loss=1.47]\n"
          ]
        },
        {
          "name": "stdout",
          "output_type": "stream",
          "text": [
            "EPOCH 93/150 :\n"
          ]
        },
        {
          "name": "stderr",
          "output_type": "stream",
          "text": [
            "  train: 100%|██████████| 469/469 [00:12<00:00, 37.25it/s, train_acc=99.805, train_loss=1.46]\n",
            "   test: 100%|██████████| 79/79 [00:02<00:00, 36.19it/s, test_acc=99.219, test_loss=1.47]\n"
          ]
        },
        {
          "name": "stdout",
          "output_type": "stream",
          "text": [
            "EPOCH 94/150 :\n"
          ]
        },
        {
          "name": "stderr",
          "output_type": "stream",
          "text": [
            "  train: 100%|██████████| 469/469 [00:12<00:00, 37.48it/s, train_acc=99.817, train_loss=1.46]\n",
            "   test: 100%|██████████| 79/79 [00:02<00:00, 36.15it/s, test_acc=99.159, test_loss=1.47]\n"
          ]
        },
        {
          "name": "stdout",
          "output_type": "stream",
          "text": [
            "EPOCH 95/150 :\n"
          ]
        },
        {
          "name": "stderr",
          "output_type": "stream",
          "text": [
            "  train: 100%|██████████| 469/469 [00:12<00:00, 37.61it/s, train_acc=99.820, train_loss=1.46]\n",
            "   test: 100%|██████████| 79/79 [00:02<00:00, 28.70it/s, test_acc=99.239, test_loss=1.47]\n"
          ]
        },
        {
          "name": "stdout",
          "output_type": "stream",
          "text": [
            "EPOCH 96/150 :\n"
          ]
        },
        {
          "name": "stderr",
          "output_type": "stream",
          "text": [
            "  train: 100%|██████████| 469/469 [00:12<00:00, 36.96it/s, train_acc=99.820, train_loss=1.46]\n",
            "   test: 100%|██████████| 79/79 [00:02<00:00, 36.06it/s, test_acc=99.140, test_loss=1.47]\n"
          ]
        },
        {
          "name": "stdout",
          "output_type": "stream",
          "text": [
            "EPOCH 97/150 :\n"
          ]
        },
        {
          "name": "stderr",
          "output_type": "stream",
          "text": [
            "  train: 100%|██████████| 469/469 [00:12<00:00, 36.59it/s, train_acc=99.813, train_loss=1.46]\n",
            "   test: 100%|██████████| 79/79 [00:02<00:00, 35.83it/s, test_acc=99.209, test_loss=1.47]\n"
          ]
        },
        {
          "name": "stdout",
          "output_type": "stream",
          "text": [
            "EPOCH 98/150 :\n"
          ]
        },
        {
          "name": "stderr",
          "output_type": "stream",
          "text": [
            "  train: 100%|██████████| 469/469 [00:12<00:00, 37.18it/s, train_acc=99.832, train_loss=1.46]\n",
            "   test: 100%|██████████| 79/79 [00:02<00:00, 35.71it/s, test_acc=99.140, test_loss=1.47]\n"
          ]
        },
        {
          "name": "stdout",
          "output_type": "stream",
          "text": [
            "EPOCH 99/150 :\n"
          ]
        },
        {
          "name": "stderr",
          "output_type": "stream",
          "text": [
            "  train: 100%|██████████| 469/469 [00:12<00:00, 37.00it/s, train_acc=99.820, train_loss=1.46]\n",
            "   test: 100%|██████████| 79/79 [00:02<00:00, 32.34it/s, test_acc=99.120, test_loss=1.47]\n"
          ]
        },
        {
          "name": "stdout",
          "output_type": "stream",
          "text": [
            "EPOCH 100/150 :\n"
          ]
        },
        {
          "name": "stderr",
          "output_type": "stream",
          "text": [
            "  train: 100%|██████████| 469/469 [00:12<00:00, 36.83it/s, train_acc=99.842, train_loss=1.46]\n",
            "   test: 100%|██████████| 79/79 [00:02<00:00, 33.26it/s, test_acc=99.100, test_loss=1.47]\n"
          ]
        },
        {
          "name": "stdout",
          "output_type": "stream",
          "text": [
            "EPOCH 101/150 :\n"
          ]
        },
        {
          "name": "stderr",
          "output_type": "stream",
          "text": [
            "  train: 100%|██████████| 469/469 [00:12<00:00, 37.24it/s, train_acc=99.830, train_loss=1.46]\n",
            "   test: 100%|██████████| 79/79 [00:02<00:00, 36.50it/s, test_acc=99.090, test_loss=1.47]\n"
          ]
        },
        {
          "name": "stdout",
          "output_type": "stream",
          "text": [
            "EPOCH 102/150 :\n"
          ]
        },
        {
          "name": "stderr",
          "output_type": "stream",
          "text": [
            "  train: 100%|██████████| 469/469 [00:12<00:00, 36.69it/s, train_acc=99.842, train_loss=1.46]\n",
            "   test: 100%|██████████| 79/79 [00:02<00:00, 35.75it/s, test_acc=99.061, test_loss=1.47]\n"
          ]
        },
        {
          "name": "stdout",
          "output_type": "stream",
          "text": [
            "EPOCH 103/150 :\n"
          ]
        },
        {
          "name": "stderr",
          "output_type": "stream",
          "text": [
            "  train: 100%|██████████| 469/469 [00:12<00:00, 37.38it/s, train_acc=99.840, train_loss=1.46]\n",
            "   test: 100%|██████████| 79/79 [00:02<00:00, 36.86it/s, test_acc=99.110, test_loss=1.47]\n"
          ]
        },
        {
          "name": "stdout",
          "output_type": "stream",
          "text": [
            "EPOCH 104/150 :\n"
          ]
        },
        {
          "name": "stderr",
          "output_type": "stream",
          "text": [
            "  train: 100%|██████████| 469/469 [00:12<00:00, 37.39it/s, train_acc=99.838, train_loss=1.46]\n",
            "   test: 100%|██████████| 79/79 [00:02<00:00, 28.33it/s, test_acc=99.080, test_loss=1.47]\n"
          ]
        },
        {
          "name": "stdout",
          "output_type": "stream",
          "text": [
            "EPOCH 105/150 :\n"
          ]
        },
        {
          "name": "stderr",
          "output_type": "stream",
          "text": [
            "  train: 100%|██████████| 469/469 [00:12<00:00, 37.42it/s, train_acc=99.825, train_loss=1.46]\n",
            "   test: 100%|██████████| 79/79 [00:02<00:00, 33.99it/s, test_acc=99.169, test_loss=1.47]\n"
          ]
        },
        {
          "name": "stdout",
          "output_type": "stream",
          "text": [
            "EPOCH 106/150 :\n"
          ]
        },
        {
          "name": "stderr",
          "output_type": "stream",
          "text": [
            "  train: 100%|██████████| 469/469 [00:12<00:00, 37.16it/s, train_acc=99.842, train_loss=1.46]\n",
            "   test: 100%|██████████| 79/79 [00:02<00:00, 35.93it/s, test_acc=99.130, test_loss=1.47]\n"
          ]
        },
        {
          "name": "stdout",
          "output_type": "stream",
          "text": [
            "EPOCH 107/150 :\n"
          ]
        },
        {
          "name": "stderr",
          "output_type": "stream",
          "text": [
            "  train: 100%|██████████| 469/469 [00:12<00:00, 37.39it/s, train_acc=99.858, train_loss=1.46]\n",
            "   test: 100%|██████████| 79/79 [00:02<00:00, 35.34it/s, test_acc=99.150, test_loss=1.47]\n"
          ]
        },
        {
          "name": "stdout",
          "output_type": "stream",
          "text": [
            "EPOCH 108/150 :\n"
          ]
        },
        {
          "name": "stderr",
          "output_type": "stream",
          "text": [
            "  train: 100%|██████████| 469/469 [00:12<00:00, 36.46it/s, train_acc=99.855, train_loss=1.46]\n",
            "   test: 100%|██████████| 79/79 [00:02<00:00, 29.86it/s, test_acc=99.110, test_loss=1.47]\n"
          ]
        },
        {
          "name": "stdout",
          "output_type": "stream",
          "text": [
            "EPOCH 109/150 :\n"
          ]
        },
        {
          "name": "stderr",
          "output_type": "stream",
          "text": [
            "  train: 100%|██████████| 469/469 [00:12<00:00, 36.39it/s, train_acc=99.833, train_loss=1.46]\n",
            "   test: 100%|██████████| 79/79 [00:02<00:00, 33.39it/s, test_acc=99.140, test_loss=1.47]\n"
          ]
        },
        {
          "name": "stdout",
          "output_type": "stream",
          "text": [
            "EPOCH 110/150 :\n"
          ]
        },
        {
          "name": "stderr",
          "output_type": "stream",
          "text": [
            "  train: 100%|██████████| 469/469 [00:12<00:00, 36.21it/s, train_acc=99.852, train_loss=1.46]\n",
            "   test: 100%|██████████| 79/79 [00:02<00:00, 35.98it/s, test_acc=99.140, test_loss=1.47]\n"
          ]
        },
        {
          "name": "stdout",
          "output_type": "stream",
          "text": [
            "EPOCH 111/150 :\n"
          ]
        },
        {
          "name": "stderr",
          "output_type": "stream",
          "text": [
            "  train: 100%|██████████| 469/469 [00:12<00:00, 37.45it/s, train_acc=99.863, train_loss=1.46]\n",
            "   test: 100%|██████████| 79/79 [00:02<00:00, 35.80it/s, test_acc=99.080, test_loss=1.47]\n"
          ]
        },
        {
          "name": "stdout",
          "output_type": "stream",
          "text": [
            "EPOCH 112/150 :\n"
          ]
        },
        {
          "name": "stderr",
          "output_type": "stream",
          "text": [
            "  train: 100%|██████████| 469/469 [00:12<00:00, 37.75it/s, train_acc=99.850, train_loss=1.46]\n",
            "   test: 100%|██████████| 79/79 [00:02<00:00, 34.27it/s, test_acc=99.120, test_loss=1.47]\n"
          ]
        },
        {
          "name": "stdout",
          "output_type": "stream",
          "text": [
            "EPOCH 113/150 :\n"
          ]
        },
        {
          "name": "stderr",
          "output_type": "stream",
          "text": [
            "  train: 100%|██████████| 469/469 [00:12<00:00, 37.36it/s, train_acc=99.867, train_loss=1.46]\n",
            "   test: 100%|██████████| 79/79 [00:02<00:00, 30.22it/s, test_acc=99.169, test_loss=1.47]\n"
          ]
        },
        {
          "name": "stdout",
          "output_type": "stream",
          "text": [
            "EPOCH 114/150 :\n"
          ]
        },
        {
          "name": "stderr",
          "output_type": "stream",
          "text": [
            "  train: 100%|██████████| 469/469 [00:12<00:00, 37.17it/s, train_acc=99.850, train_loss=1.46]\n",
            "   test: 100%|██████████| 79/79 [00:02<00:00, 35.73it/s, test_acc=99.169, test_loss=1.47]\n"
          ]
        },
        {
          "name": "stdout",
          "output_type": "stream",
          "text": [
            "EPOCH 115/150 :\n"
          ]
        },
        {
          "name": "stderr",
          "output_type": "stream",
          "text": [
            "  train: 100%|██████████| 469/469 [00:12<00:00, 37.43it/s, train_acc=99.863, train_loss=1.46]\n",
            "   test: 100%|██████████| 79/79 [00:02<00:00, 36.43it/s, test_acc=99.209, test_loss=1.47]\n"
          ]
        },
        {
          "name": "stdout",
          "output_type": "stream",
          "text": [
            "EPOCH 116/150 :\n"
          ]
        },
        {
          "name": "stderr",
          "output_type": "stream",
          "text": [
            "  train: 100%|██████████| 469/469 [00:12<00:00, 37.29it/s, train_acc=99.853, train_loss=1.46]\n",
            "   test: 100%|██████████| 79/79 [00:02<00:00, 36.82it/s, test_acc=99.219, test_loss=1.47]\n"
          ]
        },
        {
          "name": "stdout",
          "output_type": "stream",
          "text": [
            "EPOCH 117/150 :\n"
          ]
        },
        {
          "name": "stderr",
          "output_type": "stream",
          "text": [
            "  train: 100%|██████████| 469/469 [00:12<00:00, 37.64it/s, train_acc=99.862, train_loss=1.46]\n",
            "   test: 100%|██████████| 79/79 [00:02<00:00, 30.40it/s, test_acc=99.140, test_loss=1.47]\n"
          ]
        },
        {
          "name": "stdout",
          "output_type": "stream",
          "text": [
            "EPOCH 118/150 :\n"
          ]
        },
        {
          "name": "stderr",
          "output_type": "stream",
          "text": [
            "  train: 100%|██████████| 469/469 [00:12<00:00, 36.21it/s, train_acc=99.850, train_loss=1.46]\n",
            "   test: 100%|██████████| 79/79 [00:02<00:00, 35.77it/s, test_acc=99.150, test_loss=1.47]\n"
          ]
        },
        {
          "name": "stdout",
          "output_type": "stream",
          "text": [
            "EPOCH 119/150 :\n"
          ]
        },
        {
          "name": "stderr",
          "output_type": "stream",
          "text": [
            "  train: 100%|██████████| 469/469 [00:12<00:00, 37.18it/s, train_acc=99.870, train_loss=1.46]\n",
            "   test: 100%|██████████| 79/79 [00:02<00:00, 36.69it/s, test_acc=99.169, test_loss=1.47]\n"
          ]
        },
        {
          "name": "stdout",
          "output_type": "stream",
          "text": [
            "EPOCH 120/150 :\n"
          ]
        },
        {
          "name": "stderr",
          "output_type": "stream",
          "text": [
            "  train: 100%|██████████| 469/469 [00:12<00:00, 36.93it/s, train_acc=99.853, train_loss=1.46]\n",
            "   test: 100%|██████████| 79/79 [00:02<00:00, 35.74it/s, test_acc=99.100, test_loss=1.47]\n"
          ]
        },
        {
          "name": "stdout",
          "output_type": "stream",
          "text": [
            "EPOCH 121/150 :\n"
          ]
        },
        {
          "name": "stderr",
          "output_type": "stream",
          "text": [
            "  train: 100%|██████████| 469/469 [00:12<00:00, 37.51it/s, train_acc=99.858, train_loss=1.46]\n",
            "   test: 100%|██████████| 79/79 [00:02<00:00, 34.55it/s, test_acc=99.159, test_loss=1.47]\n"
          ]
        },
        {
          "name": "stdout",
          "output_type": "stream",
          "text": [
            "EPOCH 122/150 :\n"
          ]
        },
        {
          "name": "stderr",
          "output_type": "stream",
          "text": [
            "  train: 100%|██████████| 469/469 [00:12<00:00, 36.35it/s, train_acc=99.865, train_loss=1.46]\n",
            "   test: 100%|██████████| 79/79 [00:02<00:00, 30.88it/s, test_acc=99.169, test_loss=1.47]\n"
          ]
        },
        {
          "name": "stdout",
          "output_type": "stream",
          "text": [
            "EPOCH 123/150 :\n"
          ]
        },
        {
          "name": "stderr",
          "output_type": "stream",
          "text": [
            "  train: 100%|██████████| 469/469 [00:12<00:00, 37.63it/s, train_acc=99.873, train_loss=1.46]\n",
            "   test: 100%|██████████| 79/79 [00:02<00:00, 36.58it/s, test_acc=99.219, test_loss=1.47]\n"
          ]
        },
        {
          "name": "stdout",
          "output_type": "stream",
          "text": [
            "EPOCH 124/150 :\n"
          ]
        },
        {
          "name": "stderr",
          "output_type": "stream",
          "text": [
            "  train: 100%|██████████| 469/469 [00:12<00:00, 37.21it/s, train_acc=99.867, train_loss=1.46]\n",
            "   test: 100%|██████████| 79/79 [00:02<00:00, 36.47it/s, test_acc=99.140, test_loss=1.47]\n"
          ]
        },
        {
          "name": "stdout",
          "output_type": "stream",
          "text": [
            "EPOCH 125/150 :\n"
          ]
        },
        {
          "name": "stderr",
          "output_type": "stream",
          "text": [
            "  train: 100%|██████████| 469/469 [00:12<00:00, 37.83it/s, train_acc=99.870, train_loss=1.46]\n",
            "   test: 100%|██████████| 79/79 [00:02<00:00, 36.58it/s, test_acc=99.159, test_loss=1.47]\n"
          ]
        },
        {
          "name": "stdout",
          "output_type": "stream",
          "text": [
            "EPOCH 126/150 :\n"
          ]
        },
        {
          "name": "stderr",
          "output_type": "stream",
          "text": [
            "  train: 100%|██████████| 469/469 [00:12<00:00, 36.80it/s, train_acc=99.873, train_loss=1.46]\n",
            "   test: 100%|██████████| 79/79 [00:02<00:00, 29.24it/s, test_acc=99.209, test_loss=1.47]\n"
          ]
        },
        {
          "name": "stdout",
          "output_type": "stream",
          "text": [
            "EPOCH 127/150 :\n"
          ]
        },
        {
          "name": "stderr",
          "output_type": "stream",
          "text": [
            "  train: 100%|██████████| 469/469 [00:12<00:00, 37.58it/s, train_acc=99.858, train_loss=1.46]\n",
            "   test: 100%|██████████| 79/79 [00:02<00:00, 35.67it/s, test_acc=99.159, test_loss=1.47]\n"
          ]
        },
        {
          "name": "stdout",
          "output_type": "stream",
          "text": [
            "EPOCH 128/150 :\n"
          ]
        },
        {
          "name": "stderr",
          "output_type": "stream",
          "text": [
            "  train: 100%|██████████| 469/469 [00:12<00:00, 36.85it/s, train_acc=99.882, train_loss=1.46]\n",
            "   test: 100%|██████████| 79/79 [00:02<00:00, 35.80it/s, test_acc=99.159, test_loss=1.47]\n"
          ]
        },
        {
          "name": "stdout",
          "output_type": "stream",
          "text": [
            "EPOCH 129/150 :\n"
          ]
        },
        {
          "name": "stderr",
          "output_type": "stream",
          "text": [
            "  train: 100%|██████████| 469/469 [00:12<00:00, 37.38it/s, train_acc=99.865, train_loss=1.46]\n",
            "   test: 100%|██████████| 79/79 [00:02<00:00, 36.01it/s, test_acc=99.239, test_loss=1.47]\n"
          ]
        },
        {
          "name": "stdout",
          "output_type": "stream",
          "text": [
            "EPOCH 130/150 :\n"
          ]
        },
        {
          "name": "stderr",
          "output_type": "stream",
          "text": [
            "  train: 100%|██████████| 469/469 [00:12<00:00, 36.79it/s, train_acc=99.876, train_loss=1.46]\n",
            "   test: 100%|██████████| 79/79 [00:02<00:00, 32.57it/s, test_acc=99.199, test_loss=1.47]\n"
          ]
        },
        {
          "name": "stdout",
          "output_type": "stream",
          "text": [
            "EPOCH 131/150 :\n"
          ]
        },
        {
          "name": "stderr",
          "output_type": "stream",
          "text": [
            "  train: 100%|██████████| 469/469 [00:12<00:00, 36.67it/s, train_acc=99.868, train_loss=1.46]\n",
            "   test: 100%|██████████| 79/79 [00:02<00:00, 32.11it/s, test_acc=99.278, test_loss=1.47]\n"
          ]
        },
        {
          "name": "stdout",
          "output_type": "stream",
          "text": [
            "EPOCH 132/150 :\n"
          ]
        },
        {
          "name": "stderr",
          "output_type": "stream",
          "text": [
            "  train: 100%|██████████| 469/469 [00:12<00:00, 37.26it/s, train_acc=99.872, train_loss=1.46]\n",
            "   test: 100%|██████████| 79/79 [00:02<00:00, 34.69it/s, test_acc=99.248, test_loss=1.47]\n"
          ]
        },
        {
          "name": "stdout",
          "output_type": "stream",
          "text": [
            "EPOCH 133/150 :\n"
          ]
        },
        {
          "name": "stderr",
          "output_type": "stream",
          "text": [
            "  train: 100%|██████████| 469/469 [00:12<00:00, 37.57it/s, train_acc=99.870, train_loss=1.46]\n",
            "   test: 100%|██████████| 79/79 [00:02<00:00, 36.35it/s, test_acc=99.239, test_loss=1.47]\n"
          ]
        },
        {
          "name": "stdout",
          "output_type": "stream",
          "text": [
            "EPOCH 134/150 :\n"
          ]
        },
        {
          "name": "stderr",
          "output_type": "stream",
          "text": [
            "  train: 100%|██████████| 469/469 [00:12<00:00, 36.83it/s, train_acc=99.893, train_loss=1.46]\n",
            "   test: 100%|██████████| 79/79 [00:02<00:00, 32.35it/s, test_acc=99.199, test_loss=1.47]\n"
          ]
        },
        {
          "name": "stdout",
          "output_type": "stream",
          "text": [
            "EPOCH 135/150 :\n"
          ]
        },
        {
          "name": "stderr",
          "output_type": "stream",
          "text": [
            "  train: 100%|██████████| 469/469 [00:12<00:00, 36.79it/s, train_acc=99.887, train_loss=1.46]\n",
            "   test: 100%|██████████| 79/79 [00:02<00:00, 28.49it/s, test_acc=99.248, test_loss=1.47]\n"
          ]
        },
        {
          "name": "stdout",
          "output_type": "stream",
          "text": [
            "EPOCH 136/150 :\n"
          ]
        },
        {
          "name": "stderr",
          "output_type": "stream",
          "text": [
            "  train: 100%|██████████| 469/469 [00:12<00:00, 37.59it/s, train_acc=99.893, train_loss=1.46]\n",
            "   test: 100%|██████████| 79/79 [00:02<00:00, 34.65it/s, test_acc=99.199, test_loss=1.47]\n"
          ]
        },
        {
          "name": "stdout",
          "output_type": "stream",
          "text": [
            "EPOCH 137/150 :\n"
          ]
        },
        {
          "name": "stderr",
          "output_type": "stream",
          "text": [
            "  train: 100%|██████████| 469/469 [00:12<00:00, 37.70it/s, train_acc=99.881, train_loss=1.46]\n",
            "   test: 100%|██████████| 79/79 [00:02<00:00, 35.53it/s, test_acc=99.248, test_loss=1.47]\n"
          ]
        },
        {
          "name": "stdout",
          "output_type": "stream",
          "text": [
            "EPOCH 138/150 :\n"
          ]
        },
        {
          "name": "stderr",
          "output_type": "stream",
          "text": [
            "  train: 100%|██████████| 469/469 [00:12<00:00, 36.70it/s, train_acc=99.872, train_loss=1.46]\n",
            "   test: 100%|██████████| 79/79 [00:02<00:00, 35.08it/s, test_acc=99.199, test_loss=1.47]\n"
          ]
        },
        {
          "name": "stdout",
          "output_type": "stream",
          "text": [
            "EPOCH 139/150 :\n"
          ]
        },
        {
          "name": "stderr",
          "output_type": "stream",
          "text": [
            "  train: 100%|██████████| 469/469 [00:12<00:00, 36.87it/s, train_acc=99.877, train_loss=1.46]\n",
            "   test: 100%|██████████| 79/79 [00:02<00:00, 30.94it/s, test_acc=99.209, test_loss=1.47]\n"
          ]
        },
        {
          "name": "stdout",
          "output_type": "stream",
          "text": [
            "EPOCH 140/150 :\n"
          ]
        },
        {
          "name": "stderr",
          "output_type": "stream",
          "text": [
            "  train: 100%|██████████| 469/469 [00:12<00:00, 36.58it/s, train_acc=99.873, train_loss=1.46]\n",
            "   test: 100%|██████████| 79/79 [00:02<00:00, 33.70it/s, test_acc=99.130, test_loss=1.47]\n"
          ]
        },
        {
          "name": "stdout",
          "output_type": "stream",
          "text": [
            "EPOCH 141/150 :\n"
          ]
        },
        {
          "name": "stderr",
          "output_type": "stream",
          "text": [
            "  train: 100%|██████████| 469/469 [00:12<00:00, 37.36it/s, train_acc=99.878, train_loss=1.46]\n",
            "   test: 100%|██████████| 79/79 [00:02<00:00, 36.35it/s, test_acc=99.120, test_loss=1.47]\n"
          ]
        },
        {
          "name": "stdout",
          "output_type": "stream",
          "text": [
            "EPOCH 142/150 :\n"
          ]
        },
        {
          "name": "stderr",
          "output_type": "stream",
          "text": [
            "  train: 100%|██████████| 469/469 [00:12<00:00, 37.45it/s, train_acc=99.885, train_loss=1.46]\n",
            "   test: 100%|██████████| 79/79 [00:02<00:00, 35.25it/s, test_acc=99.209, test_loss=1.47]\n"
          ]
        },
        {
          "name": "stdout",
          "output_type": "stream",
          "text": [
            "EPOCH 143/150 :\n"
          ]
        },
        {
          "name": "stderr",
          "output_type": "stream",
          "text": [
            "  train: 100%|██████████| 469/469 [00:12<00:00, 36.67it/s, train_acc=99.883, train_loss=1.46]\n",
            "   test: 100%|██████████| 79/79 [00:02<00:00, 33.17it/s, test_acc=99.150, test_loss=1.47]\n"
          ]
        },
        {
          "name": "stdout",
          "output_type": "stream",
          "text": [
            "EPOCH 144/150 :\n"
          ]
        },
        {
          "name": "stderr",
          "output_type": "stream",
          "text": [
            "  train: 100%|██████████| 469/469 [00:12<00:00, 36.74it/s, train_acc=99.877, train_loss=1.46]\n",
            "   test: 100%|██████████| 79/79 [00:02<00:00, 30.43it/s, test_acc=99.100, test_loss=1.47]\n"
          ]
        },
        {
          "name": "stdout",
          "output_type": "stream",
          "text": [
            "EPOCH 145/150 :\n"
          ]
        },
        {
          "name": "stderr",
          "output_type": "stream",
          "text": [
            "  train: 100%|██████████| 469/469 [00:12<00:00, 37.31it/s, train_acc=99.897, train_loss=1.46]\n",
            "   test: 100%|██████████| 79/79 [00:02<00:00, 35.26it/s, test_acc=99.100, test_loss=1.47]\n"
          ]
        },
        {
          "name": "stdout",
          "output_type": "stream",
          "text": [
            "EPOCH 146/150 :\n"
          ]
        },
        {
          "name": "stderr",
          "output_type": "stream",
          "text": [
            "  train: 100%|██████████| 469/469 [00:12<00:00, 37.06it/s, train_acc=99.892, train_loss=1.46]\n",
            "   test: 100%|██████████| 79/79 [00:02<00:00, 35.39it/s, test_acc=99.001, test_loss=1.47]\n"
          ]
        },
        {
          "name": "stdout",
          "output_type": "stream",
          "text": [
            "EPOCH 147/150 :\n"
          ]
        },
        {
          "name": "stderr",
          "output_type": "stream",
          "text": [
            "  train: 100%|██████████| 469/469 [00:12<00:00, 36.69it/s, train_acc=99.887, train_loss=1.46]\n",
            "   test: 100%|██████████| 79/79 [00:02<00:00, 35.78it/s, test_acc=99.209, test_loss=1.47]\n"
          ]
        },
        {
          "name": "stdout",
          "output_type": "stream",
          "text": [
            "EPOCH 148/150 :\n"
          ]
        },
        {
          "name": "stderr",
          "output_type": "stream",
          "text": [
            "  train: 100%|██████████| 469/469 [00:12<00:00, 37.18it/s, train_acc=99.888, train_loss=1.46]\n",
            "   test: 100%|██████████| 79/79 [00:02<00:00, 27.35it/s, test_acc=99.209, test_loss=1.47]\n"
          ]
        },
        {
          "name": "stdout",
          "output_type": "stream",
          "text": [
            "EPOCH 149/150 :\n"
          ]
        },
        {
          "name": "stderr",
          "output_type": "stream",
          "text": [
            "  train: 100%|██████████| 469/469 [00:12<00:00, 37.17it/s, train_acc=99.885, train_loss=1.46]\n",
            "   test: 100%|██████████| 79/79 [00:02<00:00, 35.97it/s, test_acc=99.140, test_loss=1.47]\n"
          ]
        },
        {
          "name": "stdout",
          "output_type": "stream",
          "text": [
            "EPOCH 150/150 :\n"
          ]
        },
        {
          "name": "stderr",
          "output_type": "stream",
          "text": [
            "  train: 100%|██████████| 469/469 [00:12<00:00, 37.02it/s, train_acc=99.900, train_loss=1.46]\n",
            "   test: 100%|██████████| 79/79 [00:02<00:00, 35.66it/s, test_acc=99.219, test_loss=1.47]\n"
          ]
        },
        {
          "name": "stdout",
          "output_type": "stream",
          "text": [
            "\n",
            "\n",
            "Train time: 2250.130 seconds\n"
          ]
        }
      ],
      "source": [
        "hparams = [\"MNIST\", \"SCNNB-a\", 150]\n",
        "SCNNB_a_MNIST_model, SCNNB_a_MNIST_train_loss, SCNNB_a_MNIST_train_accuracy, SCNNB_a_MNIST_test_loss, SCNNB_a_MNIST_test_accuracy = train(hparams ,MNIST_train_dataloader, MNIST_test_dataloader)\n"
      ]
    },
    {
      "cell_type": "code",
      "execution_count": 16,
      "metadata": {
        "colab": {
          "base_uri": "https://localhost:8080/"
        },
        "id": "sgrCe5aIYWkv",
        "outputId": "b885112e-7a29-4ac6-e633-445dd627651f"
      },
      "outputs": [
        {
          "name": "stdout",
          "output_type": "stream",
          "text": [
            "Maximum Test Accuracy for SCNNB-a model is:  99.27809240506328\n"
          ]
        }
      ],
      "source": [
        "SCNNB_a_max_acc = max(SCNNB_a_MNIST_test_accuracy)\n",
        "SCNNB_a_MEAN = sum(SCNNB_a_MNIST_test_accuracy)/len(SCNNB_a_MNIST_test_accuracy)\n",
        "print(\"Maximum Test Accuracy for SCNNB-a model is: \", str(SCNNB_a_max_acc))"
      ]
    },
    {
      "cell_type": "code",
      "execution_count": 17,
      "metadata": {
        "id": "tDJQ4aon8-Uq"
      },
      "outputs": [],
      "source": [
        "torch.save(SCNNB_a_MNIST_model.state_dict(), 'SCNNB_a_MNIST')"
      ]
    },
    {
      "cell_type": "code",
      "execution_count": 18,
      "metadata": {
        "colab": {
          "base_uri": "https://localhost:8080/"
        },
        "id": "h-qfM7bC8Rgq",
        "outputId": "0f844b60-51a8-4348-b4ee-1c5fde13361d"
      },
      "outputs": [
        {
          "name": "stdout",
          "output_type": "stream",
          "text": [
            "EPOCH 1/150 :\n"
          ]
        },
        {
          "name": "stderr",
          "output_type": "stream",
          "text": [
            "  train: 100%|██████████| 469/469 [00:12<00:00, 36.91it/s, train_acc=56.086, train_loss=1.92]\n",
            "   test: 100%|██████████| 79/79 [00:02<00:00, 36.28it/s, test_acc=80.963, test_loss=1.66]\n"
          ]
        },
        {
          "name": "stdout",
          "output_type": "stream",
          "text": [
            "EPOCH 2/150 :\n"
          ]
        },
        {
          "name": "stderr",
          "output_type": "stream",
          "text": [
            "  train: 100%|██████████| 469/469 [00:12<00:00, 37.97it/s, train_acc=81.146, train_loss=1.65]\n",
            "   test: 100%|██████████| 79/79 [00:02<00:00, 34.24it/s, test_acc=84.405, test_loss=1.62]\n"
          ]
        },
        {
          "name": "stdout",
          "output_type": "stream",
          "text": [
            "EPOCH 3/150 :\n"
          ]
        },
        {
          "name": "stderr",
          "output_type": "stream",
          "text": [
            "  train: 100%|██████████| 469/469 [00:12<00:00, 36.90it/s, train_acc=84.353, train_loss=1.62]\n",
            "   test: 100%|██████████| 79/79 [00:02<00:00, 33.11it/s, test_acc=86.689, test_loss=1.6]\n"
          ]
        },
        {
          "name": "stdout",
          "output_type": "stream",
          "text": [
            "EPOCH 4/150 :\n"
          ]
        },
        {
          "name": "stderr",
          "output_type": "stream",
          "text": [
            "  train: 100%|██████████| 469/469 [00:12<00:00, 37.63it/s, train_acc=86.163, train_loss=1.6]\n",
            "   test: 100%|██████████| 79/79 [00:02<00:00, 37.02it/s, test_acc=91.564, test_loss=1.55]\n"
          ]
        },
        {
          "name": "stdout",
          "output_type": "stream",
          "text": [
            "EPOCH 5/150 :\n"
          ]
        },
        {
          "name": "stderr",
          "output_type": "stream",
          "text": [
            "  train: 100%|██████████| 469/469 [00:12<00:00, 37.05it/s, train_acc=93.537, train_loss=1.53]\n",
            "   test: 100%|██████████| 79/79 [00:02<00:00, 37.86it/s, test_acc=95.431, test_loss=1.51]\n"
          ]
        },
        {
          "name": "stdout",
          "output_type": "stream",
          "text": [
            "EPOCH 6/150 :\n"
          ]
        },
        {
          "name": "stderr",
          "output_type": "stream",
          "text": [
            "  train: 100%|██████████| 469/469 [00:12<00:00, 37.80it/s, train_acc=94.907, train_loss=1.52]\n",
            "   test: 100%|██████████| 79/79 [00:02<00:00, 37.34it/s, test_acc=96.608, test_loss=1.5]\n"
          ]
        },
        {
          "name": "stdout",
          "output_type": "stream",
          "text": [
            "EPOCH 7/150 :\n"
          ]
        },
        {
          "name": "stderr",
          "output_type": "stream",
          "text": [
            "  train: 100%|██████████| 469/469 [00:12<00:00, 37.19it/s, train_acc=95.465, train_loss=1.51]\n",
            "   test: 100%|██████████| 79/79 [00:02<00:00, 30.01it/s, test_acc=96.934, test_loss=1.49]\n"
          ]
        },
        {
          "name": "stdout",
          "output_type": "stream",
          "text": [
            "EPOCH 8/150 :\n"
          ]
        },
        {
          "name": "stderr",
          "output_type": "stream",
          "text": [
            "  train: 100%|██████████| 469/469 [00:12<00:00, 37.59it/s, train_acc=96.063, train_loss=1.5]\n",
            "   test: 100%|██████████| 79/79 [00:02<00:00, 35.95it/s, test_acc=97.458, test_loss=1.49]\n"
          ]
        },
        {
          "name": "stdout",
          "output_type": "stream",
          "text": [
            "EPOCH 9/150 :\n"
          ]
        },
        {
          "name": "stderr",
          "output_type": "stream",
          "text": [
            "  train: 100%|██████████| 469/469 [00:12<00:00, 37.61it/s, train_acc=96.534, train_loss=1.5]\n",
            "   test: 100%|██████████| 79/79 [00:02<00:00, 36.97it/s, test_acc=97.686, test_loss=1.49]\n"
          ]
        },
        {
          "name": "stdout",
          "output_type": "stream",
          "text": [
            "EPOCH 10/150 :\n"
          ]
        },
        {
          "name": "stderr",
          "output_type": "stream",
          "text": [
            "  train: 100%|██████████| 469/469 [00:12<00:00, 38.05it/s, train_acc=96.765, train_loss=1.5]\n",
            "   test: 100%|██████████| 79/79 [00:02<00:00, 37.19it/s, test_acc=97.508, test_loss=1.49]\n"
          ]
        },
        {
          "name": "stdout",
          "output_type": "stream",
          "text": [
            "EPOCH 11/150 :\n"
          ]
        },
        {
          "name": "stderr",
          "output_type": "stream",
          "text": [
            "  train: 100%|██████████| 469/469 [00:12<00:00, 37.73it/s, train_acc=97.060, train_loss=1.49]\n",
            "   test: 100%|██████████| 79/79 [00:02<00:00, 37.31it/s, test_acc=97.735, test_loss=1.48]\n"
          ]
        },
        {
          "name": "stdout",
          "output_type": "stream",
          "text": [
            "EPOCH 12/150 :\n"
          ]
        },
        {
          "name": "stderr",
          "output_type": "stream",
          "text": [
            "  train: 100%|██████████| 469/469 [00:12<00:00, 37.93it/s, train_acc=97.204, train_loss=1.49]\n",
            "   test: 100%|██████████| 79/79 [00:02<00:00, 29.08it/s, test_acc=97.824, test_loss=1.48]\n"
          ]
        },
        {
          "name": "stdout",
          "output_type": "stream",
          "text": [
            "EPOCH 13/150 :\n"
          ]
        },
        {
          "name": "stderr",
          "output_type": "stream",
          "text": [
            "  train: 100%|██████████| 469/469 [00:12<00:00, 37.08it/s, train_acc=97.390, train_loss=1.49]\n",
            "   test: 100%|██████████| 79/79 [00:02<00:00, 35.58it/s, test_acc=97.933, test_loss=1.48]\n"
          ]
        },
        {
          "name": "stdout",
          "output_type": "stream",
          "text": [
            "EPOCH 14/150 :\n"
          ]
        },
        {
          "name": "stderr",
          "output_type": "stream",
          "text": [
            "  train: 100%|██████████| 469/469 [00:12<00:00, 37.85it/s, train_acc=97.531, train_loss=1.49]\n",
            "   test: 100%|██████████| 79/79 [00:02<00:00, 38.00it/s, test_acc=98.032, test_loss=1.48]\n"
          ]
        },
        {
          "name": "stdout",
          "output_type": "stream",
          "text": [
            "EPOCH 15/150 :\n"
          ]
        },
        {
          "name": "stderr",
          "output_type": "stream",
          "text": [
            "  train: 100%|██████████| 469/469 [00:12<00:00, 38.15it/s, train_acc=97.724, train_loss=1.49]\n",
            "   test: 100%|██████████| 79/79 [00:02<00:00, 37.46it/s, test_acc=98.269, test_loss=1.48]\n"
          ]
        },
        {
          "name": "stdout",
          "output_type": "stream",
          "text": [
            "EPOCH 16/150 :\n"
          ]
        },
        {
          "name": "stderr",
          "output_type": "stream",
          "text": [
            "  train: 100%|██████████| 469/469 [00:12<00:00, 37.69it/s, train_acc=97.797, train_loss=1.48]\n",
            "   test: 100%|██████████| 79/79 [00:02<00:00, 37.49it/s, test_acc=98.161, test_loss=1.48]\n"
          ]
        },
        {
          "name": "stdout",
          "output_type": "stream",
          "text": [
            "EPOCH 17/150 :\n"
          ]
        },
        {
          "name": "stderr",
          "output_type": "stream",
          "text": [
            "  train: 100%|██████████| 469/469 [00:12<00:00, 36.99it/s, train_acc=97.961, train_loss=1.48]\n",
            "   test: 100%|██████████| 79/79 [00:02<00:00, 30.01it/s, test_acc=97.983, test_loss=1.48]\n"
          ]
        },
        {
          "name": "stdout",
          "output_type": "stream",
          "text": [
            "EPOCH 18/150 :\n"
          ]
        },
        {
          "name": "stderr",
          "output_type": "stream",
          "text": [
            "  train: 100%|██████████| 469/469 [00:12<00:00, 37.31it/s, train_acc=97.996, train_loss=1.48]\n",
            "   test: 100%|██████████| 79/79 [00:02<00:00, 37.06it/s, test_acc=98.230, test_loss=1.48]\n"
          ]
        },
        {
          "name": "stdout",
          "output_type": "stream",
          "text": [
            "EPOCH 19/150 :\n"
          ]
        },
        {
          "name": "stderr",
          "output_type": "stream",
          "text": [
            "  train: 100%|██████████| 469/469 [00:12<00:00, 38.09it/s, train_acc=98.058, train_loss=1.48]\n",
            "   test: 100%|██████████| 79/79 [00:02<00:00, 36.15it/s, test_acc=98.467, test_loss=1.48]\n"
          ]
        },
        {
          "name": "stdout",
          "output_type": "stream",
          "text": [
            "EPOCH 20/150 :\n"
          ]
        },
        {
          "name": "stderr",
          "output_type": "stream",
          "text": [
            "  train: 100%|██████████| 469/469 [00:12<00:00, 37.29it/s, train_acc=98.098, train_loss=1.48]\n",
            "   test: 100%|██████████| 79/79 [00:02<00:00, 37.08it/s, test_acc=98.358, test_loss=1.48]\n"
          ]
        },
        {
          "name": "stdout",
          "output_type": "stream",
          "text": [
            "EPOCH 21/150 :\n"
          ]
        },
        {
          "name": "stderr",
          "output_type": "stream",
          "text": [
            "  train: 100%|██████████| 469/469 [00:12<00:00, 37.68it/s, train_acc=98.273, train_loss=1.48]\n",
            "   test: 100%|██████████| 79/79 [00:02<00:00, 31.70it/s, test_acc=98.339, test_loss=1.48]\n"
          ]
        },
        {
          "name": "stdout",
          "output_type": "stream",
          "text": [
            "EPOCH 22/150 :\n"
          ]
        },
        {
          "name": "stderr",
          "output_type": "stream",
          "text": [
            "  train: 100%|██████████| 469/469 [00:12<00:00, 36.89it/s, train_acc=98.295, train_loss=1.48]\n",
            "   test: 100%|██████████| 79/79 [00:02<00:00, 33.59it/s, test_acc=98.467, test_loss=1.48]\n"
          ]
        },
        {
          "name": "stdout",
          "output_type": "stream",
          "text": [
            "EPOCH 23/150 :\n"
          ]
        },
        {
          "name": "stderr",
          "output_type": "stream",
          "text": [
            "  train: 100%|██████████| 469/469 [00:12<00:00, 37.40it/s, train_acc=98.370, train_loss=1.48]\n",
            "   test: 100%|██████████| 79/79 [00:02<00:00, 35.96it/s, test_acc=98.418, test_loss=1.48]\n"
          ]
        },
        {
          "name": "stdout",
          "output_type": "stream",
          "text": [
            "EPOCH 24/150 :\n"
          ]
        },
        {
          "name": "stderr",
          "output_type": "stream",
          "text": [
            "  train: 100%|██████████| 469/469 [00:12<00:00, 37.45it/s, train_acc=98.314, train_loss=1.48]\n",
            "   test: 100%|██████████| 79/79 [00:02<00:00, 37.00it/s, test_acc=98.398, test_loss=1.48]\n"
          ]
        },
        {
          "name": "stdout",
          "output_type": "stream",
          "text": [
            "EPOCH 25/150 :\n"
          ]
        },
        {
          "name": "stderr",
          "output_type": "stream",
          "text": [
            "  train: 100%|██████████| 469/469 [00:12<00:00, 37.85it/s, train_acc=98.450, train_loss=1.48]\n",
            "   test: 100%|██████████| 79/79 [00:02<00:00, 36.99it/s, test_acc=98.546, test_loss=1.48]\n"
          ]
        },
        {
          "name": "stdout",
          "output_type": "stream",
          "text": [
            "EPOCH 26/150 :\n"
          ]
        },
        {
          "name": "stderr",
          "output_type": "stream",
          "text": [
            "  train: 100%|██████████| 469/469 [00:12<00:00, 37.50it/s, train_acc=98.541, train_loss=1.48]\n",
            "   test: 100%|██████████| 79/79 [00:02<00:00, 29.16it/s, test_acc=98.527, test_loss=1.48]\n"
          ]
        },
        {
          "name": "stdout",
          "output_type": "stream",
          "text": [
            "EPOCH 27/150 :\n"
          ]
        },
        {
          "name": "stderr",
          "output_type": "stream",
          "text": [
            "  train: 100%|██████████| 469/469 [00:12<00:00, 38.10it/s, train_acc=98.432, train_loss=1.48]\n",
            "   test: 100%|██████████| 79/79 [00:02<00:00, 36.61it/s, test_acc=98.546, test_loss=1.48]\n"
          ]
        },
        {
          "name": "stdout",
          "output_type": "stream",
          "text": [
            "EPOCH 28/150 :\n"
          ]
        },
        {
          "name": "stderr",
          "output_type": "stream",
          "text": [
            "  train: 100%|██████████| 469/469 [00:12<00:00, 37.54it/s, train_acc=98.597, train_loss=1.48]\n",
            "   test: 100%|██████████| 79/79 [00:02<00:00, 36.63it/s, test_acc=98.606, test_loss=1.48]\n"
          ]
        },
        {
          "name": "stdout",
          "output_type": "stream",
          "text": [
            "EPOCH 29/150 :\n"
          ]
        },
        {
          "name": "stderr",
          "output_type": "stream",
          "text": [
            "  train: 100%|██████████| 469/469 [00:12<00:00, 37.84it/s, train_acc=98.616, train_loss=1.48]\n",
            "   test: 100%|██████████| 79/79 [00:02<00:00, 36.26it/s, test_acc=98.625, test_loss=1.48]\n"
          ]
        },
        {
          "name": "stdout",
          "output_type": "stream",
          "text": [
            "EPOCH 30/150 :\n"
          ]
        },
        {
          "name": "stderr",
          "output_type": "stream",
          "text": [
            "  train: 100%|██████████| 469/469 [00:12<00:00, 37.18it/s, train_acc=98.590, train_loss=1.48]\n",
            "   test: 100%|██████████| 79/79 [00:02<00:00, 37.39it/s, test_acc=98.596, test_loss=1.48]\n"
          ]
        },
        {
          "name": "stdout",
          "output_type": "stream",
          "text": [
            "EPOCH 31/150 :\n"
          ]
        },
        {
          "name": "stderr",
          "output_type": "stream",
          "text": [
            "  train: 100%|██████████| 469/469 [00:12<00:00, 37.55it/s, train_acc=98.630, train_loss=1.48]\n",
            "   test: 100%|██████████| 79/79 [00:02<00:00, 30.09it/s, test_acc=98.714, test_loss=1.48]\n"
          ]
        },
        {
          "name": "stdout",
          "output_type": "stream",
          "text": [
            "EPOCH 32/150 :\n"
          ]
        },
        {
          "name": "stderr",
          "output_type": "stream",
          "text": [
            "  train: 100%|██████████| 469/469 [00:12<00:00, 37.87it/s, train_acc=98.653, train_loss=1.48]\n",
            "   test: 100%|██████████| 79/79 [00:02<00:00, 37.75it/s, test_acc=98.744, test_loss=1.47]\n"
          ]
        },
        {
          "name": "stdout",
          "output_type": "stream",
          "text": [
            "EPOCH 33/150 :\n"
          ]
        },
        {
          "name": "stderr",
          "output_type": "stream",
          "text": [
            "  train: 100%|██████████| 469/469 [00:12<00:00, 37.83it/s, train_acc=98.757, train_loss=1.47]\n",
            "   test: 100%|██████████| 79/79 [00:02<00:00, 36.91it/s, test_acc=98.744, test_loss=1.47]\n"
          ]
        },
        {
          "name": "stdout",
          "output_type": "stream",
          "text": [
            "EPOCH 34/150 :\n"
          ]
        },
        {
          "name": "stderr",
          "output_type": "stream",
          "text": [
            "  train: 100%|██████████| 469/469 [00:12<00:00, 37.08it/s, train_acc=98.757, train_loss=1.47]\n",
            "   test: 100%|██████████| 79/79 [00:02<00:00, 36.67it/s, test_acc=98.655, test_loss=1.48]\n"
          ]
        },
        {
          "name": "stdout",
          "output_type": "stream",
          "text": [
            "EPOCH 35/150 :\n"
          ]
        },
        {
          "name": "stderr",
          "output_type": "stream",
          "text": [
            "  train: 100%|██████████| 469/469 [00:12<00:00, 38.12it/s, train_acc=98.790, train_loss=1.47]\n",
            "   test: 100%|██████████| 79/79 [00:02<00:00, 34.63it/s, test_acc=98.714, test_loss=1.47]\n"
          ]
        },
        {
          "name": "stdout",
          "output_type": "stream",
          "text": [
            "EPOCH 36/150 :\n"
          ]
        },
        {
          "name": "stderr",
          "output_type": "stream",
          "text": [
            "  train: 100%|██████████| 469/469 [00:12<00:00, 37.35it/s, train_acc=98.774, train_loss=1.47]\n",
            "   test: 100%|██████████| 79/79 [00:02<00:00, 32.71it/s, test_acc=98.754, test_loss=1.47]\n"
          ]
        },
        {
          "name": "stdout",
          "output_type": "stream",
          "text": [
            "EPOCH 37/150 :\n"
          ]
        },
        {
          "name": "stderr",
          "output_type": "stream",
          "text": [
            "  train: 100%|██████████| 469/469 [00:12<00:00, 37.94it/s, train_acc=98.901, train_loss=1.47]\n",
            "   test: 100%|██████████| 79/79 [00:02<00:00, 36.53it/s, test_acc=98.853, test_loss=1.47]\n"
          ]
        },
        {
          "name": "stdout",
          "output_type": "stream",
          "text": [
            "EPOCH 38/150 :\n"
          ]
        },
        {
          "name": "stderr",
          "output_type": "stream",
          "text": [
            "  train: 100%|██████████| 469/469 [00:12<00:00, 37.36it/s, train_acc=98.844, train_loss=1.47]\n",
            "   test: 100%|██████████| 79/79 [00:02<00:00, 34.04it/s, test_acc=98.813, test_loss=1.47]\n"
          ]
        },
        {
          "name": "stdout",
          "output_type": "stream",
          "text": [
            "EPOCH 39/150 :\n"
          ]
        },
        {
          "name": "stderr",
          "output_type": "stream",
          "text": [
            "  train: 100%|██████████| 469/469 [00:12<00:00, 37.68it/s, train_acc=98.813, train_loss=1.47]\n",
            "   test: 100%|██████████| 79/79 [00:02<00:00, 36.45it/s, test_acc=98.813, test_loss=1.47]\n"
          ]
        },
        {
          "name": "stdout",
          "output_type": "stream",
          "text": [
            "EPOCH 40/150 :\n"
          ]
        },
        {
          "name": "stderr",
          "output_type": "stream",
          "text": [
            "  train: 100%|██████████| 469/469 [00:12<00:00, 37.47it/s, train_acc=98.876, train_loss=1.47]\n",
            "   test: 100%|██████████| 79/79 [00:02<00:00, 30.12it/s, test_acc=98.724, test_loss=1.47]\n"
          ]
        },
        {
          "name": "stdout",
          "output_type": "stream",
          "text": [
            "EPOCH 41/150 :\n"
          ]
        },
        {
          "name": "stderr",
          "output_type": "stream",
          "text": [
            "  train: 100%|██████████| 469/469 [00:12<00:00, 36.95it/s, train_acc=98.865, train_loss=1.47]\n",
            "   test: 100%|██████████| 79/79 [00:02<00:00, 36.09it/s, test_acc=98.645, test_loss=1.47]\n"
          ]
        },
        {
          "name": "stdout",
          "output_type": "stream",
          "text": [
            "EPOCH 42/150 :\n"
          ]
        },
        {
          "name": "stderr",
          "output_type": "stream",
          "text": [
            "  train: 100%|██████████| 469/469 [00:12<00:00, 37.60it/s, train_acc=98.991, train_loss=1.47]\n",
            "   test: 100%|██████████| 79/79 [00:02<00:00, 36.90it/s, test_acc=98.784, test_loss=1.47]\n"
          ]
        },
        {
          "name": "stdout",
          "output_type": "stream",
          "text": [
            "EPOCH 43/150 :\n"
          ]
        },
        {
          "name": "stderr",
          "output_type": "stream",
          "text": [
            "  train: 100%|██████████| 469/469 [00:12<00:00, 37.34it/s, train_acc=98.893, train_loss=1.47]\n",
            "   test: 100%|██████████| 79/79 [00:02<00:00, 35.49it/s, test_acc=98.754, test_loss=1.47]\n"
          ]
        },
        {
          "name": "stdout",
          "output_type": "stream",
          "text": [
            "EPOCH 44/150 :\n"
          ]
        },
        {
          "name": "stderr",
          "output_type": "stream",
          "text": [
            "  train: 100%|██████████| 469/469 [00:12<00:00, 37.22it/s, train_acc=98.988, train_loss=1.47]\n",
            "   test: 100%|██████████| 79/79 [00:02<00:00, 36.40it/s, test_acc=98.902, test_loss=1.47]\n"
          ]
        },
        {
          "name": "stdout",
          "output_type": "stream",
          "text": [
            "EPOCH 45/150 :\n"
          ]
        },
        {
          "name": "stderr",
          "output_type": "stream",
          "text": [
            "  train: 100%|██████████| 469/469 [00:12<00:00, 37.45it/s, train_acc=99.007, train_loss=1.47]\n",
            "   test: 100%|██████████| 79/79 [00:02<00:00, 30.09it/s, test_acc=98.863, test_loss=1.47]\n"
          ]
        },
        {
          "name": "stdout",
          "output_type": "stream",
          "text": [
            "EPOCH 46/150 :\n"
          ]
        },
        {
          "name": "stderr",
          "output_type": "stream",
          "text": [
            "  train: 100%|██████████| 469/469 [00:12<00:00, 37.63it/s, train_acc=99.037, train_loss=1.47]\n",
            "   test: 100%|██████████| 79/79 [00:02<00:00, 37.46it/s, test_acc=98.912, test_loss=1.47]\n"
          ]
        },
        {
          "name": "stdout",
          "output_type": "stream",
          "text": [
            "EPOCH 47/150 :\n"
          ]
        },
        {
          "name": "stderr",
          "output_type": "stream",
          "text": [
            "  train: 100%|██████████| 469/469 [00:12<00:00, 37.20it/s, train_acc=99.027, train_loss=1.47]\n",
            "   test: 100%|██████████| 79/79 [00:02<00:00, 36.89it/s, test_acc=98.883, test_loss=1.47]\n"
          ]
        },
        {
          "name": "stdout",
          "output_type": "stream",
          "text": [
            "EPOCH 48/150 :\n"
          ]
        },
        {
          "name": "stderr",
          "output_type": "stream",
          "text": [
            "  train: 100%|██████████| 469/469 [00:12<00:00, 37.99it/s, train_acc=99.041, train_loss=1.47]\n",
            "   test: 100%|██████████| 79/79 [00:02<00:00, 35.85it/s, test_acc=98.932, test_loss=1.47]\n"
          ]
        },
        {
          "name": "stdout",
          "output_type": "stream",
          "text": [
            "EPOCH 49/150 :\n"
          ]
        },
        {
          "name": "stderr",
          "output_type": "stream",
          "text": [
            "  train: 100%|██████████| 469/469 [00:12<00:00, 37.81it/s, train_acc=99.052, train_loss=1.47]\n",
            "   test: 100%|██████████| 79/79 [00:02<00:00, 33.34it/s, test_acc=98.813, test_loss=1.47]\n"
          ]
        },
        {
          "name": "stdout",
          "output_type": "stream",
          "text": [
            "EPOCH 50/150 :\n"
          ]
        },
        {
          "name": "stderr",
          "output_type": "stream",
          "text": [
            "  train: 100%|██████████| 469/469 [00:12<00:00, 37.28it/s, train_acc=99.084, train_loss=1.47]\n",
            "   test: 100%|██████████| 79/79 [00:02<00:00, 31.50it/s, test_acc=98.863, test_loss=1.47]\n"
          ]
        },
        {
          "name": "stdout",
          "output_type": "stream",
          "text": [
            "EPOCH 51/150 :\n"
          ]
        },
        {
          "name": "stderr",
          "output_type": "stream",
          "text": [
            "  train: 100%|██████████| 469/469 [00:12<00:00, 37.74it/s, train_acc=99.127, train_loss=1.47]\n",
            "   test: 100%|██████████| 79/79 [00:02<00:00, 36.36it/s, test_acc=99.011, test_loss=1.47]\n"
          ]
        },
        {
          "name": "stdout",
          "output_type": "stream",
          "text": [
            "EPOCH 52/150 :\n"
          ]
        },
        {
          "name": "stderr",
          "output_type": "stream",
          "text": [
            "  train: 100%|██████████| 469/469 [00:12<00:00, 38.25it/s, train_acc=99.069, train_loss=1.47]\n",
            "   test: 100%|██████████| 79/79 [00:02<00:00, 35.81it/s, test_acc=98.972, test_loss=1.47]\n"
          ]
        },
        {
          "name": "stdout",
          "output_type": "stream",
          "text": [
            "EPOCH 53/150 :\n"
          ]
        },
        {
          "name": "stderr",
          "output_type": "stream",
          "text": [
            "  train: 100%|██████████| 469/469 [00:12<00:00, 38.10it/s, train_acc=99.169, train_loss=1.47]\n",
            "   test: 100%|██████████| 79/79 [00:02<00:00, 37.11it/s, test_acc=98.813, test_loss=1.47]\n"
          ]
        },
        {
          "name": "stdout",
          "output_type": "stream",
          "text": [
            "EPOCH 54/150 :\n"
          ]
        },
        {
          "name": "stderr",
          "output_type": "stream",
          "text": [
            "  train: 100%|██████████| 469/469 [00:12<00:00, 37.90it/s, train_acc=99.182, train_loss=1.47]\n",
            "   test: 100%|██████████| 79/79 [00:02<00:00, 30.82it/s, test_acc=98.823, test_loss=1.47]\n"
          ]
        },
        {
          "name": "stdout",
          "output_type": "stream",
          "text": [
            "EPOCH 55/150 :\n"
          ]
        },
        {
          "name": "stderr",
          "output_type": "stream",
          "text": [
            "  train: 100%|██████████| 469/469 [00:12<00:00, 37.16it/s, train_acc=99.172, train_loss=1.47]\n",
            "   test: 100%|██████████| 79/79 [00:02<00:00, 34.88it/s, test_acc=98.912, test_loss=1.47]\n"
          ]
        },
        {
          "name": "stdout",
          "output_type": "stream",
          "text": [
            "EPOCH 56/150 :\n"
          ]
        },
        {
          "name": "stderr",
          "output_type": "stream",
          "text": [
            "  train: 100%|██████████| 469/469 [00:12<00:00, 37.50it/s, train_acc=99.147, train_loss=1.47]\n",
            "   test: 100%|██████████| 79/79 [00:02<00:00, 37.41it/s, test_acc=98.873, test_loss=1.47]\n"
          ]
        },
        {
          "name": "stdout",
          "output_type": "stream",
          "text": [
            "EPOCH 57/150 :\n"
          ]
        },
        {
          "name": "stderr",
          "output_type": "stream",
          "text": [
            "  train: 100%|██████████| 469/469 [00:12<00:00, 37.63it/s, train_acc=99.168, train_loss=1.47]\n",
            "   test: 100%|██████████| 79/79 [00:02<00:00, 37.06it/s, test_acc=98.942, test_loss=1.47]\n"
          ]
        },
        {
          "name": "stdout",
          "output_type": "stream",
          "text": [
            "EPOCH 58/150 :\n"
          ]
        },
        {
          "name": "stderr",
          "output_type": "stream",
          "text": [
            "  train: 100%|██████████| 469/469 [00:12<00:00, 37.77it/s, train_acc=99.176, train_loss=1.47]\n",
            "   test: 100%|██████████| 79/79 [00:02<00:00, 36.63it/s, test_acc=98.981, test_loss=1.47]\n"
          ]
        },
        {
          "name": "stdout",
          "output_type": "stream",
          "text": [
            "EPOCH 59/150 :\n"
          ]
        },
        {
          "name": "stderr",
          "output_type": "stream",
          "text": [
            "  train: 100%|██████████| 469/469 [00:12<00:00, 37.12it/s, train_acc=99.253, train_loss=1.47]\n",
            "   test: 100%|██████████| 79/79 [00:02<00:00, 29.06it/s, test_acc=99.011, test_loss=1.47]\n"
          ]
        },
        {
          "name": "stdout",
          "output_type": "stream",
          "text": [
            "EPOCH 60/150 :\n"
          ]
        },
        {
          "name": "stderr",
          "output_type": "stream",
          "text": [
            "  train: 100%|██████████| 469/469 [00:12<00:00, 37.71it/s, train_acc=99.200, train_loss=1.47]\n",
            "   test: 100%|██████████| 79/79 [00:02<00:00, 36.53it/s, test_acc=99.001, test_loss=1.47]\n"
          ]
        },
        {
          "name": "stdout",
          "output_type": "stream",
          "text": [
            "EPOCH 61/150 :\n"
          ]
        },
        {
          "name": "stderr",
          "output_type": "stream",
          "text": [
            "  train: 100%|██████████| 469/469 [00:12<00:00, 37.22it/s, train_acc=99.274, train_loss=1.47]\n",
            "   test: 100%|██████████| 79/79 [00:02<00:00, 36.19it/s, test_acc=98.922, test_loss=1.47]\n"
          ]
        },
        {
          "name": "stdout",
          "output_type": "stream",
          "text": [
            "EPOCH 62/150 :\n"
          ]
        },
        {
          "name": "stderr",
          "output_type": "stream",
          "text": [
            "  train: 100%|██████████| 469/469 [00:12<00:00, 37.64it/s, train_acc=99.259, train_loss=1.47]\n",
            "   test: 100%|██████████| 79/79 [00:02<00:00, 36.71it/s, test_acc=98.981, test_loss=1.47]\n"
          ]
        },
        {
          "name": "stdout",
          "output_type": "stream",
          "text": [
            "EPOCH 63/150 :\n"
          ]
        },
        {
          "name": "stderr",
          "output_type": "stream",
          "text": [
            "  train: 100%|██████████| 469/469 [00:12<00:00, 37.48it/s, train_acc=99.260, train_loss=1.47]\n",
            "   test: 100%|██████████| 79/79 [00:02<00:00, 35.43it/s, test_acc=98.883, test_loss=1.47]\n"
          ]
        },
        {
          "name": "stdout",
          "output_type": "stream",
          "text": [
            "EPOCH 64/150 :\n"
          ]
        },
        {
          "name": "stderr",
          "output_type": "stream",
          "text": [
            "  train: 100%|██████████| 469/469 [00:12<00:00, 37.48it/s, train_acc=99.295, train_loss=1.47]\n",
            "   test: 100%|██████████| 79/79 [00:02<00:00, 28.89it/s, test_acc=99.011, test_loss=1.47]\n"
          ]
        },
        {
          "name": "stdout",
          "output_type": "stream",
          "text": [
            "EPOCH 65/150 :\n"
          ]
        },
        {
          "name": "stderr",
          "output_type": "stream",
          "text": [
            "  train: 100%|██████████| 469/469 [00:12<00:00, 37.69it/s, train_acc=99.307, train_loss=1.47]\n",
            "   test: 100%|██████████| 79/79 [00:02<00:00, 36.76it/s, test_acc=99.031, test_loss=1.47]\n"
          ]
        },
        {
          "name": "stdout",
          "output_type": "stream",
          "text": [
            "EPOCH 66/150 :\n"
          ]
        },
        {
          "name": "stderr",
          "output_type": "stream",
          "text": [
            "  train: 100%|██████████| 469/469 [00:12<00:00, 37.94it/s, train_acc=99.269, train_loss=1.47]\n",
            "   test: 100%|██████████| 79/79 [00:02<00:00, 36.25it/s, test_acc=98.853, test_loss=1.47]\n"
          ]
        },
        {
          "name": "stdout",
          "output_type": "stream",
          "text": [
            "EPOCH 67/150 :\n"
          ]
        },
        {
          "name": "stderr",
          "output_type": "stream",
          "text": [
            "  train: 100%|██████████| 469/469 [00:12<00:00, 37.50it/s, train_acc=99.291, train_loss=1.47]\n",
            "   test: 100%|██████████| 79/79 [00:02<00:00, 36.51it/s, test_acc=99.021, test_loss=1.47]\n"
          ]
        },
        {
          "name": "stdout",
          "output_type": "stream",
          "text": [
            "EPOCH 68/150 :\n"
          ]
        },
        {
          "name": "stderr",
          "output_type": "stream",
          "text": [
            "  train: 100%|██████████| 469/469 [00:12<00:00, 37.66it/s, train_acc=99.348, train_loss=1.47]\n",
            "   test: 100%|██████████| 79/79 [00:02<00:00, 32.29it/s, test_acc=99.100, test_loss=1.47]\n"
          ]
        },
        {
          "name": "stdout",
          "output_type": "stream",
          "text": [
            "EPOCH 69/150 :\n"
          ]
        },
        {
          "name": "stderr",
          "output_type": "stream",
          "text": [
            "  train: 100%|██████████| 469/469 [00:12<00:00, 37.21it/s, train_acc=99.293, train_loss=1.47]\n",
            "   test: 100%|██████████| 79/79 [00:02<00:00, 32.29it/s, test_acc=99.001, test_loss=1.47]\n"
          ]
        },
        {
          "name": "stdout",
          "output_type": "stream",
          "text": [
            "EPOCH 70/150 :\n"
          ]
        },
        {
          "name": "stderr",
          "output_type": "stream",
          "text": [
            "  train: 100%|██████████| 469/469 [00:12<00:00, 37.94it/s, train_acc=99.338, train_loss=1.47]\n",
            "   test: 100%|██████████| 79/79 [00:02<00:00, 36.88it/s, test_acc=98.981, test_loss=1.47]\n"
          ]
        },
        {
          "name": "stdout",
          "output_type": "stream",
          "text": [
            "EPOCH 71/150 :\n"
          ]
        },
        {
          "name": "stderr",
          "output_type": "stream",
          "text": [
            "  train: 100%|██████████| 469/469 [00:12<00:00, 37.73it/s, train_acc=99.330, train_loss=1.47]\n",
            "   test: 100%|██████████| 79/79 [00:02<00:00, 36.47it/s, test_acc=98.972, test_loss=1.47]\n"
          ]
        },
        {
          "name": "stdout",
          "output_type": "stream",
          "text": [
            "EPOCH 72/150 :\n"
          ]
        },
        {
          "name": "stderr",
          "output_type": "stream",
          "text": [
            "  train: 100%|██████████| 469/469 [00:12<00:00, 37.43it/s, train_acc=99.323, train_loss=1.47]\n",
            "   test: 100%|██████████| 79/79 [00:02<00:00, 35.71it/s, test_acc=99.001, test_loss=1.47]\n"
          ]
        },
        {
          "name": "stdout",
          "output_type": "stream",
          "text": [
            "EPOCH 73/150 :\n"
          ]
        },
        {
          "name": "stderr",
          "output_type": "stream",
          "text": [
            "  train: 100%|██████████| 469/469 [00:12<00:00, 37.69it/s, train_acc=99.387, train_loss=1.47]\n",
            "   test: 100%|██████████| 79/79 [00:02<00:00, 31.31it/s, test_acc=99.031, test_loss=1.47]\n"
          ]
        },
        {
          "name": "stdout",
          "output_type": "stream",
          "text": [
            "EPOCH 74/150 :\n"
          ]
        },
        {
          "name": "stderr",
          "output_type": "stream",
          "text": [
            "  train: 100%|██████████| 469/469 [00:12<00:00, 37.10it/s, train_acc=99.380, train_loss=1.47]\n",
            "   test: 100%|██████████| 79/79 [00:02<00:00, 35.79it/s, test_acc=99.021, test_loss=1.47]\n"
          ]
        },
        {
          "name": "stdout",
          "output_type": "stream",
          "text": [
            "EPOCH 75/150 :\n"
          ]
        },
        {
          "name": "stderr",
          "output_type": "stream",
          "text": [
            "  train: 100%|██████████| 469/469 [00:12<00:00, 37.52it/s, train_acc=99.409, train_loss=1.47]\n",
            "   test: 100%|██████████| 79/79 [00:02<00:00, 36.86it/s, test_acc=98.873, test_loss=1.47]\n"
          ]
        },
        {
          "name": "stdout",
          "output_type": "stream",
          "text": [
            "EPOCH 76/150 :\n"
          ]
        },
        {
          "name": "stderr",
          "output_type": "stream",
          "text": [
            "  train: 100%|██████████| 469/469 [00:12<00:00, 37.74it/s, train_acc=99.334, train_loss=1.47]\n",
            "   test: 100%|██████████| 79/79 [00:02<00:00, 37.49it/s, test_acc=99.041, test_loss=1.47]\n"
          ]
        },
        {
          "name": "stdout",
          "output_type": "stream",
          "text": [
            "EPOCH 77/150 :\n"
          ]
        },
        {
          "name": "stderr",
          "output_type": "stream",
          "text": [
            "  train: 100%|██████████| 469/469 [00:12<00:00, 38.02it/s, train_acc=99.444, train_loss=1.47]\n",
            "   test: 100%|██████████| 79/79 [00:02<00:00, 36.89it/s, test_acc=98.972, test_loss=1.47]\n"
          ]
        },
        {
          "name": "stdout",
          "output_type": "stream",
          "text": [
            "EPOCH 78/150 :\n"
          ]
        },
        {
          "name": "stderr",
          "output_type": "stream",
          "text": [
            "  train: 100%|██████████| 469/469 [00:12<00:00, 37.67it/s, train_acc=99.375, train_loss=1.47]\n",
            "   test: 100%|██████████| 79/79 [00:02<00:00, 28.01it/s, test_acc=98.991, test_loss=1.47]\n"
          ]
        },
        {
          "name": "stdout",
          "output_type": "stream",
          "text": [
            "EPOCH 79/150 :\n"
          ]
        },
        {
          "name": "stderr",
          "output_type": "stream",
          "text": [
            "  train: 100%|██████████| 469/469 [00:12<00:00, 37.20it/s, train_acc=99.436, train_loss=1.47]\n",
            "   test: 100%|██████████| 79/79 [00:02<00:00, 35.58it/s, test_acc=99.070, test_loss=1.47]\n"
          ]
        },
        {
          "name": "stdout",
          "output_type": "stream",
          "text": [
            "EPOCH 80/150 :\n"
          ]
        },
        {
          "name": "stderr",
          "output_type": "stream",
          "text": [
            "  train: 100%|██████████| 469/469 [00:12<00:00, 37.74it/s, train_acc=99.459, train_loss=1.47]\n",
            "   test: 100%|██████████| 79/79 [00:02<00:00, 36.43it/s, test_acc=98.873, test_loss=1.47]\n"
          ]
        },
        {
          "name": "stdout",
          "output_type": "stream",
          "text": [
            "EPOCH 81/150 :\n"
          ]
        },
        {
          "name": "stderr",
          "output_type": "stream",
          "text": [
            "  train: 100%|██████████| 469/469 [00:12<00:00, 37.84it/s, train_acc=99.422, train_loss=1.47]\n",
            "   test: 100%|██████████| 79/79 [00:02<00:00, 35.25it/s, test_acc=98.952, test_loss=1.47]\n"
          ]
        },
        {
          "name": "stdout",
          "output_type": "stream",
          "text": [
            "EPOCH 82/150 :\n"
          ]
        },
        {
          "name": "stderr",
          "output_type": "stream",
          "text": [
            "  train: 100%|██████████| 469/469 [00:12<00:00, 37.97it/s, train_acc=99.432, train_loss=1.47]\n",
            "   test: 100%|██████████| 79/79 [00:02<00:00, 36.42it/s, test_acc=98.853, test_loss=1.47]\n"
          ]
        },
        {
          "name": "stdout",
          "output_type": "stream",
          "text": [
            "EPOCH 83/150 :\n"
          ]
        },
        {
          "name": "stderr",
          "output_type": "stream",
          "text": [
            "  train: 100%|██████████| 469/469 [00:12<00:00, 37.02it/s, train_acc=99.390, train_loss=1.47]\n",
            "   test: 100%|██████████| 79/79 [00:02<00:00, 29.86it/s, test_acc=99.080, test_loss=1.47]\n"
          ]
        },
        {
          "name": "stdout",
          "output_type": "stream",
          "text": [
            "EPOCH 84/150 :\n"
          ]
        },
        {
          "name": "stderr",
          "output_type": "stream",
          "text": [
            "  train: 100%|██████████| 469/469 [00:12<00:00, 38.02it/s, train_acc=99.434, train_loss=1.47]\n",
            "   test: 100%|██████████| 79/79 [00:02<00:00, 35.02it/s, test_acc=98.952, test_loss=1.47]\n"
          ]
        },
        {
          "name": "stdout",
          "output_type": "stream",
          "text": [
            "EPOCH 85/150 :\n"
          ]
        },
        {
          "name": "stderr",
          "output_type": "stream",
          "text": [
            "  train: 100%|██████████| 469/469 [00:12<00:00, 38.20it/s, train_acc=99.438, train_loss=1.47]\n",
            "   test: 100%|██████████| 79/79 [00:02<00:00, 35.90it/s, test_acc=99.080, test_loss=1.47]\n"
          ]
        },
        {
          "name": "stdout",
          "output_type": "stream",
          "text": [
            "EPOCH 86/150 :\n"
          ]
        },
        {
          "name": "stderr",
          "output_type": "stream",
          "text": [
            "  train: 100%|██████████| 469/469 [00:12<00:00, 37.79it/s, train_acc=99.435, train_loss=1.47]\n",
            "   test: 100%|██████████| 79/79 [00:02<00:00, 36.93it/s, test_acc=98.991, test_loss=1.47]\n"
          ]
        },
        {
          "name": "stdout",
          "output_type": "stream",
          "text": [
            "EPOCH 87/150 :\n"
          ]
        },
        {
          "name": "stderr",
          "output_type": "stream",
          "text": [
            "  train: 100%|██████████| 469/469 [00:12<00:00, 37.99it/s, train_acc=99.471, train_loss=1.47]\n",
            "   test: 100%|██████████| 79/79 [00:02<00:00, 32.87it/s, test_acc=98.952, test_loss=1.47]\n"
          ]
        },
        {
          "name": "stdout",
          "output_type": "stream",
          "text": [
            "EPOCH 88/150 :\n"
          ]
        },
        {
          "name": "stderr",
          "output_type": "stream",
          "text": [
            "  train: 100%|██████████| 469/469 [00:12<00:00, 36.67it/s, train_acc=99.475, train_loss=1.47]\n",
            "   test: 100%|██████████| 79/79 [00:02<00:00, 33.43it/s, test_acc=99.090, test_loss=1.47]\n"
          ]
        },
        {
          "name": "stdout",
          "output_type": "stream",
          "text": [
            "EPOCH 89/150 :\n"
          ]
        },
        {
          "name": "stderr",
          "output_type": "stream",
          "text": [
            "  train: 100%|██████████| 469/469 [00:12<00:00, 37.82it/s, train_acc=99.513, train_loss=1.47]\n",
            "   test: 100%|██████████| 79/79 [00:02<00:00, 36.22it/s, test_acc=99.021, test_loss=1.47]\n"
          ]
        },
        {
          "name": "stdout",
          "output_type": "stream",
          "text": [
            "EPOCH 90/150 :\n"
          ]
        },
        {
          "name": "stderr",
          "output_type": "stream",
          "text": [
            "  train: 100%|██████████| 469/469 [00:12<00:00, 37.81it/s, train_acc=99.460, train_loss=1.47]\n",
            "   test: 100%|██████████| 79/79 [00:02<00:00, 35.65it/s, test_acc=99.041, test_loss=1.47]\n"
          ]
        },
        {
          "name": "stdout",
          "output_type": "stream",
          "text": [
            "EPOCH 91/150 :\n"
          ]
        },
        {
          "name": "stderr",
          "output_type": "stream",
          "text": [
            "  train: 100%|██████████| 469/469 [00:12<00:00, 38.05it/s, train_acc=99.492, train_loss=1.47]\n",
            "   test: 100%|██████████| 79/79 [00:02<00:00, 36.18it/s, test_acc=99.051, test_loss=1.47]\n"
          ]
        },
        {
          "name": "stdout",
          "output_type": "stream",
          "text": [
            "EPOCH 92/150 :\n"
          ]
        },
        {
          "name": "stderr",
          "output_type": "stream",
          "text": [
            "  train: 100%|██████████| 469/469 [00:12<00:00, 37.36it/s, train_acc=99.522, train_loss=1.47]\n",
            "   test: 100%|██████████| 79/79 [00:02<00:00, 29.48it/s, test_acc=98.922, test_loss=1.47]\n"
          ]
        },
        {
          "name": "stdout",
          "output_type": "stream",
          "text": [
            "EPOCH 93/150 :\n"
          ]
        },
        {
          "name": "stderr",
          "output_type": "stream",
          "text": [
            "  train: 100%|██████████| 469/469 [00:12<00:00, 37.62it/s, train_acc=99.523, train_loss=1.47]\n",
            "   test: 100%|██████████| 79/79 [00:02<00:00, 35.68it/s, test_acc=98.962, test_loss=1.47]\n"
          ]
        },
        {
          "name": "stdout",
          "output_type": "stream",
          "text": [
            "EPOCH 94/150 :\n"
          ]
        },
        {
          "name": "stderr",
          "output_type": "stream",
          "text": [
            "  train: 100%|██████████| 469/469 [00:12<00:00, 37.55it/s, train_acc=99.519, train_loss=1.47]\n",
            "   test: 100%|██████████| 79/79 [00:02<00:00, 36.69it/s, test_acc=98.972, test_loss=1.47]\n"
          ]
        },
        {
          "name": "stdout",
          "output_type": "stream",
          "text": [
            "EPOCH 95/150 :\n"
          ]
        },
        {
          "name": "stderr",
          "output_type": "stream",
          "text": [
            "  train: 100%|██████████| 469/469 [00:12<00:00, 38.08it/s, train_acc=99.517, train_loss=1.47]\n",
            "   test: 100%|██████████| 79/79 [00:02<00:00, 36.53it/s, test_acc=98.932, test_loss=1.47]\n"
          ]
        },
        {
          "name": "stdout",
          "output_type": "stream",
          "text": [
            "EPOCH 96/150 :\n"
          ]
        },
        {
          "name": "stderr",
          "output_type": "stream",
          "text": [
            "  train: 100%|██████████| 469/469 [00:12<00:00, 37.98it/s, train_acc=99.536, train_loss=1.47]\n",
            "   test: 100%|██████████| 79/79 [00:02<00:00, 37.26it/s, test_acc=98.952, test_loss=1.47]\n"
          ]
        },
        {
          "name": "stdout",
          "output_type": "stream",
          "text": [
            "EPOCH 97/150 :\n"
          ]
        },
        {
          "name": "stderr",
          "output_type": "stream",
          "text": [
            "  train: 100%|██████████| 469/469 [00:12<00:00, 37.69it/s, train_acc=99.562, train_loss=1.47]\n",
            "   test: 100%|██████████| 79/79 [00:02<00:00, 28.08it/s, test_acc=98.952, test_loss=1.47]\n"
          ]
        },
        {
          "name": "stdout",
          "output_type": "stream",
          "text": [
            "EPOCH 98/150 :\n"
          ]
        },
        {
          "name": "stderr",
          "output_type": "stream",
          "text": [
            "  train: 100%|██████████| 469/469 [00:12<00:00, 37.47it/s, train_acc=99.542, train_loss=1.47]\n",
            "   test: 100%|██████████| 79/79 [00:02<00:00, 36.04it/s, test_acc=98.991, test_loss=1.47]\n"
          ]
        },
        {
          "name": "stdout",
          "output_type": "stream",
          "text": [
            "EPOCH 99/150 :\n"
          ]
        },
        {
          "name": "stderr",
          "output_type": "stream",
          "text": [
            "  train: 100%|██████████| 469/469 [00:12<00:00, 37.86it/s, train_acc=99.554, train_loss=1.47]\n",
            "   test: 100%|██████████| 79/79 [00:02<00:00, 35.39it/s, test_acc=99.001, test_loss=1.47]\n"
          ]
        },
        {
          "name": "stdout",
          "output_type": "stream",
          "text": [
            "EPOCH 100/150 :\n"
          ]
        },
        {
          "name": "stderr",
          "output_type": "stream",
          "text": [
            "  train: 100%|██████████| 469/469 [00:12<00:00, 37.80it/s, train_acc=99.524, train_loss=1.47]\n",
            "   test: 100%|██████████| 79/79 [00:02<00:00, 36.42it/s, test_acc=98.972, test_loss=1.47]\n"
          ]
        },
        {
          "name": "stdout",
          "output_type": "stream",
          "text": [
            "EPOCH 101/150 :\n"
          ]
        },
        {
          "name": "stderr",
          "output_type": "stream",
          "text": [
            "  train: 100%|██████████| 469/469 [00:12<00:00, 38.09it/s, train_acc=99.560, train_loss=1.47]\n",
            "   test: 100%|██████████| 79/79 [00:02<00:00, 34.42it/s, test_acc=98.972, test_loss=1.47]\n"
          ]
        },
        {
          "name": "stdout",
          "output_type": "stream",
          "text": [
            "EPOCH 102/150 :\n"
          ]
        },
        {
          "name": "stderr",
          "output_type": "stream",
          "text": [
            "  train: 100%|██████████| 469/469 [00:12<00:00, 37.60it/s, train_acc=99.547, train_loss=1.47]\n",
            "   test: 100%|██████████| 79/79 [00:02<00:00, 29.89it/s, test_acc=98.962, test_loss=1.47]\n"
          ]
        },
        {
          "name": "stdout",
          "output_type": "stream",
          "text": [
            "EPOCH 103/150 :\n"
          ]
        },
        {
          "name": "stderr",
          "output_type": "stream",
          "text": [
            "  train: 100%|██████████| 469/469 [00:12<00:00, 38.20it/s, train_acc=99.537, train_loss=1.47]\n",
            "   test: 100%|██████████| 79/79 [00:02<00:00, 36.17it/s, test_acc=98.972, test_loss=1.47]\n"
          ]
        },
        {
          "name": "stdout",
          "output_type": "stream",
          "text": [
            "EPOCH 104/150 :\n"
          ]
        },
        {
          "name": "stderr",
          "output_type": "stream",
          "text": [
            "  train: 100%|██████████| 469/469 [00:12<00:00, 37.80it/s, train_acc=99.565, train_loss=1.47]\n",
            "   test: 100%|██████████| 79/79 [00:02<00:00, 36.02it/s, test_acc=99.011, test_loss=1.47]\n"
          ]
        },
        {
          "name": "stdout",
          "output_type": "stream",
          "text": [
            "EPOCH 105/150 :\n"
          ]
        },
        {
          "name": "stderr",
          "output_type": "stream",
          "text": [
            "  train: 100%|██████████| 469/469 [00:12<00:00, 37.27it/s, train_acc=99.590, train_loss=1.47]\n",
            "   test: 100%|██████████| 79/79 [00:02<00:00, 36.30it/s, test_acc=98.981, test_loss=1.47]\n"
          ]
        },
        {
          "name": "stdout",
          "output_type": "stream",
          "text": [
            "EPOCH 106/150 :\n"
          ]
        },
        {
          "name": "stderr",
          "output_type": "stream",
          "text": [
            "  train: 100%|██████████| 469/469 [00:12<00:00, 37.82it/s, train_acc=99.585, train_loss=1.47]\n",
            "   test: 100%|██████████| 79/79 [00:02<00:00, 31.47it/s, test_acc=99.031, test_loss=1.47]\n"
          ]
        },
        {
          "name": "stdout",
          "output_type": "stream",
          "text": [
            "EPOCH 107/150 :\n"
          ]
        },
        {
          "name": "stderr",
          "output_type": "stream",
          "text": [
            "  train: 100%|██████████| 469/469 [00:12<00:00, 37.94it/s, train_acc=99.550, train_loss=1.47]\n",
            "   test: 100%|██████████| 79/79 [00:02<00:00, 32.07it/s, test_acc=98.972, test_loss=1.47]\n"
          ]
        },
        {
          "name": "stdout",
          "output_type": "stream",
          "text": [
            "EPOCH 108/150 :\n"
          ]
        },
        {
          "name": "stderr",
          "output_type": "stream",
          "text": [
            "  train: 100%|██████████| 469/469 [00:12<00:00, 37.40it/s, train_acc=99.589, train_loss=1.47]\n",
            "   test: 100%|██████████| 79/79 [00:02<00:00, 36.35it/s, test_acc=99.021, test_loss=1.47]\n"
          ]
        },
        {
          "name": "stdout",
          "output_type": "stream",
          "text": [
            "EPOCH 109/150 :\n"
          ]
        },
        {
          "name": "stderr",
          "output_type": "stream",
          "text": [
            "  train: 100%|██████████| 469/469 [00:12<00:00, 37.91it/s, train_acc=99.599, train_loss=1.47]\n",
            "   test: 100%|██████████| 79/79 [00:02<00:00, 34.25it/s, test_acc=99.051, test_loss=1.47]\n"
          ]
        },
        {
          "name": "stdout",
          "output_type": "stream",
          "text": [
            "EPOCH 110/150 :\n"
          ]
        },
        {
          "name": "stderr",
          "output_type": "stream",
          "text": [
            "  train: 100%|██████████| 469/469 [00:12<00:00, 37.62it/s, train_acc=99.593, train_loss=1.47]\n",
            "   test: 100%|██████████| 79/79 [00:02<00:00, 36.29it/s, test_acc=99.041, test_loss=1.47]\n"
          ]
        },
        {
          "name": "stdout",
          "output_type": "stream",
          "text": [
            "EPOCH 111/150 :\n"
          ]
        },
        {
          "name": "stderr",
          "output_type": "stream",
          "text": [
            "  train: 100%|██████████| 469/469 [00:12<00:00, 37.72it/s, train_acc=99.611, train_loss=1.47]\n",
            "   test: 100%|██████████| 79/79 [00:02<00:00, 29.65it/s, test_acc=98.932, test_loss=1.47]\n"
          ]
        },
        {
          "name": "stdout",
          "output_type": "stream",
          "text": [
            "EPOCH 112/150 :\n"
          ]
        },
        {
          "name": "stderr",
          "output_type": "stream",
          "text": [
            "  train: 100%|██████████| 469/469 [00:12<00:00, 37.35it/s, train_acc=99.614, train_loss=1.47]\n",
            "   test: 100%|██████████| 79/79 [00:02<00:00, 34.60it/s, test_acc=98.932, test_loss=1.47]\n"
          ]
        },
        {
          "name": "stdout",
          "output_type": "stream",
          "text": [
            "EPOCH 113/150 :\n"
          ]
        },
        {
          "name": "stderr",
          "output_type": "stream",
          "text": [
            "  train: 100%|██████████| 469/469 [00:12<00:00, 38.14it/s, train_acc=99.585, train_loss=1.47]\n",
            "   test: 100%|██████████| 79/79 [00:02<00:00, 36.57it/s, test_acc=99.051, test_loss=1.47]\n"
          ]
        },
        {
          "name": "stdout",
          "output_type": "stream",
          "text": [
            "EPOCH 114/150 :\n"
          ]
        },
        {
          "name": "stderr",
          "output_type": "stream",
          "text": [
            "  train: 100%|██████████| 469/469 [00:12<00:00, 37.47it/s, train_acc=99.594, train_loss=1.47]\n",
            "   test: 100%|██████████| 79/79 [00:02<00:00, 35.13it/s, test_acc=98.991, test_loss=1.47]\n"
          ]
        },
        {
          "name": "stdout",
          "output_type": "stream",
          "text": [
            "EPOCH 115/150 :\n"
          ]
        },
        {
          "name": "stderr",
          "output_type": "stream",
          "text": [
            "  train: 100%|██████████| 469/469 [00:12<00:00, 37.69it/s, train_acc=99.617, train_loss=1.47]\n",
            "   test: 100%|██████████| 79/79 [00:02<00:00, 36.42it/s, test_acc=98.972, test_loss=1.47]\n"
          ]
        },
        {
          "name": "stdout",
          "output_type": "stream",
          "text": [
            "EPOCH 116/150 :\n"
          ]
        },
        {
          "name": "stderr",
          "output_type": "stream",
          "text": [
            "  train: 100%|██████████| 469/469 [00:12<00:00, 37.70it/s, train_acc=99.605, train_loss=1.47]\n",
            "   test: 100%|██████████| 79/79 [00:02<00:00, 27.60it/s, test_acc=99.021, test_loss=1.47]\n"
          ]
        },
        {
          "name": "stdout",
          "output_type": "stream",
          "text": [
            "EPOCH 117/150 :\n"
          ]
        },
        {
          "name": "stderr",
          "output_type": "stream",
          "text": [
            "  train: 100%|██████████| 469/469 [00:12<00:00, 38.11it/s, train_acc=99.642, train_loss=1.47]\n",
            "   test: 100%|██████████| 79/79 [00:02<00:00, 35.68it/s, test_acc=99.011, test_loss=1.47]\n"
          ]
        },
        {
          "name": "stdout",
          "output_type": "stream",
          "text": [
            "EPOCH 118/150 :\n"
          ]
        },
        {
          "name": "stderr",
          "output_type": "stream",
          "text": [
            "  train: 100%|██████████| 469/469 [00:12<00:00, 37.70it/s, train_acc=99.600, train_loss=1.47]\n",
            "   test: 100%|██████████| 79/79 [00:02<00:00, 36.81it/s, test_acc=99.061, test_loss=1.47]\n"
          ]
        },
        {
          "name": "stdout",
          "output_type": "stream",
          "text": [
            "EPOCH 119/150 :\n"
          ]
        },
        {
          "name": "stderr",
          "output_type": "stream",
          "text": [
            "  train: 100%|██████████| 469/469 [00:12<00:00, 37.83it/s, train_acc=99.627, train_loss=1.47]\n",
            "   test: 100%|██████████| 79/79 [00:02<00:00, 35.57it/s, test_acc=99.041, test_loss=1.47]\n"
          ]
        },
        {
          "name": "stdout",
          "output_type": "stream",
          "text": [
            "EPOCH 120/150 :\n"
          ]
        },
        {
          "name": "stderr",
          "output_type": "stream",
          "text": [
            "  train: 100%|██████████| 469/469 [00:12<00:00, 38.06it/s, train_acc=99.630, train_loss=1.47]\n",
            "   test: 100%|██████████| 79/79 [00:02<00:00, 36.08it/s, test_acc=99.031, test_loss=1.47]\n"
          ]
        },
        {
          "name": "stdout",
          "output_type": "stream",
          "text": [
            "EPOCH 121/150 :\n"
          ]
        },
        {
          "name": "stderr",
          "output_type": "stream",
          "text": [
            "  train: 100%|██████████| 469/469 [00:12<00:00, 37.80it/s, train_acc=99.637, train_loss=1.47]\n",
            "   test: 100%|██████████| 79/79 [00:02<00:00, 28.65it/s, test_acc=99.051, test_loss=1.47]\n"
          ]
        },
        {
          "name": "stdout",
          "output_type": "stream",
          "text": [
            "EPOCH 122/150 :\n"
          ]
        },
        {
          "name": "stderr",
          "output_type": "stream",
          "text": [
            "  train: 100%|██████████| 469/469 [00:12<00:00, 37.78it/s, train_acc=99.656, train_loss=1.47]\n",
            "   test: 100%|██████████| 79/79 [00:02<00:00, 36.12it/s, test_acc=99.100, test_loss=1.47]\n"
          ]
        },
        {
          "name": "stdout",
          "output_type": "stream",
          "text": [
            "EPOCH 123/150 :\n"
          ]
        },
        {
          "name": "stderr",
          "output_type": "stream",
          "text": [
            "  train: 100%|██████████| 469/469 [00:12<00:00, 37.97it/s, train_acc=99.610, train_loss=1.47]\n",
            "   test: 100%|██████████| 79/79 [00:02<00:00, 36.72it/s, test_acc=98.952, test_loss=1.47]\n"
          ]
        },
        {
          "name": "stdout",
          "output_type": "stream",
          "text": [
            "EPOCH 124/150 :\n"
          ]
        },
        {
          "name": "stderr",
          "output_type": "stream",
          "text": [
            "  train: 100%|██████████| 469/469 [00:12<00:00, 37.99it/s, train_acc=99.632, train_loss=1.47]\n",
            "   test: 100%|██████████| 79/79 [00:02<00:00, 35.62it/s, test_acc=99.070, test_loss=1.47]\n"
          ]
        },
        {
          "name": "stdout",
          "output_type": "stream",
          "text": [
            "EPOCH 125/150 :\n"
          ]
        },
        {
          "name": "stderr",
          "output_type": "stream",
          "text": [
            "  train: 100%|██████████| 469/469 [00:12<00:00, 38.15it/s, train_acc=99.658, train_loss=1.47]\n",
            "   test: 100%|██████████| 79/79 [00:02<00:00, 34.91it/s, test_acc=99.021, test_loss=1.47]\n"
          ]
        },
        {
          "name": "stdout",
          "output_type": "stream",
          "text": [
            "EPOCH 126/150 :\n"
          ]
        },
        {
          "name": "stderr",
          "output_type": "stream",
          "text": [
            "  train: 100%|██████████| 469/469 [00:12<00:00, 37.53it/s, train_acc=99.647, train_loss=1.47]\n",
            "   test: 100%|██████████| 79/79 [00:02<00:00, 29.83it/s, test_acc=98.902, test_loss=1.47]\n"
          ]
        },
        {
          "name": "stdout",
          "output_type": "stream",
          "text": [
            "EPOCH 127/150 :\n"
          ]
        },
        {
          "name": "stderr",
          "output_type": "stream",
          "text": [
            "  train: 100%|██████████| 469/469 [00:12<00:00, 37.43it/s, train_acc=99.675, train_loss=1.46]\n",
            "   test: 100%|██████████| 79/79 [00:02<00:00, 36.63it/s, test_acc=99.041, test_loss=1.47]\n"
          ]
        },
        {
          "name": "stdout",
          "output_type": "stream",
          "text": [
            "EPOCH 128/150 :\n"
          ]
        },
        {
          "name": "stderr",
          "output_type": "stream",
          "text": [
            "  train: 100%|██████████| 469/469 [00:12<00:00, 37.37it/s, train_acc=99.651, train_loss=1.46]\n",
            "   test: 100%|██████████| 79/79 [00:02<00:00, 35.95it/s, test_acc=99.011, test_loss=1.47]\n"
          ]
        },
        {
          "name": "stdout",
          "output_type": "stream",
          "text": [
            "EPOCH 129/150 :\n"
          ]
        },
        {
          "name": "stderr",
          "output_type": "stream",
          "text": [
            "  train: 100%|██████████| 469/469 [00:12<00:00, 37.46it/s, train_acc=99.642, train_loss=1.47]\n",
            "   test: 100%|██████████| 79/79 [00:02<00:00, 36.26it/s, test_acc=99.001, test_loss=1.47]\n"
          ]
        },
        {
          "name": "stdout",
          "output_type": "stream",
          "text": [
            "EPOCH 130/150 :\n"
          ]
        },
        {
          "name": "stderr",
          "output_type": "stream",
          "text": [
            "  train: 100%|██████████| 469/469 [00:12<00:00, 38.14it/s, train_acc=99.701, train_loss=1.46]\n",
            "   test: 100%|██████████| 79/79 [00:02<00:00, 29.30it/s, test_acc=99.011, test_loss=1.47]\n"
          ]
        },
        {
          "name": "stdout",
          "output_type": "stream",
          "text": [
            "EPOCH 131/150 :\n"
          ]
        },
        {
          "name": "stderr",
          "output_type": "stream",
          "text": [
            "  train: 100%|██████████| 469/469 [00:12<00:00, 37.51it/s, train_acc=99.665, train_loss=1.46]\n",
            "   test: 100%|██████████| 79/79 [00:02<00:00, 35.23it/s, test_acc=98.991, test_loss=1.47]\n"
          ]
        },
        {
          "name": "stdout",
          "output_type": "stream",
          "text": [
            "EPOCH 132/150 :\n"
          ]
        },
        {
          "name": "stderr",
          "output_type": "stream",
          "text": [
            "  train: 100%|██████████| 469/469 [00:12<00:00, 37.98it/s, train_acc=99.695, train_loss=1.46]\n",
            "   test: 100%|██████████| 79/79 [00:02<00:00, 36.20it/s, test_acc=98.962, test_loss=1.47]\n"
          ]
        },
        {
          "name": "stdout",
          "output_type": "stream",
          "text": [
            "EPOCH 133/150 :\n"
          ]
        },
        {
          "name": "stderr",
          "output_type": "stream",
          "text": [
            "  train: 100%|██████████| 469/469 [00:12<00:00, 37.28it/s, train_acc=99.689, train_loss=1.46]\n",
            "   test: 100%|██████████| 79/79 [00:02<00:00, 36.72it/s, test_acc=99.011, test_loss=1.47]\n"
          ]
        },
        {
          "name": "stdout",
          "output_type": "stream",
          "text": [
            "EPOCH 134/150 :\n"
          ]
        },
        {
          "name": "stderr",
          "output_type": "stream",
          "text": [
            "  train: 100%|██████████| 469/469 [00:12<00:00, 37.07it/s, train_acc=99.685, train_loss=1.46]\n",
            "   test: 100%|██████████| 79/79 [00:02<00:00, 33.84it/s, test_acc=99.120, test_loss=1.47]\n"
          ]
        },
        {
          "name": "stdout",
          "output_type": "stream",
          "text": [
            "EPOCH 135/150 :\n"
          ]
        },
        {
          "name": "stderr",
          "output_type": "stream",
          "text": [
            "  train: 100%|██████████| 469/469 [00:12<00:00, 36.53it/s, train_acc=99.685, train_loss=1.46]\n",
            "   test: 100%|██████████| 79/79 [00:02<00:00, 28.28it/s, test_acc=98.972, test_loss=1.47]\n"
          ]
        },
        {
          "name": "stdout",
          "output_type": "stream",
          "text": [
            "EPOCH 136/150 :\n"
          ]
        },
        {
          "name": "stderr",
          "output_type": "stream",
          "text": [
            "  train: 100%|██████████| 469/469 [00:12<00:00, 36.66it/s, train_acc=99.679, train_loss=1.46]\n",
            "   test: 100%|██████████| 79/79 [00:02<00:00, 34.72it/s, test_acc=99.150, test_loss=1.47]\n"
          ]
        },
        {
          "name": "stdout",
          "output_type": "stream",
          "text": [
            "EPOCH 137/150 :\n"
          ]
        },
        {
          "name": "stderr",
          "output_type": "stream",
          "text": [
            "  train: 100%|██████████| 469/469 [00:12<00:00, 37.17it/s, train_acc=99.694, train_loss=1.46]\n",
            "   test: 100%|██████████| 79/79 [00:02<00:00, 35.97it/s, test_acc=99.120, test_loss=1.47]\n"
          ]
        },
        {
          "name": "stdout",
          "output_type": "stream",
          "text": [
            "EPOCH 138/150 :\n"
          ]
        },
        {
          "name": "stderr",
          "output_type": "stream",
          "text": [
            "  train: 100%|██████████| 469/469 [00:12<00:00, 37.78it/s, train_acc=99.717, train_loss=1.46]\n",
            "   test: 100%|██████████| 79/79 [00:02<00:00, 36.40it/s, test_acc=99.100, test_loss=1.47]\n"
          ]
        },
        {
          "name": "stdout",
          "output_type": "stream",
          "text": [
            "EPOCH 139/150 :\n"
          ]
        },
        {
          "name": "stderr",
          "output_type": "stream",
          "text": [
            "  train: 100%|██████████| 469/469 [00:12<00:00, 37.18it/s, train_acc=99.691, train_loss=1.46]\n",
            "   test: 100%|██████████| 79/79 [00:02<00:00, 29.77it/s, test_acc=98.981, test_loss=1.47]\n"
          ]
        },
        {
          "name": "stdout",
          "output_type": "stream",
          "text": [
            "EPOCH 140/150 :\n"
          ]
        },
        {
          "name": "stderr",
          "output_type": "stream",
          "text": [
            "  train: 100%|██████████| 469/469 [00:12<00:00, 37.48it/s, train_acc=99.677, train_loss=1.46]\n",
            "   test: 100%|██████████| 79/79 [00:02<00:00, 34.59it/s, test_acc=99.070, test_loss=1.47]\n"
          ]
        },
        {
          "name": "stdout",
          "output_type": "stream",
          "text": [
            "EPOCH 141/150 :\n"
          ]
        },
        {
          "name": "stderr",
          "output_type": "stream",
          "text": [
            "  train: 100%|██████████| 469/469 [00:12<00:00, 38.12it/s, train_acc=99.705, train_loss=1.46]\n",
            "   test: 100%|██████████| 79/79 [00:02<00:00, 36.33it/s, test_acc=99.051, test_loss=1.47]\n"
          ]
        },
        {
          "name": "stdout",
          "output_type": "stream",
          "text": [
            "EPOCH 142/150 :\n"
          ]
        },
        {
          "name": "stderr",
          "output_type": "stream",
          "text": [
            "  train: 100%|██████████| 469/469 [00:12<00:00, 37.55it/s, train_acc=99.704, train_loss=1.46]\n",
            "   test: 100%|██████████| 79/79 [00:02<00:00, 34.81it/s, test_acc=99.090, test_loss=1.47]\n"
          ]
        },
        {
          "name": "stdout",
          "output_type": "stream",
          "text": [
            "EPOCH 143/150 :\n"
          ]
        },
        {
          "name": "stderr",
          "output_type": "stream",
          "text": [
            "  train: 100%|██████████| 469/469 [00:12<00:00, 36.65it/s, train_acc=99.683, train_loss=1.46]\n",
            "   test: 100%|██████████| 79/79 [00:02<00:00, 35.84it/s, test_acc=99.100, test_loss=1.47]\n"
          ]
        },
        {
          "name": "stdout",
          "output_type": "stream",
          "text": [
            "EPOCH 144/150 :\n"
          ]
        },
        {
          "name": "stderr",
          "output_type": "stream",
          "text": [
            "  train: 100%|██████████| 469/469 [00:12<00:00, 37.11it/s, train_acc=99.689, train_loss=1.46]\n",
            "   test: 100%|██████████| 79/79 [00:02<00:00, 29.07it/s, test_acc=99.070, test_loss=1.47]\n"
          ]
        },
        {
          "name": "stdout",
          "output_type": "stream",
          "text": [
            "EPOCH 145/150 :\n"
          ]
        },
        {
          "name": "stderr",
          "output_type": "stream",
          "text": [
            "  train: 100%|██████████| 469/469 [00:12<00:00, 36.95it/s, train_acc=99.713, train_loss=1.46]\n",
            "   test: 100%|██████████| 79/79 [00:02<00:00, 35.72it/s, test_acc=99.070, test_loss=1.47]\n"
          ]
        },
        {
          "name": "stdout",
          "output_type": "stream",
          "text": [
            "EPOCH 146/150 :\n"
          ]
        },
        {
          "name": "stderr",
          "output_type": "stream",
          "text": [
            "  train: 100%|██████████| 469/469 [00:12<00:00, 38.05it/s, train_acc=99.701, train_loss=1.46]\n",
            "   test: 100%|██████████| 79/79 [00:02<00:00, 35.37it/s, test_acc=99.090, test_loss=1.47]\n"
          ]
        },
        {
          "name": "stdout",
          "output_type": "stream",
          "text": [
            "EPOCH 147/150 :\n"
          ]
        },
        {
          "name": "stderr",
          "output_type": "stream",
          "text": [
            "  train: 100%|██████████| 469/469 [00:12<00:00, 36.70it/s, train_acc=99.742, train_loss=1.46]\n",
            "   test: 100%|██████████| 79/79 [00:02<00:00, 34.62it/s, test_acc=99.021, test_loss=1.47]\n"
          ]
        },
        {
          "name": "stdout",
          "output_type": "stream",
          "text": [
            "EPOCH 148/150 :\n"
          ]
        },
        {
          "name": "stderr",
          "output_type": "stream",
          "text": [
            "  train: 100%|██████████| 469/469 [00:12<00:00, 36.90it/s, train_acc=99.702, train_loss=1.46]\n",
            "   test: 100%|██████████| 79/79 [00:02<00:00, 28.64it/s, test_acc=99.110, test_loss=1.47]\n"
          ]
        },
        {
          "name": "stdout",
          "output_type": "stream",
          "text": [
            "EPOCH 149/150 :\n"
          ]
        },
        {
          "name": "stderr",
          "output_type": "stream",
          "text": [
            "  train: 100%|██████████| 469/469 [00:13<00:00, 35.27it/s, train_acc=99.750, train_loss=1.46]\n",
            "   test: 100%|██████████| 79/79 [00:02<00:00, 34.80it/s, test_acc=99.061, test_loss=1.47]\n"
          ]
        },
        {
          "name": "stdout",
          "output_type": "stream",
          "text": [
            "EPOCH 150/150 :\n"
          ]
        },
        {
          "name": "stderr",
          "output_type": "stream",
          "text": [
            "  train: 100%|██████████| 469/469 [00:12<00:00, 37.03it/s, train_acc=99.712, train_loss=1.46]\n",
            "   test: 100%|██████████| 79/79 [00:02<00:00, 34.35it/s, test_acc=99.011, test_loss=1.47]"
          ]
        },
        {
          "name": "stdout",
          "output_type": "stream",
          "text": [
            "\n",
            "\n",
            "Train time: 2219.791 seconds\n"
          ]
        },
        {
          "name": "stderr",
          "output_type": "stream",
          "text": [
            "\n"
          ]
        }
      ],
      "source": [
        "hparams = [\"MNIST\", \"SCNNB-b\", 150]\n",
        "SCNNB_b_MNIST_model, SCNNB_b_MNIST_train_loss, SCNNB_b_MNIST_train_accuracy, SCNNB_b_MNIST_test_loss, SCNNB_b_MNIST_test_accuracy = train(hparams ,MNIST_train_dataloader, MNIST_test_dataloader)\n"
      ]
    },
    {
      "cell_type": "code",
      "execution_count": 25,
      "metadata": {
        "colab": {
          "base_uri": "https://localhost:8080/"
        },
        "id": "poyEgfzHY3k1",
        "outputId": "a5bd9737-4ac2-4834-d76b-9fc1a8110831"
      },
      "outputs": [
        {
          "name": "stdout",
          "output_type": "stream",
          "text": [
            "Maximum Test Accuracy for SCNNB-b model is:  99.14953164556962\n"
          ]
        }
      ],
      "source": [
        "SCNNB_b_max_acc = max(SCNNB_b_MNIST_test_accuracy)\n",
        "SCNNB_b_MEAN = sum(SCNNB_b_MNIST_test_accuracy)/len(SCNNB_b_MNIST_test_accuracy)\n",
        "print(\"Maximum Test Accuracy for SCNNB-b model is: \", str(SCNNB_b_max_acc))"
      ]
    },
    {
      "cell_type": "code",
      "execution_count": 26,
      "metadata": {
        "id": "OAKtHLdjjUCh"
      },
      "outputs": [],
      "source": [
        "torch.save(SCNNB_b_MNIST_model.state_dict(), 'SCNNB_b_MNIST')"
      ]
    },
    {
      "cell_type": "code",
      "execution_count": 32,
      "metadata": {
        "id": "Wl9oq6WA0ogH"
      },
      "outputs": [],
      "source": [
        "from sklearn.metrics import confusion_matrix\n",
        "from sklearn.metrics import classification_report\n",
        "\n",
        "def Testing(model, model_name, data_loader):\n",
        "\n",
        "    model.load_state_dict(torch.load(model_name))\n",
        "    # Send model to GPU\n",
        "    device = torch.device(\"cuda:0\" if torch.cuda.is_available() else \"cpu\")\n",
        "    \n",
        "    model.to(device)\n",
        "\n",
        "    # put model in eval mode\n",
        "    model.eval() \n",
        "\n",
        "    loss_fn = nn.CrossEntropyLoss()\n",
        "    def accuracy_fn(true, pred):\n",
        "        pred = F.softmax(pred, dim = 1)\n",
        "        true = torch.zeros(pred.shape[0], pred.shape[1]).scatter_(1, true.unsqueeze(1), 1.)\n",
        "        acc = (true.argmax(-1) == pred.argmax(-1)).float().detach().numpy()\n",
        "        acc = float((100 * acc.sum()) / len(acc))\n",
        "        return round(acc, 4)\n",
        "\n",
        "    test_loss, test_acc, counter = 0, 0, 0\n",
        "    with tqdm(data_loader, desc =\"   test\") as test_tqdm:\n",
        "        for X, y in test_tqdm:\n",
        "            # Send data to GPU\n",
        "            X, y = X.to(device), y.to(device)\n",
        "            \n",
        "            # 1. Forward pass\n",
        "            test_pred = model(X)\n",
        "\n",
        "            _, preds = torch.max(test_pred.data, 1)\n",
        "            \n",
        "            # 2. Calculate loss and accuracy\n",
        "            test_loss += loss_fn(test_pred, y)\n",
        "            test_acc += accuracy_fn(true=y.cpu(),\n",
        "                                    pred=test_pred.cpu())\n",
        "            counter += 1\n",
        "\n",
        "            if counter==1 :\n",
        "                y_true = (y.detach().cpu().numpy())\n",
        "                y_pred = (preds.detach().cpu().numpy())\n",
        "            else:\n",
        "                y_true = np.concatenate((y_true, np.array(y.detach().cpu().numpy())), axis=0)\n",
        "                y_pred = np.concatenate((y_pred, np.array(preds.detach().cpu().numpy())), axis=0)\n",
        "\n",
        "\n",
        "            test_tqdm.set_postfix(test_acc=\"{:.3f}\".format(test_acc/counter), test_loss=test_loss.item()/counter, refresh=True)\n",
        "\n",
        "\n",
        "        # Adjust metrics and print out\n",
        "        test_loss /= len(data_loader)\n",
        "        test_acc  /= len(data_loader)\n",
        "\n",
        "    class_names = [\"Zero\",\"One\", \"Two\", \"Three\", \"Four\", \"Five\", \"Six\", \"Seven\", \"Eight\", \"Nine\"]\n",
        "    cnf_matrix = confusion_matrix(y_true, y_pred)   ## Sklearn confusion matrix object\n",
        "    accuracy = np.trace(cnf_matrix) / float(np.sum(cnf_matrix))\n",
        "    misclass = 1 - accuracy\n",
        "\n",
        "    fig, ax = plt.subplots()\n",
        "    tick_marks = np.arange(len(class_names))\n",
        "    plt.xticks(tick_marks, class_names, rotation=45)\n",
        "    plt.yticks(tick_marks, class_names)\n",
        "\n",
        "    sns.heatmap(pd.DataFrame(cnf_matrix), annot=True, cmap = \"Blues\" ,fmt='g', xticklabels=class_names , yticklabels=class_names)\n",
        "    ax.xaxis.set_label_position(\"bottom\")\n",
        "    plt.title('Confusion matrix for '+ model_name, y=1.1)\n",
        "    plt.ylabel('True label')\n",
        "    plt.xlabel('Predicted label\\naccuracy={:0.2f}; misclass={:0.2f}'.format(accuracy, misclass))\n",
        "    plt.tight_layout()\n",
        "    print(classification_report(y_true, y_pred, target_names=class_names, digits=4))\n",
        "    return test_loss.item(), test_acc\n"
      ]
    },
    {
      "cell_type": "code",
      "execution_count": 33,
      "metadata": {
        "colab": {
          "base_uri": "https://localhost:8080/",
          "height": 837
        },
        "id": "WJr49-cy0tXf",
        "outputId": "58b7d2ae-eca7-492b-c994-dac0961a06b8"
      },
      "outputs": [
        {
          "name": "stderr",
          "output_type": "stream",
          "text": [
            "   test: 100%|██████████| 79/79 [00:02<00:00, 34.79it/s, test_acc=99.199, test_loss=1.47]\n"
          ]
        },
        {
          "name": "stdout",
          "output_type": "stream",
          "text": [
            "              precision    recall  f1-score   support\n",
            "\n",
            "        Zero     0.9939    0.9959    0.9949       980\n",
            "         One     0.9956    0.9956    0.9956      1135\n",
            "         Two     0.9865    0.9893    0.9879      1032\n",
            "       Three     0.9980    0.9941    0.9960      1010\n",
            "        Four     0.9949    0.9969    0.9959       982\n",
            "        Five     0.9779    0.9899    0.9838       892\n",
            "         Six     0.9906    0.9864    0.9885       958\n",
            "       Seven     0.9913    0.9922    0.9917      1028\n",
            "       Eight     0.9939    0.9969    0.9954       974\n",
            "        Nine     0.9950    0.9812    0.9880      1009\n",
            "\n",
            "    accuracy                         0.9919     10000\n",
            "   macro avg     0.9917    0.9919    0.9918     10000\n",
            "weighted avg     0.9919    0.9919    0.9919     10000\n",
            "\n",
            "\n",
            "Test Accuracy for SCNNB model on MNIST is: 99.19898734177214\n"
          ]
        },
        {
          "data": {
            "image/png": "[encoded data removed]",
            "text/plain": [
              "<Figure size 640x480 with 2 Axes>"
            ]
          },
          "metadata": {},
          "output_type": "display_data"
        }
      ],
      "source": [
        "\n",
        "SCNNB_test_loss, SCNNB_test_acc = Testing(SCNNB_MNIST_model, \"SCNNB_MNIST\", MNIST_test_dataloader )\n",
        "print(\"\\nTest Accuracy for SCNNB model on MNIST is: \"+str(SCNNB_test_acc))\n"
      ]
    },
    {
      "cell_type": "code",
      "execution_count": 38,
      "metadata": {
        "colab": {
          "base_uri": "https://localhost:8080/",
          "height": 837
        },
        "id": "DCP9s8ga0uaP",
        "outputId": "80a5bc4d-cedb-47f8-9896-5811719327b2"
      },
      "outputs": [
        {
          "name": "stderr",
          "output_type": "stream",
          "text": [
            "   test: 100%|██████████| 79/79 [00:02<00:00, 35.74it/s, test_acc=99.189, test_loss=1.47]\n"
          ]
        },
        {
          "name": "stdout",
          "output_type": "stream",
          "text": [
            "              precision    recall  f1-score   support\n",
            "\n",
            "        Zero     0.9919    0.9959    0.9939       980\n",
            "         One     0.9947    0.9982    0.9965      1135\n",
            "         Two     0.9874    0.9874    0.9874      1032\n",
            "       Three     0.9980    0.9911    0.9945      1010\n",
            "        Four     0.9929    0.9959    0.9944       982\n",
            "        Five     0.9810    0.9865    0.9838       892\n",
            "         Six     0.9947    0.9823    0.9884       958\n",
            "       Seven     0.9884    0.9951    0.9918      1028\n",
            "       Eight     0.9949    0.9959    0.9954       974\n",
            "        Nine     0.9930    0.9881    0.9906      1009\n",
            "\n",
            "    accuracy                         0.9918     10000\n",
            "   macro avg     0.9917    0.9917    0.9917     10000\n",
            "weighted avg     0.9918    0.9918    0.9918     10000\n",
            "\n",
            "\n",
            "Test Accuracy for SCNNB-a model on MNIST is: 99.18908860759491\n"
          ]
        },
        {
          "data": {
            "image/png": "[encoded data removed]",
            "text/plain": [
              "<Figure size 640x480 with 2 Axes>"
            ]
          },
          "metadata": {},
          "output_type": "display_data"
        }
      ],
      "source": [
        "SCNNB_a_test_loss, SCNNB_a_test_acc = Testing(SCNNB_a_MNIST_model, \"SCNNB_a_MNIST\", MNIST_test_dataloader )\n",
        "print(\"\\nTest Accuracy for SCNNB-a model on MNIST is: \"+str(SCNNB_a_test_acc))\n"
      ]
    },
    {
      "cell_type": "code",
      "execution_count": 39,
      "metadata": {
        "colab": {
          "base_uri": "https://localhost:8080/",
          "height": 837
        },
        "id": "cVQGbZEn0vnX",
        "outputId": "f95c6ec6-02a2-4137-8bd4-432be851a8b8"
      },
      "outputs": [
        {
          "name": "stderr",
          "output_type": "stream",
          "text": [
            "   test: 100%|██████████| 79/79 [00:02<00:00, 36.25it/s, test_acc=99.080, test_loss=1.47]\n"
          ]
        },
        {
          "name": "stdout",
          "output_type": "stream",
          "text": [
            "              precision    recall  f1-score   support\n",
            "\n",
            "        Zero     0.9909    0.9949    0.9929       980\n",
            "         One     0.9956    0.9956    0.9956      1135\n",
            "         Two     0.9874    0.9893    0.9884      1032\n",
            "       Three     0.9901    0.9921    0.9911      1010\n",
            "        Four     0.9898    0.9929    0.9914       982\n",
            "        Five     0.9886    0.9765    0.9825       892\n",
            "         Six     0.9906    0.9875    0.9890       958\n",
            "       Seven     0.9903    0.9932    0.9917      1028\n",
            "       Eight     0.9908    0.9949    0.9928       974\n",
            "        Nine     0.9920    0.9881    0.9901      1009\n",
            "\n",
            "    accuracy                         0.9907     10000\n",
            "   macro avg     0.9906    0.9905    0.9905     10000\n",
            "weighted avg     0.9907    0.9907    0.9907     10000\n",
            "\n",
            "\n",
            "Test Accuracy for SCNNB-b model on MNIST is: 99.08031012658228\n"
          ]
        },
        {
          "data": {
            "image/png": "[encoded data removed]",
            "text/plain": [
              "<Figure size 640x480 with 2 Axes>"
            ]
          },
          "metadata": {},
          "output_type": "display_data"
        }
      ],
      "source": [
        "\n",
        "SCNNB_b_test_loss, SCNNB_b_test_acc = Testing(SCNNB_b_MNIST_model, \"SCNNB_b_MNIST\", MNIST_test_dataloader )\n",
        "print(\"\\nTest Accuracy for SCNNB-b model on MNIST is: \"+str(SCNNB_b_test_acc))"
      ]
    },
    {
      "cell_type": "code",
      "execution_count": 40,
      "metadata": {
        "id": "1GYqdKiDjXVj"
      },
      "outputs": [],
      "source": [
        "def acc_test_plots(SCNNB_test, SCNNB_a_test, SCNNB_b_test):\n",
        "  \n",
        "    num_epochs = len(SCNNB_test)\n",
        "    plt.figure(figsize=(13,5))\n",
        "    plt.plot(SCNNB_a_test , 'b', label='SCNNB-a', linestyle = '-')\n",
        "    plt.plot(SCNNB_b_test , 'g', label='SCNNB-b', linestyle = '-.')\n",
        "    plt.plot(SCNNB_test, 'r', label='SCNNB', linestyle = ':')\n",
        "    plt.ylabel('Test Accuracy', fontsize=10, labelpad=8)\n",
        "    plt.xlabel('Epochs', fontsize=10, labelpad=8)\n",
        "    plt.title('Test Accuracy for MNIST dataset', fontsize=25, pad=15)\n",
        "    plt.legend()\n",
        "    sns.despine()\n",
        "    plt.show()"
      ]
    },
    {
      "cell_type": "code",
      "execution_count": 45,
      "metadata": {
        "colab": {
          "base_uri": "https://localhost:8080/",
          "height": 518
        },
        "id": "yA35a8uajYEH",
        "outputId": "111e867b-3f8e-49ac-9cb6-1d1f810b3d08"
      },
      "outputs": [
        {
          "data": {
            "image/png": "[encoded data removed]",
            "text/plain": [
              "<Figure size 1300x500 with 1 Axes>"
            ]
          },
          "metadata": {},
          "output_type": "display_data"
        }
      ],
      "source": [
        "acc_test_plots(SCNNB_MNIST_test_accuracy, SCNNB_a_MNIST_test_accuracy, SCNNB_b_MNIST_test_accuracy[1:])"
      ]
    },
    {
      "cell_type": "code",
      "execution_count": 46,
      "metadata": {
        "id": "bLbRmVazbCwA"
      },
      "outputs": [],
      "source": [
        "def acc_train_plots(SCNNB_train, SCNNB_a_train, SCNNB_b_train):\n",
        "  \n",
        "    num_epochs = len(SCNNB_train)\n",
        "    plt.figure(figsize=(13,5))\n",
        "    plt.plot(SCNNB_a_train , 'b', label='SCNNB-a', linestyle = '-')\n",
        "    plt.plot(SCNNB_b_train , 'g', label='SCNNB-b', linestyle = '-.')\n",
        "    plt.plot(SCNNB_train, 'r', label='SCNNB', linestyle = ':')\n",
        "    plt.ylabel('Train Accuracy', fontsize=10, labelpad=8)\n",
        "    plt.xlabel('Epochs', fontsize=10, labelpad=8)\n",
        "    plt.title('Train Accuracy for MNIST dataset', fontsize=25, pad=15)\n",
        "    plt.legend()\n",
        "    sns.despine()\n",
        "    plt.show()"
      ]
    },
    {
      "cell_type": "code",
      "execution_count": 47,
      "metadata": {
        "colab": {
          "base_uri": "https://localhost:8080/",
          "height": 518
        },
        "id": "khNfXH-tbCwE",
        "outputId": "91e52a59-7d54-49ed-9347-e045bd4cb2cc"
      },
      "outputs": [
        {
          "data": {
            "image/png": "[encoded data removed]",
            "text/plain": [
              "<Figure size 1300x500 with 1 Axes>"
            ]
          },
          "metadata": {},
          "output_type": "display_data"
        }
      ],
      "source": [
        "acc_train_plots(SCNNB_MNIST_train_accuracy, SCNNB_a_MNIST_train_accuracy, SCNNB_b_MNIST_train_accuracy[2:])"
      ]
    },
    {
      "cell_type": "code",
      "execution_count": 48,
      "metadata": {
        "id": "vq6uE-7TbZSW"
      },
      "outputs": [],
      "source": [
        "def loss_train_plots(SCNNB_train, SCNNB_a_train, SCNNB_b_train):\n",
        "  \n",
        "    num_epochs = len(SCNNB_train)\n",
        "    plt.figure(figsize=(13,5))\n",
        "    plt.plot(SCNNB_a_train , 'b', label='SCNNB-a', linestyle = '-')\n",
        "    plt.plot(SCNNB_b_train , 'g', label='SCNNB-b', linestyle = '-.')\n",
        "    plt.plot(SCNNB_train, 'r', label='SCNNB', linestyle = ':')\n",
        "    plt.ylabel('Train Accuracy', fontsize=10, labelpad=8)\n",
        "    plt.xlabel('Epochs', fontsize=10, labelpad=8)\n",
        "    plt.title('Train Loss for MNIST dataset', fontsize=25, pad=15)\n",
        "    plt.legend()\n",
        "    sns.despine()\n",
        "    plt.show()"
      ]
    },
    {
      "cell_type": "code",
      "execution_count": 49,
      "metadata": {
        "colab": {
          "base_uri": "https://localhost:8080/",
          "height": 518
        },
        "id": "1B8IyqXWbZSX",
        "outputId": "120d560e-db8e-41bb-a368-260f37f6d32c"
      },
      "outputs": [
        {
          "data": {
            "image/png": "[encoded data removed]",
            "text/plain": [
              "<Figure size 1300x500 with 1 Axes>"
            ]
          },
          "metadata": {},
          "output_type": "display_data"
        }
      ],
      "source": [
        "loss_train_plots(SCNNB_MNIST_train_loss, SCNNB_a_MNIST_train_loss, SCNNB_b_MNIST_train_loss[1:])"
      ]
    },
    {
      "cell_type": "code",
      "execution_count": null,
      "metadata": {
        "id": "WZ728vl6pOJK"
      },
      "outputs": [],
      "source": []
    }
  ],
  "metadata": {
    "accelerator": "GPU",
    "colab": {
      "provenance": []
    },
    "gpuClass": "standard",
    "kernelspec": {
      "display_name": "Python 3",
      "name": "python3"
    },
    "language_info": {
      "name": "python"
    }
  },
  "nbformat": 4,
  "nbformat_minor": 0
}
