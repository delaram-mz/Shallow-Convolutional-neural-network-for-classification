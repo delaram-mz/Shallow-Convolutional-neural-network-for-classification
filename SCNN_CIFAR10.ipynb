{
  "cells": [
    {
      "attachments": {},
      "cell_type": "markdown",
      "metadata": {
        "id": "0ZnKUkkN52Ua"
      },
      "source": [
        "<font color=\"#e32b3d\"><h1>Shallow Neural Networks for Classification</h2></font>\n",
        "\n",
        "<font color=\"#822b34\"><h2>*CIFAR10 Dataset*</h2></font>"
      ]
    },
    {
      "attachments": {},
      "cell_type": "markdown",
      "metadata": {
        "id": "c3BDQvldVyPH"
      },
      "source": [
        "<font color=\"#2ff9b3d\"><h1>Part 1: Importing Datasets and Pre-processing </h1></font>\n",
        "\n",
        "required library and packages are imported."
      ]
    },
    {
      "cell_type": "code",
      "execution_count": 57,
      "metadata": {
        "id": "-2FMOPeHVyPI"
      },
      "outputs": [],
      "source": [
        "# Import library\n",
        "import torch\n",
        "from torch import nn\n",
        "import torch.nn.functional as F\n",
        "from torch.utils.data import DataLoader, Dataset\n",
        "\n",
        "import torchvision\n",
        "from torchvision import transforms\n",
        "from torchvision.datasets import ImageFolder\n",
        "\n",
        "import matplotlib.pyplot as plt\n",
        "import seaborn as sns\n",
        "import numpy as np\n",
        "import pandas as pd\n",
        "from tqdm import tqdm\n",
        "from PIL import Image\n",
        "import cv2\n",
        "import glob\n",
        "import os"
      ]
    },
    {
      "cell_type": "code",
      "execution_count": 58,
      "metadata": {
        "id": "xsV0Pa_VQemk"
      },
      "outputs": [],
      "source": [
        "##Constants\n",
        "batch_size = 128\n",
        "num_of_classes = 10\n",
        "dim_MNIST = 5\n",
        "dim_CIFAR = 6\n",
        "in_shape_MNIST = 1\n",
        "in_shape_CIFAR = 3"
      ]
    },
    {
      "attachments": {},
      "cell_type": "markdown",
      "metadata": {
        "id": "A7pCgzj2hMwI"
      },
      "source": [
        "Importing the CIFAR10 dataset into train and test sets.\n",
        "\n",
        "\n",
        "note that using torch.vision requiers to transform dataset into tensors using *ToTensor()*, this function normalizes all the features in dataset and no further normalization is needed."
      ]
    },
    {
      "cell_type": "code",
      "execution_count": 59,
      "metadata": {
        "colab": {
          "base_uri": "https://localhost:8080/",
          "height": 499
        },
        "id": "uoSSTRdWVyPK",
        "outputId": "8c09db2c-d151-45da-e3a8-a222b4b408fb"
      },
      "outputs": [
        {
          "name": "stdout",
          "output_type": "stream",
          "text": [
            "Files already downloaded and verified\n",
            "Files already downloaded and verified\n",
            "Image size: torch.Size([3, 32, 32])\n",
            "Label: 0\n"
          ]
        },
        {
          "data": {
            "image/png": "[encoded data removed]",
            "text/plain": [
              "<Figure size 640x480 with 1 Axes>"
            ]
          },
          "metadata": {},
          "output_type": "display_data"
        }
      ],
      "source": [
        "import torchvision\n",
        "import torchvision.transforms as transforms\n",
        "## Importing CIFAR10\n",
        "CIFAR_Train_set = torchvision.datasets.CIFAR10(root=\"CIFAR\", download=True,train=True, transform=transforms.Compose([transforms.ToTensor()]))\n",
        "CIFAR_test_set = torchvision.datasets.CIFAR10(root=\"CIFAR\", download=True,train=False, transform=transforms.Compose([transforms.ToTensor()]))\n",
        "CIFAR_classes = ['airplane', 'automobile', 'bird', 'cat', 'deer', 'dog', 'frog', 'horse', 'ship', 'truck']\n",
        "## Creating DataLoaders\n",
        "CIFAR_train_dataloader = DataLoader(\n",
        "    dataset = CIFAR_Train_set,\n",
        "    batch_size = batch_size,\n",
        "    shuffle = True\n",
        ")\n",
        "\n",
        "CIFAR_test_dataloader = DataLoader(\n",
        "    dataset = CIFAR_test_set,\n",
        "    batch_size = batch_size,\n",
        ")\n",
        "##Visualizing a sample\n",
        "CIFAR_train_features_batch, CIFAR_train_labels_batch = next(iter(CIFAR_train_dataloader))\n",
        "CIFAR_train_features_batch.shape, CIFAR_train_labels_batch.shape\n",
        "img, label = CIFAR_train_features_batch[0], CIFAR_train_labels_batch[0]\n",
        "mean, std = 0.5, 0.5\n",
        "img = std * img + mean\n",
        "plt.imshow(img.permute(1, 2, 0), cmap='gray')\n",
        "plt.title(CIFAR_classes[label])\n",
        "plt.axis(\"Off\");\n",
        "print(f\"Image size: {img.shape}\")\n",
        "print(f\"Label: {label}\")"
      ]
    },
    {
      "cell_type": "code",
      "execution_count": 60,
      "metadata": {
        "colab": {
          "base_uri": "https://localhost:8080/"
        },
        "id": "3DJVwaToXIu_",
        "outputId": "2a38c7bd-53f5-4875-88b4-13e887911540"
      },
      "outputs": [
        {
          "name": "stdout",
          "output_type": "stream",
          "text": [
            "cuda\n"
          ]
        }
      ],
      "source": [
        "# We move our tensor to the GPU if available\n",
        "if (torch.cuda.is_available()):\n",
        "    DEVICE = 'cuda'\n",
        "else:\n",
        "    DEVICE = 'cpu'\n",
        "print(DEVICE)"
      ]
    },
    {
      "attachments": {},
      "cell_type": "markdown",
      "metadata": {
        "id": "rqi6Fek8hMwW"
      },
      "source": [
        "<font color=\"#2ff9b3d\"><h1>Part 3: SCNNB Implementation </h1></font>"
      ]
    },
    {
      "cell_type": "code",
      "execution_count": 62,
      "metadata": {
        "id": "6evo0QhzVyPT"
      },
      "outputs": [],
      "source": [
        "# Create a convolutional neural network : SCNNB\n",
        "class SCNNB(nn.Module):\n",
        "    def __init__(self, input_shape, dim,  output_shape):\n",
        "        super().__init__()\n",
        "        \n",
        "        self.CNN_block = nn.Sequential(\n",
        "            nn.Conv2d(input_shape, 32, kernel_size = 3), \n",
        "            nn.BatchNorm2d(num_features=32),\n",
        "            nn.ReLU(),\n",
        "            nn.MaxPool2d(kernel_size=2),\n",
        "            nn.Conv2d(32, 64, kernel_size = 3),\n",
        "            nn.BatchNorm2d(num_features=64),\n",
        "            nn.ReLU(),\n",
        "            nn.MaxPool2d(kernel_size=2)\n",
        "\n",
        "        )\n",
        "\n",
        "        self.classifier = nn.Sequential(\n",
        "            nn.Flatten(),\n",
        "            nn.Linear(in_features = 64*dim*dim, out_features = 1280),\n",
        "            nn.ReLU(),\n",
        "            nn.Dropout(p=0.5),\n",
        "            nn.Linear(in_features = 1280, out_features = output_shape),\n",
        "            nn.Softmax(dim=1)\n",
        "        )\n",
        "    \n",
        "    def forward(self, x: torch.Tensor):\n",
        "        x = self.CNN_block(x)\n",
        "        # print(x.shape)\n",
        "        x = self.classifier(x)\n",
        "        # print(x.shape)\n",
        "        return x"
      ]
    },
    {
      "cell_type": "code",
      "execution_count": 63,
      "metadata": {
        "id": "MmQMVySpzeay"
      },
      "outputs": [],
      "source": [
        "# Create a convolutional neural network : SCNNB-a\n",
        "class SCNNB_a(nn.Module):\n",
        "    def __init__(self, input_shape, dim, output_shape):\n",
        "        super().__init__()\n",
        "        \n",
        "        self.CNN_block = nn.Sequential(\n",
        "            nn.Conv2d(input_shape, 32, kernel_size = 3), \n",
        "          # nn.BatchNorm2d(num_features=32),\n",
        "            nn.ReLU(),\n",
        "            nn.MaxPool2d(kernel_size=2),\n",
        "            nn.Conv2d(32, 64, kernel_size = 3),\n",
        "            nn.BatchNorm2d(num_features=64),\n",
        "            nn.ReLU(),\n",
        "            nn.MaxPool2d(kernel_size=2)\n",
        "\n",
        "        )\n",
        "\n",
        "        self.classifier = nn.Sequential(\n",
        "            nn.Flatten(),\n",
        "            nn.Linear(in_features = 64*dim*dim, out_features = 1280),\n",
        "            nn.ReLU(),\n",
        "            nn.Dropout(p=0.5),\n",
        "            nn.Linear(in_features = 1280, out_features = output_shape),\n",
        "            nn.Softmax(dim=1)\n",
        "        )\n",
        "    \n",
        "    def forward(self, x: torch.Tensor):\n",
        "        x = self.CNN_block(x)\n",
        "        # print(x.shape)\n",
        "        x = self.classifier(x)\n",
        "        # print(x.shape)\n",
        "        return x"
      ]
    },
    {
      "cell_type": "code",
      "execution_count": 64,
      "metadata": {
        "id": "Vo611YYBzj6j"
      },
      "outputs": [],
      "source": [
        "# Create a convolutional neural network : SCNNB-b\n",
        "class SCNNB_b(nn.Module):\n",
        "    def __init__(self, input_shape, dim, output_shape):\n",
        "        super().__init__()\n",
        "        \n",
        "        self.CNN_block = nn.Sequential(\n",
        "            nn.Conv2d(input_shape, 32, kernel_size = 3), \n",
        "            # nn.BatchNorm2d(num_features=32),\n",
        "            nn.ReLU(),\n",
        "            nn.MaxPool2d(kernel_size=2),\n",
        "            nn.Conv2d(32, 64, kernel_size = 3),\n",
        "            # nn.BatchNorm2d(num_features=64),\n",
        "            nn.ReLU(),\n",
        "            nn.MaxPool2d(kernel_size=2)\n",
        "\n",
        "        )\n",
        "\n",
        "        self.classifier = nn.Sequential(\n",
        "            nn.Flatten(),\n",
        "            nn.Linear(in_features = 64*dim*dim, out_features = 1280),\n",
        "            nn.ReLU(),\n",
        "            nn.Dropout(p=0.5),\n",
        "            nn.Linear(in_features = 1280, out_features = output_shape),\n",
        "            nn.Softmax(dim=1)\n",
        "        )\n",
        "    \n",
        "    def forward(self, x: torch.Tensor):\n",
        "        x = self.CNN_block(x)\n",
        "        # print(x.shape)\n",
        "        x = self.classifier(x)\n",
        "        # print(x.shape)\n",
        "        return x"
      ]
    },
    {
      "cell_type": "code",
      "execution_count": 65,
      "metadata": {
        "colab": {
          "base_uri": "https://localhost:8080/"
        },
        "id": "1olTY3XyhMwX",
        "outputId": "202940bb-32fc-4cf1-d648-5c3b712fdece"
      },
      "outputs": [
        {
          "data": {
            "text/plain": [
              "SCNNB_a(\n",
              "  (CNN_block): Sequential(\n",
              "    (0): Conv2d(1, 32, kernel_size=(3, 3), stride=(1, 1))\n",
              "    (1): ReLU()\n",
              "    (2): MaxPool2d(kernel_size=2, stride=2, padding=0, dilation=1, ceil_mode=False)\n",
              "    (3): Conv2d(32, 64, kernel_size=(3, 3), stride=(1, 1))\n",
              "    (4): BatchNorm2d(64, eps=1e-05, momentum=0.1, affine=True, track_running_stats=True)\n",
              "    (5): ReLU()\n",
              "    (6): MaxPool2d(kernel_size=2, stride=2, padding=0, dilation=1, ceil_mode=False)\n",
              "  )\n",
              "  (classifier): Sequential(\n",
              "    (0): Flatten(start_dim=1, end_dim=-1)\n",
              "    (1): Linear(in_features=1600, out_features=1280, bias=True)\n",
              "    (2): ReLU()\n",
              "    (3): Dropout(p=0.5, inplace=False)\n",
              "    (4): Linear(in_features=1280, out_features=10, bias=True)\n",
              "    (5): Softmax(dim=1)\n",
              "  )\n",
              ")"
            ]
          },
          "execution_count": 65,
          "metadata": {},
          "output_type": "execute_result"
        }
      ],
      "source": [
        "## Sample Model Description\n",
        "model_SCNNB = SCNNB(input_shape=1, dim=5, output_shape=num_of_classes)\n",
        "model_SCNNB_a = SCNNB_a(input_shape=1, dim=5,output_shape=num_of_classes)\n",
        "# model_SCNNB_b = SCNNB_b(input_shape=1, dim=6,output_shape=num_of_classes)\n",
        "\n",
        "model_SCNNB_a"
      ]
    },
    {
      "cell_type": "code",
      "execution_count": 66,
      "metadata": {
        "id": "3RJROgg9hMwZ"
      },
      "outputs": [],
      "source": [
        "def train_step(model,\n",
        "               data_loader,\n",
        "               loss_fn,\n",
        "               optimizer,\n",
        "               accuracy_fn,\n",
        "               device):\n",
        "    \n",
        "    # Send model to GPU\n",
        "    model.train()\n",
        "    model = model.to(device)\n",
        "    train_loss, train_acc, counter = 0, 0, 0\n",
        "    with tqdm(data_loader, desc =\"  train\") as train_tqdm:\n",
        "        for X, y in train_tqdm:\n",
        "            # Send data to GPU\n",
        "            X, y = X.to(device), y.to(device)\n",
        "\n",
        "            # 1. Forward pass\n",
        "            y_pred = model(X)\n",
        "\n",
        "            # 2. Calculate loss\n",
        "            loss = loss_fn(y_pred, y)\n",
        "            train_loss += loss\n",
        "            train_acc += accuracy_fn(true=y.cpu(),\n",
        "                                     pred=y_pred.cpu())\n",
        "            counter += 1\n",
        "            train_tqdm.set_postfix(train_acc=\"{:.3f}\".format(train_acc/counter), train_loss=train_loss.item()/counter, refresh=False)\n",
        "\n",
        "            # 3. Optimizer zero grad\n",
        "            optimizer.zero_grad()\n",
        "\n",
        "            # 4. Loss backward\n",
        "            loss.backward()\n",
        "\n",
        "            # 5. Optimizer step\n",
        "            optimizer.step()\n",
        "\n",
        "        # Calculate loss and accuracy per epoch and print out what's happening\n",
        "        train_loss /= len(data_loader)\n",
        "        train_acc /= len(data_loader)\n",
        "        \n",
        "    return train_loss.item(), train_acc\n"
      ]
    },
    {
      "cell_type": "code",
      "execution_count": 67,
      "metadata": {
        "id": "YQft1sVthMwa"
      },
      "outputs": [],
      "source": [
        "def test_step(model,\n",
        "              data_loader,\n",
        "              loss_fn,\n",
        "              accuracy_fn,\n",
        "              device):\n",
        "    \n",
        "    # Send model to GPU\n",
        "    model.to(device)\n",
        "\n",
        "    # put model in eval mode\n",
        "    model.eval() \n",
        "    test_loss, test_acc, counter = 0, 0, 0\n",
        "    with tqdm(data_loader, desc =\"   test\") as test_tqdm:\n",
        "        for X, y in test_tqdm:\n",
        "            # Send data to GPU\n",
        "            X, y = X.to(device), y.to(device)\n",
        "            \n",
        "            # 1. Forward pass\n",
        "            test_pred = model(X)\n",
        "            \n",
        "            # 2. Calculate loss and accuracy\n",
        "            test_loss += loss_fn(test_pred, y)\n",
        "            test_acc += accuracy_fn(true=y.cpu(),\n",
        "                                    pred=test_pred.cpu())\n",
        "            counter += 1\n",
        "            test_tqdm.set_postfix(test_acc=\"{:.3f}\".format(test_acc/counter), test_loss=test_loss.item()/counter, refresh=True)\n",
        "\n",
        "        # Adjust metrics and print out\n",
        "        test_loss /= len(data_loader)\n",
        "        test_acc  /= len(data_loader)\n",
        "            \n",
        "    return test_loss.item(), test_acc"
      ]
    },
    {
      "cell_type": "code",
      "execution_count": 68,
      "metadata": {
        "id": "uNlaMz7EhMwb"
      },
      "outputs": [],
      "source": [
        "def train(hparams, train_data_loader, test_data_loader):\n",
        "  # Datasets: \n",
        "  if (hparams[0] == 'MNIST' or hparams[0] == 'FMNIST' ):\n",
        "    in_shape = in_shape_MNIST\n",
        "    dim = dim_MNIST\n",
        "  elif hparams[0] == 'CIFAR' :\n",
        "    in_shape = in_shape_CIFAR\n",
        "    dim = dim_CIFAR\n",
        "\n",
        "  # Models:\n",
        "  if hparams[1] == 'SCNNB':\n",
        "    model = SCNNB(input_shape=in_shape, dim=dim, output_shape=num_of_classes)\n",
        "  elif hparams[1] == 'SCNNB-a':\n",
        "    model = SCNNB_a(input_shape=in_shape, dim=dim, output_shape=num_of_classes)\n",
        "  elif hparams[1] == 'SCNNB-b':\n",
        "    model = SCNNB_b(input_shape=in_shape, dim=dim, output_shape=num_of_classes)\n",
        "\n",
        "  loss_fn = nn.CrossEntropyLoss()\n",
        "  optimizer = torch.optim.SGD(model.parameters(), lr = 0.02, momentum=0.9, weight_decay=0.000005)\n",
        "  device = torch.device(\"cuda:0\" if torch.cuda.is_available() else \"cpu\")\n",
        "  def accuracy_fn(true, pred):\n",
        "      pred = F.softmax(pred, dim = 1)\n",
        "      true = torch.zeros(pred.shape[0], pred.shape[1]).scatter_(1, true.unsqueeze(1), 1.)\n",
        "      acc = (true.argmax(-1) == pred.argmax(-1)).float().detach().numpy()\n",
        "      acc = float((100 * acc.sum()) / len(acc))\n",
        "      return round(acc, 4)\n",
        "  # Measure time\n",
        "  from timeit import default_timer as timer\n",
        "\n",
        "  train_epoch_loss = []\n",
        "  train_epoch_accuracy = []\n",
        "  test_epoch_loss = []\n",
        "  test_epoch_accuracy = []\n",
        "\n",
        "  train_time_start = timer()\n",
        "\n",
        "  epochs = hparams[2]\n",
        "  for epoch in range(epochs):\n",
        "      print(\"EPOCH {}/{} :\".format(epoch +1, epochs))\n",
        "      train_loss, train_acc = train_step(data_loader=train_data_loader,\n",
        "                                                model=model, \n",
        "                                                loss_fn=loss_fn,\n",
        "                                                optimizer=optimizer,\n",
        "                                                accuracy_fn=accuracy_fn,\n",
        "                                                device=device\n",
        "                                                )\n",
        "      test_loss, test_acc = test_step(data_loader=test_data_loader,\n",
        "                                      model=model,\n",
        "                                      loss_fn=loss_fn,\n",
        "                                      accuracy_fn=accuracy_fn,\n",
        "                                      device=device\n",
        "                                      )\n",
        "      \n",
        "      train_epoch_loss.append(train_loss)\n",
        "      train_epoch_accuracy.append(train_acc)\n",
        "      test_epoch_loss.append(test_loss)\n",
        "      test_epoch_accuracy.append(test_acc)\n",
        "\n",
        "  train_time_end = timer()\n",
        "  total_time = train_time_end - train_time_start\n",
        "  print(f\"\\n\\nTrain time: {total_time:.3f} seconds\")\n",
        "  return model, train_epoch_loss, train_epoch_accuracy, test_epoch_loss, test_epoch_accuracy"
      ]
    },
    {
      "cell_type": "code",
      "execution_count": 69,
      "metadata": {
        "colab": {
          "base_uri": "https://localhost:8080/"
        },
        "id": "m_52gQO5bB3s",
        "outputId": "482a47b2-738f-49ad-8a6c-6253dbed4ea9"
      },
      "outputs": [
        {
          "name": "stdout",
          "output_type": "stream",
          "text": [
            "EPOCH 1/150 :\n"
          ]
        },
        {
          "name": "stderr",
          "output_type": "stream",
          "text": [
            "  train: 100%|██████████| 391/391 [00:09<00:00, 40.87it/s, train_acc=41.624, train_loss=2.05]\n",
            "   test: 100%|██████████| 79/79 [00:01<00:00, 40.82it/s, test_acc=42.474, test_loss=2.03]\n"
          ]
        },
        {
          "name": "stdout",
          "output_type": "stream",
          "text": [
            "EPOCH 2/150 :\n"
          ]
        },
        {
          "name": "stderr",
          "output_type": "stream",
          "text": [
            "  train: 100%|██████████| 391/391 [00:09<00:00, 40.70it/s, train_acc=54.882, train_loss=1.91]\n",
            "   test: 100%|██████████| 79/79 [00:01<00:00, 40.53it/s, test_acc=44.294, test_loss=2.01]\n"
          ]
        },
        {
          "name": "stdout",
          "output_type": "stream",
          "text": [
            "EPOCH 3/150 :\n"
          ]
        },
        {
          "name": "stderr",
          "output_type": "stream",
          "text": [
            "  train: 100%|██████████| 391/391 [00:09<00:00, 40.67it/s, train_acc=59.315, train_loss=1.87]\n",
            "   test: 100%|██████████| 79/79 [00:01<00:00, 40.82it/s, test_acc=60.403, test_loss=1.86]\n"
          ]
        },
        {
          "name": "stdout",
          "output_type": "stream",
          "text": [
            "EPOCH 4/150 :\n"
          ]
        },
        {
          "name": "stderr",
          "output_type": "stream",
          "text": [
            "  train: 100%|██████████| 391/391 [00:09<00:00, 40.22it/s, train_acc=62.028, train_loss=1.84]\n",
            "   test: 100%|██████████| 79/79 [00:01<00:00, 40.15it/s, test_acc=62.045, test_loss=1.84]\n"
          ]
        },
        {
          "name": "stdout",
          "output_type": "stream",
          "text": [
            "EPOCH 5/150 :\n"
          ]
        },
        {
          "name": "stderr",
          "output_type": "stream",
          "text": [
            "  train: 100%|██████████| 391/391 [00:09<00:00, 40.25it/s, train_acc=64.468, train_loss=1.82]\n",
            "   test: 100%|██████████| 79/79 [00:01<00:00, 40.09it/s, test_acc=53.649, test_loss=1.92]\n"
          ]
        },
        {
          "name": "stdout",
          "output_type": "stream",
          "text": [
            "EPOCH 6/150 :\n"
          ]
        },
        {
          "name": "stderr",
          "output_type": "stream",
          "text": [
            "  train: 100%|██████████| 391/391 [00:09<00:00, 40.20it/s, train_acc=66.757, train_loss=1.79]\n",
            "   test: 100%|██████████| 79/79 [00:01<00:00, 40.25it/s, test_acc=64.181, test_loss=1.82]\n"
          ]
        },
        {
          "name": "stdout",
          "output_type": "stream",
          "text": [
            "EPOCH 7/150 :\n"
          ]
        },
        {
          "name": "stderr",
          "output_type": "stream",
          "text": [
            "  train: 100%|██████████| 391/391 [00:09<00:00, 40.22it/s, train_acc=68.739, train_loss=1.78]\n",
            "   test: 100%|██████████| 79/79 [00:02<00:00, 39.25it/s, test_acc=64.784, test_loss=1.81]\n"
          ]
        },
        {
          "name": "stdout",
          "output_type": "stream",
          "text": [
            "EPOCH 8/150 :\n"
          ]
        },
        {
          "name": "stderr",
          "output_type": "stream",
          "text": [
            "  train: 100%|██████████| 391/391 [00:09<00:00, 40.37it/s, train_acc=70.388, train_loss=1.76]\n",
            "   test: 100%|██████████| 79/79 [00:01<00:00, 40.12it/s, test_acc=62.253, test_loss=1.84]\n"
          ]
        },
        {
          "name": "stdout",
          "output_type": "stream",
          "text": [
            "EPOCH 9/150 :\n"
          ]
        },
        {
          "name": "stderr",
          "output_type": "stream",
          "text": [
            "  train: 100%|██████████| 391/391 [00:09<00:00, 39.76it/s, train_acc=71.988, train_loss=1.74]\n",
            "   test: 100%|██████████| 79/79 [00:01<00:00, 39.62it/s, test_acc=56.972, test_loss=1.89]\n"
          ]
        },
        {
          "name": "stdout",
          "output_type": "stream",
          "text": [
            "EPOCH 10/150 :\n"
          ]
        },
        {
          "name": "stderr",
          "output_type": "stream",
          "text": [
            "  train: 100%|██████████| 391/391 [00:09<00:00, 40.05it/s, train_acc=73.290, train_loss=1.73]\n",
            "   test: 100%|██████████| 79/79 [00:01<00:00, 40.66it/s, test_acc=70.431, test_loss=1.76]\n"
          ]
        },
        {
          "name": "stdout",
          "output_type": "stream",
          "text": [
            "EPOCH 11/150 :\n"
          ]
        },
        {
          "name": "stderr",
          "output_type": "stream",
          "text": [
            "  train: 100%|██████████| 391/391 [00:09<00:00, 40.37it/s, train_acc=74.619, train_loss=1.72]\n",
            "   test: 100%|██████████| 79/79 [00:01<00:00, 40.08it/s, test_acc=69.007, test_loss=1.77]\n"
          ]
        },
        {
          "name": "stdout",
          "output_type": "stream",
          "text": [
            "EPOCH 12/150 :\n"
          ]
        },
        {
          "name": "stderr",
          "output_type": "stream",
          "text": [
            "  train: 100%|██████████| 391/391 [00:09<00:00, 39.73it/s, train_acc=75.893, train_loss=1.71]\n",
            "   test: 100%|██████████| 79/79 [00:01<00:00, 40.16it/s, test_acc=66.090, test_loss=1.8]\n"
          ]
        },
        {
          "name": "stdout",
          "output_type": "stream",
          "text": [
            "EPOCH 13/150 :\n"
          ]
        },
        {
          "name": "stderr",
          "output_type": "stream",
          "text": [
            "  train: 100%|██████████| 391/391 [00:09<00:00, 40.33it/s, train_acc=76.979, train_loss=1.7]\n",
            "   test: 100%|██████████| 79/79 [00:01<00:00, 39.91it/s, test_acc=71.707, test_loss=1.75]\n"
          ]
        },
        {
          "name": "stdout",
          "output_type": "stream",
          "text": [
            "EPOCH 14/150 :\n"
          ]
        },
        {
          "name": "stderr",
          "output_type": "stream",
          "text": [
            "  train: 100%|██████████| 391/391 [00:09<00:00, 39.91it/s, train_acc=78.102, train_loss=1.69]\n",
            "   test: 100%|██████████| 79/79 [00:01<00:00, 41.11it/s, test_acc=71.539, test_loss=1.75]\n"
          ]
        },
        {
          "name": "stdout",
          "output_type": "stream",
          "text": [
            "EPOCH 15/150 :\n"
          ]
        },
        {
          "name": "stderr",
          "output_type": "stream",
          "text": [
            "  train: 100%|██████████| 391/391 [00:09<00:00, 40.58it/s, train_acc=79.457, train_loss=1.67]\n",
            "   test: 100%|██████████| 79/79 [00:01<00:00, 39.54it/s, test_acc=72.132, test_loss=1.74]\n"
          ]
        },
        {
          "name": "stdout",
          "output_type": "stream",
          "text": [
            "EPOCH 16/150 :\n"
          ]
        },
        {
          "name": "stderr",
          "output_type": "stream",
          "text": [
            "  train: 100%|██████████| 391/391 [00:09<00:00, 39.68it/s, train_acc=79.846, train_loss=1.67]\n",
            "   test: 100%|██████████| 79/79 [00:01<00:00, 40.13it/s, test_acc=69.472, test_loss=1.77]\n"
          ]
        },
        {
          "name": "stdout",
          "output_type": "stream",
          "text": [
            "EPOCH 17/150 :\n"
          ]
        },
        {
          "name": "stderr",
          "output_type": "stream",
          "text": [
            "  train: 100%|██████████| 391/391 [00:09<00:00, 41.45it/s, train_acc=80.941, train_loss=1.66]\n",
            "   test: 100%|██████████| 79/79 [00:02<00:00, 35.49it/s, test_acc=72.488, test_loss=1.74]\n"
          ]
        },
        {
          "name": "stdout",
          "output_type": "stream",
          "text": [
            "EPOCH 18/150 :\n"
          ]
        },
        {
          "name": "stderr",
          "output_type": "stream",
          "text": [
            "  train: 100%|██████████| 391/391 [00:09<00:00, 41.32it/s, train_acc=81.816, train_loss=1.65]\n",
            "   test: 100%|██████████| 79/79 [00:02<00:00, 33.93it/s, test_acc=72.330, test_loss=1.74]\n"
          ]
        },
        {
          "name": "stdout",
          "output_type": "stream",
          "text": [
            "EPOCH 19/150 :\n"
          ]
        },
        {
          "name": "stderr",
          "output_type": "stream",
          "text": [
            "  train: 100%|██████████| 391/391 [00:09<00:00, 41.70it/s, train_acc=82.443, train_loss=1.64]\n",
            "   test: 100%|██████████| 79/79 [00:02<00:00, 31.22it/s, test_acc=73.566, test_loss=1.73]\n"
          ]
        },
        {
          "name": "stdout",
          "output_type": "stream",
          "text": [
            "EPOCH 20/150 :\n"
          ]
        },
        {
          "name": "stderr",
          "output_type": "stream",
          "text": [
            "  train: 100%|██████████| 391/391 [00:09<00:00, 42.91it/s, train_acc=83.356, train_loss=1.63]\n",
            "   test: 100%|██████████| 79/79 [00:02<00:00, 30.58it/s, test_acc=73.062, test_loss=1.73]\n"
          ]
        },
        {
          "name": "stdout",
          "output_type": "stream",
          "text": [
            "EPOCH 21/150 :\n"
          ]
        },
        {
          "name": "stderr",
          "output_type": "stream",
          "text": [
            "  train: 100%|██████████| 391/391 [00:09<00:00, 42.86it/s, train_acc=84.118, train_loss=1.63]\n",
            "   test: 100%|██████████| 79/79 [00:02<00:00, 31.89it/s, test_acc=72.696, test_loss=1.73]\n"
          ]
        },
        {
          "name": "stdout",
          "output_type": "stream",
          "text": [
            "EPOCH 22/150 :\n"
          ]
        },
        {
          "name": "stderr",
          "output_type": "stream",
          "text": [
            "  train: 100%|██████████| 391/391 [00:09<00:00, 41.91it/s, train_acc=84.703, train_loss=1.62]\n",
            "   test: 100%|██████████| 79/79 [00:02<00:00, 33.25it/s, test_acc=75.752, test_loss=1.71]\n"
          ]
        },
        {
          "name": "stdout",
          "output_type": "stream",
          "text": [
            "EPOCH 23/150 :\n"
          ]
        },
        {
          "name": "stderr",
          "output_type": "stream",
          "text": [
            "  train: 100%|██████████| 391/391 [00:09<00:00, 40.57it/s, train_acc=85.367, train_loss=1.61]\n",
            "   test: 100%|██████████| 79/79 [00:02<00:00, 34.77it/s, test_acc=68.849, test_loss=1.77]\n"
          ]
        },
        {
          "name": "stdout",
          "output_type": "stream",
          "text": [
            "EPOCH 24/150 :\n"
          ]
        },
        {
          "name": "stderr",
          "output_type": "stream",
          "text": [
            "  train: 100%|██████████| 391/391 [00:09<00:00, 40.84it/s, train_acc=85.859, train_loss=1.61]\n",
            "   test: 100%|██████████| 79/79 [00:02<00:00, 36.23it/s, test_acc=76.088, test_loss=1.7]\n"
          ]
        },
        {
          "name": "stdout",
          "output_type": "stream",
          "text": [
            "EPOCH 25/150 :\n"
          ]
        },
        {
          "name": "stderr",
          "output_type": "stream",
          "text": [
            "  train: 100%|██████████| 391/391 [00:09<00:00, 40.37it/s, train_acc=86.634, train_loss=1.6]\n",
            "   test: 100%|██████████| 79/79 [00:02<00:00, 38.42it/s, test_acc=74.614, test_loss=1.71]\n"
          ]
        },
        {
          "name": "stdout",
          "output_type": "stream",
          "text": [
            "EPOCH 26/150 :\n"
          ]
        },
        {
          "name": "stderr",
          "output_type": "stream",
          "text": [
            "  train: 100%|██████████| 391/391 [00:09<00:00, 39.80it/s, train_acc=87.065, train_loss=1.6]\n",
            "   test: 100%|██████████| 79/79 [00:01<00:00, 39.63it/s, test_acc=75.465, test_loss=1.71]\n"
          ]
        },
        {
          "name": "stdout",
          "output_type": "stream",
          "text": [
            "EPOCH 27/150 :\n"
          ]
        },
        {
          "name": "stderr",
          "output_type": "stream",
          "text": [
            "  train: 100%|██████████| 391/391 [00:09<00:00, 40.18it/s, train_acc=87.739, train_loss=1.59]\n",
            "   test: 100%|██████████| 79/79 [00:02<00:00, 39.34it/s, test_acc=71.351, test_loss=1.75]\n"
          ]
        },
        {
          "name": "stdout",
          "output_type": "stream",
          "text": [
            "EPOCH 28/150 :\n"
          ]
        },
        {
          "name": "stderr",
          "output_type": "stream",
          "text": [
            "  train: 100%|██████████| 391/391 [00:09<00:00, 39.92it/s, train_acc=88.199, train_loss=1.59]\n",
            "   test: 100%|██████████| 79/79 [00:02<00:00, 38.09it/s, test_acc=74.357, test_loss=1.72]\n"
          ]
        },
        {
          "name": "stdout",
          "output_type": "stream",
          "text": [
            "EPOCH 29/150 :\n"
          ]
        },
        {
          "name": "stderr",
          "output_type": "stream",
          "text": [
            "  train: 100%|██████████| 391/391 [00:09<00:00, 39.53it/s, train_acc=88.799, train_loss=1.58]\n",
            "   test: 100%|██████████| 79/79 [00:01<00:00, 39.94it/s, test_acc=76.750, test_loss=1.7]\n"
          ]
        },
        {
          "name": "stdout",
          "output_type": "stream",
          "text": [
            "EPOCH 30/150 :\n"
          ]
        },
        {
          "name": "stderr",
          "output_type": "stream",
          "text": [
            "  train: 100%|██████████| 391/391 [00:10<00:00, 39.01it/s, train_acc=89.198, train_loss=1.58]\n",
            "   test: 100%|██████████| 79/79 [00:01<00:00, 39.66it/s, test_acc=76.889, test_loss=1.69]\n"
          ]
        },
        {
          "name": "stdout",
          "output_type": "stream",
          "text": [
            "EPOCH 31/150 :\n"
          ]
        },
        {
          "name": "stderr",
          "output_type": "stream",
          "text": [
            "  train: 100%|██████████| 391/391 [00:09<00:00, 39.82it/s, train_acc=89.647, train_loss=1.57]\n",
            "   test: 100%|██████████| 79/79 [00:01<00:00, 39.74it/s, test_acc=76.632, test_loss=1.69]\n"
          ]
        },
        {
          "name": "stdout",
          "output_type": "stream",
          "text": [
            "EPOCH 32/150 :\n"
          ]
        },
        {
          "name": "stderr",
          "output_type": "stream",
          "text": [
            "  train: 100%|██████████| 391/391 [00:09<00:00, 39.81it/s, train_acc=90.109, train_loss=1.57]\n",
            "   test: 100%|██████████| 79/79 [00:02<00:00, 38.99it/s, test_acc=77.561, test_loss=1.69]\n"
          ]
        },
        {
          "name": "stdout",
          "output_type": "stream",
          "text": [
            "EPOCH 33/150 :\n"
          ]
        },
        {
          "name": "stderr",
          "output_type": "stream",
          "text": [
            "  train: 100%|██████████| 391/391 [00:09<00:00, 39.62it/s, train_acc=90.201, train_loss=1.57]\n",
            "   test: 100%|██████████| 79/79 [00:02<00:00, 38.69it/s, test_acc=77.008, test_loss=1.69]\n"
          ]
        },
        {
          "name": "stdout",
          "output_type": "stream",
          "text": [
            "EPOCH 34/150 :\n"
          ]
        },
        {
          "name": "stderr",
          "output_type": "stream",
          "text": [
            "  train: 100%|██████████| 391/391 [00:09<00:00, 39.78it/s, train_acc=90.679, train_loss=1.56]\n",
            "   test: 100%|██████████| 79/79 [00:01<00:00, 39.53it/s, test_acc=77.294, test_loss=1.69]\n"
          ]
        },
        {
          "name": "stdout",
          "output_type": "stream",
          "text": [
            "EPOCH 35/150 :\n"
          ]
        },
        {
          "name": "stderr",
          "output_type": "stream",
          "text": [
            "  train: 100%|██████████| 391/391 [00:10<00:00, 38.99it/s, train_acc=91.165, train_loss=1.56]\n",
            "   test: 100%|██████████| 79/79 [00:01<00:00, 39.80it/s, test_acc=77.888, test_loss=1.68]\n"
          ]
        },
        {
          "name": "stdout",
          "output_type": "stream",
          "text": [
            "EPOCH 36/150 :\n"
          ]
        },
        {
          "name": "stderr",
          "output_type": "stream",
          "text": [
            "  train: 100%|██████████| 391/391 [00:09<00:00, 40.48it/s, train_acc=91.360, train_loss=1.55]\n",
            "   test: 100%|██████████| 79/79 [00:01<00:00, 39.95it/s, test_acc=77.650, test_loss=1.69]\n"
          ]
        },
        {
          "name": "stdout",
          "output_type": "stream",
          "text": [
            "EPOCH 37/150 :\n"
          ]
        },
        {
          "name": "stderr",
          "output_type": "stream",
          "text": [
            "  train: 100%|██████████| 391/391 [00:09<00:00, 40.60it/s, train_acc=91.662, train_loss=1.55]\n",
            "   test: 100%|██████████| 79/79 [00:01<00:00, 40.16it/s, test_acc=77.700, test_loss=1.69]\n"
          ]
        },
        {
          "name": "stdout",
          "output_type": "stream",
          "text": [
            "EPOCH 38/150 :\n"
          ]
        },
        {
          "name": "stderr",
          "output_type": "stream",
          "text": [
            "  train: 100%|██████████| 391/391 [00:09<00:00, 40.02it/s, train_acc=91.961, train_loss=1.55]\n",
            "   test: 100%|██████████| 79/79 [00:01<00:00, 39.95it/s, test_acc=75.890, test_loss=1.7]\n"
          ]
        },
        {
          "name": "stdout",
          "output_type": "stream",
          "text": [
            "EPOCH 39/150 :\n"
          ]
        },
        {
          "name": "stderr",
          "output_type": "stream",
          "text": [
            "  train: 100%|██████████| 391/391 [00:09<00:00, 39.12it/s, train_acc=92.156, train_loss=1.55]\n",
            "   test: 100%|██████████| 79/79 [00:02<00:00, 38.81it/s, test_acc=77.769, test_loss=1.69]\n"
          ]
        },
        {
          "name": "stdout",
          "output_type": "stream",
          "text": [
            "EPOCH 40/150 :\n"
          ]
        },
        {
          "name": "stderr",
          "output_type": "stream",
          "text": [
            "  train: 100%|██████████| 391/391 [00:09<00:00, 39.68it/s, train_acc=92.379, train_loss=1.54]\n",
            "   test: 100%|██████████| 79/79 [00:02<00:00, 36.07it/s, test_acc=76.523, test_loss=1.7]\n"
          ]
        },
        {
          "name": "stdout",
          "output_type": "stream",
          "text": [
            "EPOCH 41/150 :\n"
          ]
        },
        {
          "name": "stderr",
          "output_type": "stream",
          "text": [
            "  train: 100%|██████████| 391/391 [00:09<00:00, 39.75it/s, train_acc=92.740, train_loss=1.54]\n",
            "   test: 100%|██████████| 79/79 [00:02<00:00, 38.42it/s, test_acc=77.848, test_loss=1.68]\n"
          ]
        },
        {
          "name": "stdout",
          "output_type": "stream",
          "text": [
            "EPOCH 42/150 :\n"
          ]
        },
        {
          "name": "stderr",
          "output_type": "stream",
          "text": [
            "  train: 100%|██████████| 391/391 [00:10<00:00, 38.99it/s, train_acc=92.824, train_loss=1.54]\n",
            "   test: 100%|██████████| 79/79 [00:02<00:00, 38.40it/s, test_acc=77.848, test_loss=1.68]\n"
          ]
        },
        {
          "name": "stdout",
          "output_type": "stream",
          "text": [
            "EPOCH 43/150 :\n"
          ]
        },
        {
          "name": "stderr",
          "output_type": "stream",
          "text": [
            "  train: 100%|██████████| 391/391 [00:09<00:00, 40.05it/s, train_acc=93.124, train_loss=1.54]\n",
            "   test: 100%|██████████| 79/79 [00:02<00:00, 38.74it/s, test_acc=76.948, test_loss=1.69]\n"
          ]
        },
        {
          "name": "stdout",
          "output_type": "stream",
          "text": [
            "EPOCH 44/150 :\n"
          ]
        },
        {
          "name": "stderr",
          "output_type": "stream",
          "text": [
            "  train: 100%|██████████| 391/391 [00:09<00:00, 39.65it/s, train_acc=93.358, train_loss=1.53]\n",
            "   test: 100%|██████████| 79/79 [00:01<00:00, 40.22it/s, test_acc=77.284, test_loss=1.69]\n"
          ]
        },
        {
          "name": "stdout",
          "output_type": "stream",
          "text": [
            "EPOCH 45/150 :\n"
          ]
        },
        {
          "name": "stderr",
          "output_type": "stream",
          "text": [
            "  train: 100%|██████████| 391/391 [00:09<00:00, 39.78it/s, train_acc=93.443, train_loss=1.53]\n",
            "   test: 100%|██████████| 79/79 [00:02<00:00, 39.09it/s, test_acc=77.749, test_loss=1.69]\n"
          ]
        },
        {
          "name": "stdout",
          "output_type": "stream",
          "text": [
            "EPOCH 46/150 :\n"
          ]
        },
        {
          "name": "stderr",
          "output_type": "stream",
          "text": [
            "  train: 100%|██████████| 391/391 [00:09<00:00, 39.24it/s, train_acc=93.512, train_loss=1.53]\n",
            "   test: 100%|██████████| 79/79 [00:02<00:00, 39.35it/s, test_acc=78.135, test_loss=1.68]\n"
          ]
        },
        {
          "name": "stdout",
          "output_type": "stream",
          "text": [
            "EPOCH 47/150 :\n"
          ]
        },
        {
          "name": "stderr",
          "output_type": "stream",
          "text": [
            "  train: 100%|██████████| 391/391 [00:09<00:00, 40.32it/s, train_acc=93.810, train_loss=1.53]\n",
            "   test: 100%|██████████| 79/79 [00:01<00:00, 39.94it/s, test_acc=76.780, test_loss=1.69]\n"
          ]
        },
        {
          "name": "stdout",
          "output_type": "stream",
          "text": [
            "EPOCH 48/150 :\n"
          ]
        },
        {
          "name": "stderr",
          "output_type": "stream",
          "text": [
            "  train: 100%|██████████| 391/391 [00:09<00:00, 40.22it/s, train_acc=93.980, train_loss=1.53]\n",
            "   test: 100%|██████████| 79/79 [00:02<00:00, 38.90it/s, test_acc=77.472, test_loss=1.69]\n"
          ]
        },
        {
          "name": "stdout",
          "output_type": "stream",
          "text": [
            "EPOCH 49/150 :\n"
          ]
        },
        {
          "name": "stderr",
          "output_type": "stream",
          "text": [
            "  train: 100%|██████████| 391/391 [00:09<00:00, 39.84it/s, train_acc=94.171, train_loss=1.52]\n",
            "   test: 100%|██████████| 79/79 [00:02<00:00, 39.14it/s, test_acc=77.987, test_loss=1.68]\n"
          ]
        },
        {
          "name": "stdout",
          "output_type": "stream",
          "text": [
            "EPOCH 50/150 :\n"
          ]
        },
        {
          "name": "stderr",
          "output_type": "stream",
          "text": [
            "  train: 100%|██████████| 391/391 [00:09<00:00, 39.61it/s, train_acc=94.217, train_loss=1.52]\n",
            "   test: 100%|██████████| 79/79 [00:02<00:00, 39.27it/s, test_acc=77.898, test_loss=1.68]\n"
          ]
        },
        {
          "name": "stdout",
          "output_type": "stream",
          "text": [
            "EPOCH 51/150 :\n"
          ]
        },
        {
          "name": "stderr",
          "output_type": "stream",
          "text": [
            "  train: 100%|██████████| 391/391 [00:10<00:00, 38.62it/s, train_acc=94.442, train_loss=1.52]\n",
            "   test: 100%|██████████| 79/79 [00:02<00:00, 37.22it/s, test_acc=77.907, test_loss=1.68]\n"
          ]
        },
        {
          "name": "stdout",
          "output_type": "stream",
          "text": [
            "EPOCH 52/150 :\n"
          ]
        },
        {
          "name": "stderr",
          "output_type": "stream",
          "text": [
            "  train: 100%|██████████| 391/391 [00:09<00:00, 39.47it/s, train_acc=94.604, train_loss=1.52]\n",
            "   test: 100%|██████████| 79/79 [00:02<00:00, 38.58it/s, test_acc=78.580, test_loss=1.68]\n"
          ]
        },
        {
          "name": "stdout",
          "output_type": "stream",
          "text": [
            "EPOCH 53/150 :\n"
          ]
        },
        {
          "name": "stderr",
          "output_type": "stream",
          "text": [
            "  train: 100%|██████████| 391/391 [00:10<00:00, 38.94it/s, train_acc=94.668, train_loss=1.52]\n",
            "   test: 100%|██████████| 79/79 [00:02<00:00, 39.03it/s, test_acc=78.066, test_loss=1.68]\n"
          ]
        },
        {
          "name": "stdout",
          "output_type": "stream",
          "text": [
            "EPOCH 54/150 :\n"
          ]
        },
        {
          "name": "stderr",
          "output_type": "stream",
          "text": [
            "  train: 100%|██████████| 391/391 [00:10<00:00, 38.77it/s, train_acc=94.813, train_loss=1.52]\n",
            "   test: 100%|██████████| 79/79 [00:02<00:00, 38.74it/s, test_acc=78.234, test_loss=1.68]\n"
          ]
        },
        {
          "name": "stdout",
          "output_type": "stream",
          "text": [
            "EPOCH 55/150 :\n"
          ]
        },
        {
          "name": "stderr",
          "output_type": "stream",
          "text": [
            "  train: 100%|██████████| 391/391 [00:09<00:00, 39.23it/s, train_acc=94.895, train_loss=1.52]\n",
            "   test: 100%|██████████| 79/79 [00:02<00:00, 38.08it/s, test_acc=78.135, test_loss=1.68]\n"
          ]
        },
        {
          "name": "stdout",
          "output_type": "stream",
          "text": [
            "EPOCH 56/150 :\n"
          ]
        },
        {
          "name": "stderr",
          "output_type": "stream",
          "text": [
            "  train: 100%|██████████| 391/391 [00:09<00:00, 39.17it/s, train_acc=95.009, train_loss=1.52]\n",
            "   test: 100%|██████████| 79/79 [00:02<00:00, 39.37it/s, test_acc=77.225, test_loss=1.69]\n"
          ]
        },
        {
          "name": "stdout",
          "output_type": "stream",
          "text": [
            "EPOCH 57/150 :\n"
          ]
        },
        {
          "name": "stderr",
          "output_type": "stream",
          "text": [
            "  train: 100%|██████████| 391/391 [00:10<00:00, 39.09it/s, train_acc=95.118, train_loss=1.51]\n",
            "   test: 100%|██████████| 79/79 [00:01<00:00, 40.79it/s, test_acc=78.145, test_loss=1.68]\n"
          ]
        },
        {
          "name": "stdout",
          "output_type": "stream",
          "text": [
            "EPOCH 58/150 :\n"
          ]
        },
        {
          "name": "stderr",
          "output_type": "stream",
          "text": [
            "  train: 100%|██████████| 391/391 [00:09<00:00, 40.29it/s, train_acc=95.215, train_loss=1.51]\n",
            "   test: 100%|██████████| 79/79 [00:02<00:00, 39.29it/s, test_acc=78.392, test_loss=1.68]\n"
          ]
        },
        {
          "name": "stdout",
          "output_type": "stream",
          "text": [
            "EPOCH 59/150 :\n"
          ]
        },
        {
          "name": "stderr",
          "output_type": "stream",
          "text": [
            "  train: 100%|██████████| 391/391 [00:09<00:00, 39.86it/s, train_acc=95.265, train_loss=1.51]\n",
            "   test: 100%|██████████| 79/79 [00:02<00:00, 37.32it/s, test_acc=78.659, test_loss=1.67]\n"
          ]
        },
        {
          "name": "stdout",
          "output_type": "stream",
          "text": [
            "EPOCH 60/150 :\n"
          ]
        },
        {
          "name": "stderr",
          "output_type": "stream",
          "text": [
            "  train: 100%|██████████| 391/391 [00:09<00:00, 40.40it/s, train_acc=95.361, train_loss=1.51]\n",
            "   test: 100%|██████████| 79/79 [00:02<00:00, 35.85it/s, test_acc=78.095, test_loss=1.68]\n"
          ]
        },
        {
          "name": "stdout",
          "output_type": "stream",
          "text": [
            "EPOCH 61/150 :\n"
          ]
        },
        {
          "name": "stderr",
          "output_type": "stream",
          "text": [
            "  train: 100%|██████████| 391/391 [00:09<00:00, 41.18it/s, train_acc=95.542, train_loss=1.51]\n",
            "   test: 100%|██████████| 79/79 [00:02<00:00, 29.24it/s, test_acc=77.670, test_loss=1.69]\n"
          ]
        },
        {
          "name": "stdout",
          "output_type": "stream",
          "text": [
            "EPOCH 62/150 :\n"
          ]
        },
        {
          "name": "stderr",
          "output_type": "stream",
          "text": [
            "  train: 100%|██████████| 391/391 [00:09<00:00, 40.86it/s, train_acc=95.470, train_loss=1.51]\n",
            "   test: 100%|██████████| 79/79 [00:02<00:00, 33.93it/s, test_acc=77.255, test_loss=1.69]\n"
          ]
        },
        {
          "name": "stdout",
          "output_type": "stream",
          "text": [
            "EPOCH 63/150 :\n"
          ]
        },
        {
          "name": "stderr",
          "output_type": "stream",
          "text": [
            "  train: 100%|██████████| 391/391 [00:09<00:00, 42.07it/s, train_acc=95.585, train_loss=1.51]\n",
            "   test: 100%|██████████| 79/79 [00:02<00:00, 31.11it/s, test_acc=79.045, test_loss=1.67]\n"
          ]
        },
        {
          "name": "stdout",
          "output_type": "stream",
          "text": [
            "EPOCH 64/150 :\n"
          ]
        },
        {
          "name": "stderr",
          "output_type": "stream",
          "text": [
            "  train: 100%|██████████| 391/391 [00:09<00:00, 42.03it/s, train_acc=95.645, train_loss=1.51]\n",
            "   test: 100%|██████████| 79/79 [00:02<00:00, 29.49it/s, test_acc=77.383, test_loss=1.69]\n"
          ]
        },
        {
          "name": "stdout",
          "output_type": "stream",
          "text": [
            "EPOCH 65/150 :\n"
          ]
        },
        {
          "name": "stderr",
          "output_type": "stream",
          "text": [
            "  train: 100%|██████████| 391/391 [00:09<00:00, 42.47it/s, train_acc=95.775, train_loss=1.51]\n",
            "   test: 100%|██████████| 79/79 [00:02<00:00, 29.34it/s, test_acc=78.778, test_loss=1.68]\n"
          ]
        },
        {
          "name": "stdout",
          "output_type": "stream",
          "text": [
            "EPOCH 66/150 :\n"
          ]
        },
        {
          "name": "stderr",
          "output_type": "stream",
          "text": [
            "  train: 100%|██████████| 391/391 [00:09<00:00, 41.78it/s, train_acc=95.860, train_loss=1.51]\n",
            "   test: 100%|██████████| 79/79 [00:02<00:00, 30.71it/s, test_acc=77.937, test_loss=1.68]\n"
          ]
        },
        {
          "name": "stdout",
          "output_type": "stream",
          "text": [
            "EPOCH 67/150 :\n"
          ]
        },
        {
          "name": "stderr",
          "output_type": "stream",
          "text": [
            "  train: 100%|██████████| 391/391 [00:09<00:00, 40.83it/s, train_acc=95.912, train_loss=1.51]\n",
            "   test: 100%|██████████| 79/79 [00:02<00:00, 31.70it/s, test_acc=79.094, test_loss=1.67]\n"
          ]
        },
        {
          "name": "stdout",
          "output_type": "stream",
          "text": [
            "EPOCH 68/150 :\n"
          ]
        },
        {
          "name": "stderr",
          "output_type": "stream",
          "text": [
            "  train: 100%|██████████| 391/391 [00:09<00:00, 40.82it/s, train_acc=95.980, train_loss=1.5]\n",
            "   test: 100%|██████████| 79/79 [00:02<00:00, 33.70it/s, test_acc=78.432, test_loss=1.68]\n"
          ]
        },
        {
          "name": "stdout",
          "output_type": "stream",
          "text": [
            "EPOCH 69/150 :\n"
          ]
        },
        {
          "name": "stderr",
          "output_type": "stream",
          "text": [
            "  train: 100%|██████████| 391/391 [00:09<00:00, 40.91it/s, train_acc=95.955, train_loss=1.5]\n",
            "   test: 100%|██████████| 79/79 [00:02<00:00, 34.40it/s, test_acc=79.134, test_loss=1.67]\n"
          ]
        },
        {
          "name": "stdout",
          "output_type": "stream",
          "text": [
            "EPOCH 70/150 :\n"
          ]
        },
        {
          "name": "stderr",
          "output_type": "stream",
          "text": [
            "  train: 100%|██████████| 391/391 [00:09<00:00, 39.38it/s, train_acc=96.077, train_loss=1.5]\n",
            "   test: 100%|██████████| 79/79 [00:02<00:00, 34.78it/s, test_acc=78.273, test_loss=1.68]\n"
          ]
        },
        {
          "name": "stdout",
          "output_type": "stream",
          "text": [
            "EPOCH 71/150 :\n"
          ]
        },
        {
          "name": "stderr",
          "output_type": "stream",
          "text": [
            "  train: 100%|██████████| 391/391 [00:09<00:00, 39.68it/s, train_acc=96.117, train_loss=1.5]\n",
            "   test: 100%|██████████| 79/79 [00:02<00:00, 36.74it/s, test_acc=78.619, test_loss=1.68]\n"
          ]
        },
        {
          "name": "stdout",
          "output_type": "stream",
          "text": [
            "EPOCH 72/150 :\n"
          ]
        },
        {
          "name": "stderr",
          "output_type": "stream",
          "text": [
            "  train: 100%|██████████| 391/391 [00:09<00:00, 39.45it/s, train_acc=96.097, train_loss=1.5]\n",
            "   test: 100%|██████████| 79/79 [00:02<00:00, 39.27it/s, test_acc=78.224, test_loss=1.68]\n"
          ]
        },
        {
          "name": "stdout",
          "output_type": "stream",
          "text": [
            "EPOCH 73/150 :\n"
          ]
        },
        {
          "name": "stderr",
          "output_type": "stream",
          "text": [
            "  train: 100%|██████████| 391/391 [00:09<00:00, 39.43it/s, train_acc=96.158, train_loss=1.5]\n",
            "   test: 100%|██████████| 79/79 [00:02<00:00, 38.70it/s, test_acc=78.352, test_loss=1.68]\n"
          ]
        },
        {
          "name": "stdout",
          "output_type": "stream",
          "text": [
            "EPOCH 74/150 :\n"
          ]
        },
        {
          "name": "stderr",
          "output_type": "stream",
          "text": [
            "  train: 100%|██████████| 391/391 [00:09<00:00, 39.44it/s, train_acc=96.233, train_loss=1.5]\n",
            "   test: 100%|██████████| 79/79 [00:02<00:00, 36.80it/s, test_acc=78.600, test_loss=1.68]\n"
          ]
        },
        {
          "name": "stdout",
          "output_type": "stream",
          "text": [
            "EPOCH 75/150 :\n"
          ]
        },
        {
          "name": "stderr",
          "output_type": "stream",
          "text": [
            "  train: 100%|██████████| 391/391 [00:09<00:00, 39.23it/s, train_acc=96.286, train_loss=1.5]\n",
            "   test: 100%|██████████| 79/79 [00:01<00:00, 40.64it/s, test_acc=78.708, test_loss=1.68]\n"
          ]
        },
        {
          "name": "stdout",
          "output_type": "stream",
          "text": [
            "EPOCH 76/150 :\n"
          ]
        },
        {
          "name": "stderr",
          "output_type": "stream",
          "text": [
            "  train: 100%|██████████| 391/391 [00:09<00:00, 40.25it/s, train_acc=96.328, train_loss=1.5]\n",
            "   test: 100%|██████████| 79/79 [00:02<00:00, 39.44it/s, test_acc=78.738, test_loss=1.67]\n"
          ]
        },
        {
          "name": "stdout",
          "output_type": "stream",
          "text": [
            "EPOCH 77/150 :\n"
          ]
        },
        {
          "name": "stderr",
          "output_type": "stream",
          "text": [
            "  train: 100%|██████████| 391/391 [00:09<00:00, 40.09it/s, train_acc=96.314, train_loss=1.5]\n",
            "   test: 100%|██████████| 79/79 [00:02<00:00, 37.99it/s, test_acc=78.323, test_loss=1.68]\n"
          ]
        },
        {
          "name": "stdout",
          "output_type": "stream",
          "text": [
            "EPOCH 78/150 :\n"
          ]
        },
        {
          "name": "stderr",
          "output_type": "stream",
          "text": [
            "  train: 100%|██████████| 391/391 [00:09<00:00, 40.30it/s, train_acc=96.443, train_loss=1.5]\n",
            "   test: 100%|██████████| 79/79 [00:01<00:00, 39.71it/s, test_acc=78.234, test_loss=1.68]\n"
          ]
        },
        {
          "name": "stdout",
          "output_type": "stream",
          "text": [
            "EPOCH 79/150 :\n"
          ]
        },
        {
          "name": "stderr",
          "output_type": "stream",
          "text": [
            "  train: 100%|██████████| 391/391 [00:09<00:00, 40.12it/s, train_acc=96.446, train_loss=1.5]\n",
            "   test: 100%|██████████| 79/79 [00:02<00:00, 37.84it/s, test_acc=78.412, test_loss=1.68]\n"
          ]
        },
        {
          "name": "stdout",
          "output_type": "stream",
          "text": [
            "EPOCH 80/150 :\n"
          ]
        },
        {
          "name": "stderr",
          "output_type": "stream",
          "text": [
            "  train: 100%|██████████| 391/391 [00:09<00:00, 39.31it/s, train_acc=96.439, train_loss=1.5]\n",
            "   test: 100%|██████████| 79/79 [00:02<00:00, 39.18it/s, test_acc=79.173, test_loss=1.67]\n"
          ]
        },
        {
          "name": "stdout",
          "output_type": "stream",
          "text": [
            "EPOCH 81/150 :\n"
          ]
        },
        {
          "name": "stderr",
          "output_type": "stream",
          "text": [
            "  train: 100%|██████████| 391/391 [00:09<00:00, 39.82it/s, train_acc=96.524, train_loss=1.5]\n",
            "   test: 100%|██████████| 79/79 [00:02<00:00, 39.18it/s, test_acc=78.748, test_loss=1.67]\n"
          ]
        },
        {
          "name": "stdout",
          "output_type": "stream",
          "text": [
            "EPOCH 82/150 :\n"
          ]
        },
        {
          "name": "stderr",
          "output_type": "stream",
          "text": [
            "  train: 100%|██████████| 391/391 [00:10<00:00, 38.25it/s, train_acc=96.572, train_loss=1.5]\n",
            "   test: 100%|██████████| 79/79 [00:02<00:00, 38.54it/s, test_acc=77.502, test_loss=1.69]\n"
          ]
        },
        {
          "name": "stdout",
          "output_type": "stream",
          "text": [
            "EPOCH 83/150 :\n"
          ]
        },
        {
          "name": "stderr",
          "output_type": "stream",
          "text": [
            "  train: 100%|██████████| 391/391 [00:10<00:00, 38.71it/s, train_acc=96.622, train_loss=1.5]\n",
            "   test: 100%|██████████| 79/79 [00:02<00:00, 39.31it/s, test_acc=78.619, test_loss=1.68]\n"
          ]
        },
        {
          "name": "stdout",
          "output_type": "stream",
          "text": [
            "EPOCH 84/150 :\n"
          ]
        },
        {
          "name": "stderr",
          "output_type": "stream",
          "text": [
            "  train: 100%|██████████| 391/391 [00:09<00:00, 39.39it/s, train_acc=96.651, train_loss=1.5]\n",
            "   test: 100%|██████████| 79/79 [00:02<00:00, 38.36it/s, test_acc=78.629, test_loss=1.67]\n"
          ]
        },
        {
          "name": "stdout",
          "output_type": "stream",
          "text": [
            "EPOCH 85/150 :\n"
          ]
        },
        {
          "name": "stderr",
          "output_type": "stream",
          "text": [
            "  train: 100%|██████████| 391/391 [00:10<00:00, 38.27it/s, train_acc=96.728, train_loss=1.5]\n",
            "   test: 100%|██████████| 79/79 [00:02<00:00, 38.69it/s, test_acc=79.124, test_loss=1.67]\n"
          ]
        },
        {
          "name": "stdout",
          "output_type": "stream",
          "text": [
            "EPOCH 86/150 :\n"
          ]
        },
        {
          "name": "stderr",
          "output_type": "stream",
          "text": [
            "  train: 100%|██████████| 391/391 [00:10<00:00, 39.09it/s, train_acc=96.689, train_loss=1.5]\n",
            "   test: 100%|██████████| 79/79 [00:02<00:00, 37.62it/s, test_acc=78.728, test_loss=1.67]\n"
          ]
        },
        {
          "name": "stdout",
          "output_type": "stream",
          "text": [
            "EPOCH 87/150 :\n"
          ]
        },
        {
          "name": "stderr",
          "output_type": "stream",
          "text": [
            "  train: 100%|██████████| 391/391 [00:10<00:00, 38.51it/s, train_acc=96.732, train_loss=1.5]\n",
            "   test: 100%|██████████| 79/79 [00:02<00:00, 37.67it/s, test_acc=79.084, test_loss=1.67]\n"
          ]
        },
        {
          "name": "stdout",
          "output_type": "stream",
          "text": [
            "EPOCH 88/150 :\n"
          ]
        },
        {
          "name": "stderr",
          "output_type": "stream",
          "text": [
            "  train: 100%|██████████| 391/391 [00:10<00:00, 37.72it/s, train_acc=96.757, train_loss=1.5]\n",
            "   test: 100%|██████████| 79/79 [00:02<00:00, 37.36it/s, test_acc=78.708, test_loss=1.67]\n"
          ]
        },
        {
          "name": "stdout",
          "output_type": "stream",
          "text": [
            "EPOCH 89/150 :\n"
          ]
        },
        {
          "name": "stderr",
          "output_type": "stream",
          "text": [
            "  train: 100%|██████████| 391/391 [00:10<00:00, 38.82it/s, train_acc=96.804, train_loss=1.5]\n",
            "   test: 100%|██████████| 79/79 [00:02<00:00, 36.23it/s, test_acc=79.371, test_loss=1.67]\n"
          ]
        },
        {
          "name": "stdout",
          "output_type": "stream",
          "text": [
            "EPOCH 90/150 :\n"
          ]
        },
        {
          "name": "stderr",
          "output_type": "stream",
          "text": [
            "  train: 100%|██████████| 391/391 [00:10<00:00, 38.19it/s, train_acc=96.827, train_loss=1.5]\n",
            "   test: 100%|██████████| 79/79 [00:02<00:00, 37.34it/s, test_acc=78.066, test_loss=1.68]\n"
          ]
        },
        {
          "name": "stdout",
          "output_type": "stream",
          "text": [
            "EPOCH 91/150 :\n"
          ]
        },
        {
          "name": "stderr",
          "output_type": "stream",
          "text": [
            "  train: 100%|██████████| 391/391 [00:10<00:00, 38.78it/s, train_acc=96.851, train_loss=1.49]\n",
            "   test: 100%|██████████| 79/79 [00:02<00:00, 38.21it/s, test_acc=78.896, test_loss=1.67]\n"
          ]
        },
        {
          "name": "stdout",
          "output_type": "stream",
          "text": [
            "EPOCH 92/150 :\n"
          ]
        },
        {
          "name": "stderr",
          "output_type": "stream",
          "text": [
            "  train: 100%|██████████| 391/391 [00:10<00:00, 38.29it/s, train_acc=96.914, train_loss=1.49]\n",
            "   test: 100%|██████████| 79/79 [00:02<00:00, 37.74it/s, test_acc=79.064, test_loss=1.67]\n"
          ]
        },
        {
          "name": "stdout",
          "output_type": "stream",
          "text": [
            "EPOCH 93/150 :\n"
          ]
        },
        {
          "name": "stderr",
          "output_type": "stream",
          "text": [
            "  train: 100%|██████████| 391/391 [00:10<00:00, 37.65it/s, train_acc=96.957, train_loss=1.49]\n",
            "   test: 100%|██████████| 79/79 [00:02<00:00, 36.51it/s, test_acc=78.600, test_loss=1.67]\n"
          ]
        },
        {
          "name": "stdout",
          "output_type": "stream",
          "text": [
            "EPOCH 94/150 :\n"
          ]
        },
        {
          "name": "stderr",
          "output_type": "stream",
          "text": [
            "  train: 100%|██████████| 391/391 [00:10<00:00, 38.45it/s, train_acc=96.914, train_loss=1.49]\n",
            "   test: 100%|██████████| 79/79 [00:02<00:00, 36.86it/s, test_acc=78.788, test_loss=1.67]\n"
          ]
        },
        {
          "name": "stdout",
          "output_type": "stream",
          "text": [
            "EPOCH 95/150 :\n"
          ]
        },
        {
          "name": "stderr",
          "output_type": "stream",
          "text": [
            "  train: 100%|██████████| 391/391 [00:09<00:00, 39.50it/s, train_acc=96.982, train_loss=1.49]\n",
            "   test: 100%|██████████| 79/79 [00:02<00:00, 38.39it/s, test_acc=78.639, test_loss=1.68]\n"
          ]
        },
        {
          "name": "stdout",
          "output_type": "stream",
          "text": [
            "EPOCH 96/150 :\n"
          ]
        },
        {
          "name": "stderr",
          "output_type": "stream",
          "text": [
            "  train: 100%|██████████| 391/391 [00:09<00:00, 39.29it/s, train_acc=97.004, train_loss=1.49]\n",
            "   test: 100%|██████████| 79/79 [00:02<00:00, 38.26it/s, test_acc=78.778, test_loss=1.67]\n"
          ]
        },
        {
          "name": "stdout",
          "output_type": "stream",
          "text": [
            "EPOCH 97/150 :\n"
          ]
        },
        {
          "name": "stderr",
          "output_type": "stream",
          "text": [
            "  train: 100%|██████████| 391/391 [00:10<00:00, 39.07it/s, train_acc=97.062, train_loss=1.49]\n",
            "   test: 100%|██████████| 79/79 [00:02<00:00, 37.87it/s, test_acc=78.333, test_loss=1.68]\n"
          ]
        },
        {
          "name": "stdout",
          "output_type": "stream",
          "text": [
            "EPOCH 98/150 :\n"
          ]
        },
        {
          "name": "stderr",
          "output_type": "stream",
          "text": [
            "  train: 100%|██████████| 391/391 [00:09<00:00, 39.20it/s, train_acc=97.102, train_loss=1.49]\n",
            "   test: 100%|██████████| 79/79 [00:02<00:00, 39.00it/s, test_acc=78.718, test_loss=1.67]\n"
          ]
        },
        {
          "name": "stdout",
          "output_type": "stream",
          "text": [
            "EPOCH 99/150 :\n"
          ]
        },
        {
          "name": "stderr",
          "output_type": "stream",
          "text": [
            "  train: 100%|██████████| 391/391 [00:10<00:00, 38.44it/s, train_acc=97.119, train_loss=1.49]\n",
            "   test: 100%|██████████| 79/79 [00:02<00:00, 38.00it/s, test_acc=78.244, test_loss=1.68]\n"
          ]
        },
        {
          "name": "stdout",
          "output_type": "stream",
          "text": [
            "EPOCH 100/150 :\n"
          ]
        },
        {
          "name": "stderr",
          "output_type": "stream",
          "text": [
            "  train: 100%|██████████| 391/391 [00:10<00:00, 38.72it/s, train_acc=97.156, train_loss=1.49]\n",
            "   test: 100%|██████████| 79/79 [00:02<00:00, 38.64it/s, test_acc=78.867, test_loss=1.67]\n"
          ]
        },
        {
          "name": "stdout",
          "output_type": "stream",
          "text": [
            "EPOCH 101/150 :\n"
          ]
        },
        {
          "name": "stderr",
          "output_type": "stream",
          "text": [
            "  train: 100%|██████████| 391/391 [00:10<00:00, 38.71it/s, train_acc=97.189, train_loss=1.49]\n",
            "   test: 100%|██████████| 79/79 [00:02<00:00, 37.74it/s, test_acc=79.094, test_loss=1.67]\n"
          ]
        },
        {
          "name": "stdout",
          "output_type": "stream",
          "text": [
            "EPOCH 102/150 :\n"
          ]
        },
        {
          "name": "stderr",
          "output_type": "stream",
          "text": [
            "  train: 100%|██████████| 391/391 [00:10<00:00, 38.97it/s, train_acc=97.131, train_loss=1.49]\n",
            "   test: 100%|██████████| 79/79 [00:02<00:00, 37.70it/s, test_acc=79.282, test_loss=1.67]\n"
          ]
        },
        {
          "name": "stdout",
          "output_type": "stream",
          "text": [
            "EPOCH 103/150 :\n"
          ]
        },
        {
          "name": "stderr",
          "output_type": "stream",
          "text": [
            "  train: 100%|██████████| 391/391 [00:09<00:00, 39.46it/s, train_acc=97.154, train_loss=1.49]\n",
            "   test: 100%|██████████| 79/79 [00:02<00:00, 36.94it/s, test_acc=78.857, test_loss=1.67]\n"
          ]
        },
        {
          "name": "stdout",
          "output_type": "stream",
          "text": [
            "EPOCH 104/150 :\n"
          ]
        },
        {
          "name": "stderr",
          "output_type": "stream",
          "text": [
            "  train: 100%|██████████| 391/391 [00:10<00:00, 38.47it/s, train_acc=97.214, train_loss=1.49]\n",
            "   test: 100%|██████████| 79/79 [00:02<00:00, 36.60it/s, test_acc=79.193, test_loss=1.67]\n"
          ]
        },
        {
          "name": "stdout",
          "output_type": "stream",
          "text": [
            "EPOCH 105/150 :\n"
          ]
        },
        {
          "name": "stderr",
          "output_type": "stream",
          "text": [
            "  train: 100%|██████████| 391/391 [00:10<00:00, 39.00it/s, train_acc=97.211, train_loss=1.49]\n",
            "   test: 100%|██████████| 79/79 [00:02<00:00, 38.46it/s, test_acc=78.738, test_loss=1.67]\n"
          ]
        },
        {
          "name": "stdout",
          "output_type": "stream",
          "text": [
            "EPOCH 106/150 :\n"
          ]
        },
        {
          "name": "stderr",
          "output_type": "stream",
          "text": [
            "  train: 100%|██████████| 391/391 [00:09<00:00, 39.55it/s, train_acc=97.201, train_loss=1.49]\n",
            "   test: 100%|██████████| 79/79 [00:02<00:00, 38.47it/s, test_acc=79.183, test_loss=1.67]\n"
          ]
        },
        {
          "name": "stdout",
          "output_type": "stream",
          "text": [
            "EPOCH 107/150 :\n"
          ]
        },
        {
          "name": "stderr",
          "output_type": "stream",
          "text": [
            "  train: 100%|██████████| 391/391 [00:10<00:00, 38.95it/s, train_acc=97.238, train_loss=1.49]\n",
            "   test: 100%|██████████| 79/79 [00:02<00:00, 37.69it/s, test_acc=79.114, test_loss=1.67]\n"
          ]
        },
        {
          "name": "stdout",
          "output_type": "stream",
          "text": [
            "EPOCH 108/150 :\n"
          ]
        },
        {
          "name": "stderr",
          "output_type": "stream",
          "text": [
            "  train: 100%|██████████| 391/391 [00:09<00:00, 39.78it/s, train_acc=97.311, train_loss=1.49]\n",
            "   test: 100%|██████████| 79/79 [00:02<00:00, 37.63it/s, test_acc=79.252, test_loss=1.67]\n"
          ]
        },
        {
          "name": "stdout",
          "output_type": "stream",
          "text": [
            "EPOCH 109/150 :\n"
          ]
        },
        {
          "name": "stderr",
          "output_type": "stream",
          "text": [
            "  train: 100%|██████████| 391/391 [00:10<00:00, 38.45it/s, train_acc=97.230, train_loss=1.49]\n",
            "   test: 100%|██████████| 79/79 [00:02<00:00, 36.77it/s, test_acc=79.104, test_loss=1.67]\n"
          ]
        },
        {
          "name": "stdout",
          "output_type": "stream",
          "text": [
            "EPOCH 110/150 :\n"
          ]
        },
        {
          "name": "stderr",
          "output_type": "stream",
          "text": [
            "  train: 100%|██████████| 391/391 [00:10<00:00, 38.37it/s, train_acc=97.320, train_loss=1.49]\n",
            "   test: 100%|██████████| 79/79 [00:02<00:00, 39.03it/s, test_acc=78.738, test_loss=1.67]\n"
          ]
        },
        {
          "name": "stdout",
          "output_type": "stream",
          "text": [
            "EPOCH 111/150 :\n"
          ]
        },
        {
          "name": "stderr",
          "output_type": "stream",
          "text": [
            "  train: 100%|██████████| 391/391 [00:09<00:00, 39.25it/s, train_acc=97.301, train_loss=1.49]\n",
            "   test: 100%|██████████| 79/79 [00:02<00:00, 37.87it/s, test_acc=79.183, test_loss=1.67]\n"
          ]
        },
        {
          "name": "stdout",
          "output_type": "stream",
          "text": [
            "EPOCH 112/150 :\n"
          ]
        },
        {
          "name": "stderr",
          "output_type": "stream",
          "text": [
            "  train: 100%|██████████| 391/391 [00:10<00:00, 39.01it/s, train_acc=97.334, train_loss=1.49]\n",
            "   test: 100%|██████████| 79/79 [00:02<00:00, 37.64it/s, test_acc=78.758, test_loss=1.67]\n"
          ]
        },
        {
          "name": "stdout",
          "output_type": "stream",
          "text": [
            "EPOCH 113/150 :\n"
          ]
        },
        {
          "name": "stderr",
          "output_type": "stream",
          "text": [
            "  train: 100%|██████████| 391/391 [00:10<00:00, 38.74it/s, train_acc=97.432, train_loss=1.49]\n",
            "   test: 100%|██████████| 79/79 [00:02<00:00, 37.72it/s, test_acc=78.738, test_loss=1.67]\n"
          ]
        },
        {
          "name": "stdout",
          "output_type": "stream",
          "text": [
            "EPOCH 114/150 :\n"
          ]
        },
        {
          "name": "stderr",
          "output_type": "stream",
          "text": [
            "  train: 100%|██████████| 391/391 [00:09<00:00, 39.45it/s, train_acc=97.392, train_loss=1.49]\n",
            "   test: 100%|██████████| 79/79 [00:02<00:00, 35.65it/s, test_acc=79.302, test_loss=1.67]\n"
          ]
        },
        {
          "name": "stdout",
          "output_type": "stream",
          "text": [
            "EPOCH 115/150 :\n"
          ]
        },
        {
          "name": "stderr",
          "output_type": "stream",
          "text": [
            "  train: 100%|██████████| 391/391 [00:09<00:00, 39.66it/s, train_acc=97.391, train_loss=1.49]\n",
            "   test: 100%|██████████| 79/79 [00:02<00:00, 38.23it/s, test_acc=79.183, test_loss=1.67]\n"
          ]
        },
        {
          "name": "stdout",
          "output_type": "stream",
          "text": [
            "EPOCH 116/150 :\n"
          ]
        },
        {
          "name": "stderr",
          "output_type": "stream",
          "text": [
            "  train: 100%|██████████| 391/391 [00:09<00:00, 40.12it/s, train_acc=97.409, train_loss=1.49]\n",
            "   test: 100%|██████████| 79/79 [00:02<00:00, 38.37it/s, test_acc=79.183, test_loss=1.67]\n"
          ]
        },
        {
          "name": "stdout",
          "output_type": "stream",
          "text": [
            "EPOCH 117/150 :\n"
          ]
        },
        {
          "name": "stderr",
          "output_type": "stream",
          "text": [
            "  train: 100%|██████████| 391/391 [00:09<00:00, 39.47it/s, train_acc=97.425, train_loss=1.49]\n",
            "   test: 100%|██████████| 79/79 [00:02<00:00, 38.52it/s, test_acc=79.341, test_loss=1.67]\n"
          ]
        },
        {
          "name": "stdout",
          "output_type": "stream",
          "text": [
            "EPOCH 118/150 :\n"
          ]
        },
        {
          "name": "stderr",
          "output_type": "stream",
          "text": [
            "  train: 100%|██████████| 391/391 [00:09<00:00, 39.51it/s, train_acc=97.451, train_loss=1.49]\n",
            "   test: 100%|██████████| 79/79 [00:02<00:00, 38.77it/s, test_acc=78.768, test_loss=1.67]\n"
          ]
        },
        {
          "name": "stdout",
          "output_type": "stream",
          "text": [
            "EPOCH 119/150 :\n"
          ]
        },
        {
          "name": "stderr",
          "output_type": "stream",
          "text": [
            "  train: 100%|██████████| 391/391 [00:09<00:00, 39.17it/s, train_acc=97.407, train_loss=1.49]\n",
            "   test: 100%|██████████| 79/79 [00:02<00:00, 36.38it/s, test_acc=78.807, test_loss=1.67]\n"
          ]
        },
        {
          "name": "stdout",
          "output_type": "stream",
          "text": [
            "EPOCH 120/150 :\n"
          ]
        },
        {
          "name": "stderr",
          "output_type": "stream",
          "text": [
            "  train: 100%|██████████| 391/391 [00:10<00:00, 38.60it/s, train_acc=97.491, train_loss=1.49]\n",
            "   test: 100%|██████████| 79/79 [00:02<00:00, 38.23it/s, test_acc=79.074, test_loss=1.67]\n"
          ]
        },
        {
          "name": "stdout",
          "output_type": "stream",
          "text": [
            "EPOCH 121/150 :\n"
          ]
        },
        {
          "name": "stderr",
          "output_type": "stream",
          "text": [
            "  train: 100%|██████████| 391/391 [00:09<00:00, 39.68it/s, train_acc=97.484, train_loss=1.49]\n",
            "   test: 100%|██████████| 79/79 [00:02<00:00, 38.45it/s, test_acc=79.064, test_loss=1.67]\n"
          ]
        },
        {
          "name": "stdout",
          "output_type": "stream",
          "text": [
            "EPOCH 122/150 :\n"
          ]
        },
        {
          "name": "stderr",
          "output_type": "stream",
          "text": [
            "  train: 100%|██████████| 391/391 [00:09<00:00, 39.32it/s, train_acc=97.515, train_loss=1.49]\n",
            "   test: 100%|██████████| 79/79 [00:02<00:00, 37.98it/s, test_acc=79.015, test_loss=1.67]\n"
          ]
        },
        {
          "name": "stdout",
          "output_type": "stream",
          "text": [
            "EPOCH 123/150 :\n"
          ]
        },
        {
          "name": "stderr",
          "output_type": "stream",
          "text": [
            "  train: 100%|██████████| 391/391 [00:09<00:00, 39.79it/s, train_acc=97.526, train_loss=1.49]\n",
            "   test: 100%|██████████| 79/79 [00:02<00:00, 38.98it/s, test_acc=79.233, test_loss=1.67]\n"
          ]
        },
        {
          "name": "stdout",
          "output_type": "stream",
          "text": [
            "EPOCH 124/150 :\n"
          ]
        },
        {
          "name": "stderr",
          "output_type": "stream",
          "text": [
            "  train: 100%|██████████| 391/391 [00:09<00:00, 39.53it/s, train_acc=97.575, train_loss=1.49]\n",
            "   test: 100%|██████████| 79/79 [00:02<00:00, 37.74it/s, test_acc=78.975, test_loss=1.67]\n"
          ]
        },
        {
          "name": "stdout",
          "output_type": "stream",
          "text": [
            "EPOCH 125/150 :\n"
          ]
        },
        {
          "name": "stderr",
          "output_type": "stream",
          "text": [
            "  train: 100%|██████████| 391/391 [00:10<00:00, 38.52it/s, train_acc=97.576, train_loss=1.49]\n",
            "   test: 100%|██████████| 79/79 [00:02<00:00, 37.32it/s, test_acc=78.946, test_loss=1.67]\n"
          ]
        },
        {
          "name": "stdout",
          "output_type": "stream",
          "text": [
            "EPOCH 126/150 :\n"
          ]
        },
        {
          "name": "stderr",
          "output_type": "stream",
          "text": [
            "  train: 100%|██████████| 391/391 [00:09<00:00, 39.35it/s, train_acc=97.538, train_loss=1.49]\n",
            "   test: 100%|██████████| 79/79 [00:02<00:00, 37.64it/s, test_acc=78.699, test_loss=1.67]\n"
          ]
        },
        {
          "name": "stdout",
          "output_type": "stream",
          "text": [
            "EPOCH 127/150 :\n"
          ]
        },
        {
          "name": "stderr",
          "output_type": "stream",
          "text": [
            "  train: 100%|██████████| 391/391 [00:09<00:00, 39.20it/s, train_acc=97.595, train_loss=1.49]\n",
            "   test: 100%|██████████| 79/79 [00:02<00:00, 37.10it/s, test_acc=78.995, test_loss=1.67]\n"
          ]
        },
        {
          "name": "stdout",
          "output_type": "stream",
          "text": [
            "EPOCH 128/150 :\n"
          ]
        },
        {
          "name": "stderr",
          "output_type": "stream",
          "text": [
            "  train: 100%|██████████| 391/391 [00:09<00:00, 39.81it/s, train_acc=97.572, train_loss=1.49]\n",
            "   test: 100%|██████████| 79/79 [00:02<00:00, 37.65it/s, test_acc=78.679, test_loss=1.67]\n"
          ]
        },
        {
          "name": "stdout",
          "output_type": "stream",
          "text": [
            "EPOCH 129/150 :\n"
          ]
        },
        {
          "name": "stderr",
          "output_type": "stream",
          "text": [
            "  train: 100%|██████████| 391/391 [00:09<00:00, 40.02it/s, train_acc=97.542, train_loss=1.49]\n",
            "   test: 100%|██████████| 79/79 [00:02<00:00, 38.61it/s, test_acc=79.015, test_loss=1.67]\n"
          ]
        },
        {
          "name": "stdout",
          "output_type": "stream",
          "text": [
            "EPOCH 130/150 :\n"
          ]
        },
        {
          "name": "stderr",
          "output_type": "stream",
          "text": [
            "  train: 100%|██████████| 391/391 [00:09<00:00, 39.23it/s, train_acc=97.553, train_loss=1.49]\n",
            "   test: 100%|██████████| 79/79 [00:02<00:00, 38.60it/s, test_acc=79.084, test_loss=1.67]\n"
          ]
        },
        {
          "name": "stdout",
          "output_type": "stream",
          "text": [
            "EPOCH 131/150 :\n"
          ]
        },
        {
          "name": "stderr",
          "output_type": "stream",
          "text": [
            "  train: 100%|██████████| 391/391 [00:09<00:00, 40.00it/s, train_acc=97.578, train_loss=1.49]\n",
            "   test: 100%|██████████| 79/79 [00:02<00:00, 39.11it/s, test_acc=79.035, test_loss=1.67]\n"
          ]
        },
        {
          "name": "stdout",
          "output_type": "stream",
          "text": [
            "EPOCH 132/150 :\n"
          ]
        },
        {
          "name": "stderr",
          "output_type": "stream",
          "text": [
            "  train: 100%|██████████| 391/391 [00:09<00:00, 39.89it/s, train_acc=97.593, train_loss=1.49]\n",
            "   test: 100%|██████████| 79/79 [00:02<00:00, 38.05it/s, test_acc=78.966, test_loss=1.67]\n"
          ]
        },
        {
          "name": "stdout",
          "output_type": "stream",
          "text": [
            "EPOCH 133/150 :\n"
          ]
        },
        {
          "name": "stderr",
          "output_type": "stream",
          "text": [
            "  train: 100%|██████████| 391/391 [00:09<00:00, 40.09it/s, train_acc=97.596, train_loss=1.49]\n",
            "   test: 100%|██████████| 79/79 [00:02<00:00, 39.25it/s, test_acc=79.539, test_loss=1.67]\n"
          ]
        },
        {
          "name": "stdout",
          "output_type": "stream",
          "text": [
            "EPOCH 134/150 :\n"
          ]
        },
        {
          "name": "stderr",
          "output_type": "stream",
          "text": [
            "  train: 100%|██████████| 391/391 [00:09<00:00, 40.35it/s, train_acc=97.673, train_loss=1.49]\n",
            "   test: 100%|██████████| 79/79 [00:02<00:00, 39.04it/s, test_acc=78.867, test_loss=1.67]\n"
          ]
        },
        {
          "name": "stdout",
          "output_type": "stream",
          "text": [
            "EPOCH 135/150 :\n"
          ]
        },
        {
          "name": "stderr",
          "output_type": "stream",
          "text": [
            "  train: 100%|██████████| 391/391 [00:09<00:00, 39.55it/s, train_acc=97.653, train_loss=1.49]\n",
            "   test: 100%|██████████| 79/79 [00:02<00:00, 38.90it/s, test_acc=79.055, test_loss=1.67]\n"
          ]
        },
        {
          "name": "stdout",
          "output_type": "stream",
          "text": [
            "EPOCH 136/150 :\n"
          ]
        },
        {
          "name": "stderr",
          "output_type": "stream",
          "text": [
            "  train: 100%|██████████| 391/391 [00:09<00:00, 39.37it/s, train_acc=97.643, train_loss=1.49]\n",
            "   test: 100%|██████████| 79/79 [00:02<00:00, 39.20it/s, test_acc=78.649, test_loss=1.67]\n"
          ]
        },
        {
          "name": "stdout",
          "output_type": "stream",
          "text": [
            "EPOCH 137/150 :\n"
          ]
        },
        {
          "name": "stderr",
          "output_type": "stream",
          "text": [
            "  train: 100%|██████████| 391/391 [00:09<00:00, 39.92it/s, train_acc=97.668, train_loss=1.49]\n",
            "   test: 100%|██████████| 79/79 [00:02<00:00, 39.26it/s, test_acc=79.045, test_loss=1.67]\n"
          ]
        },
        {
          "name": "stdout",
          "output_type": "stream",
          "text": [
            "EPOCH 138/150 :\n"
          ]
        },
        {
          "name": "stderr",
          "output_type": "stream",
          "text": [
            "  train: 100%|██████████| 391/391 [00:09<00:00, 40.09it/s, train_acc=97.646, train_loss=1.49]\n",
            "   test: 100%|██████████| 79/79 [00:01<00:00, 39.52it/s, test_acc=78.768, test_loss=1.67]\n"
          ]
        },
        {
          "name": "stdout",
          "output_type": "stream",
          "text": [
            "EPOCH 139/150 :\n"
          ]
        },
        {
          "name": "stderr",
          "output_type": "stream",
          "text": [
            "  train: 100%|██████████| 391/391 [00:09<00:00, 40.05it/s, train_acc=97.677, train_loss=1.49]\n",
            "   test: 100%|██████████| 79/79 [00:02<00:00, 38.50it/s, test_acc=78.817, test_loss=1.67]\n"
          ]
        },
        {
          "name": "stdout",
          "output_type": "stream",
          "text": [
            "EPOCH 140/150 :\n"
          ]
        },
        {
          "name": "stderr",
          "output_type": "stream",
          "text": [
            "  train: 100%|██████████| 391/391 [00:09<00:00, 39.79it/s, train_acc=97.677, train_loss=1.49]\n",
            "   test: 100%|██████████| 79/79 [00:02<00:00, 38.44it/s, test_acc=79.104, test_loss=1.67]\n"
          ]
        },
        {
          "name": "stdout",
          "output_type": "stream",
          "text": [
            "EPOCH 141/150 :\n"
          ]
        },
        {
          "name": "stderr",
          "output_type": "stream",
          "text": [
            "  train: 100%|██████████| 391/391 [00:10<00:00, 38.33it/s, train_acc=97.675, train_loss=1.49]\n",
            "   test: 100%|██████████| 79/79 [00:02<00:00, 38.01it/s, test_acc=78.788, test_loss=1.67]\n"
          ]
        },
        {
          "name": "stdout",
          "output_type": "stream",
          "text": [
            "EPOCH 142/150 :\n"
          ]
        },
        {
          "name": "stderr",
          "output_type": "stream",
          "text": [
            "  train: 100%|██████████| 391/391 [00:09<00:00, 39.95it/s, train_acc=97.711, train_loss=1.49]\n",
            "   test: 100%|██████████| 79/79 [00:02<00:00, 39.26it/s, test_acc=79.223, test_loss=1.67]\n"
          ]
        },
        {
          "name": "stdout",
          "output_type": "stream",
          "text": [
            "EPOCH 143/150 :\n"
          ]
        },
        {
          "name": "stderr",
          "output_type": "stream",
          "text": [
            "  train: 100%|██████████| 391/391 [00:09<00:00, 40.05it/s, train_acc=97.695, train_loss=1.49]\n",
            "   test: 100%|██████████| 79/79 [00:02<00:00, 38.19it/s, test_acc=78.956, test_loss=1.67]\n"
          ]
        },
        {
          "name": "stdout",
          "output_type": "stream",
          "text": [
            "EPOCH 144/150 :\n"
          ]
        },
        {
          "name": "stderr",
          "output_type": "stream",
          "text": [
            "  train: 100%|██████████| 391/391 [00:09<00:00, 40.61it/s, train_acc=97.737, train_loss=1.48]\n",
            "   test: 100%|██████████| 79/79 [00:02<00:00, 36.07it/s, test_acc=79.084, test_loss=1.67]\n"
          ]
        },
        {
          "name": "stdout",
          "output_type": "stream",
          "text": [
            "EPOCH 145/150 :\n"
          ]
        },
        {
          "name": "stderr",
          "output_type": "stream",
          "text": [
            "  train: 100%|██████████| 391/391 [00:09<00:00, 39.80it/s, train_acc=97.716, train_loss=1.49]\n",
            "   test: 100%|██████████| 79/79 [00:02<00:00, 33.35it/s, test_acc=79.351, test_loss=1.67]\n"
          ]
        },
        {
          "name": "stdout",
          "output_type": "stream",
          "text": [
            "EPOCH 146/150 :\n"
          ]
        },
        {
          "name": "stderr",
          "output_type": "stream",
          "text": [
            "  train: 100%|██████████| 391/391 [00:09<00:00, 39.50it/s, train_acc=97.767, train_loss=1.48]\n",
            "   test: 100%|██████████| 79/79 [00:02<00:00, 34.40it/s, test_acc=79.252, test_loss=1.67]\n"
          ]
        },
        {
          "name": "stdout",
          "output_type": "stream",
          "text": [
            "EPOCH 147/150 :\n"
          ]
        },
        {
          "name": "stderr",
          "output_type": "stream",
          "text": [
            "  train: 100%|██████████| 391/391 [00:09<00:00, 41.42it/s, train_acc=97.747, train_loss=1.48]\n",
            "   test: 100%|██████████| 79/79 [00:02<00:00, 32.59it/s, test_acc=79.144, test_loss=1.67]\n"
          ]
        },
        {
          "name": "stdout",
          "output_type": "stream",
          "text": [
            "EPOCH 148/150 :\n"
          ]
        },
        {
          "name": "stderr",
          "output_type": "stream",
          "text": [
            "  train: 100%|██████████| 391/391 [00:09<00:00, 42.81it/s, train_acc=97.740, train_loss=1.48]\n",
            "   test: 100%|██████████| 79/79 [00:02<00:00, 30.71it/s, test_acc=79.233, test_loss=1.67]\n"
          ]
        },
        {
          "name": "stdout",
          "output_type": "stream",
          "text": [
            "EPOCH 149/150 :\n"
          ]
        },
        {
          "name": "stderr",
          "output_type": "stream",
          "text": [
            "  train: 100%|██████████| 391/391 [00:08<00:00, 43.83it/s, train_acc=97.747, train_loss=1.48]\n",
            "   test: 100%|██████████| 79/79 [00:02<00:00, 31.46it/s, test_acc=79.064, test_loss=1.67]\n"
          ]
        },
        {
          "name": "stdout",
          "output_type": "stream",
          "text": [
            "EPOCH 150/150 :\n"
          ]
        },
        {
          "name": "stderr",
          "output_type": "stream",
          "text": [
            "  train: 100%|██████████| 391/391 [00:09<00:00, 42.12it/s, train_acc=97.796, train_loss=1.48]\n",
            "   test: 100%|██████████| 79/79 [00:02<00:00, 32.39it/s, test_acc=79.193, test_loss=1.67]"
          ]
        },
        {
          "name": "stdout",
          "output_type": "stream",
          "text": [
            "\n",
            "\n",
            "Train time: 1794.299 seconds\n"
          ]
        },
        {
          "name": "stderr",
          "output_type": "stream",
          "text": [
            "\n"
          ]
        }
      ],
      "source": [
        "hparams = [\"CIFAR\", \"SCNNB\", 150]\n",
        "SCNNB_CIFAR_model, SCNNB_CIFAR_train_loss, SCNNB_CIFAR_train_accuracy, SCNNB_CIFAR_test_loss, SCNNB_CIFAR_test_accuracy = train(hparams ,CIFAR_train_dataloader, CIFAR_test_dataloader)"
      ]
    },
    {
      "cell_type": "code",
      "execution_count": 70,
      "metadata": {
        "colab": {
          "base_uri": "https://localhost:8080/"
        },
        "id": "UrfQCnYBQZP6",
        "outputId": "a8dbcc52-739e-4e06-bd70-814eb1f4d7f5"
      },
      "outputs": [
        {
          "name": "stdout",
          "output_type": "stream",
          "text": [
            "Maximum Test Accuracy for SCNNB model is:  79.53916455696202\n"
          ]
        }
      ],
      "source": [
        "SCNNB_max_acc = max(SCNNB_CIFAR_test_accuracy)\n",
        "SCNNB_MEAN = sum(SCNNB_CIFAR_test_accuracy)/len(SCNNB_CIFAR_test_accuracy)\n",
        "print(\"Maximum Test Accuracy for SCNNB model is: \", str(SCNNB_max_acc))"
      ]
    },
    {
      "cell_type": "code",
      "execution_count": 72,
      "metadata": {
        "id": "kHo7Ww9OQxwz"
      },
      "outputs": [],
      "source": [
        "torch.save(SCNNB_CIFAR_model.state_dict(), 'SCNNB_CIFAR')"
      ]
    },
    {
      "cell_type": "code",
      "execution_count": 73,
      "metadata": {
        "colab": {
          "base_uri": "https://localhost:8080/"
        },
        "id": "ag7qcRvH7-hI",
        "outputId": "69f28047-82e5-4a35-f6a5-d0189f317b37"
      },
      "outputs": [
        {
          "name": "stdout",
          "output_type": "stream",
          "text": [
            "EPOCH 1/150 :\n"
          ]
        },
        {
          "name": "stderr",
          "output_type": "stream",
          "text": [
            "  train: 100%|██████████| 391/391 [00:09<00:00, 40.47it/s, train_acc=39.835, train_loss=2.06]\n",
            "   test: 100%|██████████| 79/79 [00:02<00:00, 39.04it/s, test_acc=35.938, test_loss=2.09]\n"
          ]
        },
        {
          "name": "stdout",
          "output_type": "stream",
          "text": [
            "EPOCH 2/150 :\n"
          ]
        },
        {
          "name": "stderr",
          "output_type": "stream",
          "text": [
            "  train: 100%|██████████| 391/391 [00:09<00:00, 40.79it/s, train_acc=51.872, train_loss=1.94]\n",
            "   test: 100%|██████████| 79/79 [00:01<00:00, 40.01it/s, test_acc=51.483, test_loss=1.95]\n"
          ]
        },
        {
          "name": "stdout",
          "output_type": "stream",
          "text": [
            "EPOCH 3/150 :\n"
          ]
        },
        {
          "name": "stderr",
          "output_type": "stream",
          "text": [
            "  train: 100%|██████████| 391/391 [00:09<00:00, 40.98it/s, train_acc=57.783, train_loss=1.88]\n",
            "   test: 100%|██████████| 79/79 [00:01<00:00, 41.17it/s, test_acc=44.947, test_loss=2.01]\n"
          ]
        },
        {
          "name": "stdout",
          "output_type": "stream",
          "text": [
            "EPOCH 4/150 :\n"
          ]
        },
        {
          "name": "stderr",
          "output_type": "stream",
          "text": [
            "  train: 100%|██████████| 391/391 [00:09<00:00, 40.80it/s, train_acc=60.895, train_loss=1.85]\n",
            "   test: 100%|██████████| 79/79 [00:01<00:00, 41.23it/s, test_acc=59.227, test_loss=1.87]\n"
          ]
        },
        {
          "name": "stdout",
          "output_type": "stream",
          "text": [
            "EPOCH 5/150 :\n"
          ]
        },
        {
          "name": "stderr",
          "output_type": "stream",
          "text": [
            "  train: 100%|██████████| 391/391 [00:09<00:00, 40.86it/s, train_acc=63.114, train_loss=1.83]\n",
            "   test: 100%|██████████| 79/79 [00:01<00:00, 39.89it/s, test_acc=59.840, test_loss=1.86]\n"
          ]
        },
        {
          "name": "stdout",
          "output_type": "stream",
          "text": [
            "EPOCH 6/150 :\n"
          ]
        },
        {
          "name": "stderr",
          "output_type": "stream",
          "text": [
            "  train: 100%|██████████| 391/391 [00:09<00:00, 40.76it/s, train_acc=65.607, train_loss=1.81]\n",
            "   test: 100%|██████████| 79/79 [00:01<00:00, 39.53it/s, test_acc=61.818, test_loss=1.84]\n"
          ]
        },
        {
          "name": "stdout",
          "output_type": "stream",
          "text": [
            "EPOCH 7/150 :\n"
          ]
        },
        {
          "name": "stderr",
          "output_type": "stream",
          "text": [
            "  train: 100%|██████████| 391/391 [00:09<00:00, 39.75it/s, train_acc=67.372, train_loss=1.79]\n",
            "   test: 100%|██████████| 79/79 [00:02<00:00, 39.31it/s, test_acc=65.605, test_loss=1.81]\n"
          ]
        },
        {
          "name": "stdout",
          "output_type": "stream",
          "text": [
            "EPOCH 8/150 :\n"
          ]
        },
        {
          "name": "stderr",
          "output_type": "stream",
          "text": [
            "  train: 100%|██████████| 391/391 [00:09<00:00, 39.72it/s, train_acc=69.600, train_loss=1.77]\n",
            "   test: 100%|██████████| 79/79 [00:01<00:00, 40.20it/s, test_acc=66.822, test_loss=1.79]\n"
          ]
        },
        {
          "name": "stdout",
          "output_type": "stream",
          "text": [
            "EPOCH 9/150 :\n"
          ]
        },
        {
          "name": "stderr",
          "output_type": "stream",
          "text": [
            "  train: 100%|██████████| 391/391 [00:09<00:00, 40.48it/s, train_acc=71.163, train_loss=1.75]\n",
            "   test: 100%|██████████| 79/79 [00:02<00:00, 38.63it/s, test_acc=66.584, test_loss=1.79]\n"
          ]
        },
        {
          "name": "stdout",
          "output_type": "stream",
          "text": [
            "EPOCH 10/150 :\n"
          ]
        },
        {
          "name": "stderr",
          "output_type": "stream",
          "text": [
            "  train: 100%|██████████| 391/391 [00:09<00:00, 40.34it/s, train_acc=72.323, train_loss=1.74]\n",
            "   test: 100%|██████████| 79/79 [00:02<00:00, 37.78it/s, test_acc=67.939, test_loss=1.78]\n"
          ]
        },
        {
          "name": "stdout",
          "output_type": "stream",
          "text": [
            "EPOCH 11/150 :\n"
          ]
        },
        {
          "name": "stderr",
          "output_type": "stream",
          "text": [
            "  train: 100%|██████████| 391/391 [00:09<00:00, 40.98it/s, train_acc=73.867, train_loss=1.73]\n",
            "   test: 100%|██████████| 79/79 [00:02<00:00, 35.82it/s, test_acc=64.359, test_loss=1.82]\n"
          ]
        },
        {
          "name": "stdout",
          "output_type": "stream",
          "text": [
            "EPOCH 12/150 :\n"
          ]
        },
        {
          "name": "stderr",
          "output_type": "stream",
          "text": [
            "  train: 100%|██████████| 391/391 [00:09<00:00, 40.26it/s, train_acc=74.990, train_loss=1.72]\n",
            "   test: 100%|██████████| 79/79 [00:02<00:00, 34.56it/s, test_acc=62.362, test_loss=1.83]\n"
          ]
        },
        {
          "name": "stdout",
          "output_type": "stream",
          "text": [
            "EPOCH 13/150 :\n"
          ]
        },
        {
          "name": "stderr",
          "output_type": "stream",
          "text": [
            "  train: 100%|██████████| 391/391 [00:09<00:00, 41.60it/s, train_acc=76.257, train_loss=1.7]\n",
            "   test: 100%|██████████| 79/79 [00:02<00:00, 32.89it/s, test_acc=67.098, test_loss=1.79]\n"
          ]
        },
        {
          "name": "stdout",
          "output_type": "stream",
          "text": [
            "EPOCH 14/150 :\n"
          ]
        },
        {
          "name": "stderr",
          "output_type": "stream",
          "text": [
            "  train: 100%|██████████| 391/391 [00:09<00:00, 41.87it/s, train_acc=77.682, train_loss=1.69]\n",
            "   test: 100%|██████████| 79/79 [00:02<00:00, 31.31it/s, test_acc=71.203, test_loss=1.75]\n"
          ]
        },
        {
          "name": "stdout",
          "output_type": "stream",
          "text": [
            "EPOCH 15/150 :\n"
          ]
        },
        {
          "name": "stderr",
          "output_type": "stream",
          "text": [
            "  train: 100%|██████████| 391/391 [00:09<00:00, 42.94it/s, train_acc=78.285, train_loss=1.68]\n",
            "   test: 100%|██████████| 79/79 [00:02<00:00, 29.95it/s, test_acc=69.600, test_loss=1.77]\n"
          ]
        },
        {
          "name": "stdout",
          "output_type": "stream",
          "text": [
            "EPOCH 16/150 :\n"
          ]
        },
        {
          "name": "stderr",
          "output_type": "stream",
          "text": [
            "  train: 100%|██████████| 391/391 [00:09<00:00, 42.69it/s, train_acc=79.379, train_loss=1.67]\n",
            "   test: 100%|██████████| 79/79 [00:02<00:00, 32.35it/s, test_acc=70.945, test_loss=1.75]\n"
          ]
        },
        {
          "name": "stdout",
          "output_type": "stream",
          "text": [
            "EPOCH 17/150 :\n"
          ]
        },
        {
          "name": "stderr",
          "output_type": "stream",
          "text": [
            "  train: 100%|██████████| 391/391 [00:09<00:00, 41.84it/s, train_acc=80.329, train_loss=1.66]\n",
            "   test: 100%|██████████| 79/79 [00:02<00:00, 31.58it/s, test_acc=68.048, test_loss=1.78]\n"
          ]
        },
        {
          "name": "stdout",
          "output_type": "stream",
          "text": [
            "EPOCH 18/150 :\n"
          ]
        },
        {
          "name": "stderr",
          "output_type": "stream",
          "text": [
            "  train: 100%|██████████| 391/391 [00:09<00:00, 41.46it/s, train_acc=81.152, train_loss=1.66]\n",
            "   test: 100%|██████████| 79/79 [00:02<00:00, 36.40it/s, test_acc=72.834, test_loss=1.74]\n"
          ]
        },
        {
          "name": "stdout",
          "output_type": "stream",
          "text": [
            "EPOCH 19/150 :\n"
          ]
        },
        {
          "name": "stderr",
          "output_type": "stream",
          "text": [
            "  train: 100%|██████████| 391/391 [00:09<00:00, 41.26it/s, train_acc=82.107, train_loss=1.65]\n",
            "   test: 100%|██████████| 79/79 [00:02<00:00, 39.46it/s, test_acc=68.938, test_loss=1.77]\n"
          ]
        },
        {
          "name": "stdout",
          "output_type": "stream",
          "text": [
            "EPOCH 20/150 :\n"
          ]
        },
        {
          "name": "stderr",
          "output_type": "stream",
          "text": [
            "  train: 100%|██████████| 391/391 [00:09<00:00, 39.62it/s, train_acc=82.898, train_loss=1.64]\n",
            "   test: 100%|██████████| 79/79 [00:01<00:00, 39.66it/s, test_acc=72.162, test_loss=1.74]\n"
          ]
        },
        {
          "name": "stdout",
          "output_type": "stream",
          "text": [
            "EPOCH 21/150 :\n"
          ]
        },
        {
          "name": "stderr",
          "output_type": "stream",
          "text": [
            "  train: 100%|██████████| 391/391 [00:09<00:00, 39.90it/s, train_acc=83.481, train_loss=1.63]\n",
            "   test: 100%|██████████| 79/79 [00:02<00:00, 38.75it/s, test_acc=74.565, test_loss=1.72]\n"
          ]
        },
        {
          "name": "stdout",
          "output_type": "stream",
          "text": [
            "EPOCH 22/150 :\n"
          ]
        },
        {
          "name": "stderr",
          "output_type": "stream",
          "text": [
            "  train: 100%|██████████| 391/391 [00:09<00:00, 40.30it/s, train_acc=84.309, train_loss=1.62]\n",
            "   test: 100%|██████████| 79/79 [00:01<00:00, 40.57it/s, test_acc=73.428, test_loss=1.73]\n"
          ]
        },
        {
          "name": "stdout",
          "output_type": "stream",
          "text": [
            "EPOCH 23/150 :\n"
          ]
        },
        {
          "name": "stderr",
          "output_type": "stream",
          "text": [
            "  train: 100%|██████████| 391/391 [00:09<00:00, 39.76it/s, train_acc=85.207, train_loss=1.62]\n",
            "   test: 100%|██████████| 79/79 [00:01<00:00, 39.78it/s, test_acc=75.129, test_loss=1.71]\n"
          ]
        },
        {
          "name": "stdout",
          "output_type": "stream",
          "text": [
            "EPOCH 24/150 :\n"
          ]
        },
        {
          "name": "stderr",
          "output_type": "stream",
          "text": [
            "  train: 100%|██████████| 391/391 [00:09<00:00, 39.69it/s, train_acc=85.418, train_loss=1.61]\n",
            "   test: 100%|██████████| 79/79 [00:02<00:00, 38.53it/s, test_acc=75.504, test_loss=1.71]\n"
          ]
        },
        {
          "name": "stdout",
          "output_type": "stream",
          "text": [
            "EPOCH 25/150 :\n"
          ]
        },
        {
          "name": "stderr",
          "output_type": "stream",
          "text": [
            "  train: 100%|██████████| 391/391 [00:09<00:00, 40.07it/s, train_acc=86.343, train_loss=1.6] \n",
            "   test: 100%|██████████| 79/79 [00:01<00:00, 39.91it/s, test_acc=76.355, test_loss=1.7]\n"
          ]
        },
        {
          "name": "stdout",
          "output_type": "stream",
          "text": [
            "EPOCH 26/150 :\n"
          ]
        },
        {
          "name": "stderr",
          "output_type": "stream",
          "text": [
            "  train: 100%|██████████| 391/391 [00:09<00:00, 39.46it/s, train_acc=86.996, train_loss=1.6]\n",
            "   test: 100%|██████████| 79/79 [00:01<00:00, 40.45it/s, test_acc=74.684, test_loss=1.72]\n"
          ]
        },
        {
          "name": "stdout",
          "output_type": "stream",
          "text": [
            "EPOCH 27/150 :\n"
          ]
        },
        {
          "name": "stderr",
          "output_type": "stream",
          "text": [
            "  train: 100%|██████████| 391/391 [00:09<00:00, 40.16it/s, train_acc=87.339, train_loss=1.59]\n",
            "   test: 100%|██████████| 79/79 [00:01<00:00, 39.64it/s, test_acc=74.268, test_loss=1.72]\n"
          ]
        },
        {
          "name": "stdout",
          "output_type": "stream",
          "text": [
            "EPOCH 28/150 :\n"
          ]
        },
        {
          "name": "stderr",
          "output_type": "stream",
          "text": [
            "  train: 100%|██████████| 391/391 [00:10<00:00, 38.97it/s, train_acc=88.135, train_loss=1.59]\n",
            "   test: 100%|██████████| 79/79 [00:02<00:00, 39.48it/s, test_acc=75.287, test_loss=1.71]\n"
          ]
        },
        {
          "name": "stdout",
          "output_type": "stream",
          "text": [
            "EPOCH 29/150 :\n"
          ]
        },
        {
          "name": "stderr",
          "output_type": "stream",
          "text": [
            "  train: 100%|██████████| 391/391 [00:09<00:00, 40.06it/s, train_acc=88.739, train_loss=1.58]\n",
            "   test: 100%|██████████| 79/79 [00:01<00:00, 39.83it/s, test_acc=76.088, test_loss=1.7]\n"
          ]
        },
        {
          "name": "stdout",
          "output_type": "stream",
          "text": [
            "EPOCH 30/150 :\n"
          ]
        },
        {
          "name": "stderr",
          "output_type": "stream",
          "text": [
            "  train: 100%|██████████| 391/391 [00:09<00:00, 39.69it/s, train_acc=89.087, train_loss=1.58]\n",
            "   test: 100%|██████████| 79/79 [00:01<00:00, 39.76it/s, test_acc=75.841, test_loss=1.71]\n"
          ]
        },
        {
          "name": "stdout",
          "output_type": "stream",
          "text": [
            "EPOCH 31/150 :\n"
          ]
        },
        {
          "name": "stderr",
          "output_type": "stream",
          "text": [
            "  train: 100%|██████████| 391/391 [00:09<00:00, 40.01it/s, train_acc=89.334, train_loss=1.57]\n",
            "   test: 100%|██████████| 79/79 [00:01<00:00, 39.64it/s, test_acc=75.643, test_loss=1.7]\n"
          ]
        },
        {
          "name": "stdout",
          "output_type": "stream",
          "text": [
            "EPOCH 32/150 :\n"
          ]
        },
        {
          "name": "stderr",
          "output_type": "stream",
          "text": [
            "  train: 100%|██████████| 391/391 [00:09<00:00, 39.71it/s, train_acc=89.754, train_loss=1.57]\n",
            "   test: 100%|██████████| 79/79 [00:01<00:00, 39.96it/s, test_acc=76.345, test_loss=1.7]\n"
          ]
        },
        {
          "name": "stdout",
          "output_type": "stream",
          "text": [
            "EPOCH 33/150 :\n"
          ]
        },
        {
          "name": "stderr",
          "output_type": "stream",
          "text": [
            "  train: 100%|██████████| 391/391 [00:10<00:00, 38.60it/s, train_acc=90.133, train_loss=1.57]\n",
            "   test: 100%|██████████| 79/79 [00:02<00:00, 35.35it/s, test_acc=76.503, test_loss=1.7]\n"
          ]
        },
        {
          "name": "stdout",
          "output_type": "stream",
          "text": [
            "EPOCH 34/150 :\n"
          ]
        },
        {
          "name": "stderr",
          "output_type": "stream",
          "text": [
            "  train: 100%|██████████| 391/391 [00:10<00:00, 39.10it/s, train_acc=90.518, train_loss=1.56]\n",
            "   test: 100%|██████████| 79/79 [00:02<00:00, 38.23it/s, test_acc=76.523, test_loss=1.7]\n"
          ]
        },
        {
          "name": "stdout",
          "output_type": "stream",
          "text": [
            "EPOCH 35/150 :\n"
          ]
        },
        {
          "name": "stderr",
          "output_type": "stream",
          "text": [
            "  train: 100%|██████████| 391/391 [00:09<00:00, 39.16it/s, train_acc=90.784, train_loss=1.56]\n",
            "   test: 100%|██████████| 79/79 [00:02<00:00, 38.45it/s, test_acc=75.841, test_loss=1.7]\n"
          ]
        },
        {
          "name": "stdout",
          "output_type": "stream",
          "text": [
            "EPOCH 36/150 :\n"
          ]
        },
        {
          "name": "stderr",
          "output_type": "stream",
          "text": [
            "  train: 100%|██████████| 391/391 [00:10<00:00, 38.80it/s, train_acc=91.145, train_loss=1.56]\n",
            "   test: 100%|██████████| 79/79 [00:01<00:00, 39.84it/s, test_acc=76.652, test_loss=1.7]\n"
          ]
        },
        {
          "name": "stdout",
          "output_type": "stream",
          "text": [
            "EPOCH 37/150 :\n"
          ]
        },
        {
          "name": "stderr",
          "output_type": "stream",
          "text": [
            "  train: 100%|██████████| 391/391 [00:09<00:00, 39.70it/s, train_acc=91.582, train_loss=1.55]\n",
            "   test: 100%|██████████| 79/79 [00:01<00:00, 40.01it/s, test_acc=75.544, test_loss=1.71]\n"
          ]
        },
        {
          "name": "stdout",
          "output_type": "stream",
          "text": [
            "EPOCH 38/150 :\n"
          ]
        },
        {
          "name": "stderr",
          "output_type": "stream",
          "text": [
            "  train: 100%|██████████| 391/391 [00:09<00:00, 39.79it/s, train_acc=91.803, train_loss=1.55]\n",
            "   test: 100%|██████████| 79/79 [00:02<00:00, 39.01it/s, test_acc=76.968, test_loss=1.69]\n"
          ]
        },
        {
          "name": "stdout",
          "output_type": "stream",
          "text": [
            "EPOCH 39/150 :\n"
          ]
        },
        {
          "name": "stderr",
          "output_type": "stream",
          "text": [
            "  train: 100%|██████████| 391/391 [00:10<00:00, 39.09it/s, train_acc=92.138, train_loss=1.55]\n",
            "   test: 100%|██████████| 79/79 [00:01<00:00, 39.75it/s, test_acc=77.275, test_loss=1.69]\n"
          ]
        },
        {
          "name": "stdout",
          "output_type": "stream",
          "text": [
            "EPOCH 40/150 :\n"
          ]
        },
        {
          "name": "stderr",
          "output_type": "stream",
          "text": [
            "  train: 100%|██████████| 391/391 [00:09<00:00, 40.08it/s, train_acc=92.239, train_loss=1.54]\n",
            "   test: 100%|██████████| 79/79 [00:01<00:00, 39.79it/s, test_acc=75.979, test_loss=1.7]\n"
          ]
        },
        {
          "name": "stdout",
          "output_type": "stream",
          "text": [
            "EPOCH 41/150 :\n"
          ]
        },
        {
          "name": "stderr",
          "output_type": "stream",
          "text": [
            "  train: 100%|██████████| 391/391 [00:09<00:00, 40.24it/s, train_acc=92.625, train_loss=1.54]\n",
            "   test: 100%|██████████| 79/79 [00:01<00:00, 40.35it/s, test_acc=77.631, test_loss=1.69]\n"
          ]
        },
        {
          "name": "stdout",
          "output_type": "stream",
          "text": [
            "EPOCH 42/150 :\n"
          ]
        },
        {
          "name": "stderr",
          "output_type": "stream",
          "text": [
            "  train: 100%|██████████| 391/391 [00:09<00:00, 40.21it/s, train_acc=92.747, train_loss=1.54]\n",
            "   test: 100%|██████████| 79/79 [00:01<00:00, 40.65it/s, test_acc=76.375, test_loss=1.7]\n"
          ]
        },
        {
          "name": "stdout",
          "output_type": "stream",
          "text": [
            "EPOCH 43/150 :\n"
          ]
        },
        {
          "name": "stderr",
          "output_type": "stream",
          "text": [
            "  train: 100%|██████████| 391/391 [00:09<00:00, 40.37it/s, train_acc=92.844, train_loss=1.54]\n",
            "   test: 100%|██████████| 79/79 [00:01<00:00, 39.51it/s, test_acc=77.265, test_loss=1.69]\n"
          ]
        },
        {
          "name": "stdout",
          "output_type": "stream",
          "text": [
            "EPOCH 44/150 :\n"
          ]
        },
        {
          "name": "stderr",
          "output_type": "stream",
          "text": [
            "  train: 100%|██████████| 391/391 [00:09<00:00, 39.80it/s, train_acc=93.374, train_loss=1.53]\n",
            "   test: 100%|██████████| 79/79 [00:01<00:00, 40.42it/s, test_acc=77.433, test_loss=1.69]\n"
          ]
        },
        {
          "name": "stdout",
          "output_type": "stream",
          "text": [
            "EPOCH 45/150 :\n"
          ]
        },
        {
          "name": "stderr",
          "output_type": "stream",
          "text": [
            "  train: 100%|██████████| 391/391 [00:09<00:00, 40.46it/s, train_acc=93.388, train_loss=1.53]\n",
            "   test: 100%|██████████| 79/79 [00:01<00:00, 40.58it/s, test_acc=76.800, test_loss=1.69]\n"
          ]
        },
        {
          "name": "stdout",
          "output_type": "stream",
          "text": [
            "EPOCH 46/150 :\n"
          ]
        },
        {
          "name": "stderr",
          "output_type": "stream",
          "text": [
            "  train: 100%|██████████| 391/391 [00:09<00:00, 39.78it/s, train_acc=93.563, train_loss=1.53]\n",
            "   test: 100%|██████████| 79/79 [00:02<00:00, 38.60it/s, test_acc=76.820, test_loss=1.69]\n"
          ]
        },
        {
          "name": "stdout",
          "output_type": "stream",
          "text": [
            "EPOCH 47/150 :\n"
          ]
        },
        {
          "name": "stderr",
          "output_type": "stream",
          "text": [
            "  train: 100%|██████████| 391/391 [00:09<00:00, 40.00it/s, train_acc=93.664, train_loss=1.53]\n",
            "   test: 100%|██████████| 79/79 [00:02<00:00, 37.49it/s, test_acc=75.801, test_loss=1.7]\n"
          ]
        },
        {
          "name": "stdout",
          "output_type": "stream",
          "text": [
            "EPOCH 48/150 :\n"
          ]
        },
        {
          "name": "stderr",
          "output_type": "stream",
          "text": [
            "  train: 100%|██████████| 391/391 [00:09<00:00, 41.03it/s, train_acc=93.996, train_loss=1.53]\n",
            "   test: 100%|██████████| 79/79 [00:02<00:00, 32.99it/s, test_acc=77.027, test_loss=1.69]\n"
          ]
        },
        {
          "name": "stdout",
          "output_type": "stream",
          "text": [
            "EPOCH 49/150 :\n"
          ]
        },
        {
          "name": "stderr",
          "output_type": "stream",
          "text": [
            "  train: 100%|██████████| 391/391 [00:09<00:00, 39.84it/s, train_acc=94.050, train_loss=1.53]\n",
            "   test: 100%|██████████| 79/79 [00:02<00:00, 32.88it/s, test_acc=77.512, test_loss=1.69]\n"
          ]
        },
        {
          "name": "stdout",
          "output_type": "stream",
          "text": [
            "EPOCH 50/150 :\n"
          ]
        },
        {
          "name": "stderr",
          "output_type": "stream",
          "text": [
            "  train: 100%|██████████| 391/391 [00:09<00:00, 41.22it/s, train_acc=94.170, train_loss=1.52]\n",
            "   test: 100%|██████████| 79/79 [00:02<00:00, 31.74it/s, test_acc=77.799, test_loss=1.69]\n"
          ]
        },
        {
          "name": "stdout",
          "output_type": "stream",
          "text": [
            "EPOCH 51/150 :\n"
          ]
        },
        {
          "name": "stderr",
          "output_type": "stream",
          "text": [
            "  train: 100%|██████████| 391/391 [00:09<00:00, 41.34it/s, train_acc=94.307, train_loss=1.52]\n",
            "   test: 100%|██████████| 79/79 [00:02<00:00, 31.88it/s, test_acc=76.701, test_loss=1.69]\n"
          ]
        },
        {
          "name": "stdout",
          "output_type": "stream",
          "text": [
            "EPOCH 52/150 :\n"
          ]
        },
        {
          "name": "stderr",
          "output_type": "stream",
          "text": [
            "  train: 100%|██████████| 391/391 [00:09<00:00, 42.94it/s, train_acc=94.484, train_loss=1.52]\n",
            "   test: 100%|██████████| 79/79 [00:02<00:00, 29.76it/s, test_acc=78.016, test_loss=1.68]\n"
          ]
        },
        {
          "name": "stdout",
          "output_type": "stream",
          "text": [
            "EPOCH 53/150 :\n"
          ]
        },
        {
          "name": "stderr",
          "output_type": "stream",
          "text": [
            "  train: 100%|██████████| 391/391 [00:09<00:00, 42.58it/s, train_acc=94.475, train_loss=1.52]\n",
            "   test: 100%|██████████| 79/79 [00:02<00:00, 30.82it/s, test_acc=76.780, test_loss=1.69]\n"
          ]
        },
        {
          "name": "stdout",
          "output_type": "stream",
          "text": [
            "EPOCH 54/150 :\n"
          ]
        },
        {
          "name": "stderr",
          "output_type": "stream",
          "text": [
            "  train: 100%|██████████| 391/391 [00:09<00:00, 39.50it/s, train_acc=94.704, train_loss=1.52]\n",
            "   test: 100%|██████████| 79/79 [00:02<00:00, 28.47it/s, test_acc=78.451, test_loss=1.68]\n"
          ]
        },
        {
          "name": "stdout",
          "output_type": "stream",
          "text": [
            "EPOCH 55/150 :\n"
          ]
        },
        {
          "name": "stderr",
          "output_type": "stream",
          "text": [
            "  train: 100%|██████████| 391/391 [00:09<00:00, 41.38it/s, train_acc=94.791, train_loss=1.52]\n",
            "   test: 100%|██████████| 79/79 [00:02<00:00, 30.61it/s, test_acc=76.562, test_loss=1.7]\n"
          ]
        },
        {
          "name": "stdout",
          "output_type": "stream",
          "text": [
            "EPOCH 56/150 :\n"
          ]
        },
        {
          "name": "stderr",
          "output_type": "stream",
          "text": [
            "  train: 100%|██████████| 391/391 [00:09<00:00, 39.73it/s, train_acc=95.030, train_loss=1.51]\n",
            "   test: 100%|██████████| 79/79 [00:02<00:00, 28.30it/s, test_acc=78.174, test_loss=1.68]\n"
          ]
        },
        {
          "name": "stdout",
          "output_type": "stream",
          "text": [
            "EPOCH 57/150 :\n"
          ]
        },
        {
          "name": "stderr",
          "output_type": "stream",
          "text": [
            "  train: 100%|██████████| 391/391 [00:10<00:00, 38.96it/s, train_acc=95.044, train_loss=1.51]\n",
            "   test: 100%|██████████| 79/79 [00:02<00:00, 28.57it/s, test_acc=77.314, test_loss=1.69]\n"
          ]
        },
        {
          "name": "stdout",
          "output_type": "stream",
          "text": [
            "EPOCH 58/150 :\n"
          ]
        },
        {
          "name": "stderr",
          "output_type": "stream",
          "text": [
            "  train: 100%|██████████| 391/391 [00:09<00:00, 43.09it/s, train_acc=95.178, train_loss=1.51]\n",
            "   test: 100%|██████████| 79/79 [00:02<00:00, 31.18it/s, test_acc=77.502, test_loss=1.69]\n"
          ]
        },
        {
          "name": "stdout",
          "output_type": "stream",
          "text": [
            "EPOCH 59/150 :\n"
          ]
        },
        {
          "name": "stderr",
          "output_type": "stream",
          "text": [
            "  train: 100%|██████████| 391/391 [00:09<00:00, 41.77it/s, train_acc=95.253, train_loss=1.51]\n",
            "   test: 100%|██████████| 79/79 [00:02<00:00, 33.20it/s, test_acc=78.194, test_loss=1.68]\n"
          ]
        },
        {
          "name": "stdout",
          "output_type": "stream",
          "text": [
            "EPOCH 60/150 :\n"
          ]
        },
        {
          "name": "stderr",
          "output_type": "stream",
          "text": [
            "  train: 100%|██████████| 391/391 [00:09<00:00, 41.06it/s, train_acc=95.375, train_loss=1.51]\n",
            "   test: 100%|██████████| 79/79 [00:02<00:00, 35.53it/s, test_acc=77.789, test_loss=1.68]\n"
          ]
        },
        {
          "name": "stdout",
          "output_type": "stream",
          "text": [
            "EPOCH 61/150 :\n"
          ]
        },
        {
          "name": "stderr",
          "output_type": "stream",
          "text": [
            "  train: 100%|██████████| 391/391 [00:09<00:00, 41.09it/s, train_acc=95.410, train_loss=1.51]\n",
            "   test: 100%|██████████| 79/79 [00:02<00:00, 39.37it/s, test_acc=78.066, test_loss=1.68]\n"
          ]
        },
        {
          "name": "stdout",
          "output_type": "stream",
          "text": [
            "EPOCH 62/150 :\n"
          ]
        },
        {
          "name": "stderr",
          "output_type": "stream",
          "text": [
            "  train: 100%|██████████| 391/391 [00:09<00:00, 39.79it/s, train_acc=95.494, train_loss=1.51]\n",
            "   test: 100%|██████████| 79/79 [00:02<00:00, 38.83it/s, test_acc=78.224, test_loss=1.68]\n"
          ]
        },
        {
          "name": "stdout",
          "output_type": "stream",
          "text": [
            "EPOCH 63/150 :\n"
          ]
        },
        {
          "name": "stderr",
          "output_type": "stream",
          "text": [
            "  train: 100%|██████████| 391/391 [00:09<00:00, 40.54it/s, train_acc=95.563, train_loss=1.51]\n",
            "   test: 100%|██████████| 79/79 [00:01<00:00, 39.79it/s, test_acc=78.165, test_loss=1.68]\n"
          ]
        },
        {
          "name": "stdout",
          "output_type": "stream",
          "text": [
            "EPOCH 64/150 :\n"
          ]
        },
        {
          "name": "stderr",
          "output_type": "stream",
          "text": [
            "  train: 100%|██████████| 391/391 [00:09<00:00, 39.65it/s, train_acc=95.669, train_loss=1.51]\n",
            "   test: 100%|██████████| 79/79 [00:02<00:00, 38.22it/s, test_acc=78.224, test_loss=1.68]\n"
          ]
        },
        {
          "name": "stdout",
          "output_type": "stream",
          "text": [
            "EPOCH 65/150 :\n"
          ]
        },
        {
          "name": "stderr",
          "output_type": "stream",
          "text": [
            "  train: 100%|██████████| 391/391 [00:09<00:00, 39.90it/s, train_acc=95.778, train_loss=1.51]\n",
            "   test: 100%|██████████| 79/79 [00:02<00:00, 37.13it/s, test_acc=78.333, test_loss=1.68]\n"
          ]
        },
        {
          "name": "stdout",
          "output_type": "stream",
          "text": [
            "EPOCH 66/150 :\n"
          ]
        },
        {
          "name": "stderr",
          "output_type": "stream",
          "text": [
            "  train: 100%|██████████| 391/391 [00:09<00:00, 40.10it/s, train_acc=95.768, train_loss=1.51]\n",
            "   test: 100%|██████████| 79/79 [00:01<00:00, 39.78it/s, test_acc=78.254, test_loss=1.68]\n"
          ]
        },
        {
          "name": "stdout",
          "output_type": "stream",
          "text": [
            "EPOCH 67/150 :\n"
          ]
        },
        {
          "name": "stderr",
          "output_type": "stream",
          "text": [
            "  train: 100%|██████████| 391/391 [00:09<00:00, 40.40it/s, train_acc=95.791, train_loss=1.51]\n",
            "   test: 100%|██████████| 79/79 [00:01<00:00, 40.84it/s, test_acc=77.927, test_loss=1.68]\n"
          ]
        },
        {
          "name": "stdout",
          "output_type": "stream",
          "text": [
            "EPOCH 68/150 :\n"
          ]
        },
        {
          "name": "stderr",
          "output_type": "stream",
          "text": [
            "  train: 100%|██████████| 391/391 [00:09<00:00, 40.90it/s, train_acc=95.929, train_loss=1.5]\n",
            "   test: 100%|██████████| 79/79 [00:02<00:00, 39.48it/s, test_acc=78.303, test_loss=1.68]\n"
          ]
        },
        {
          "name": "stdout",
          "output_type": "stream",
          "text": [
            "EPOCH 69/150 :\n"
          ]
        },
        {
          "name": "stderr",
          "output_type": "stream",
          "text": [
            "  train: 100%|██████████| 391/391 [00:09<00:00, 40.37it/s, train_acc=96.003, train_loss=1.5]\n",
            "   test: 100%|██████████| 79/79 [00:02<00:00, 38.97it/s, test_acc=75.959, test_loss=1.7]\n"
          ]
        },
        {
          "name": "stdout",
          "output_type": "stream",
          "text": [
            "EPOCH 70/150 :\n"
          ]
        },
        {
          "name": "stderr",
          "output_type": "stream",
          "text": [
            "  train: 100%|██████████| 391/391 [00:09<00:00, 40.03it/s, train_acc=96.066, train_loss=1.5]\n",
            "   test: 100%|██████████| 79/79 [00:01<00:00, 39.91it/s, test_acc=78.214, test_loss=1.68]\n"
          ]
        },
        {
          "name": "stdout",
          "output_type": "stream",
          "text": [
            "EPOCH 71/150 :\n"
          ]
        },
        {
          "name": "stderr",
          "output_type": "stream",
          "text": [
            "  train: 100%|██████████| 391/391 [00:09<00:00, 39.89it/s, train_acc=96.109, train_loss=1.5]\n",
            "   test: 100%|██████████| 79/79 [00:01<00:00, 40.34it/s, test_acc=77.542, test_loss=1.69]\n"
          ]
        },
        {
          "name": "stdout",
          "output_type": "stream",
          "text": [
            "EPOCH 72/150 :\n"
          ]
        },
        {
          "name": "stderr",
          "output_type": "stream",
          "text": [
            "  train: 100%|██████████| 391/391 [00:09<00:00, 40.13it/s, train_acc=96.107, train_loss=1.5]\n",
            "   test: 100%|██████████| 79/79 [00:02<00:00, 38.13it/s, test_acc=78.066, test_loss=1.68]\n"
          ]
        },
        {
          "name": "stdout",
          "output_type": "stream",
          "text": [
            "EPOCH 73/150 :\n"
          ]
        },
        {
          "name": "stderr",
          "output_type": "stream",
          "text": [
            "  train: 100%|██████████| 391/391 [00:09<00:00, 40.34it/s, train_acc=96.180, train_loss=1.5]\n",
            "   test: 100%|██████████| 79/79 [00:02<00:00, 37.89it/s, test_acc=77.858, test_loss=1.68]\n"
          ]
        },
        {
          "name": "stdout",
          "output_type": "stream",
          "text": [
            "EPOCH 74/150 :\n"
          ]
        },
        {
          "name": "stderr",
          "output_type": "stream",
          "text": [
            "  train: 100%|██████████| 391/391 [00:09<00:00, 40.13it/s, train_acc=96.278, train_loss=1.5]\n",
            "   test: 100%|██████████| 79/79 [00:02<00:00, 38.91it/s, test_acc=78.204, test_loss=1.68]\n"
          ]
        },
        {
          "name": "stdout",
          "output_type": "stream",
          "text": [
            "EPOCH 75/150 :\n"
          ]
        },
        {
          "name": "stderr",
          "output_type": "stream",
          "text": [
            "  train: 100%|██████████| 391/391 [00:09<00:00, 39.21it/s, train_acc=96.395, train_loss=1.5]\n",
            "   test: 100%|██████████| 79/79 [00:02<00:00, 38.56it/s, test_acc=78.323, test_loss=1.68]\n"
          ]
        },
        {
          "name": "stdout",
          "output_type": "stream",
          "text": [
            "EPOCH 76/150 :\n"
          ]
        },
        {
          "name": "stderr",
          "output_type": "stream",
          "text": [
            "  train: 100%|██████████| 391/391 [00:10<00:00, 38.75it/s, train_acc=96.369, train_loss=1.5]\n",
            "   test: 100%|██████████| 79/79 [00:02<00:00, 38.81it/s, test_acc=78.422, test_loss=1.68]\n"
          ]
        },
        {
          "name": "stdout",
          "output_type": "stream",
          "text": [
            "EPOCH 77/150 :\n"
          ]
        },
        {
          "name": "stderr",
          "output_type": "stream",
          "text": [
            "  train: 100%|██████████| 391/391 [00:09<00:00, 39.58it/s, train_acc=96.388, train_loss=1.5]\n",
            "   test: 100%|██████████| 79/79 [00:02<00:00, 38.38it/s, test_acc=78.699, test_loss=1.68]\n"
          ]
        },
        {
          "name": "stdout",
          "output_type": "stream",
          "text": [
            "EPOCH 78/150 :\n"
          ]
        },
        {
          "name": "stderr",
          "output_type": "stream",
          "text": [
            "  train: 100%|██████████| 391/391 [00:09<00:00, 39.52it/s, train_acc=96.431, train_loss=1.5]\n",
            "   test: 100%|██████████| 79/79 [00:02<00:00, 38.70it/s, test_acc=78.491, test_loss=1.68]\n"
          ]
        },
        {
          "name": "stdout",
          "output_type": "stream",
          "text": [
            "EPOCH 79/150 :\n"
          ]
        },
        {
          "name": "stderr",
          "output_type": "stream",
          "text": [
            "  train: 100%|██████████| 391/391 [00:10<00:00, 39.07it/s, train_acc=96.506, train_loss=1.5]\n",
            "   test: 100%|██████████| 79/79 [00:02<00:00, 37.99it/s, test_acc=77.640, test_loss=1.68]\n"
          ]
        },
        {
          "name": "stdout",
          "output_type": "stream",
          "text": [
            "EPOCH 80/150 :\n"
          ]
        },
        {
          "name": "stderr",
          "output_type": "stream",
          "text": [
            "  train: 100%|██████████| 391/391 [00:10<00:00, 38.94it/s, train_acc=96.552, train_loss=1.5]\n",
            "   test: 100%|██████████| 79/79 [00:02<00:00, 37.20it/s, test_acc=78.768, test_loss=1.68]\n"
          ]
        },
        {
          "name": "stdout",
          "output_type": "stream",
          "text": [
            "EPOCH 81/150 :\n"
          ]
        },
        {
          "name": "stderr",
          "output_type": "stream",
          "text": [
            "  train: 100%|██████████| 391/391 [00:10<00:00, 38.45it/s, train_acc=96.530, train_loss=1.5]\n",
            "   test: 100%|██████████| 79/79 [00:02<00:00, 38.05it/s, test_acc=77.996, test_loss=1.68]\n"
          ]
        },
        {
          "name": "stdout",
          "output_type": "stream",
          "text": [
            "EPOCH 82/150 :\n"
          ]
        },
        {
          "name": "stderr",
          "output_type": "stream",
          "text": [
            "  train: 100%|██████████| 391/391 [00:09<00:00, 39.97it/s, train_acc=96.680, train_loss=1.5]\n",
            "   test: 100%|██████████| 79/79 [00:02<00:00, 38.08it/s, test_acc=78.214, test_loss=1.68]\n"
          ]
        },
        {
          "name": "stdout",
          "output_type": "stream",
          "text": [
            "EPOCH 83/150 :\n"
          ]
        },
        {
          "name": "stderr",
          "output_type": "stream",
          "text": [
            "  train: 100%|██████████| 391/391 [00:09<00:00, 40.32it/s, train_acc=96.676, train_loss=1.5]\n",
            "   test: 100%|██████████| 79/79 [00:02<00:00, 38.47it/s, test_acc=78.263, test_loss=1.68]\n"
          ]
        },
        {
          "name": "stdout",
          "output_type": "stream",
          "text": [
            "EPOCH 84/150 :\n"
          ]
        },
        {
          "name": "stderr",
          "output_type": "stream",
          "text": [
            "  train: 100%|██████████| 391/391 [00:09<00:00, 39.48it/s, train_acc=96.658, train_loss=1.5]\n",
            "   test: 100%|██████████| 79/79 [00:02<00:00, 38.58it/s, test_acc=78.402, test_loss=1.68]\n"
          ]
        },
        {
          "name": "stdout",
          "output_type": "stream",
          "text": [
            "EPOCH 85/150 :\n"
          ]
        },
        {
          "name": "stderr",
          "output_type": "stream",
          "text": [
            "  train: 100%|██████████| 391/391 [00:09<00:00, 39.25it/s, train_acc=96.658, train_loss=1.5]\n",
            "   test: 100%|██████████| 79/79 [00:02<00:00, 37.98it/s, test_acc=78.254, test_loss=1.68]\n"
          ]
        },
        {
          "name": "stdout",
          "output_type": "stream",
          "text": [
            "EPOCH 86/150 :\n"
          ]
        },
        {
          "name": "stderr",
          "output_type": "stream",
          "text": [
            "  train: 100%|██████████| 391/391 [00:09<00:00, 39.29it/s, train_acc=96.673, train_loss=1.5]\n",
            "   test: 100%|██████████| 79/79 [00:02<00:00, 38.67it/s, test_acc=78.402, test_loss=1.68]\n"
          ]
        },
        {
          "name": "stdout",
          "output_type": "stream",
          "text": [
            "EPOCH 87/150 :\n"
          ]
        },
        {
          "name": "stderr",
          "output_type": "stream",
          "text": [
            "  train: 100%|██████████| 391/391 [00:09<00:00, 39.29it/s, train_acc=96.769, train_loss=1.5]\n",
            "   test: 100%|██████████| 79/79 [00:02<00:00, 38.24it/s, test_acc=78.343, test_loss=1.68]\n"
          ]
        },
        {
          "name": "stdout",
          "output_type": "stream",
          "text": [
            "EPOCH 88/150 :\n"
          ]
        },
        {
          "name": "stderr",
          "output_type": "stream",
          "text": [
            "  train: 100%|██████████| 391/391 [00:09<00:00, 39.95it/s, train_acc=96.819, train_loss=1.5]\n",
            "   test: 100%|██████████| 79/79 [00:02<00:00, 38.62it/s, test_acc=78.224, test_loss=1.68]\n"
          ]
        },
        {
          "name": "stdout",
          "output_type": "stream",
          "text": [
            "EPOCH 89/150 :\n"
          ]
        },
        {
          "name": "stderr",
          "output_type": "stream",
          "text": [
            "  train: 100%|██████████| 391/391 [00:10<00:00, 38.97it/s, train_acc=96.837, train_loss=1.49]\n",
            "   test: 100%|██████████| 79/79 [00:02<00:00, 38.75it/s, test_acc=78.451, test_loss=1.68]\n"
          ]
        },
        {
          "name": "stdout",
          "output_type": "stream",
          "text": [
            "EPOCH 90/150 :\n"
          ]
        },
        {
          "name": "stderr",
          "output_type": "stream",
          "text": [
            "  train: 100%|██████████| 391/391 [00:09<00:00, 39.30it/s, train_acc=96.804, train_loss=1.5]\n",
            "   test: 100%|██████████| 79/79 [00:02<00:00, 39.31it/s, test_acc=78.372, test_loss=1.68]\n"
          ]
        },
        {
          "name": "stdout",
          "output_type": "stream",
          "text": [
            "EPOCH 91/150 :\n"
          ]
        },
        {
          "name": "stderr",
          "output_type": "stream",
          "text": [
            "  train: 100%|██████████| 391/391 [00:09<00:00, 39.45it/s, train_acc=96.873, train_loss=1.49]\n",
            "   test: 100%|██████████| 79/79 [00:02<00:00, 38.26it/s, test_acc=77.848, test_loss=1.68]\n"
          ]
        },
        {
          "name": "stdout",
          "output_type": "stream",
          "text": [
            "EPOCH 92/150 :\n"
          ]
        },
        {
          "name": "stderr",
          "output_type": "stream",
          "text": [
            "  train: 100%|██████████| 391/391 [00:09<00:00, 39.32it/s, train_acc=96.922, train_loss=1.49]\n",
            "   test: 100%|██████████| 79/79 [00:02<00:00, 38.78it/s, test_acc=78.570, test_loss=1.68]\n"
          ]
        },
        {
          "name": "stdout",
          "output_type": "stream",
          "text": [
            "EPOCH 93/150 :\n"
          ]
        },
        {
          "name": "stderr",
          "output_type": "stream",
          "text": [
            "  train: 100%|██████████| 391/391 [00:09<00:00, 40.62it/s, train_acc=96.938, train_loss=1.49]\n",
            "   test: 100%|██████████| 79/79 [00:02<00:00, 37.57it/s, test_acc=78.392, test_loss=1.68]\n"
          ]
        },
        {
          "name": "stdout",
          "output_type": "stream",
          "text": [
            "EPOCH 94/150 :\n"
          ]
        },
        {
          "name": "stderr",
          "output_type": "stream",
          "text": [
            "  train: 100%|██████████| 391/391 [00:09<00:00, 41.18it/s, train_acc=96.924, train_loss=1.49]\n",
            "   test: 100%|██████████| 79/79 [00:02<00:00, 34.10it/s, test_acc=78.481, test_loss=1.68]\n"
          ]
        },
        {
          "name": "stdout",
          "output_type": "stream",
          "text": [
            "EPOCH 95/150 :\n"
          ]
        },
        {
          "name": "stderr",
          "output_type": "stream",
          "text": [
            "  train: 100%|██████████| 391/391 [00:09<00:00, 41.66it/s, train_acc=96.973, train_loss=1.49]\n",
            "   test: 100%|██████████| 79/79 [00:02<00:00, 31.13it/s, test_acc=78.639, test_loss=1.67]\n"
          ]
        },
        {
          "name": "stdout",
          "output_type": "stream",
          "text": [
            "EPOCH 96/150 :\n"
          ]
        },
        {
          "name": "stderr",
          "output_type": "stream",
          "text": [
            "  train: 100%|██████████| 391/391 [00:09<00:00, 42.66it/s, train_acc=96.980, train_loss=1.49]\n",
            "   test: 100%|██████████| 79/79 [00:02<00:00, 29.46it/s, test_acc=78.224, test_loss=1.68]\n"
          ]
        },
        {
          "name": "stdout",
          "output_type": "stream",
          "text": [
            "EPOCH 97/150 :\n"
          ]
        },
        {
          "name": "stderr",
          "output_type": "stream",
          "text": [
            "  train: 100%|██████████| 391/391 [00:09<00:00, 43.03it/s, train_acc=97.054, train_loss=1.49]\n",
            "   test: 100%|██████████| 79/79 [00:02<00:00, 28.28it/s, test_acc=78.501, test_loss=1.68]\n"
          ]
        },
        {
          "name": "stdout",
          "output_type": "stream",
          "text": [
            "EPOCH 98/150 :\n"
          ]
        },
        {
          "name": "stderr",
          "output_type": "stream",
          "text": [
            "  train: 100%|██████████| 391/391 [00:09<00:00, 42.64it/s, train_acc=97.019, train_loss=1.49]\n",
            "   test: 100%|██████████| 79/79 [00:02<00:00, 32.03it/s, test_acc=78.362, test_loss=1.68]\n"
          ]
        },
        {
          "name": "stdout",
          "output_type": "stream",
          "text": [
            "EPOCH 99/150 :\n"
          ]
        },
        {
          "name": "stderr",
          "output_type": "stream",
          "text": [
            "  train: 100%|██████████| 391/391 [00:09<00:00, 41.42it/s, train_acc=97.103, train_loss=1.49]\n",
            "   test: 100%|██████████| 79/79 [00:02<00:00, 35.27it/s, test_acc=78.530, test_loss=1.68]\n"
          ]
        },
        {
          "name": "stdout",
          "output_type": "stream",
          "text": [
            "EPOCH 100/150 :\n"
          ]
        },
        {
          "name": "stderr",
          "output_type": "stream",
          "text": [
            "  train: 100%|██████████| 391/391 [00:09<00:00, 40.76it/s, train_acc=97.180, train_loss=1.49]\n",
            "   test: 100%|██████████| 79/79 [00:02<00:00, 37.32it/s, test_acc=78.659, test_loss=1.68]\n"
          ]
        },
        {
          "name": "stdout",
          "output_type": "stream",
          "text": [
            "EPOCH 101/150 :\n"
          ]
        },
        {
          "name": "stderr",
          "output_type": "stream",
          "text": [
            "  train: 100%|██████████| 391/391 [00:09<00:00, 40.44it/s, train_acc=97.179, train_loss=1.49]\n",
            "   test: 100%|██████████| 79/79 [00:02<00:00, 38.97it/s, test_acc=78.649, test_loss=1.67]\n"
          ]
        },
        {
          "name": "stdout",
          "output_type": "stream",
          "text": [
            "EPOCH 102/150 :\n"
          ]
        },
        {
          "name": "stderr",
          "output_type": "stream",
          "text": [
            "  train: 100%|██████████| 391/391 [00:09<00:00, 39.90it/s, train_acc=97.239, train_loss=1.49]\n",
            "   test: 100%|██████████| 79/79 [00:02<00:00, 38.12it/s, test_acc=78.778, test_loss=1.68]\n"
          ]
        },
        {
          "name": "stdout",
          "output_type": "stream",
          "text": [
            "EPOCH 103/150 :\n"
          ]
        },
        {
          "name": "stderr",
          "output_type": "stream",
          "text": [
            "  train: 100%|██████████| 391/391 [00:09<00:00, 39.50it/s, train_acc=97.236, train_loss=1.49]\n",
            "   test: 100%|██████████| 79/79 [00:02<00:00, 39.36it/s, test_acc=78.590, test_loss=1.68]\n"
          ]
        },
        {
          "name": "stdout",
          "output_type": "stream",
          "text": [
            "EPOCH 104/150 :\n"
          ]
        },
        {
          "name": "stderr",
          "output_type": "stream",
          "text": [
            "  train: 100%|██████████| 391/391 [00:09<00:00, 40.40it/s, train_acc=97.233, train_loss=1.49]\n",
            "   test: 100%|██████████| 79/79 [00:02<00:00, 38.98it/s, test_acc=78.263, test_loss=1.68]\n"
          ]
        },
        {
          "name": "stdout",
          "output_type": "stream",
          "text": [
            "EPOCH 105/150 :\n"
          ]
        },
        {
          "name": "stderr",
          "output_type": "stream",
          "text": [
            "  train: 100%|██████████| 391/391 [00:09<00:00, 39.69it/s, train_acc=97.239, train_loss=1.49]\n",
            "   test: 100%|██████████| 79/79 [00:02<00:00, 38.69it/s, test_acc=78.530, test_loss=1.68]\n"
          ]
        },
        {
          "name": "stdout",
          "output_type": "stream",
          "text": [
            "EPOCH 106/150 :\n"
          ]
        },
        {
          "name": "stderr",
          "output_type": "stream",
          "text": [
            "  train: 100%|██████████| 391/391 [00:09<00:00, 39.78it/s, train_acc=97.279, train_loss=1.49]\n",
            "   test: 100%|██████████| 79/79 [00:02<00:00, 39.03it/s, test_acc=78.511, test_loss=1.68]\n"
          ]
        },
        {
          "name": "stdout",
          "output_type": "stream",
          "text": [
            "EPOCH 107/150 :\n"
          ]
        },
        {
          "name": "stderr",
          "output_type": "stream",
          "text": [
            "  train: 100%|██████████| 391/391 [00:09<00:00, 39.85it/s, train_acc=97.240, train_loss=1.49]\n",
            "   test: 100%|██████████| 79/79 [00:02<00:00, 38.06it/s, test_acc=78.896, test_loss=1.67]\n"
          ]
        },
        {
          "name": "stdout",
          "output_type": "stream",
          "text": [
            "EPOCH 108/150 :\n"
          ]
        },
        {
          "name": "stderr",
          "output_type": "stream",
          "text": [
            "  train: 100%|██████████| 391/391 [00:09<00:00, 39.56it/s, train_acc=97.235, train_loss=1.49]\n",
            "   test: 100%|██████████| 79/79 [00:02<00:00, 38.75it/s, test_acc=78.629, test_loss=1.67]\n"
          ]
        },
        {
          "name": "stdout",
          "output_type": "stream",
          "text": [
            "EPOCH 109/150 :\n"
          ]
        },
        {
          "name": "stderr",
          "output_type": "stream",
          "text": [
            "  train: 100%|██████████| 391/391 [00:09<00:00, 40.07it/s, train_acc=97.293, train_loss=1.49]\n",
            "   test: 100%|██████████| 79/79 [00:02<00:00, 38.93it/s, test_acc=78.669, test_loss=1.68]\n"
          ]
        },
        {
          "name": "stdout",
          "output_type": "stream",
          "text": [
            "EPOCH 110/150 :\n"
          ]
        },
        {
          "name": "stderr",
          "output_type": "stream",
          "text": [
            "  train: 100%|██████████| 391/391 [00:09<00:00, 39.97it/s, train_acc=97.311, train_loss=1.49]\n",
            "   test: 100%|██████████| 79/79 [00:02<00:00, 39.23it/s, test_acc=77.284, test_loss=1.69]\n"
          ]
        },
        {
          "name": "stdout",
          "output_type": "stream",
          "text": [
            "EPOCH 111/150 :\n"
          ]
        },
        {
          "name": "stderr",
          "output_type": "stream",
          "text": [
            "  train: 100%|██████████| 391/391 [00:09<00:00, 40.44it/s, train_acc=97.351, train_loss=1.49]\n",
            "   test: 100%|██████████| 79/79 [00:02<00:00, 39.02it/s, test_acc=78.669, test_loss=1.67]\n"
          ]
        },
        {
          "name": "stdout",
          "output_type": "stream",
          "text": [
            "EPOCH 112/150 :\n"
          ]
        },
        {
          "name": "stderr",
          "output_type": "stream",
          "text": [
            "  train: 100%|██████████| 391/391 [00:09<00:00, 39.69it/s, train_acc=97.325, train_loss=1.49]\n",
            "   test: 100%|██████████| 79/79 [00:02<00:00, 39.49it/s, test_acc=78.817, test_loss=1.67]\n"
          ]
        },
        {
          "name": "stdout",
          "output_type": "stream",
          "text": [
            "EPOCH 113/150 :\n"
          ]
        },
        {
          "name": "stderr",
          "output_type": "stream",
          "text": [
            "  train: 100%|██████████| 391/391 [00:09<00:00, 40.49it/s, train_acc=97.371, train_loss=1.49]\n",
            "   test: 100%|██████████| 79/79 [00:02<00:00, 36.86it/s, test_acc=78.352, test_loss=1.68]\n"
          ]
        },
        {
          "name": "stdout",
          "output_type": "stream",
          "text": [
            "EPOCH 114/150 :\n"
          ]
        },
        {
          "name": "stderr",
          "output_type": "stream",
          "text": [
            "  train: 100%|██████████| 391/391 [00:09<00:00, 40.21it/s, train_acc=97.390, train_loss=1.49]\n",
            "   test: 100%|██████████| 79/79 [00:02<00:00, 38.59it/s, test_acc=78.155, test_loss=1.68]\n"
          ]
        },
        {
          "name": "stdout",
          "output_type": "stream",
          "text": [
            "EPOCH 115/150 :\n"
          ]
        },
        {
          "name": "stderr",
          "output_type": "stream",
          "text": [
            "  train: 100%|██████████| 391/391 [00:09<00:00, 40.03it/s, train_acc=97.436, train_loss=1.49]\n",
            "   test: 100%|██████████| 79/79 [00:02<00:00, 39.50it/s, test_acc=78.293, test_loss=1.68]\n"
          ]
        },
        {
          "name": "stdout",
          "output_type": "stream",
          "text": [
            "EPOCH 116/150 :\n"
          ]
        },
        {
          "name": "stderr",
          "output_type": "stream",
          "text": [
            "  train: 100%|██████████| 391/391 [00:09<00:00, 39.55it/s, train_acc=97.492, train_loss=1.49]\n",
            "   test: 100%|██████████| 79/79 [00:02<00:00, 38.40it/s, test_acc=78.530, test_loss=1.68]\n"
          ]
        },
        {
          "name": "stdout",
          "output_type": "stream",
          "text": [
            "EPOCH 117/150 :\n"
          ]
        },
        {
          "name": "stderr",
          "output_type": "stream",
          "text": [
            "  train: 100%|██████████| 391/391 [00:09<00:00, 39.18it/s, train_acc=97.448, train_loss=1.49]\n",
            "   test: 100%|██████████| 79/79 [00:02<00:00, 37.77it/s, test_acc=78.817, test_loss=1.67]\n"
          ]
        },
        {
          "name": "stdout",
          "output_type": "stream",
          "text": [
            "EPOCH 118/150 :\n"
          ]
        },
        {
          "name": "stderr",
          "output_type": "stream",
          "text": [
            "  train: 100%|██████████| 391/391 [00:09<00:00, 39.77it/s, train_acc=97.431, train_loss=1.49]\n",
            "   test: 100%|██████████| 79/79 [00:02<00:00, 37.65it/s, test_acc=78.540, test_loss=1.68]\n"
          ]
        },
        {
          "name": "stdout",
          "output_type": "stream",
          "text": [
            "EPOCH 119/150 :\n"
          ]
        },
        {
          "name": "stderr",
          "output_type": "stream",
          "text": [
            "  train: 100%|██████████| 391/391 [00:10<00:00, 39.02it/s, train_acc=97.528, train_loss=1.49]\n",
            "   test: 100%|██████████| 79/79 [00:02<00:00, 39.11it/s, test_acc=78.303, test_loss=1.68]\n"
          ]
        },
        {
          "name": "stdout",
          "output_type": "stream",
          "text": [
            "EPOCH 120/150 :\n"
          ]
        },
        {
          "name": "stderr",
          "output_type": "stream",
          "text": [
            "  train: 100%|██████████| 391/391 [00:09<00:00, 39.46it/s, train_acc=97.363, train_loss=1.49]\n",
            "   test: 100%|██████████| 79/79 [00:02<00:00, 39.33it/s, test_acc=78.352, test_loss=1.68]\n"
          ]
        },
        {
          "name": "stdout",
          "output_type": "stream",
          "text": [
            "EPOCH 121/150 :\n"
          ]
        },
        {
          "name": "stderr",
          "output_type": "stream",
          "text": [
            "  train: 100%|██████████| 391/391 [00:09<00:00, 39.82it/s, train_acc=97.461, train_loss=1.49]\n",
            "   test: 100%|██████████| 79/79 [00:02<00:00, 38.06it/s, test_acc=78.847, test_loss=1.67]\n"
          ]
        },
        {
          "name": "stdout",
          "output_type": "stream",
          "text": [
            "EPOCH 122/150 :\n"
          ]
        },
        {
          "name": "stderr",
          "output_type": "stream",
          "text": [
            "  train: 100%|██████████| 391/391 [00:09<00:00, 39.74it/s, train_acc=97.558, train_loss=1.49]\n",
            "   test: 100%|██████████| 79/79 [00:02<00:00, 39.26it/s, test_acc=78.827, test_loss=1.67]\n"
          ]
        },
        {
          "name": "stdout",
          "output_type": "stream",
          "text": [
            "EPOCH 123/150 :\n"
          ]
        },
        {
          "name": "stderr",
          "output_type": "stream",
          "text": [
            "  train: 100%|██████████| 391/391 [00:09<00:00, 39.98it/s, train_acc=97.550, train_loss=1.49]\n",
            "   test: 100%|██████████| 79/79 [00:02<00:00, 37.98it/s, test_acc=78.600, test_loss=1.67]\n"
          ]
        },
        {
          "name": "stdout",
          "output_type": "stream",
          "text": [
            "EPOCH 124/150 :\n"
          ]
        },
        {
          "name": "stderr",
          "output_type": "stream",
          "text": [
            "  train: 100%|██████████| 391/391 [00:09<00:00, 39.40it/s, train_acc=97.562, train_loss=1.49]\n",
            "   test: 100%|██████████| 79/79 [00:02<00:00, 37.49it/s, test_acc=79.134, test_loss=1.67]\n"
          ]
        },
        {
          "name": "stdout",
          "output_type": "stream",
          "text": [
            "EPOCH 125/150 :\n"
          ]
        },
        {
          "name": "stderr",
          "output_type": "stream",
          "text": [
            "  train: 100%|██████████| 391/391 [00:09<00:00, 39.94it/s, train_acc=97.557, train_loss=1.49]\n",
            "   test: 100%|██████████| 79/79 [00:02<00:00, 38.60it/s, test_acc=78.600, test_loss=1.67]\n"
          ]
        },
        {
          "name": "stdout",
          "output_type": "stream",
          "text": [
            "EPOCH 126/150 :\n"
          ]
        },
        {
          "name": "stderr",
          "output_type": "stream",
          "text": [
            "  train: 100%|██████████| 391/391 [00:09<00:00, 39.92it/s, train_acc=97.579, train_loss=1.49]\n",
            "   test: 100%|██████████| 79/79 [00:02<00:00, 38.40it/s, test_acc=78.718, test_loss=1.67]\n"
          ]
        },
        {
          "name": "stdout",
          "output_type": "stream",
          "text": [
            "EPOCH 127/150 :\n"
          ]
        },
        {
          "name": "stderr",
          "output_type": "stream",
          "text": [
            "  train: 100%|██████████| 391/391 [00:09<00:00, 40.09it/s, train_acc=97.589, train_loss=1.49]\n",
            "   test: 100%|██████████| 79/79 [00:02<00:00, 38.02it/s, test_acc=78.521, test_loss=1.68]\n"
          ]
        },
        {
          "name": "stdout",
          "output_type": "stream",
          "text": [
            "EPOCH 128/150 :\n"
          ]
        },
        {
          "name": "stderr",
          "output_type": "stream",
          "text": [
            "  train: 100%|██████████| 391/391 [00:09<00:00, 40.37it/s, train_acc=97.588, train_loss=1.49]\n",
            "   test: 100%|██████████| 79/79 [00:02<00:00, 34.37it/s, test_acc=77.917, test_loss=1.68]\n"
          ]
        },
        {
          "name": "stdout",
          "output_type": "stream",
          "text": [
            "EPOCH 129/150 :\n"
          ]
        },
        {
          "name": "stderr",
          "output_type": "stream",
          "text": [
            "  train: 100%|██████████| 391/391 [00:09<00:00, 39.47it/s, train_acc=97.628, train_loss=1.49]\n",
            "   test: 100%|██████████| 79/79 [00:02<00:00, 31.53it/s, test_acc=78.263, test_loss=1.68]\n"
          ]
        },
        {
          "name": "stdout",
          "output_type": "stream",
          "text": [
            "EPOCH 130/150 :\n"
          ]
        },
        {
          "name": "stderr",
          "output_type": "stream",
          "text": [
            "  train: 100%|██████████| 391/391 [00:09<00:00, 40.60it/s, train_acc=97.625, train_loss=1.49]\n",
            "   test: 100%|██████████| 79/79 [00:02<00:00, 32.75it/s, test_acc=77.799, test_loss=1.68]\n"
          ]
        },
        {
          "name": "stdout",
          "output_type": "stream",
          "text": [
            "EPOCH 131/150 :\n"
          ]
        },
        {
          "name": "stderr",
          "output_type": "stream",
          "text": [
            "  train: 100%|██████████| 391/391 [00:09<00:00, 41.96it/s, train_acc=97.583, train_loss=1.49]\n",
            "   test: 100%|██████████| 79/79 [00:02<00:00, 30.91it/s, test_acc=78.254, test_loss=1.68]\n"
          ]
        },
        {
          "name": "stdout",
          "output_type": "stream",
          "text": [
            "EPOCH 132/150 :\n"
          ]
        },
        {
          "name": "stderr",
          "output_type": "stream",
          "text": [
            "  train: 100%|██████████| 391/391 [00:09<00:00, 41.91it/s, train_acc=97.666, train_loss=1.49]\n",
            "   test: 100%|██████████| 79/79 [00:02<00:00, 29.34it/s, test_acc=78.699, test_loss=1.67]\n"
          ]
        },
        {
          "name": "stdout",
          "output_type": "stream",
          "text": [
            "EPOCH 133/150 :\n"
          ]
        },
        {
          "name": "stderr",
          "output_type": "stream",
          "text": [
            "  train: 100%|██████████| 391/391 [00:09<00:00, 43.03it/s, train_acc=97.653, train_loss=1.49]\n",
            "   test: 100%|██████████| 79/79 [00:02<00:00, 32.10it/s, test_acc=78.194, test_loss=1.68]\n"
          ]
        },
        {
          "name": "stdout",
          "output_type": "stream",
          "text": [
            "EPOCH 134/150 :\n"
          ]
        },
        {
          "name": "stderr",
          "output_type": "stream",
          "text": [
            "  train: 100%|██████████| 391/391 [00:09<00:00, 42.32it/s, train_acc=97.637, train_loss=1.49]\n",
            "   test: 100%|██████████| 79/79 [00:02<00:00, 33.00it/s, test_acc=78.511, test_loss=1.67]\n"
          ]
        },
        {
          "name": "stdout",
          "output_type": "stream",
          "text": [
            "EPOCH 135/150 :\n"
          ]
        },
        {
          "name": "stderr",
          "output_type": "stream",
          "text": [
            "  train: 100%|██████████| 391/391 [00:09<00:00, 40.87it/s, train_acc=97.703, train_loss=1.49]\n",
            "   test: 100%|██████████| 79/79 [00:02<00:00, 35.76it/s, test_acc=78.867, test_loss=1.67]\n"
          ]
        },
        {
          "name": "stdout",
          "output_type": "stream",
          "text": [
            "EPOCH 136/150 :\n"
          ]
        },
        {
          "name": "stderr",
          "output_type": "stream",
          "text": [
            "  train: 100%|██████████| 391/391 [00:09<00:00, 41.15it/s, train_acc=97.762, train_loss=1.48]\n",
            "   test: 100%|██████████| 79/79 [00:02<00:00, 38.20it/s, test_acc=78.867, test_loss=1.67]\n"
          ]
        },
        {
          "name": "stdout",
          "output_type": "stream",
          "text": [
            "EPOCH 137/150 :\n"
          ]
        },
        {
          "name": "stderr",
          "output_type": "stream",
          "text": [
            "  train: 100%|██████████| 391/391 [00:09<00:00, 40.03it/s, train_acc=97.733, train_loss=1.48]\n",
            "   test: 100%|██████████| 79/79 [00:02<00:00, 39.16it/s, test_acc=78.797, test_loss=1.67]\n"
          ]
        },
        {
          "name": "stdout",
          "output_type": "stream",
          "text": [
            "EPOCH 138/150 :\n"
          ]
        },
        {
          "name": "stderr",
          "output_type": "stream",
          "text": [
            "  train: 100%|██████████| 391/391 [00:09<00:00, 39.94it/s, train_acc=97.725, train_loss=1.49]\n",
            "   test: 100%|██████████| 79/79 [00:02<00:00, 38.70it/s, test_acc=78.985, test_loss=1.67]\n"
          ]
        },
        {
          "name": "stdout",
          "output_type": "stream",
          "text": [
            "EPOCH 139/150 :\n"
          ]
        },
        {
          "name": "stderr",
          "output_type": "stream",
          "text": [
            "  train: 100%|██████████| 391/391 [00:09<00:00, 40.07it/s, train_acc=97.755, train_loss=1.48]\n",
            "   test: 100%|██████████| 79/79 [00:02<00:00, 37.55it/s, test_acc=78.521, test_loss=1.68]\n"
          ]
        },
        {
          "name": "stdout",
          "output_type": "stream",
          "text": [
            "EPOCH 140/150 :\n"
          ]
        },
        {
          "name": "stderr",
          "output_type": "stream",
          "text": [
            "  train: 100%|██████████| 391/391 [00:09<00:00, 39.86it/s, train_acc=97.787, train_loss=1.48]\n",
            "   test: 100%|██████████| 79/79 [00:02<00:00, 38.21it/s, test_acc=78.540, test_loss=1.68]\n"
          ]
        },
        {
          "name": "stdout",
          "output_type": "stream",
          "text": [
            "EPOCH 141/150 :\n"
          ]
        },
        {
          "name": "stderr",
          "output_type": "stream",
          "text": [
            "  train: 100%|██████████| 391/391 [00:09<00:00, 40.80it/s, train_acc=97.793, train_loss=1.48]\n",
            "   test: 100%|██████████| 79/79 [00:02<00:00, 39.40it/s, test_acc=78.788, test_loss=1.67]\n"
          ]
        },
        {
          "name": "stdout",
          "output_type": "stream",
          "text": [
            "EPOCH 142/150 :\n"
          ]
        },
        {
          "name": "stderr",
          "output_type": "stream",
          "text": [
            "  train: 100%|██████████| 391/391 [00:09<00:00, 39.67it/s, train_acc=97.742, train_loss=1.48]\n",
            "   test: 100%|██████████| 79/79 [00:02<00:00, 38.64it/s, test_acc=78.699, test_loss=1.68]\n"
          ]
        },
        {
          "name": "stdout",
          "output_type": "stream",
          "text": [
            "EPOCH 143/150 :\n"
          ]
        },
        {
          "name": "stderr",
          "output_type": "stream",
          "text": [
            "  train: 100%|██████████| 391/391 [00:09<00:00, 40.44it/s, train_acc=97.778, train_loss=1.48]\n",
            "   test: 100%|██████████| 79/79 [00:02<00:00, 38.67it/s, test_acc=78.461, test_loss=1.68]\n"
          ]
        },
        {
          "name": "stdout",
          "output_type": "stream",
          "text": [
            "EPOCH 144/150 :\n"
          ]
        },
        {
          "name": "stderr",
          "output_type": "stream",
          "text": [
            "  train: 100%|██████████| 391/391 [00:09<00:00, 40.47it/s, train_acc=97.847, train_loss=1.48]\n",
            "   test: 100%|██████████| 79/79 [00:02<00:00, 39.06it/s, test_acc=78.639, test_loss=1.67]\n"
          ]
        },
        {
          "name": "stdout",
          "output_type": "stream",
          "text": [
            "EPOCH 145/150 :\n"
          ]
        },
        {
          "name": "stderr",
          "output_type": "stream",
          "text": [
            "  train: 100%|██████████| 391/391 [00:09<00:00, 40.28it/s, train_acc=97.824, train_loss=1.48]\n",
            "   test: 100%|██████████| 79/79 [00:02<00:00, 36.18it/s, test_acc=78.352, test_loss=1.68]\n"
          ]
        },
        {
          "name": "stdout",
          "output_type": "stream",
          "text": [
            "EPOCH 146/150 :\n"
          ]
        },
        {
          "name": "stderr",
          "output_type": "stream",
          "text": [
            "  train: 100%|██████████| 391/391 [00:09<00:00, 40.66it/s, train_acc=97.848, train_loss=1.48]\n",
            "   test: 100%|██████████| 79/79 [00:01<00:00, 39.99it/s, test_acc=78.689, test_loss=1.68]\n"
          ]
        },
        {
          "name": "stdout",
          "output_type": "stream",
          "text": [
            "EPOCH 147/150 :\n"
          ]
        },
        {
          "name": "stderr",
          "output_type": "stream",
          "text": [
            "  train: 100%|██████████| 391/391 [00:09<00:00, 40.29it/s, train_acc=97.870, train_loss=1.48]\n",
            "   test: 100%|██████████| 79/79 [00:02<00:00, 39.15it/s, test_acc=78.847, test_loss=1.67]\n"
          ]
        },
        {
          "name": "stdout",
          "output_type": "stream",
          "text": [
            "EPOCH 148/150 :\n"
          ]
        },
        {
          "name": "stderr",
          "output_type": "stream",
          "text": [
            "  train: 100%|██████████| 391/391 [00:09<00:00, 39.87it/s, train_acc=97.853, train_loss=1.48]\n",
            "   test: 100%|██████████| 79/79 [00:02<00:00, 38.05it/s, test_acc=78.244, test_loss=1.68]\n"
          ]
        },
        {
          "name": "stdout",
          "output_type": "stream",
          "text": [
            "EPOCH 149/150 :\n"
          ]
        },
        {
          "name": "stderr",
          "output_type": "stream",
          "text": [
            "  train: 100%|██████████| 391/391 [00:09<00:00, 39.85it/s, train_acc=97.852, train_loss=1.48]\n",
            "   test: 100%|██████████| 79/79 [00:02<00:00, 39.44it/s, test_acc=79.015, test_loss=1.67]\n"
          ]
        },
        {
          "name": "stdout",
          "output_type": "stream",
          "text": [
            "EPOCH 150/150 :\n"
          ]
        },
        {
          "name": "stderr",
          "output_type": "stream",
          "text": [
            "  train: 100%|██████████| 391/391 [00:09<00:00, 39.59it/s, train_acc=97.918, train_loss=1.48]\n",
            "   test: 100%|██████████| 79/79 [00:02<00:00, 38.53it/s, test_acc=78.886, test_loss=1.67]\n"
          ]
        },
        {
          "name": "stdout",
          "output_type": "stream",
          "text": [
            "\n",
            "\n",
            "Train time: 1781.489 seconds\n"
          ]
        }
      ],
      "source": [
        "hparams = [\"CIFAR\", \"SCNNB-a\", 150]\n",
        "SCNNB_a_CIFAR_model, SCNNB_a_CIFAR_train_loss, SCNNB_a_CIFAR_train_accuracy, SCNNB_a_CIFAR_test_loss, SCNNB_a_CIFAR_test_accuracy = train(hparams ,CIFAR_train_dataloader, CIFAR_test_dataloader)\n"
      ]
    },
    {
      "cell_type": "code",
      "execution_count": 74,
      "metadata": {
        "colab": {
          "base_uri": "https://localhost:8080/"
        },
        "id": "sgrCe5aIYWkv",
        "outputId": "f9530b3a-050c-45d8-fb88-b9a473af06d8"
      },
      "outputs": [
        {
          "name": "stdout",
          "output_type": "stream",
          "text": [
            "Maximum Test Accuracy for SCNNB-a model is:  79.13370126582281\n"
          ]
        }
      ],
      "source": [
        "SCNNB_a_max_acc = max(SCNNB_a_CIFAR_test_accuracy)\n",
        "SCNNB_a_MEAN = sum(SCNNB_a_CIFAR_test_accuracy)/len(SCNNB_a_CIFAR_test_accuracy)\n",
        "print(\"Maximum Test Accuracy for SCNNB-a model is: \", str(SCNNB_a_max_acc))"
      ]
    },
    {
      "cell_type": "code",
      "execution_count": 75,
      "metadata": {
        "id": "tDJQ4aon8-Uq"
      },
      "outputs": [],
      "source": [
        "torch.save(SCNNB_a_CIFAR_model.state_dict(), 'SCNNB_a_CIFAR')"
      ]
    },
    {
      "cell_type": "code",
      "execution_count": 78,
      "metadata": {
        "colab": {
          "base_uri": "https://localhost:8080/"
        },
        "id": "h-qfM7bC8Rgq",
        "outputId": "a2c3caf5-7117-486d-959d-9bb8f188371d"
      },
      "outputs": [
        {
          "name": "stdout",
          "output_type": "stream",
          "text": [
            "EPOCH 1/150 :\n"
          ]
        },
        {
          "name": "stderr",
          "output_type": "stream",
          "text": [
            "  train: 100%|██████████| 391/391 [00:09<00:00, 41.68it/s, train_acc=14.648, train_loss=2.27]\n",
            "   test: 100%|██████████| 79/79 [00:01<00:00, 42.28it/s, test_acc=24.288, test_loss=2.2]\n"
          ]
        },
        {
          "name": "stdout",
          "output_type": "stream",
          "text": [
            "EPOCH 2/150 :\n"
          ]
        },
        {
          "name": "stderr",
          "output_type": "stream",
          "text": [
            "  train: 100%|██████████| 391/391 [00:09<00:00, 41.80it/s, train_acc=28.491, train_loss=2.16]\n",
            "   test: 100%|██████████| 79/79 [00:01<00:00, 41.94it/s, test_acc=33.722, test_loss=2.12]\n"
          ]
        },
        {
          "name": "stdout",
          "output_type": "stream",
          "text": [
            "EPOCH 3/150 :\n"
          ]
        },
        {
          "name": "stderr",
          "output_type": "stream",
          "text": [
            "  train: 100%|██████████| 391/391 [00:09<00:00, 41.71it/s, train_acc=34.682, train_loss=2.11]\n",
            "   test: 100%|██████████| 79/79 [00:01<00:00, 41.50it/s, test_acc=36.224, test_loss=2.09]\n"
          ]
        },
        {
          "name": "stdout",
          "output_type": "stream",
          "text": [
            "EPOCH 4/150 :\n"
          ]
        },
        {
          "name": "stderr",
          "output_type": "stream",
          "text": [
            "  train: 100%|██████████| 391/391 [00:09<00:00, 40.77it/s, train_acc=39.114, train_loss=2.07]\n",
            "   test: 100%|██████████| 79/79 [00:01<00:00, 41.63it/s, test_acc=40.378, test_loss=2.05]\n"
          ]
        },
        {
          "name": "stdout",
          "output_type": "stream",
          "text": [
            "EPOCH 5/150 :\n"
          ]
        },
        {
          "name": "stderr",
          "output_type": "stream",
          "text": [
            "  train: 100%|██████████| 391/391 [00:09<00:00, 42.35it/s, train_acc=42.970, train_loss=2.03]\n",
            "   test: 100%|██████████| 79/79 [00:02<00:00, 36.08it/s, test_acc=43.068, test_loss=2.03]\n"
          ]
        },
        {
          "name": "stdout",
          "output_type": "stream",
          "text": [
            "EPOCH 6/150 :\n"
          ]
        },
        {
          "name": "stderr",
          "output_type": "stream",
          "text": [
            "  train: 100%|██████████| 391/391 [00:08<00:00, 43.62it/s, train_acc=45.879, train_loss=2]\n",
            "   test: 100%|██████████| 79/79 [00:02<00:00, 32.58it/s, test_acc=47.755, test_loss=1.98]\n"
          ]
        },
        {
          "name": "stdout",
          "output_type": "stream",
          "text": [
            "EPOCH 7/150 :\n"
          ]
        },
        {
          "name": "stderr",
          "output_type": "stream",
          "text": [
            "  train: 100%|██████████| 391/391 [00:08<00:00, 45.13it/s, train_acc=48.931, train_loss=1.97]\n",
            "   test: 100%|██████████| 79/79 [00:02<00:00, 34.16it/s, test_acc=51.731, test_loss=1.94]\n"
          ]
        },
        {
          "name": "stdout",
          "output_type": "stream",
          "text": [
            "EPOCH 8/150 :\n"
          ]
        },
        {
          "name": "stderr",
          "output_type": "stream",
          "text": [
            "  train: 100%|██████████| 391/391 [00:08<00:00, 43.79it/s, train_acc=51.262, train_loss=1.95]\n",
            "   test: 100%|██████████| 79/79 [00:02<00:00, 37.42it/s, test_acc=53.204, test_loss=1.93]\n"
          ]
        },
        {
          "name": "stdout",
          "output_type": "stream",
          "text": [
            "EPOCH 9/150 :\n"
          ]
        },
        {
          "name": "stderr",
          "output_type": "stream",
          "text": [
            "  train: 100%|██████████| 391/391 [00:09<00:00, 40.59it/s, train_acc=53.573, train_loss=1.93]\n",
            "   test: 100%|██████████| 79/79 [00:01<00:00, 40.74it/s, test_acc=53.471, test_loss=1.92]\n"
          ]
        },
        {
          "name": "stdout",
          "output_type": "stream",
          "text": [
            "EPOCH 10/150 :\n"
          ]
        },
        {
          "name": "stderr",
          "output_type": "stream",
          "text": [
            "  train: 100%|██████████| 391/391 [00:09<00:00, 41.40it/s, train_acc=55.504, train_loss=1.91]\n",
            "   test: 100%|██████████| 79/79 [00:01<00:00, 40.74it/s, test_acc=56.873, test_loss=1.89]\n"
          ]
        },
        {
          "name": "stdout",
          "output_type": "stream",
          "text": [
            "EPOCH 11/150 :\n"
          ]
        },
        {
          "name": "stderr",
          "output_type": "stream",
          "text": [
            "  train: 100%|██████████| 391/391 [00:09<00:00, 40.83it/s, train_acc=57.470, train_loss=1.89]\n",
            "   test: 100%|██████████| 79/79 [00:01<00:00, 41.32it/s, test_acc=58.178, test_loss=1.88]\n"
          ]
        },
        {
          "name": "stdout",
          "output_type": "stream",
          "text": [
            "EPOCH 12/150 :\n"
          ]
        },
        {
          "name": "stderr",
          "output_type": "stream",
          "text": [
            "  train: 100%|██████████| 391/391 [00:09<00:00, 41.24it/s, train_acc=59.303, train_loss=1.87]\n",
            "   test: 100%|██████████| 79/79 [00:01<00:00, 40.59it/s, test_acc=59.662, test_loss=1.86]\n"
          ]
        },
        {
          "name": "stdout",
          "output_type": "stream",
          "text": [
            "EPOCH 13/150 :\n"
          ]
        },
        {
          "name": "stderr",
          "output_type": "stream",
          "text": [
            "  train: 100%|██████████| 391/391 [00:09<00:00, 40.32it/s, train_acc=60.808, train_loss=1.85]\n",
            "   test: 100%|██████████| 79/79 [00:01<00:00, 41.26it/s, test_acc=60.720, test_loss=1.85]\n"
          ]
        },
        {
          "name": "stdout",
          "output_type": "stream",
          "text": [
            "EPOCH 14/150 :\n"
          ]
        },
        {
          "name": "stderr",
          "output_type": "stream",
          "text": [
            "  train: 100%|██████████| 391/391 [00:09<00:00, 40.60it/s, train_acc=62.319, train_loss=1.84]\n",
            "   test: 100%|██████████| 79/79 [00:02<00:00, 39.44it/s, test_acc=61.867, test_loss=1.84]\n"
          ]
        },
        {
          "name": "stdout",
          "output_type": "stream",
          "text": [
            "EPOCH 15/150 :\n"
          ]
        },
        {
          "name": "stderr",
          "output_type": "stream",
          "text": [
            "  train: 100%|██████████| 391/391 [00:09<00:00, 40.74it/s, train_acc=63.660, train_loss=1.83]\n",
            "   test: 100%|██████████| 79/79 [00:01<00:00, 40.10it/s, test_acc=63.449, test_loss=1.83]\n"
          ]
        },
        {
          "name": "stdout",
          "output_type": "stream",
          "text": [
            "EPOCH 16/150 :\n"
          ]
        },
        {
          "name": "stderr",
          "output_type": "stream",
          "text": [
            "  train: 100%|██████████| 391/391 [00:09<00:00, 40.88it/s, train_acc=65.064, train_loss=1.81]\n",
            "   test: 100%|██████████| 79/79 [00:01<00:00, 40.96it/s, test_acc=63.192, test_loss=1.83]\n"
          ]
        },
        {
          "name": "stdout",
          "output_type": "stream",
          "text": [
            "EPOCH 17/150 :\n"
          ]
        },
        {
          "name": "stderr",
          "output_type": "stream",
          "text": [
            "  train: 100%|██████████| 391/391 [00:09<00:00, 40.19it/s, train_acc=66.468, train_loss=1.8]\n",
            "   test: 100%|██████████| 79/79 [00:01<00:00, 40.81it/s, test_acc=64.320, test_loss=1.82]\n"
          ]
        },
        {
          "name": "stdout",
          "output_type": "stream",
          "text": [
            "EPOCH 18/150 :\n"
          ]
        },
        {
          "name": "stderr",
          "output_type": "stream",
          "text": [
            "  train: 100%|██████████| 391/391 [00:09<00:00, 40.85it/s, train_acc=67.758, train_loss=1.79]\n",
            "   test: 100%|██████████| 79/79 [00:01<00:00, 40.52it/s, test_acc=65.605, test_loss=1.81]\n"
          ]
        },
        {
          "name": "stdout",
          "output_type": "stream",
          "text": [
            "EPOCH 19/150 :\n"
          ]
        },
        {
          "name": "stderr",
          "output_type": "stream",
          "text": [
            "  train: 100%|██████████| 391/391 [00:09<00:00, 40.81it/s, train_acc=68.551, train_loss=1.78]\n",
            "   test: 100%|██████████| 79/79 [00:02<00:00, 38.54it/s, test_acc=65.665, test_loss=1.81]\n"
          ]
        },
        {
          "name": "stdout",
          "output_type": "stream",
          "text": [
            "EPOCH 20/150 :\n"
          ]
        },
        {
          "name": "stderr",
          "output_type": "stream",
          "text": [
            "  train: 100%|██████████| 391/391 [00:09<00:00, 39.76it/s, train_acc=69.630, train_loss=1.77]\n",
            "   test: 100%|██████████| 79/79 [00:01<00:00, 40.80it/s, test_acc=65.843, test_loss=1.8]\n"
          ]
        },
        {
          "name": "stdout",
          "output_type": "stream",
          "text": [
            "EPOCH 21/150 :\n"
          ]
        },
        {
          "name": "stderr",
          "output_type": "stream",
          "text": [
            "  train: 100%|██████████| 391/391 [00:09<00:00, 40.42it/s, train_acc=70.973, train_loss=1.76]\n",
            "   test: 100%|██████████| 79/79 [00:01<00:00, 40.75it/s, test_acc=65.892, test_loss=1.8]\n"
          ]
        },
        {
          "name": "stdout",
          "output_type": "stream",
          "text": [
            "EPOCH 22/150 :\n"
          ]
        },
        {
          "name": "stderr",
          "output_type": "stream",
          "text": [
            "  train: 100%|██████████| 391/391 [00:09<00:00, 39.86it/s, train_acc=71.947, train_loss=1.75]\n",
            "   test: 100%|██████████| 79/79 [00:01<00:00, 41.14it/s, test_acc=66.327, test_loss=1.8]\n"
          ]
        },
        {
          "name": "stdout",
          "output_type": "stream",
          "text": [
            "EPOCH 23/150 :\n"
          ]
        },
        {
          "name": "stderr",
          "output_type": "stream",
          "text": [
            "  train: 100%|██████████| 391/391 [00:09<00:00, 40.51it/s, train_acc=72.795, train_loss=1.74]\n",
            "   test: 100%|██████████| 79/79 [00:02<00:00, 39.25it/s, test_acc=67.158, test_loss=1.79]\n"
          ]
        },
        {
          "name": "stdout",
          "output_type": "stream",
          "text": [
            "EPOCH 24/150 :\n"
          ]
        },
        {
          "name": "stderr",
          "output_type": "stream",
          "text": [
            "  train: 100%|██████████| 391/391 [00:09<00:00, 40.74it/s, train_acc=73.764, train_loss=1.73]\n",
            "   test: 100%|██████████| 79/79 [00:02<00:00, 36.80it/s, test_acc=68.226, test_loss=1.78]\n"
          ]
        },
        {
          "name": "stdout",
          "output_type": "stream",
          "text": [
            "EPOCH 25/150 :\n"
          ]
        },
        {
          "name": "stderr",
          "output_type": "stream",
          "text": [
            "  train: 100%|██████████| 391/391 [00:09<00:00, 41.27it/s, train_acc=75.011, train_loss=1.72]\n",
            "   test: 100%|██████████| 79/79 [00:02<00:00, 33.76it/s, test_acc=68.404, test_loss=1.78]\n"
          ]
        },
        {
          "name": "stdout",
          "output_type": "stream",
          "text": [
            "EPOCH 26/150 :\n"
          ]
        },
        {
          "name": "stderr",
          "output_type": "stream",
          "text": [
            "  train: 100%|██████████| 391/391 [00:09<00:00, 42.79it/s, train_acc=75.776, train_loss=1.71]\n",
            "   test: 100%|██████████| 79/79 [00:02<00:00, 32.42it/s, test_acc=68.859, test_loss=1.77]\n"
          ]
        },
        {
          "name": "stdout",
          "output_type": "stream",
          "text": [
            "EPOCH 27/150 :\n"
          ]
        },
        {
          "name": "stderr",
          "output_type": "stream",
          "text": [
            "  train: 100%|██████████| 391/391 [00:08<00:00, 43.93it/s, train_acc=76.613, train_loss=1.7]\n",
            "   test: 100%|██████████| 79/79 [00:02<00:00, 31.48it/s, test_acc=68.968, test_loss=1.77]\n"
          ]
        },
        {
          "name": "stdout",
          "output_type": "stream",
          "text": [
            "EPOCH 28/150 :\n"
          ]
        },
        {
          "name": "stderr",
          "output_type": "stream",
          "text": [
            "  train: 100%|██████████| 391/391 [00:08<00:00, 43.86it/s, train_acc=77.507, train_loss=1.69]\n",
            "   test: 100%|██████████| 79/79 [00:02<00:00, 35.66it/s, test_acc=68.008, test_loss=1.78]\n"
          ]
        },
        {
          "name": "stdout",
          "output_type": "stream",
          "text": [
            "EPOCH 29/150 :\n"
          ]
        },
        {
          "name": "stderr",
          "output_type": "stream",
          "text": [
            "  train: 100%|██████████| 391/391 [00:09<00:00, 42.35it/s, train_acc=78.096, train_loss=1.68]\n",
            "   test: 100%|██████████| 79/79 [00:01<00:00, 40.42it/s, test_acc=69.413, test_loss=1.77]\n"
          ]
        },
        {
          "name": "stdout",
          "output_type": "stream",
          "text": [
            "EPOCH 30/150 :\n"
          ]
        },
        {
          "name": "stderr",
          "output_type": "stream",
          "text": [
            "  train: 100%|██████████| 391/391 [00:09<00:00, 40.37it/s, train_acc=78.900, train_loss=1.68]\n",
            "   test: 100%|██████████| 79/79 [00:01<00:00, 40.48it/s, test_acc=69.630, test_loss=1.76]\n"
          ]
        },
        {
          "name": "stdout",
          "output_type": "stream",
          "text": [
            "EPOCH 31/150 :\n"
          ]
        },
        {
          "name": "stderr",
          "output_type": "stream",
          "text": [
            "  train: 100%|██████████| 391/391 [00:09<00:00, 40.03it/s, train_acc=79.477, train_loss=1.67]\n",
            "   test: 100%|██████████| 79/79 [00:01<00:00, 40.80it/s, test_acc=69.986, test_loss=1.76]\n"
          ]
        },
        {
          "name": "stdout",
          "output_type": "stream",
          "text": [
            "EPOCH 32/150 :\n"
          ]
        },
        {
          "name": "stderr",
          "output_type": "stream",
          "text": [
            "  train: 100%|██████████| 391/391 [00:09<00:00, 40.84it/s, train_acc=79.976, train_loss=1.67]\n",
            "   test: 100%|██████████| 79/79 [00:02<00:00, 39.46it/s, test_acc=70.926, test_loss=1.75]\n"
          ]
        },
        {
          "name": "stdout",
          "output_type": "stream",
          "text": [
            "EPOCH 33/150 :\n"
          ]
        },
        {
          "name": "stderr",
          "output_type": "stream",
          "text": [
            "  train: 100%|██████████| 391/391 [00:09<00:00, 39.64it/s, train_acc=81.035, train_loss=1.66]\n",
            "   test: 100%|██████████| 79/79 [00:02<00:00, 39.09it/s, test_acc=70.115, test_loss=1.76]\n"
          ]
        },
        {
          "name": "stdout",
          "output_type": "stream",
          "text": [
            "EPOCH 34/150 :\n"
          ]
        },
        {
          "name": "stderr",
          "output_type": "stream",
          "text": [
            "  train: 100%|██████████| 391/391 [00:09<00:00, 40.16it/s, train_acc=81.512, train_loss=1.65]\n",
            "   test: 100%|██████████| 79/79 [00:01<00:00, 40.29it/s, test_acc=70.540, test_loss=1.75]\n"
          ]
        },
        {
          "name": "stdout",
          "output_type": "stream",
          "text": [
            "EPOCH 35/150 :\n"
          ]
        },
        {
          "name": "stderr",
          "output_type": "stream",
          "text": [
            "  train: 100%|██████████| 391/391 [00:09<00:00, 39.87it/s, train_acc=82.285, train_loss=1.64]\n",
            "   test: 100%|██████████| 79/79 [00:01<00:00, 39.53it/s, test_acc=70.936, test_loss=1.75]\n"
          ]
        },
        {
          "name": "stdout",
          "output_type": "stream",
          "text": [
            "EPOCH 36/150 :\n"
          ]
        },
        {
          "name": "stderr",
          "output_type": "stream",
          "text": [
            "  train: 100%|██████████| 391/391 [00:09<00:00, 39.72it/s, train_acc=82.430, train_loss=1.64]\n",
            "   test: 100%|██████████| 79/79 [00:01<00:00, 40.22it/s, test_acc=70.678, test_loss=1.75]\n"
          ]
        },
        {
          "name": "stdout",
          "output_type": "stream",
          "text": [
            "EPOCH 37/150 :\n"
          ]
        },
        {
          "name": "stderr",
          "output_type": "stream",
          "text": [
            "  train: 100%|██████████| 391/391 [00:09<00:00, 40.67it/s, train_acc=83.142, train_loss=1.63]\n",
            "   test: 100%|██████████| 79/79 [00:01<00:00, 39.85it/s, test_acc=71.005, test_loss=1.75]\n"
          ]
        },
        {
          "name": "stdout",
          "output_type": "stream",
          "text": [
            "EPOCH 38/150 :\n"
          ]
        },
        {
          "name": "stderr",
          "output_type": "stream",
          "text": [
            "  train: 100%|██████████| 391/391 [00:09<00:00, 40.88it/s, train_acc=83.806, train_loss=1.63]\n",
            "   test: 100%|██████████| 79/79 [00:01<00:00, 40.57it/s, test_acc=71.648, test_loss=1.75]\n"
          ]
        },
        {
          "name": "stdout",
          "output_type": "stream",
          "text": [
            "EPOCH 39/150 :\n"
          ]
        },
        {
          "name": "stderr",
          "output_type": "stream",
          "text": [
            "  train: 100%|██████████| 391/391 [00:09<00:00, 40.84it/s, train_acc=84.258, train_loss=1.62]\n",
            "   test: 100%|██████████| 79/79 [00:01<00:00, 40.38it/s, test_acc=71.539, test_loss=1.75]\n"
          ]
        },
        {
          "name": "stdout",
          "output_type": "stream",
          "text": [
            "EPOCH 40/150 :\n"
          ]
        },
        {
          "name": "stderr",
          "output_type": "stream",
          "text": [
            "  train: 100%|██████████| 391/391 [00:09<00:00, 40.55it/s, train_acc=84.612, train_loss=1.62]\n",
            "   test: 100%|██████████| 79/79 [00:02<00:00, 39.32it/s, test_acc=71.400, test_loss=1.74]\n"
          ]
        },
        {
          "name": "stdout",
          "output_type": "stream",
          "text": [
            "EPOCH 41/150 :\n"
          ]
        },
        {
          "name": "stderr",
          "output_type": "stream",
          "text": [
            "  train: 100%|██████████| 391/391 [00:09<00:00, 40.79it/s, train_acc=85.225, train_loss=1.61]\n",
            "   test: 100%|██████████| 79/79 [00:02<00:00, 37.32it/s, test_acc=71.727, test_loss=1.74]\n"
          ]
        },
        {
          "name": "stdout",
          "output_type": "stream",
          "text": [
            "EPOCH 42/150 :\n"
          ]
        },
        {
          "name": "stderr",
          "output_type": "stream",
          "text": [
            "  train: 100%|██████████| 391/391 [00:09<00:00, 41.23it/s, train_acc=85.331, train_loss=1.61]\n",
            "   test: 100%|██████████| 79/79 [00:01<00:00, 41.12it/s, test_acc=72.122, test_loss=1.74]\n"
          ]
        },
        {
          "name": "stdout",
          "output_type": "stream",
          "text": [
            "EPOCH 43/150 :\n"
          ]
        },
        {
          "name": "stderr",
          "output_type": "stream",
          "text": [
            "  train: 100%|██████████| 391/391 [00:09<00:00, 40.59it/s, train_acc=86.109, train_loss=1.61]\n",
            "   test: 100%|██████████| 79/79 [00:01<00:00, 41.24it/s, test_acc=71.905, test_loss=1.74]\n"
          ]
        },
        {
          "name": "stdout",
          "output_type": "stream",
          "text": [
            "EPOCH 44/150 :\n"
          ]
        },
        {
          "name": "stderr",
          "output_type": "stream",
          "text": [
            "  train: 100%|██████████| 391/391 [00:09<00:00, 40.79it/s, train_acc=86.514, train_loss=1.6]\n",
            "   test: 100%|██████████| 79/79 [00:02<00:00, 39.05it/s, test_acc=71.954, test_loss=1.74]\n"
          ]
        },
        {
          "name": "stdout",
          "output_type": "stream",
          "text": [
            "EPOCH 45/150 :\n"
          ]
        },
        {
          "name": "stderr",
          "output_type": "stream",
          "text": [
            "  train: 100%|██████████| 391/391 [00:09<00:00, 40.09it/s, train_acc=86.789, train_loss=1.6]\n",
            "   test: 100%|██████████| 79/79 [00:02<00:00, 37.78it/s, test_acc=71.796, test_loss=1.74]\n"
          ]
        },
        {
          "name": "stdout",
          "output_type": "stream",
          "text": [
            "EPOCH 46/150 :\n"
          ]
        },
        {
          "name": "stderr",
          "output_type": "stream",
          "text": [
            "  train: 100%|██████████| 391/391 [00:09<00:00, 41.12it/s, train_acc=87.080, train_loss=1.6]\n",
            "   test: 100%|██████████| 79/79 [00:01<00:00, 40.08it/s, test_acc=72.073, test_loss=1.74]\n"
          ]
        },
        {
          "name": "stdout",
          "output_type": "stream",
          "text": [
            "EPOCH 47/150 :\n"
          ]
        },
        {
          "name": "stderr",
          "output_type": "stream",
          "text": [
            "  train: 100%|██████████| 391/391 [00:09<00:00, 41.80it/s, train_acc=87.507, train_loss=1.59]\n",
            "   test: 100%|██████████| 79/79 [00:02<00:00, 34.61it/s, test_acc=71.915, test_loss=1.74]\n"
          ]
        },
        {
          "name": "stdout",
          "output_type": "stream",
          "text": [
            "EPOCH 48/150 :\n"
          ]
        },
        {
          "name": "stderr",
          "output_type": "stream",
          "text": [
            "  train: 100%|██████████| 391/391 [00:08<00:00, 43.73it/s, train_acc=87.875, train_loss=1.59]\n",
            "   test: 100%|██████████| 79/79 [00:02<00:00, 31.33it/s, test_acc=72.201, test_loss=1.74]\n"
          ]
        },
        {
          "name": "stdout",
          "output_type": "stream",
          "text": [
            "EPOCH 49/150 :\n"
          ]
        },
        {
          "name": "stderr",
          "output_type": "stream",
          "text": [
            "  train: 100%|██████████| 391/391 [00:08<00:00, 44.62it/s, train_acc=88.208, train_loss=1.58]\n",
            "   test: 100%|██████████| 79/79 [00:02<00:00, 33.13it/s, test_acc=72.182, test_loss=1.74]\n"
          ]
        },
        {
          "name": "stdout",
          "output_type": "stream",
          "text": [
            "EPOCH 50/150 :\n"
          ]
        },
        {
          "name": "stderr",
          "output_type": "stream",
          "text": [
            "  train: 100%|██████████| 391/391 [00:09<00:00, 42.91it/s, train_acc=88.398, train_loss=1.58]\n",
            "   test: 100%|██████████| 79/79 [00:02<00:00, 37.07it/s, test_acc=72.785, test_loss=1.73]\n"
          ]
        },
        {
          "name": "stdout",
          "output_type": "stream",
          "text": [
            "EPOCH 51/150 :\n"
          ]
        },
        {
          "name": "stderr",
          "output_type": "stream",
          "text": [
            "  train: 100%|██████████| 391/391 [00:09<00:00, 40.42it/s, train_acc=88.921, train_loss=1.58]\n",
            "   test: 100%|██████████| 79/79 [00:01<00:00, 40.28it/s, test_acc=71.994, test_loss=1.74]\n"
          ]
        },
        {
          "name": "stdout",
          "output_type": "stream",
          "text": [
            "EPOCH 52/150 :\n"
          ]
        },
        {
          "name": "stderr",
          "output_type": "stream",
          "text": [
            "  train: 100%|██████████| 391/391 [00:09<00:00, 39.46it/s, train_acc=88.931, train_loss=1.58]\n",
            "   test: 100%|██████████| 79/79 [00:02<00:00, 36.79it/s, test_acc=72.073, test_loss=1.74]\n"
          ]
        },
        {
          "name": "stdout",
          "output_type": "stream",
          "text": [
            "EPOCH 53/150 :\n"
          ]
        },
        {
          "name": "stderr",
          "output_type": "stream",
          "text": [
            "  train: 100%|██████████| 391/391 [00:09<00:00, 40.21it/s, train_acc=89.341, train_loss=1.57]\n",
            "   test: 100%|██████████| 79/79 [00:01<00:00, 39.98it/s, test_acc=72.854, test_loss=1.73]\n"
          ]
        },
        {
          "name": "stdout",
          "output_type": "stream",
          "text": [
            "EPOCH 54/150 :\n"
          ]
        },
        {
          "name": "stderr",
          "output_type": "stream",
          "text": [
            "  train: 100%|██████████| 391/391 [00:09<00:00, 40.43it/s, train_acc=89.455, train_loss=1.57]\n",
            "   test: 100%|██████████| 79/79 [00:01<00:00, 39.92it/s, test_acc=72.884, test_loss=1.73]\n"
          ]
        },
        {
          "name": "stdout",
          "output_type": "stream",
          "text": [
            "EPOCH 55/150 :\n"
          ]
        },
        {
          "name": "stderr",
          "output_type": "stream",
          "text": [
            "  train: 100%|██████████| 391/391 [00:09<00:00, 39.66it/s, train_acc=89.873, train_loss=1.57]\n",
            "   test: 100%|██████████| 79/79 [00:02<00:00, 38.28it/s, test_acc=72.943, test_loss=1.73]\n"
          ]
        },
        {
          "name": "stdout",
          "output_type": "stream",
          "text": [
            "EPOCH 56/150 :\n"
          ]
        },
        {
          "name": "stderr",
          "output_type": "stream",
          "text": [
            "  train: 100%|██████████| 391/391 [00:09<00:00, 39.93it/s, train_acc=90.096, train_loss=1.56]\n",
            "   test: 100%|██████████| 79/79 [00:01<00:00, 39.72it/s, test_acc=72.983, test_loss=1.73]\n"
          ]
        },
        {
          "name": "stdout",
          "output_type": "stream",
          "text": [
            "EPOCH 57/150 :\n"
          ]
        },
        {
          "name": "stderr",
          "output_type": "stream",
          "text": [
            "  train: 100%|██████████| 391/391 [00:09<00:00, 40.02it/s, train_acc=90.152, train_loss=1.56]\n",
            "   test: 100%|██████████| 79/79 [00:02<00:00, 39.23it/s, test_acc=73.259, test_loss=1.73]\n"
          ]
        },
        {
          "name": "stdout",
          "output_type": "stream",
          "text": [
            "EPOCH 58/150 :\n"
          ]
        },
        {
          "name": "stderr",
          "output_type": "stream",
          "text": [
            "  train: 100%|██████████| 391/391 [00:09<00:00, 40.19it/s, train_acc=90.570, train_loss=1.56]\n",
            "   test: 100%|██████████| 79/79 [00:02<00:00, 39.20it/s, test_acc=72.666, test_loss=1.73]\n"
          ]
        },
        {
          "name": "stdout",
          "output_type": "stream",
          "text": [
            "EPOCH 59/150 :\n"
          ]
        },
        {
          "name": "stderr",
          "output_type": "stream",
          "text": [
            "  train: 100%|██████████| 391/391 [00:09<00:00, 40.82it/s, train_acc=90.660, train_loss=1.56]\n",
            "   test: 100%|██████████| 79/79 [00:01<00:00, 40.64it/s, test_acc=73.062, test_loss=1.73]\n"
          ]
        },
        {
          "name": "stdout",
          "output_type": "stream",
          "text": [
            "EPOCH 60/150 :\n"
          ]
        },
        {
          "name": "stderr",
          "output_type": "stream",
          "text": [
            "  train: 100%|██████████| 391/391 [00:09<00:00, 40.63it/s, train_acc=90.859, train_loss=1.56]\n",
            "   test: 100%|██████████| 79/79 [00:01<00:00, 39.84it/s, test_acc=73.497, test_loss=1.73]\n"
          ]
        },
        {
          "name": "stdout",
          "output_type": "stream",
          "text": [
            "EPOCH 61/150 :\n"
          ]
        },
        {
          "name": "stderr",
          "output_type": "stream",
          "text": [
            "  train: 100%|██████████| 391/391 [00:09<00:00, 39.67it/s, train_acc=91.053, train_loss=1.55]\n",
            "   test: 100%|██████████| 79/79 [00:02<00:00, 39.02it/s, test_acc=73.398, test_loss=1.73]\n"
          ]
        },
        {
          "name": "stdout",
          "output_type": "stream",
          "text": [
            "EPOCH 62/150 :\n"
          ]
        },
        {
          "name": "stderr",
          "output_type": "stream",
          "text": [
            "  train: 100%|██████████| 391/391 [00:09<00:00, 39.86it/s, train_acc=91.095, train_loss=1.55]\n",
            "   test: 100%|██████████| 79/79 [00:02<00:00, 38.79it/s, test_acc=73.062, test_loss=1.73]\n"
          ]
        },
        {
          "name": "stdout",
          "output_type": "stream",
          "text": [
            "EPOCH 63/150 :\n"
          ]
        },
        {
          "name": "stderr",
          "output_type": "stream",
          "text": [
            "  train: 100%|██████████| 391/391 [00:09<00:00, 39.50it/s, train_acc=91.318, train_loss=1.55]\n",
            "   test: 100%|██████████| 79/79 [00:01<00:00, 40.88it/s, test_acc=72.903, test_loss=1.73]\n"
          ]
        },
        {
          "name": "stdout",
          "output_type": "stream",
          "text": [
            "EPOCH 64/150 :\n"
          ]
        },
        {
          "name": "stderr",
          "output_type": "stream",
          "text": [
            "  train: 100%|██████████| 391/391 [00:09<00:00, 40.75it/s, train_acc=91.582, train_loss=1.55]\n",
            "   test: 100%|██████████| 79/79 [00:01<00:00, 40.56it/s, test_acc=73.042, test_loss=1.73]\n"
          ]
        },
        {
          "name": "stdout",
          "output_type": "stream",
          "text": [
            "EPOCH 65/150 :\n"
          ]
        },
        {
          "name": "stderr",
          "output_type": "stream",
          "text": [
            "  train: 100%|██████████| 391/391 [00:09<00:00, 41.00it/s, train_acc=91.686, train_loss=1.55]\n",
            "   test: 100%|██████████| 79/79 [00:01<00:00, 40.35it/s, test_acc=72.844, test_loss=1.73]\n"
          ]
        },
        {
          "name": "stdout",
          "output_type": "stream",
          "text": [
            "EPOCH 66/150 :\n"
          ]
        },
        {
          "name": "stderr",
          "output_type": "stream",
          "text": [
            "  train: 100%|██████████| 391/391 [00:09<00:00, 40.31it/s, train_acc=91.780, train_loss=1.55]\n",
            "   test: 100%|██████████| 79/79 [00:01<00:00, 40.59it/s, test_acc=72.894, test_loss=1.73]\n"
          ]
        },
        {
          "name": "stdout",
          "output_type": "stream",
          "text": [
            "EPOCH 67/150 :\n"
          ]
        },
        {
          "name": "stderr",
          "output_type": "stream",
          "text": [
            "  train: 100%|██████████| 391/391 [00:09<00:00, 40.81it/s, train_acc=92.066, train_loss=1.54]\n",
            "   test: 100%|██████████| 79/79 [00:01<00:00, 40.26it/s, test_acc=73.358, test_loss=1.73]\n"
          ]
        },
        {
          "name": "stdout",
          "output_type": "stream",
          "text": [
            "EPOCH 68/150 :\n"
          ]
        },
        {
          "name": "stderr",
          "output_type": "stream",
          "text": [
            "  train: 100%|██████████| 391/391 [00:09<00:00, 40.17it/s, train_acc=92.172, train_loss=1.54]\n",
            "   test: 100%|██████████| 79/79 [00:02<00:00, 37.23it/s, test_acc=73.111, test_loss=1.73]\n"
          ]
        },
        {
          "name": "stdout",
          "output_type": "stream",
          "text": [
            "EPOCH 69/150 :\n"
          ]
        },
        {
          "name": "stderr",
          "output_type": "stream",
          "text": [
            "  train: 100%|██████████| 391/391 [00:09<00:00, 41.42it/s, train_acc=92.350, train_loss=1.54]\n",
            "   test: 100%|██████████| 79/79 [00:01<00:00, 40.45it/s, test_acc=73.002, test_loss=1.73]\n"
          ]
        },
        {
          "name": "stdout",
          "output_type": "stream",
          "text": [
            "EPOCH 70/150 :\n"
          ]
        },
        {
          "name": "stderr",
          "output_type": "stream",
          "text": [
            "  train: 100%|██████████| 391/391 [00:09<00:00, 42.96it/s, train_acc=92.475, train_loss=1.54]\n",
            "   test: 100%|██████████| 79/79 [00:02<00:00, 34.28it/s, test_acc=73.368, test_loss=1.73]\n"
          ]
        },
        {
          "name": "stdout",
          "output_type": "stream",
          "text": [
            "EPOCH 71/150 :\n"
          ]
        },
        {
          "name": "stderr",
          "output_type": "stream",
          "text": [
            "  train: 100%|██████████| 391/391 [00:08<00:00, 43.72it/s, train_acc=92.449, train_loss=1.54]\n",
            "   test: 100%|██████████| 79/79 [00:02<00:00, 30.00it/s, test_acc=73.339, test_loss=1.73]\n"
          ]
        },
        {
          "name": "stdout",
          "output_type": "stream",
          "text": [
            "EPOCH 72/150 :\n"
          ]
        },
        {
          "name": "stderr",
          "output_type": "stream",
          "text": [
            "  train: 100%|██████████| 391/391 [00:08<00:00, 44.38it/s, train_acc=92.649, train_loss=1.54]\n",
            "   test: 100%|██████████| 79/79 [00:02<00:00, 32.48it/s, test_acc=73.250, test_loss=1.73]\n"
          ]
        },
        {
          "name": "stdout",
          "output_type": "stream",
          "text": [
            "EPOCH 73/150 :\n"
          ]
        },
        {
          "name": "stderr",
          "output_type": "stream",
          "text": [
            "  train: 100%|██████████| 391/391 [00:09<00:00, 43.23it/s, train_acc=92.847, train_loss=1.54]\n",
            "   test: 100%|██████████| 79/79 [00:02<00:00, 36.58it/s, test_acc=73.319, test_loss=1.73]\n"
          ]
        },
        {
          "name": "stdout",
          "output_type": "stream",
          "text": [
            "EPOCH 74/150 :\n"
          ]
        },
        {
          "name": "stderr",
          "output_type": "stream",
          "text": [
            "  train: 100%|██████████| 391/391 [00:09<00:00, 41.60it/s, train_acc=92.775, train_loss=1.54]\n",
            "   test: 100%|██████████| 79/79 [00:02<00:00, 39.34it/s, test_acc=73.576, test_loss=1.72]\n"
          ]
        },
        {
          "name": "stdout",
          "output_type": "stream",
          "text": [
            "EPOCH 75/150 :\n"
          ]
        },
        {
          "name": "stderr",
          "output_type": "stream",
          "text": [
            "  train: 100%|██████████| 391/391 [00:09<00:00, 40.76it/s, train_acc=93.049, train_loss=1.53]\n",
            "   test: 100%|██████████| 79/79 [00:01<00:00, 40.00it/s, test_acc=73.635, test_loss=1.72]\n"
          ]
        },
        {
          "name": "stdout",
          "output_type": "stream",
          "text": [
            "EPOCH 76/150 :\n"
          ]
        },
        {
          "name": "stderr",
          "output_type": "stream",
          "text": [
            "  train: 100%|██████████| 391/391 [00:09<00:00, 40.58it/s, train_acc=93.110, train_loss=1.53]\n",
            "   test: 100%|██████████| 79/79 [00:01<00:00, 40.49it/s, test_acc=73.625, test_loss=1.72]\n"
          ]
        },
        {
          "name": "stdout",
          "output_type": "stream",
          "text": [
            "EPOCH 77/150 :\n"
          ]
        },
        {
          "name": "stderr",
          "output_type": "stream",
          "text": [
            "  train: 100%|██████████| 391/391 [00:09<00:00, 40.59it/s, train_acc=93.272, train_loss=1.53]\n",
            "   test: 100%|██████████| 79/79 [00:01<00:00, 40.08it/s, test_acc=73.467, test_loss=1.73]\n"
          ]
        },
        {
          "name": "stdout",
          "output_type": "stream",
          "text": [
            "EPOCH 78/150 :\n"
          ]
        },
        {
          "name": "stderr",
          "output_type": "stream",
          "text": [
            "  train: 100%|██████████| 391/391 [00:09<00:00, 40.81it/s, train_acc=93.376, train_loss=1.53]\n",
            "   test: 100%|██████████| 79/79 [00:01<00:00, 39.56it/s, test_acc=72.973, test_loss=1.73]\n"
          ]
        },
        {
          "name": "stdout",
          "output_type": "stream",
          "text": [
            "EPOCH 79/150 :\n"
          ]
        },
        {
          "name": "stderr",
          "output_type": "stream",
          "text": [
            "  train: 100%|██████████| 391/391 [00:09<00:00, 40.63it/s, train_acc=93.519, train_loss=1.53]\n",
            "   test: 100%|██████████| 79/79 [00:01<00:00, 39.75it/s, test_acc=73.210, test_loss=1.73]\n"
          ]
        },
        {
          "name": "stdout",
          "output_type": "stream",
          "text": [
            "EPOCH 80/150 :\n"
          ]
        },
        {
          "name": "stderr",
          "output_type": "stream",
          "text": [
            "  train: 100%|██████████| 391/391 [00:09<00:00, 40.91it/s, train_acc=93.682, train_loss=1.53]\n",
            "   test: 100%|██████████| 79/79 [00:01<00:00, 40.09it/s, test_acc=73.823, test_loss=1.72]\n"
          ]
        },
        {
          "name": "stdout",
          "output_type": "stream",
          "text": [
            "EPOCH 81/150 :\n"
          ]
        },
        {
          "name": "stderr",
          "output_type": "stream",
          "text": [
            "  train: 100%|██████████| 391/391 [00:09<00:00, 40.89it/s, train_acc=93.732, train_loss=1.53]\n",
            "   test: 100%|██████████| 79/79 [00:01<00:00, 40.30it/s, test_acc=73.121, test_loss=1.73]\n"
          ]
        },
        {
          "name": "stdout",
          "output_type": "stream",
          "text": [
            "EPOCH 82/150 :\n"
          ]
        },
        {
          "name": "stderr",
          "output_type": "stream",
          "text": [
            "  train: 100%|██████████| 391/391 [00:09<00:00, 40.31it/s, train_acc=93.713, train_loss=1.53]\n",
            "   test: 100%|██████████| 79/79 [00:01<00:00, 39.77it/s, test_acc=73.052, test_loss=1.73]\n"
          ]
        },
        {
          "name": "stdout",
          "output_type": "stream",
          "text": [
            "EPOCH 83/150 :\n"
          ]
        },
        {
          "name": "stderr",
          "output_type": "stream",
          "text": [
            "  train: 100%|██████████| 391/391 [00:09<00:00, 40.17it/s, train_acc=93.782, train_loss=1.53]\n",
            "   test: 100%|██████████| 79/79 [00:01<00:00, 40.18it/s, test_acc=72.785, test_loss=1.73]\n"
          ]
        },
        {
          "name": "stdout",
          "output_type": "stream",
          "text": [
            "EPOCH 84/150 :\n"
          ]
        },
        {
          "name": "stderr",
          "output_type": "stream",
          "text": [
            "  train: 100%|██████████| 391/391 [00:09<00:00, 40.61it/s, train_acc=93.898, train_loss=1.52]\n",
            "   test: 100%|██████████| 79/79 [00:02<00:00, 36.79it/s, test_acc=73.210, test_loss=1.73]\n"
          ]
        },
        {
          "name": "stdout",
          "output_type": "stream",
          "text": [
            "EPOCH 85/150 :\n"
          ]
        },
        {
          "name": "stderr",
          "output_type": "stream",
          "text": [
            "  train: 100%|██████████| 391/391 [00:09<00:00, 40.50it/s, train_acc=93.875, train_loss=1.52]\n",
            "   test: 100%|██████████| 79/79 [00:01<00:00, 41.12it/s, test_acc=73.437, test_loss=1.72]\n"
          ]
        },
        {
          "name": "stdout",
          "output_type": "stream",
          "text": [
            "EPOCH 86/150 :\n"
          ]
        },
        {
          "name": "stderr",
          "output_type": "stream",
          "text": [
            "  train: 100%|██████████| 391/391 [00:09<00:00, 41.01it/s, train_acc=94.021, train_loss=1.52]\n",
            "   test: 100%|██████████| 79/79 [00:01<00:00, 40.82it/s, test_acc=73.467, test_loss=1.73]\n"
          ]
        },
        {
          "name": "stdout",
          "output_type": "stream",
          "text": [
            "EPOCH 87/150 :\n"
          ]
        },
        {
          "name": "stderr",
          "output_type": "stream",
          "text": [
            "  train: 100%|██████████| 391/391 [00:09<00:00, 40.78it/s, train_acc=94.019, train_loss=1.52]\n",
            "   test: 100%|██████████| 79/79 [00:02<00:00, 38.83it/s, test_acc=73.368, test_loss=1.73]\n"
          ]
        },
        {
          "name": "stdout",
          "output_type": "stream",
          "text": [
            "EPOCH 88/150 :\n"
          ]
        },
        {
          "name": "stderr",
          "output_type": "stream",
          "text": [
            "  train: 100%|██████████| 391/391 [00:09<00:00, 40.13it/s, train_acc=94.137, train_loss=1.52]\n",
            "   test: 100%|██████████| 79/79 [00:02<00:00, 38.39it/s, test_acc=73.675, test_loss=1.72]\n"
          ]
        },
        {
          "name": "stdout",
          "output_type": "stream",
          "text": [
            "EPOCH 89/150 :\n"
          ]
        },
        {
          "name": "stderr",
          "output_type": "stream",
          "text": [
            "  train: 100%|██████████| 391/391 [00:09<00:00, 40.26it/s, train_acc=94.207, train_loss=1.52]\n",
            "   test: 100%|██████████| 79/79 [00:02<00:00, 35.72it/s, test_acc=73.754, test_loss=1.72]\n"
          ]
        },
        {
          "name": "stdout",
          "output_type": "stream",
          "text": [
            "EPOCH 90/150 :\n"
          ]
        },
        {
          "name": "stderr",
          "output_type": "stream",
          "text": [
            "  train: 100%|██████████| 391/391 [00:09<00:00, 40.48it/s, train_acc=94.353, train_loss=1.52]\n",
            "   test: 100%|██████████| 79/79 [00:02<00:00, 36.35it/s, test_acc=73.606, test_loss=1.72]\n"
          ]
        },
        {
          "name": "stdout",
          "output_type": "stream",
          "text": [
            "EPOCH 91/150 :\n"
          ]
        },
        {
          "name": "stderr",
          "output_type": "stream",
          "text": [
            "  train: 100%|██████████| 391/391 [00:08<00:00, 43.84it/s, train_acc=94.418, train_loss=1.52]\n",
            "   test: 100%|██████████| 79/79 [00:02<00:00, 31.79it/s, test_acc=73.734, test_loss=1.72]\n"
          ]
        },
        {
          "name": "stdout",
          "output_type": "stream",
          "text": [
            "EPOCH 92/150 :\n"
          ]
        },
        {
          "name": "stderr",
          "output_type": "stream",
          "text": [
            "  train: 100%|██████████| 391/391 [00:08<00:00, 44.01it/s, train_acc=94.494, train_loss=1.52]\n",
            "   test: 100%|██████████| 79/79 [00:02<00:00, 32.82it/s, test_acc=73.645, test_loss=1.72]\n"
          ]
        },
        {
          "name": "stdout",
          "output_type": "stream",
          "text": [
            "EPOCH 93/150 :\n"
          ]
        },
        {
          "name": "stderr",
          "output_type": "stream",
          "text": [
            "  train: 100%|██████████| 391/391 [00:09<00:00, 42.97it/s, train_acc=94.378, train_loss=1.52]\n",
            "   test: 100%|██████████| 79/79 [00:02<00:00, 35.26it/s, test_acc=73.675, test_loss=1.72]\n"
          ]
        },
        {
          "name": "stdout",
          "output_type": "stream",
          "text": [
            "EPOCH 94/150 :\n"
          ]
        },
        {
          "name": "stderr",
          "output_type": "stream",
          "text": [
            "  train: 100%|██████████| 391/391 [00:09<00:00, 41.44it/s, train_acc=94.413, train_loss=1.52]\n",
            "   test: 100%|██████████| 79/79 [00:02<00:00, 38.77it/s, test_acc=73.536, test_loss=1.73]\n"
          ]
        },
        {
          "name": "stdout",
          "output_type": "stream",
          "text": [
            "EPOCH 95/150 :\n"
          ]
        },
        {
          "name": "stderr",
          "output_type": "stream",
          "text": [
            "  train: 100%|██████████| 391/391 [00:09<00:00, 39.87it/s, train_acc=94.637, train_loss=1.52]\n",
            "   test: 100%|██████████| 79/79 [00:01<00:00, 39.71it/s, test_acc=74.021, test_loss=1.72]\n"
          ]
        },
        {
          "name": "stdout",
          "output_type": "stream",
          "text": [
            "EPOCH 96/150 :\n"
          ]
        },
        {
          "name": "stderr",
          "output_type": "stream",
          "text": [
            "  train: 100%|██████████| 391/391 [00:09<00:00, 40.76it/s, train_acc=94.597, train_loss=1.52]\n",
            "   test: 100%|██████████| 79/79 [00:02<00:00, 39.23it/s, test_acc=73.586, test_loss=1.73]\n"
          ]
        },
        {
          "name": "stdout",
          "output_type": "stream",
          "text": [
            "EPOCH 97/150 :\n"
          ]
        },
        {
          "name": "stderr",
          "output_type": "stream",
          "text": [
            "  train: 100%|██████████| 391/391 [00:09<00:00, 41.02it/s, train_acc=94.578, train_loss=1.52]\n",
            "   test: 100%|██████████| 79/79 [00:01<00:00, 41.31it/s, test_acc=73.645, test_loss=1.72]\n"
          ]
        },
        {
          "name": "stdout",
          "output_type": "stream",
          "text": [
            "EPOCH 98/150 :\n"
          ]
        },
        {
          "name": "stderr",
          "output_type": "stream",
          "text": [
            "  train: 100%|██████████| 391/391 [00:09<00:00, 40.94it/s, train_acc=94.651, train_loss=1.52]\n",
            "   test: 100%|██████████| 79/79 [00:01<00:00, 40.18it/s, test_acc=74.110, test_loss=1.72]\n"
          ]
        },
        {
          "name": "stdout",
          "output_type": "stream",
          "text": [
            "EPOCH 99/150 :\n"
          ]
        },
        {
          "name": "stderr",
          "output_type": "stream",
          "text": [
            "  train: 100%|██████████| 391/391 [00:09<00:00, 40.74it/s, train_acc=94.871, train_loss=1.51]\n",
            "   test: 100%|██████████| 79/79 [00:01<00:00, 40.10it/s, test_acc=73.972, test_loss=1.72]\n"
          ]
        },
        {
          "name": "stdout",
          "output_type": "stream",
          "text": [
            "EPOCH 100/150 :\n"
          ]
        },
        {
          "name": "stderr",
          "output_type": "stream",
          "text": [
            "  train: 100%|██████████| 391/391 [00:09<00:00, 41.20it/s, train_acc=94.834, train_loss=1.51]\n",
            "   test: 100%|██████████| 79/79 [00:01<00:00, 39.89it/s, test_acc=73.685, test_loss=1.72]\n"
          ]
        },
        {
          "name": "stdout",
          "output_type": "stream",
          "text": [
            "EPOCH 101/150 :\n"
          ]
        },
        {
          "name": "stderr",
          "output_type": "stream",
          "text": [
            "  train: 100%|██████████| 391/391 [00:09<00:00, 40.74it/s, train_acc=94.871, train_loss=1.51]\n",
            "   test: 100%|██████████| 79/79 [00:01<00:00, 41.19it/s, test_acc=73.655, test_loss=1.72]\n"
          ]
        },
        {
          "name": "stdout",
          "output_type": "stream",
          "text": [
            "EPOCH 102/150 :\n"
          ]
        },
        {
          "name": "stderr",
          "output_type": "stream",
          "text": [
            "  train: 100%|██████████| 391/391 [00:09<00:00, 41.15it/s, train_acc=94.865, train_loss=1.51]\n",
            "   test: 100%|██████████| 79/79 [00:01<00:00, 39.85it/s, test_acc=73.784, test_loss=1.72]\n"
          ]
        },
        {
          "name": "stdout",
          "output_type": "stream",
          "text": [
            "EPOCH 103/150 :\n"
          ]
        },
        {
          "name": "stderr",
          "output_type": "stream",
          "text": [
            "  train: 100%|██████████| 391/391 [00:09<00:00, 40.73it/s, train_acc=95.018, train_loss=1.51]\n",
            "   test: 100%|██████████| 79/79 [00:01<00:00, 39.57it/s, test_acc=73.803, test_loss=1.72]\n"
          ]
        },
        {
          "name": "stdout",
          "output_type": "stream",
          "text": [
            "EPOCH 104/150 :\n"
          ]
        },
        {
          "name": "stderr",
          "output_type": "stream",
          "text": [
            "  train: 100%|██████████| 391/391 [00:09<00:00, 41.15it/s, train_acc=95.065, train_loss=1.51]\n",
            "   test: 100%|██████████| 79/79 [00:01<00:00, 40.56it/s, test_acc=73.170, test_loss=1.73]\n"
          ]
        },
        {
          "name": "stdout",
          "output_type": "stream",
          "text": [
            "EPOCH 105/150 :\n"
          ]
        },
        {
          "name": "stderr",
          "output_type": "stream",
          "text": [
            "  train: 100%|██████████| 391/391 [00:09<00:00, 40.69it/s, train_acc=95.099, train_loss=1.51]\n",
            "   test: 100%|██████████| 79/79 [00:02<00:00, 38.86it/s, test_acc=73.418, test_loss=1.72]\n"
          ]
        },
        {
          "name": "stdout",
          "output_type": "stream",
          "text": [
            "EPOCH 106/150 :\n"
          ]
        },
        {
          "name": "stderr",
          "output_type": "stream",
          "text": [
            "  train: 100%|██████████| 391/391 [00:09<00:00, 40.37it/s, train_acc=95.037, train_loss=1.51]\n",
            "   test: 100%|██████████| 79/79 [00:01<00:00, 40.20it/s, test_acc=73.220, test_loss=1.73]\n"
          ]
        },
        {
          "name": "stdout",
          "output_type": "stream",
          "text": [
            "EPOCH 107/150 :\n"
          ]
        },
        {
          "name": "stderr",
          "output_type": "stream",
          "text": [
            "  train: 100%|██████████| 391/391 [00:09<00:00, 41.46it/s, train_acc=95.176, train_loss=1.51]\n",
            "   test: 100%|██████████| 79/79 [00:02<00:00, 38.62it/s, test_acc=73.230, test_loss=1.73]\n"
          ]
        },
        {
          "name": "stdout",
          "output_type": "stream",
          "text": [
            "EPOCH 108/150 :\n"
          ]
        },
        {
          "name": "stderr",
          "output_type": "stream",
          "text": [
            "  train: 100%|██████████| 391/391 [00:09<00:00, 41.84it/s, train_acc=95.243, train_loss=1.51]\n",
            "   test: 100%|██████████| 79/79 [00:02<00:00, 37.13it/s, test_acc=73.527, test_loss=1.72]\n"
          ]
        },
        {
          "name": "stdout",
          "output_type": "stream",
          "text": [
            "EPOCH 109/150 :\n"
          ]
        },
        {
          "name": "stderr",
          "output_type": "stream",
          "text": [
            "  train: 100%|██████████| 391/391 [00:09<00:00, 43.08it/s, train_acc=95.201, train_loss=1.51]\n",
            "   test: 100%|██████████| 79/79 [00:02<00:00, 32.29it/s, test_acc=73.655, test_loss=1.72]\n"
          ]
        },
        {
          "name": "stdout",
          "output_type": "stream",
          "text": [
            "EPOCH 110/150 :\n"
          ]
        },
        {
          "name": "stderr",
          "output_type": "stream",
          "text": [
            "  train: 100%|██████████| 391/391 [00:08<00:00, 43.61it/s, train_acc=95.315, train_loss=1.51]\n",
            "   test: 100%|██████████| 79/79 [00:02<00:00, 29.80it/s, test_acc=73.606, test_loss=1.73]\n"
          ]
        },
        {
          "name": "stdout",
          "output_type": "stream",
          "text": [
            "EPOCH 111/150 :\n"
          ]
        },
        {
          "name": "stderr",
          "output_type": "stream",
          "text": [
            "  train: 100%|██████████| 391/391 [00:09<00:00, 41.67it/s, train_acc=95.322, train_loss=1.51]\n",
            "   test: 100%|██████████| 79/79 [00:02<00:00, 32.35it/s, test_acc=73.527, test_loss=1.72]\n"
          ]
        },
        {
          "name": "stdout",
          "output_type": "stream",
          "text": [
            "EPOCH 112/150 :\n"
          ]
        },
        {
          "name": "stderr",
          "output_type": "stream",
          "text": [
            "  train: 100%|██████████| 391/391 [00:08<00:00, 43.46it/s, train_acc=95.382, train_loss=1.51]\n",
            "   test: 100%|██████████| 79/79 [00:02<00:00, 35.75it/s, test_acc=73.705, test_loss=1.72]\n"
          ]
        },
        {
          "name": "stdout",
          "output_type": "stream",
          "text": [
            "EPOCH 113/150 :\n"
          ]
        },
        {
          "name": "stderr",
          "output_type": "stream",
          "text": [
            "  train: 100%|██████████| 391/391 [00:09<00:00, 40.99it/s, train_acc=95.358, train_loss=1.51]\n",
            "   test: 100%|██████████| 79/79 [00:01<00:00, 39.73it/s, test_acc=73.408, test_loss=1.73]\n"
          ]
        },
        {
          "name": "stdout",
          "output_type": "stream",
          "text": [
            "EPOCH 114/150 :\n"
          ]
        },
        {
          "name": "stderr",
          "output_type": "stream",
          "text": [
            "  train: 100%|██████████| 391/391 [00:09<00:00, 40.30it/s, train_acc=95.502, train_loss=1.51]\n",
            "   test: 100%|██████████| 79/79 [00:02<00:00, 39.00it/s, test_acc=73.942, test_loss=1.72]\n"
          ]
        },
        {
          "name": "stdout",
          "output_type": "stream",
          "text": [
            "EPOCH 115/150 :\n"
          ]
        },
        {
          "name": "stderr",
          "output_type": "stream",
          "text": [
            "  train: 100%|██████████| 391/391 [00:09<00:00, 40.77it/s, train_acc=95.523, train_loss=1.51]\n",
            "   test: 100%|██████████| 79/79 [00:01<00:00, 39.91it/s, test_acc=73.724, test_loss=1.72]\n"
          ]
        },
        {
          "name": "stdout",
          "output_type": "stream",
          "text": [
            "EPOCH 116/150 :\n"
          ]
        },
        {
          "name": "stderr",
          "output_type": "stream",
          "text": [
            "  train: 100%|██████████| 391/391 [00:09<00:00, 40.29it/s, train_acc=95.561, train_loss=1.51]\n",
            "   test: 100%|██████████| 79/79 [00:02<00:00, 39.13it/s, test_acc=73.685, test_loss=1.72]\n"
          ]
        },
        {
          "name": "stdout",
          "output_type": "stream",
          "text": [
            "EPOCH 117/150 :\n"
          ]
        },
        {
          "name": "stderr",
          "output_type": "stream",
          "text": [
            "  train: 100%|██████████| 391/391 [00:10<00:00, 38.49it/s, train_acc=95.607, train_loss=1.51]\n",
            "   test: 100%|██████████| 79/79 [00:02<00:00, 37.05it/s, test_acc=73.546, test_loss=1.72]\n"
          ]
        },
        {
          "name": "stdout",
          "output_type": "stream",
          "text": [
            "EPOCH 118/150 :\n"
          ]
        },
        {
          "name": "stderr",
          "output_type": "stream",
          "text": [
            "  train: 100%|██████████| 391/391 [00:09<00:00, 39.67it/s, train_acc=95.656, train_loss=1.51]\n",
            "   test: 100%|██████████| 79/79 [00:02<00:00, 38.21it/s, test_acc=73.408, test_loss=1.73]\n"
          ]
        },
        {
          "name": "stdout",
          "output_type": "stream",
          "text": [
            "EPOCH 119/150 :\n"
          ]
        },
        {
          "name": "stderr",
          "output_type": "stream",
          "text": [
            "  train: 100%|██████████| 391/391 [00:09<00:00, 39.85it/s, train_acc=95.734, train_loss=1.51]\n",
            "   test: 100%|██████████| 79/79 [00:02<00:00, 38.08it/s, test_acc=73.892, test_loss=1.72]\n"
          ]
        },
        {
          "name": "stdout",
          "output_type": "stream",
          "text": [
            "EPOCH 120/150 :\n"
          ]
        },
        {
          "name": "stderr",
          "output_type": "stream",
          "text": [
            "  train: 100%|██████████| 391/391 [00:09<00:00, 39.66it/s, train_acc=95.796, train_loss=1.5]\n",
            "   test: 100%|██████████| 79/79 [00:02<00:00, 38.87it/s, test_acc=73.527, test_loss=1.72]\n"
          ]
        },
        {
          "name": "stdout",
          "output_type": "stream",
          "text": [
            "EPOCH 121/150 :\n"
          ]
        },
        {
          "name": "stderr",
          "output_type": "stream",
          "text": [
            "  train: 100%|██████████| 391/391 [00:09<00:00, 40.73it/s, train_acc=95.751, train_loss=1.51]\n",
            "   test: 100%|██████████| 79/79 [00:02<00:00, 38.41it/s, test_acc=73.892, test_loss=1.72]\n"
          ]
        },
        {
          "name": "stdout",
          "output_type": "stream",
          "text": [
            "EPOCH 122/150 :\n"
          ]
        },
        {
          "name": "stderr",
          "output_type": "stream",
          "text": [
            "  train: 100%|██████████| 391/391 [00:09<00:00, 39.98it/s, train_acc=95.780, train_loss=1.5]\n",
            "   test: 100%|██████████| 79/79 [00:02<00:00, 39.23it/s, test_acc=73.754, test_loss=1.72]\n"
          ]
        },
        {
          "name": "stdout",
          "output_type": "stream",
          "text": [
            "EPOCH 123/150 :\n"
          ]
        },
        {
          "name": "stderr",
          "output_type": "stream",
          "text": [
            "  train: 100%|██████████| 391/391 [00:09<00:00, 40.24it/s, train_acc=95.825, train_loss=1.5]\n",
            "   test: 100%|██████████| 79/79 [00:02<00:00, 38.54it/s, test_acc=73.378, test_loss=1.73]\n"
          ]
        },
        {
          "name": "stdout",
          "output_type": "stream",
          "text": [
            "EPOCH 124/150 :\n"
          ]
        },
        {
          "name": "stderr",
          "output_type": "stream",
          "text": [
            "  train: 100%|██████████| 391/391 [00:09<00:00, 39.96it/s, train_acc=95.846, train_loss=1.5]\n",
            "   test: 100%|██████████| 79/79 [00:02<00:00, 38.50it/s, test_acc=73.784, test_loss=1.72]\n"
          ]
        },
        {
          "name": "stdout",
          "output_type": "stream",
          "text": [
            "EPOCH 125/150 :\n"
          ]
        },
        {
          "name": "stderr",
          "output_type": "stream",
          "text": [
            "  train: 100%|██████████| 391/391 [00:09<00:00, 40.11it/s, train_acc=95.771, train_loss=1.5]\n",
            "   test: 100%|██████████| 79/79 [00:02<00:00, 38.47it/s, test_acc=73.606, test_loss=1.72]\n"
          ]
        },
        {
          "name": "stdout",
          "output_type": "stream",
          "text": [
            "EPOCH 126/150 :\n"
          ]
        },
        {
          "name": "stderr",
          "output_type": "stream",
          "text": [
            "  train: 100%|██████████| 391/391 [00:09<00:00, 40.18it/s, train_acc=95.891, train_loss=1.5]\n",
            "   test: 100%|██████████| 79/79 [00:02<00:00, 37.97it/s, test_acc=74.051, test_loss=1.72]\n"
          ]
        },
        {
          "name": "stdout",
          "output_type": "stream",
          "text": [
            "EPOCH 127/150 :\n"
          ]
        },
        {
          "name": "stderr",
          "output_type": "stream",
          "text": [
            "  train: 100%|██████████| 391/391 [00:09<00:00, 39.70it/s, train_acc=95.754, train_loss=1.5]\n",
            "   test: 100%|██████████| 79/79 [00:02<00:00, 36.89it/s, test_acc=74.110, test_loss=1.72]\n"
          ]
        },
        {
          "name": "stdout",
          "output_type": "stream",
          "text": [
            "EPOCH 128/150 :\n"
          ]
        },
        {
          "name": "stderr",
          "output_type": "stream",
          "text": [
            "  train: 100%|██████████| 391/391 [00:09<00:00, 40.80it/s, train_acc=95.878, train_loss=1.5]\n",
            "   test: 100%|██████████| 79/79 [00:02<00:00, 39.23it/s, test_acc=73.428, test_loss=1.73]\n"
          ]
        },
        {
          "name": "stdout",
          "output_type": "stream",
          "text": [
            "EPOCH 129/150 :\n"
          ]
        },
        {
          "name": "stderr",
          "output_type": "stream",
          "text": [
            "  train: 100%|██████████| 391/391 [00:09<00:00, 40.61it/s, train_acc=95.888, train_loss=1.5]\n",
            "   test: 100%|██████████| 79/79 [00:02<00:00, 38.25it/s, test_acc=74.080, test_loss=1.72]\n"
          ]
        },
        {
          "name": "stdout",
          "output_type": "stream",
          "text": [
            "EPOCH 130/150 :\n"
          ]
        },
        {
          "name": "stderr",
          "output_type": "stream",
          "text": [
            "  train: 100%|██████████| 391/391 [00:09<00:00, 40.47it/s, train_acc=95.961, train_loss=1.5]\n",
            "   test: 100%|██████████| 79/79 [00:02<00:00, 38.63it/s, test_acc=73.803, test_loss=1.72]\n"
          ]
        },
        {
          "name": "stdout",
          "output_type": "stream",
          "text": [
            "EPOCH 131/150 :\n"
          ]
        },
        {
          "name": "stderr",
          "output_type": "stream",
          "text": [
            "  train: 100%|██████████| 391/391 [00:09<00:00, 40.26it/s, train_acc=95.945, train_loss=1.5]\n",
            "   test: 100%|██████████| 79/79 [00:02<00:00, 38.82it/s, test_acc=73.922, test_loss=1.72]\n"
          ]
        },
        {
          "name": "stdout",
          "output_type": "stream",
          "text": [
            "EPOCH 132/150 :\n"
          ]
        },
        {
          "name": "stderr",
          "output_type": "stream",
          "text": [
            "  train: 100%|██████████| 391/391 [00:09<00:00, 40.15it/s, train_acc=95.959, train_loss=1.5]\n",
            "   test: 100%|██████████| 79/79 [00:02<00:00, 38.13it/s, test_acc=73.754, test_loss=1.72]\n"
          ]
        },
        {
          "name": "stdout",
          "output_type": "stream",
          "text": [
            "EPOCH 133/150 :\n"
          ]
        },
        {
          "name": "stderr",
          "output_type": "stream",
          "text": [
            "  train: 100%|██████████| 391/391 [00:12<00:00, 30.62it/s, train_acc=95.961, train_loss=1.5]\n",
            "   test: 100%|██████████| 79/79 [00:02<00:00, 39.37it/s, test_acc=73.576, test_loss=1.73]\n"
          ]
        },
        {
          "name": "stdout",
          "output_type": "stream",
          "text": [
            "EPOCH 134/150 :\n"
          ]
        },
        {
          "name": "stderr",
          "output_type": "stream",
          "text": [
            "  train: 100%|██████████| 391/391 [00:09<00:00, 40.48it/s, train_acc=96.023, train_loss=1.5]\n",
            "   test: 100%|██████████| 79/79 [00:02<00:00, 39.09it/s, test_acc=73.853, test_loss=1.72]\n"
          ]
        },
        {
          "name": "stdout",
          "output_type": "stream",
          "text": [
            "EPOCH 135/150 :\n"
          ]
        },
        {
          "name": "stderr",
          "output_type": "stream",
          "text": [
            "  train: 100%|██████████| 391/391 [00:09<00:00, 40.15it/s, train_acc=96.088, train_loss=1.5]\n",
            "   test: 100%|██████████| 79/79 [00:02<00:00, 38.21it/s, test_acc=74.100, test_loss=1.72]\n"
          ]
        },
        {
          "name": "stdout",
          "output_type": "stream",
          "text": [
            "EPOCH 136/150 :\n"
          ]
        },
        {
          "name": "stderr",
          "output_type": "stream",
          "text": [
            "  train: 100%|██████████| 391/391 [00:09<00:00, 40.71it/s, train_acc=96.144, train_loss=1.5]\n",
            "   test: 100%|██████████| 79/79 [00:01<00:00, 39.62it/s, test_acc=73.714, test_loss=1.72]\n"
          ]
        },
        {
          "name": "stdout",
          "output_type": "stream",
          "text": [
            "EPOCH 137/150 :\n"
          ]
        },
        {
          "name": "stderr",
          "output_type": "stream",
          "text": [
            "  train: 100%|██████████| 391/391 [00:09<00:00, 40.23it/s, train_acc=96.167, train_loss=1.5]\n",
            "   test: 100%|██████████| 79/79 [00:02<00:00, 38.55it/s, test_acc=73.972, test_loss=1.72]\n"
          ]
        },
        {
          "name": "stdout",
          "output_type": "stream",
          "text": [
            "EPOCH 138/150 :\n"
          ]
        },
        {
          "name": "stderr",
          "output_type": "stream",
          "text": [
            "  train: 100%|██████████| 391/391 [00:09<00:00, 39.94it/s, train_acc=96.131, train_loss=1.5]\n",
            "   test: 100%|██████████| 79/79 [00:02<00:00, 38.75it/s, test_acc=74.140, test_loss=1.72]\n"
          ]
        },
        {
          "name": "stdout",
          "output_type": "stream",
          "text": [
            "EPOCH 139/150 :\n"
          ]
        },
        {
          "name": "stderr",
          "output_type": "stream",
          "text": [
            "  train: 100%|██████████| 391/391 [00:09<00:00, 40.66it/s, train_acc=96.058, train_loss=1.5]\n",
            "   test: 100%|██████████| 79/79 [00:02<00:00, 38.82it/s, test_acc=73.833, test_loss=1.72]\n"
          ]
        },
        {
          "name": "stdout",
          "output_type": "stream",
          "text": [
            "EPOCH 140/150 :\n"
          ]
        },
        {
          "name": "stderr",
          "output_type": "stream",
          "text": [
            "  train: 100%|██████████| 391/391 [00:09<00:00, 40.89it/s, train_acc=96.117, train_loss=1.5]\n",
            "   test: 100%|██████████| 79/79 [00:01<00:00, 39.73it/s, test_acc=73.823, test_loss=1.72]\n"
          ]
        },
        {
          "name": "stdout",
          "output_type": "stream",
          "text": [
            "EPOCH 141/150 :\n"
          ]
        },
        {
          "name": "stderr",
          "output_type": "stream",
          "text": [
            "  train: 100%|██████████| 391/391 [00:09<00:00, 41.67it/s, train_acc=96.192, train_loss=1.5]\n",
            "   test: 100%|██████████| 79/79 [00:02<00:00, 37.02it/s, test_acc=73.962, test_loss=1.72]\n"
          ]
        },
        {
          "name": "stdout",
          "output_type": "stream",
          "text": [
            "EPOCH 142/150 :\n"
          ]
        },
        {
          "name": "stderr",
          "output_type": "stream",
          "text": [
            "  train: 100%|██████████| 391/391 [00:10<00:00, 37.73it/s, train_acc=96.212, train_loss=1.5]\n",
            "   test: 100%|██████████| 79/79 [00:02<00:00, 38.10it/s, test_acc=73.991, test_loss=1.72]\n"
          ]
        },
        {
          "name": "stdout",
          "output_type": "stream",
          "text": [
            "EPOCH 143/150 :\n"
          ]
        },
        {
          "name": "stderr",
          "output_type": "stream",
          "text": [
            "  train: 100%|██████████| 391/391 [00:09<00:00, 40.91it/s, train_acc=96.256, train_loss=1.5]\n",
            "   test: 100%|██████████| 79/79 [00:02<00:00, 33.25it/s, test_acc=73.517, test_loss=1.72]\n"
          ]
        },
        {
          "name": "stdout",
          "output_type": "stream",
          "text": [
            "EPOCH 144/150 :\n"
          ]
        },
        {
          "name": "stderr",
          "output_type": "stream",
          "text": [
            "  train: 100%|██████████| 391/391 [00:09<00:00, 42.15it/s, train_acc=96.247, train_loss=1.5]\n",
            "   test: 100%|██████████| 79/79 [00:02<00:00, 31.84it/s, test_acc=74.515, test_loss=1.72]\n"
          ]
        },
        {
          "name": "stdout",
          "output_type": "stream",
          "text": [
            "EPOCH 145/150 :\n"
          ]
        },
        {
          "name": "stderr",
          "output_type": "stream",
          "text": [
            "  train: 100%|██████████| 391/391 [00:09<00:00, 40.91it/s, train_acc=96.235, train_loss=1.5]\n",
            "   test: 100%|██████████| 79/79 [00:02<00:00, 27.82it/s, test_acc=74.209, test_loss=1.72]\n"
          ]
        },
        {
          "name": "stdout",
          "output_type": "stream",
          "text": [
            "EPOCH 146/150 :\n"
          ]
        },
        {
          "name": "stderr",
          "output_type": "stream",
          "text": [
            "  train: 100%|██████████| 391/391 [00:08<00:00, 43.76it/s, train_acc=96.327, train_loss=1.5]\n",
            "   test: 100%|██████████| 79/79 [00:02<00:00, 30.01it/s, test_acc=74.476, test_loss=1.72]\n"
          ]
        },
        {
          "name": "stdout",
          "output_type": "stream",
          "text": [
            "EPOCH 147/150 :\n"
          ]
        },
        {
          "name": "stderr",
          "output_type": "stream",
          "text": [
            "  train: 100%|██████████| 391/391 [00:08<00:00, 43.63it/s, train_acc=96.269, train_loss=1.5]\n",
            "   test: 100%|██████████| 79/79 [00:02<00:00, 31.84it/s, test_acc=73.902, test_loss=1.72]\n"
          ]
        },
        {
          "name": "stdout",
          "output_type": "stream",
          "text": [
            "EPOCH 148/150 :\n"
          ]
        },
        {
          "name": "stderr",
          "output_type": "stream",
          "text": [
            "  train: 100%|██████████| 391/391 [00:09<00:00, 41.87it/s, train_acc=96.334, train_loss=1.5]\n",
            "   test: 100%|██████████| 79/79 [00:02<00:00, 34.13it/s, test_acc=74.061, test_loss=1.72]\n"
          ]
        },
        {
          "name": "stdout",
          "output_type": "stream",
          "text": [
            "EPOCH 149/150 :\n"
          ]
        },
        {
          "name": "stderr",
          "output_type": "stream",
          "text": [
            "  train: 100%|██████████| 391/391 [00:09<00:00, 40.70it/s, train_acc=96.312, train_loss=1.5]\n",
            "   test: 100%|██████████| 79/79 [00:02<00:00, 37.35it/s, test_acc=74.041, test_loss=1.72]\n"
          ]
        },
        {
          "name": "stdout",
          "output_type": "stream",
          "text": [
            "EPOCH 150/150 :\n"
          ]
        },
        {
          "name": "stderr",
          "output_type": "stream",
          "text": [
            "  train: 100%|██████████| 391/391 [00:09<00:00, 41.22it/s, train_acc=96.420, train_loss=1.5]\n",
            "   test: 100%|██████████| 79/79 [00:02<00:00, 37.62it/s, test_acc=73.991, test_loss=1.72]"
          ]
        },
        {
          "name": "stdout",
          "output_type": "stream",
          "text": [
            "\n",
            "\n",
            "Train time: 1749.681 seconds\n"
          ]
        },
        {
          "name": "stderr",
          "output_type": "stream",
          "text": [
            "\n"
          ]
        }
      ],
      "source": [
        "hparams = [\"CIFAR\", \"SCNNB-b\", 150]\n",
        "SCNNB_b_CIFAR_model, SCNNB_b_CIFAR_train_loss, SCNNB_b_CIFAR_train_accuracy, SCNNB_b_CIFAR_test_loss, SCNNB_b_CIFAR_test_accuracy = train(hparams ,CIFAR_train_dataloader, CIFAR_test_dataloader)\n"
      ]
    },
    {
      "cell_type": "code",
      "execution_count": 79,
      "metadata": {
        "colab": {
          "base_uri": "https://localhost:8080/"
        },
        "id": "poyEgfzHY3k1",
        "outputId": "c3aa54eb-7d6c-4d0f-c8eb-73ede77c16ea"
      },
      "outputs": [
        {
          "name": "stdout",
          "output_type": "stream",
          "text": [
            "Maximum Test Accuracy for SCNNB-b model is:  74.515435443038\n"
          ]
        }
      ],
      "source": [
        "SCNNB_b_max_acc = max(SCNNB_b_CIFAR_test_accuracy)\n",
        "SCNNB_b_MEAN = sum(SCNNB_b_CIFAR_test_accuracy)/len(SCNNB_b_CIFAR_test_accuracy)\n",
        "print(\"Maximum Test Accuracy for SCNNB-b model is: \", str(SCNNB_b_max_acc))"
      ]
    },
    {
      "cell_type": "code",
      "execution_count": 80,
      "metadata": {
        "id": "OAKtHLdjjUCh"
      },
      "outputs": [],
      "source": [
        "torch.save(SCNNB_b_CIFAR_model.state_dict(), 'SCNNB_b_CIFAR')"
      ]
    },
    {
      "cell_type": "code",
      "execution_count": 93,
      "metadata": {
        "id": "Bfc6EryVdkir"
      },
      "outputs": [],
      "source": [
        "from sklearn.metrics import confusion_matrix\n",
        "from sklearn.metrics import classification_report\n",
        "\n",
        "def Testing(model, model_name, data_loader):\n",
        "\n",
        "    model.load_state_dict(torch.load(model_name))\n",
        "    # Send model to GPU\n",
        "    device = torch.device(\"cuda:0\" if torch.cuda.is_available() else \"cpu\")\n",
        "    \n",
        "    model.to(device)\n",
        "\n",
        "    # put model in eval mode\n",
        "    model.eval() \n",
        "\n",
        "    loss_fn = nn.CrossEntropyLoss()\n",
        "    def accuracy_fn(true, pred):\n",
        "        pred = F.softmax(pred, dim = 1)\n",
        "        true = torch.zeros(pred.shape[0], pred.shape[1]).scatter_(1, true.unsqueeze(1), 1.)\n",
        "        acc = (true.argmax(-1) == pred.argmax(-1)).float().detach().numpy()\n",
        "        acc = float((100 * acc.sum()) / len(acc))\n",
        "        return round(acc, 4)\n",
        "\n",
        "    test_loss, test_acc, counter = 0, 0, 0\n",
        "    with tqdm(data_loader, desc =\"   test\") as test_tqdm:\n",
        "        for X, y in test_tqdm:\n",
        "            # Send data to GPU\n",
        "            X, y = X.to(device), y.to(device)\n",
        "            \n",
        "            # 1. Forward pass\n",
        "            test_pred = model(X)\n",
        "\n",
        "            _, preds = torch.max(test_pred.data, 1)\n",
        "            \n",
        "            # 2. Calculate loss and accuracy\n",
        "            test_loss += loss_fn(test_pred, y)\n",
        "            test_acc += accuracy_fn(true=y.cpu(),\n",
        "                                    pred=test_pred.cpu())\n",
        "            counter += 1\n",
        "\n",
        "            if counter==1 :\n",
        "                y_true = (y.detach().cpu().numpy())\n",
        "                y_pred = (preds.detach().cpu().numpy())\n",
        "            else:\n",
        "                y_true = np.concatenate((y_true, np.array(y.detach().cpu().numpy())), axis=0)\n",
        "                y_pred = np.concatenate((y_pred, np.array(preds.detach().cpu().numpy())), axis=0)\n",
        "\n",
        "\n",
        "            test_tqdm.set_postfix(test_acc=\"{:.3f}\".format(test_acc/counter), test_loss=test_loss.item()/counter, refresh=True)\n",
        "\n",
        "\n",
        "        # Adjust metrics and print out\n",
        "        test_loss /= len(data_loader)\n",
        "        test_acc  /= len(data_loader)\n",
        "\n",
        "    class_names = ['airplane', 'automobile', 'bird', 'cat', 'deer', 'dog', 'frog', 'horse', 'ship', 'truck']\n",
        "    cnf_matrix = confusion_matrix(y_true, y_pred)   ## Sklearn confusion matrix object\n",
        "    accuracy = np.trace(cnf_matrix) / float(np.sum(cnf_matrix))\n",
        "    misclass = 1 - accuracy\n",
        "\n",
        "    fig, ax = plt.subplots()\n",
        "    tick_marks = np.arange(len(class_names))\n",
        "    plt.xticks(tick_marks, class_names, rotation=45)\n",
        "    plt.yticks(tick_marks, class_names)\n",
        "\n",
        "    sns.heatmap(pd.DataFrame(cnf_matrix), annot=True, cmap = \"Blues\" ,fmt='g', xticklabels=class_names , yticklabels=class_names)\n",
        "    ax.xaxis.set_label_position(\"bottom\")\n",
        "    plt.title('Confusion matrix for '+ model_name, y=1.1)\n",
        "    plt.ylabel('True label')\n",
        "    plt.xlabel('Predicted label\\naccuracy={:0.2f}; misclass={:0.2f}'.format(accuracy, misclass))\n",
        "    plt.tight_layout()\n",
        "    print(classification_report(y_true, y_pred, target_names=class_names, digits=4))\n",
        "    return test_loss.item(), test_acc\n"
      ]
    },
    {
      "cell_type": "code",
      "execution_count": 94,
      "metadata": {
        "colab": {
          "base_uri": "https://localhost:8080/",
          "height": 833
        },
        "id": "j1N4h8RBeSzp",
        "outputId": "9241166d-51c1-40a0-8533-d12aef0ee7ad"
      },
      "outputs": [
        {
          "name": "stderr",
          "output_type": "stream",
          "text": [
            "   test: 100%|██████████| 79/79 [00:02<00:00, 36.04it/s, test_acc=79.193, test_loss=1.67]\n"
          ]
        },
        {
          "name": "stdout",
          "output_type": "stream",
          "text": [
            "              precision    recall  f1-score   support\n",
            "\n",
            "    airplane     0.8345    0.8070    0.8205      1000\n",
            "  automobile     0.8571    0.9060    0.8809      1000\n",
            "        bird     0.7690    0.6690    0.7155      1000\n",
            "         cat     0.6381    0.6260    0.6320      1000\n",
            "        deer     0.7755    0.7600    0.7677      1000\n",
            "         dog     0.6857    0.7310    0.7076      1000\n",
            "        frog     0.8111    0.8800    0.8441      1000\n",
            "       horse     0.8276    0.8400    0.8337      1000\n",
            "        ship     0.8761    0.8630    0.8695      1000\n",
            "       truck     0.8541    0.8490    0.8516      1000\n",
            "\n",
            "    accuracy                         0.7931     10000\n",
            "   macro avg     0.7929    0.7931    0.7923     10000\n",
            "weighted avg     0.7929    0.7931    0.7923     10000\n",
            "\n",
            "\n",
            "Test Accuracy for SCNNB model on CIFAR10 is: 79.19303670886077\n"
          ]
        },
        {
          "data": {
            "image/png": "[encoded data removed]",
            "text/plain": [
              "<Figure size 640x480 with 2 Axes>"
            ]
          },
          "metadata": {},
          "output_type": "display_data"
        }
      ],
      "source": [
        "SCNNB_test_loss, SCNNB_test_acc = Testing(SCNNB_CIFAR_model, \"SCNNB_CIFAR\", CIFAR_test_dataloader )\n",
        "print(\"\\nTest Accuracy for SCNNB model on CIFAR10 is: \"+str(SCNNB_test_acc))"
      ]
    },
    {
      "cell_type": "code",
      "execution_count": 95,
      "metadata": {
        "colab": {
          "base_uri": "https://localhost:8080/",
          "height": 833
        },
        "id": "3EWfRdVJjcsJ",
        "outputId": "560637c7-7c79-453a-f804-4d49d3491d4e"
      },
      "outputs": [
        {
          "name": "stderr",
          "output_type": "stream",
          "text": [
            "   test: 100%|██████████| 79/79 [00:01<00:00, 39.82it/s, test_acc=78.886, test_loss=1.67]\n"
          ]
        },
        {
          "name": "stdout",
          "output_type": "stream",
          "text": [
            "              precision    recall  f1-score   support\n",
            "\n",
            "    airplane     0.8153    0.8120    0.8136      1000\n",
            "  automobile     0.8824    0.8550    0.8685      1000\n",
            "        bird     0.7405    0.6820    0.7100      1000\n",
            "         cat     0.6587    0.6100    0.6334      1000\n",
            "        deer     0.7350    0.7960    0.7643      1000\n",
            "         dog     0.7328    0.6940    0.7129      1000\n",
            "        frog     0.8204    0.8590    0.8393      1000\n",
            "       horse     0.8313    0.8180    0.8246      1000\n",
            "        ship     0.8595    0.8870    0.8730      1000\n",
            "       truck     0.8037    0.8800    0.8401      1000\n",
            "\n",
            "    accuracy                         0.7893     10000\n",
            "   macro avg     0.7880    0.7893    0.7880     10000\n",
            "weighted avg     0.7880    0.7893    0.7880     10000\n",
            "\n",
            "\n",
            "Test Accuracy for SCNNB-a model on CIFAR10 is: 78.88646962025317\n"
          ]
        },
        {
          "data": {
            "image/png": "[encoded data removed]",
            "text/plain": [
              "<Figure size 640x480 with 2 Axes>"
            ]
          },
          "metadata": {},
          "output_type": "display_data"
        }
      ],
      "source": [
        "SCNNB_a_test_loss, SCNNB_a_test_acc = Testing(SCNNB_a_CIFAR_model, \"SCNNB_a_CIFAR\", CIFAR_test_dataloader )\n",
        "print(\"\\nTest Accuracy for SCNNB-a model on CIFAR10 is: \"+str(SCNNB_a_test_acc))"
      ]
    },
    {
      "cell_type": "code",
      "execution_count": 96,
      "metadata": {
        "colab": {
          "base_uri": "https://localhost:8080/",
          "height": 833
        },
        "id": "oyLeMNDgjdYo",
        "outputId": "c67ad62c-a85f-4f6e-d07a-d9bbb632cd2f"
      },
      "outputs": [
        {
          "name": "stderr",
          "output_type": "stream",
          "text": [
            "   test: 100%|██████████| 79/79 [00:01<00:00, 40.18it/s, test_acc=73.991, test_loss=1.72]\n"
          ]
        },
        {
          "name": "stdout",
          "output_type": "stream",
          "text": [
            "              precision    recall  f1-score   support\n",
            "\n",
            "    airplane     0.7908    0.7940    0.7924      1000\n",
            "  automobile     0.8554    0.8400    0.8476      1000\n",
            "        bird     0.6174    0.6520    0.6342      1000\n",
            "         cat     0.6039    0.5260    0.5623      1000\n",
            "        deer     0.7158    0.6850    0.7001      1000\n",
            "         dog     0.6521    0.6130    0.6320      1000\n",
            "        frog     0.7157    0.8610    0.7817      1000\n",
            "       horse     0.7869    0.7680    0.7773      1000\n",
            "        ship     0.8328    0.8420    0.8374      1000\n",
            "       truck     0.8100    0.8100    0.8100      1000\n",
            "\n",
            "    accuracy                         0.7391     10000\n",
            "   macro avg     0.7381    0.7391    0.7375     10000\n",
            "weighted avg     0.7381    0.7391    0.7375     10000\n",
            "\n",
            "\n",
            "Test Accuracy for SCNNB-b model on CIFAR10 is: 73.99129367088611\n"
          ]
        },
        {
          "data": {
            "image/png": "[encoded data removed]",
            "text/plain": [
              "<Figure size 640x480 with 2 Axes>"
            ]
          },
          "metadata": {},
          "output_type": "display_data"
        }
      ],
      "source": [
        "SCNNB_b_test_loss, SCNNB_b_test_acc = Testing(SCNNB_b_CIFAR_model, \"SCNNB_b_CIFAR\", CIFAR_test_dataloader )\n",
        "print(\"\\nTest Accuracy for SCNNB-b model on CIFAR10 is: \"+str(SCNNB_b_test_acc))"
      ]
    },
    {
      "cell_type": "code",
      "execution_count": 87,
      "metadata": {
        "id": "1GYqdKiDjXVj"
      },
      "outputs": [],
      "source": [
        "def acc_test_plots(SCNNB_test, SCNNB_a_test, SCNNB_b_test):\n",
        "  \n",
        "    num_epochs = len(SCNNB_test)\n",
        "    plt.figure(figsize=(13,5))\n",
        "    plt.plot(SCNNB_a_test , 'b', label='SCNNB-a', linestyle = '-')\n",
        "    plt.plot(SCNNB_b_test , 'g', label='SCNNB-b', linestyle = '-.')\n",
        "    plt.plot(SCNNB_test, 'r', label='SCNNB', linestyle = ':')\n",
        "    plt.ylabel('Test Accuracy', fontsize=10, labelpad=8)\n",
        "    plt.xlabel('Epochs', fontsize=10, labelpad=8)\n",
        "    plt.title('Test Accuracy for CIFAR dataset', fontsize=25, pad=15)\n",
        "    plt.legend()\n",
        "    sns.despine()\n",
        "    plt.show()"
      ]
    },
    {
      "cell_type": "code",
      "execution_count": 98,
      "metadata": {
        "colab": {
          "base_uri": "https://localhost:8080/",
          "height": 518
        },
        "id": "yA35a8uajYEH",
        "outputId": "33a4b620-1b4d-4c44-b10f-7de54876d7a4"
      },
      "outputs": [
        {
          "data": {
            "image/png": "[encoded data removed]",
            "text/plain": [
              "<Figure size 1300x500 with 1 Axes>"
            ]
          },
          "metadata": {},
          "output_type": "display_data"
        }
      ],
      "source": [
        "acc_test_plots(SCNNB_CIFAR_test_accuracy, SCNNB_a_CIFAR_test_accuracy, SCNNB_b_CIFAR_test_accuracy[1:])"
      ]
    },
    {
      "cell_type": "code",
      "execution_count": 89,
      "metadata": {
        "id": "bLbRmVazbCwA"
      },
      "outputs": [],
      "source": [
        "def acc_train_plots(SCNNB_train, SCNNB_a_train, SCNNB_b_train):\n",
        "  \n",
        "    num_epochs = len(SCNNB_train)\n",
        "    plt.figure(figsize=(13,5))\n",
        "    plt.plot(SCNNB_a_train , 'b', label='SCNNB-a', linestyle = '-')\n",
        "    plt.plot(SCNNB_b_train , 'g', label='SCNNB-b', linestyle = '-.')\n",
        "    plt.plot(SCNNB_train, 'r', label='SCNNB', linestyle = ':')\n",
        "    plt.ylabel('Train Accuracy', fontsize=10, labelpad=8)\n",
        "    plt.xlabel('Epochs', fontsize=10, labelpad=8)\n",
        "    plt.title('Train Accuracy for CIFAR10 dataset', fontsize=25, pad=15)\n",
        "    plt.legend()\n",
        "    sns.despine()\n",
        "    plt.show()"
      ]
    },
    {
      "cell_type": "code",
      "execution_count": 99,
      "metadata": {
        "colab": {
          "base_uri": "https://localhost:8080/",
          "height": 518
        },
        "id": "khNfXH-tbCwE",
        "outputId": "2fbf6e29-19fb-4045-c495-ca7bd0721931"
      },
      "outputs": [
        {
          "data": {
            "image/png": "[encoded data removed]",
            "text/plain": [
              "<Figure size 1300x500 with 1 Axes>"
            ]
          },
          "metadata": {},
          "output_type": "display_data"
        }
      ],
      "source": [
        "acc_train_plots(SCNNB_CIFAR_train_accuracy, SCNNB_a_CIFAR_train_accuracy, SCNNB_b_CIFAR_train_accuracy[1:])"
      ]
    },
    {
      "cell_type": "code",
      "execution_count": 91,
      "metadata": {
        "id": "vq6uE-7TbZSW"
      },
      "outputs": [],
      "source": [
        "def loss_train_plots(SCNNB_train, SCNNB_a_train, SCNNB_b_train):\n",
        "  \n",
        "    num_epochs = len(SCNNB_train)\n",
        "    plt.figure(figsize=(13,5))\n",
        "    plt.plot(SCNNB_a_train , 'b', label='SCNNB-a', linestyle = '-')\n",
        "    plt.plot(SCNNB_b_train , 'g', label='SCNNB-b', linestyle = '-.')\n",
        "    plt.plot(SCNNB_train, 'r', label='SCNNB', linestyle = ':')\n",
        "    plt.ylabel('Train Accuracy', fontsize=10, labelpad=8)\n",
        "    plt.xlabel('Epochs', fontsize=10, labelpad=8)\n",
        "    plt.title('Train Loss for CIFAR10 dataset', fontsize=25, pad=15)\n",
        "    plt.legend()\n",
        "    sns.despine()\n",
        "    plt.show()"
      ]
    },
    {
      "cell_type": "code",
      "execution_count": 92,
      "metadata": {
        "colab": {
          "base_uri": "https://localhost:8080/",
          "height": 518
        },
        "id": "1B8IyqXWbZSX",
        "outputId": "569bcf54-6ac5-44a7-82d6-685189bbe8bf"
      },
      "outputs": [
        {
          "data": {
            "image/png": "[encoded data removed]",
            "text/plain": [
              "<Figure size 1300x500 with 1 Axes>"
            ]
          },
          "metadata": {},
          "output_type": "display_data"
        }
      ],
      "source": [
        "acc_train_plots(SCNNB_CIFAR_train_loss, SCNNB_a_CIFAR_train_loss, SCNNB_b_CIFAR_train_loss[1:])"
      ]
    }
  ],
  "metadata": {
    "accelerator": "GPU",
    "colab": {
      "provenance": []
    },
    "gpuClass": "standard",
    "kernelspec": {
      "display_name": "Python 3",
      "name": "python3"
    },
    "language_info": {
      "name": "python"
    }
  },
  "nbformat": 4,
  "nbformat_minor": 0
}
